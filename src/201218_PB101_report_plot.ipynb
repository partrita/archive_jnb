{
 "cells": [
  {
   "cell_type": "code",
   "execution_count": 1,
   "metadata": {},
   "outputs": [
    {
     "data": {
      "text/html": [
       "<div>\n",
       "<style scoped>\n",
       "    .dataframe tbody tr th:only-of-type {\n",
       "        vertical-align: middle;\n",
       "    }\n",
       "\n",
       "    .dataframe tbody tr th {\n",
       "        vertical-align: top;\n",
       "    }\n",
       "\n",
       "    .dataframe thead th {\n",
       "        text-align: right;\n",
       "    }\n",
       "</style>\n",
       "<table border=\"1\" class=\"dataframe\">\n",
       "  <thead>\n",
       "    <tr style=\"text-align: right;\">\n",
       "      <th></th>\n",
       "      <th>resin</th>\n",
       "      <th>pH</th>\n",
       "      <th>yield</th>\n",
       "      <th>purity</th>\n",
       "    </tr>\n",
       "  </thead>\n",
       "  <tbody>\n",
       "    <tr>\n",
       "      <th>0</th>\n",
       "      <td>A3</td>\n",
       "      <td>3.4</td>\n",
       "      <td>69.8</td>\n",
       "      <td>31.15</td>\n",
       "    </tr>\n",
       "    <tr>\n",
       "      <th>1</th>\n",
       "      <td>A3</td>\n",
       "      <td>3.4</td>\n",
       "      <td>67.9</td>\n",
       "      <td>27.52</td>\n",
       "    </tr>\n",
       "    <tr>\n",
       "      <th>2</th>\n",
       "      <td>A3</td>\n",
       "      <td>3.6</td>\n",
       "      <td>67.6</td>\n",
       "      <td>24.35</td>\n",
       "    </tr>\n",
       "    <tr>\n",
       "      <th>3</th>\n",
       "      <td>A3</td>\n",
       "      <td>3.6</td>\n",
       "      <td>67.6</td>\n",
       "      <td>28.85</td>\n",
       "    </tr>\n",
       "    <tr>\n",
       "      <th>4</th>\n",
       "      <td>A3</td>\n",
       "      <td>3.8</td>\n",
       "      <td>28.0</td>\n",
       "      <td>45.00</td>\n",
       "    </tr>\n",
       "  </tbody>\n",
       "</table>\n",
       "</div>"
      ],
      "text/plain": [
       "  resin   pH  yield  purity\n",
       "0    A3  3.4   69.8   31.15\n",
       "1    A3  3.4   67.9   27.52\n",
       "2    A3  3.6   67.6   24.35\n",
       "3    A3  3.6   67.6   28.85\n",
       "4    A3  3.8   28.0   45.00"
      ]
     },
     "execution_count": 1,
     "metadata": {},
     "output_type": "execute_result"
    }
   ],
   "source": [
    "import pandas as pd\n",
    "\n",
    "df = pd.read_csv('1217_PB101_yield purity.csv')\n",
    "\n",
    "df.head()"
   ]
  },
  {
   "cell_type": "code",
   "execution_count": 7,
   "metadata": {},
   "outputs": [],
   "source": [
    "import matplotlib.pyplot as plt\n",
    "import seaborn as sns"
   ]
  },
  {
   "cell_type": "code",
   "execution_count": 44,
   "metadata": {},
   "outputs": [
    {
     "data": {
      "text/plain": [
       "<AxesSubplot:xlabel='pH', ylabel='yield'>"
      ]
     },
     "execution_count": 44,
     "metadata": {},
     "output_type": "execute_result"
    },
    {
     "data": {
      "image/png": "[encoded data removed]",
      "text/plain": [
       "<Figure size 936x432 with 2 Axes>"
      ]
     },
     "metadata": {},
     "output_type": "display_data"
    }
   ],
   "source": [
    "sns.set_theme(style='white')\n",
    "\n",
    "fig, axes = plt.subplots(1, 2, figsize=(13, 6))\n",
    "# fig.suptitle('1 row x 2 columns axes with no data')\n",
    "\n",
    "# Purity\n",
    "sns.barplot(ax=axes[0], x='pH', y='purity', hue='resin',\n",
    "            palette=\"pastel\", alpha=.9, errwidth=2., capsize=0.1, data=df)\n",
    "# axes[0].set_title(bulbasaur.name)\n",
    "\n",
    "#Yield\n",
    "sns.barplot(ax=axes[1], x='pH', y='yield', hue='resin',\n",
    "            palette=\"pastel\", alpha=.9, errwidth=2., capsize=0.1, data=df)\n",
    "# axes[1].set_title(charmander.name)"
   ]
  },
  {
   "cell_type": "code",
   "execution_count": 32,
   "metadata": {},
   "outputs": [
    {
     "data": {
      "text/html": [
       "<div>\n",
       "<style scoped>\n",
       "    .dataframe tbody tr th:only-of-type {\n",
       "        vertical-align: middle;\n",
       "    }\n",
       "\n",
       "    .dataframe tbody tr th {\n",
       "        vertical-align: top;\n",
       "    }\n",
       "\n",
       "    .dataframe thead th {\n",
       "        text-align: right;\n",
       "    }\n",
       "</style>\n",
       "<table border=\"1\" class=\"dataframe\">\n",
       "  <thead>\n",
       "    <tr style=\"text-align: right;\">\n",
       "      <th></th>\n",
       "      <th>resin</th>\n",
       "      <th>pH</th>\n",
       "      <th>yield</th>\n",
       "      <th>purity</th>\n",
       "    </tr>\n",
       "  </thead>\n",
       "  <tbody>\n",
       "    <tr>\n",
       "      <th>0</th>\n",
       "      <td>A3</td>\n",
       "      <td>3.4</td>\n",
       "      <td>69.8</td>\n",
       "      <td>31.15</td>\n",
       "    </tr>\n",
       "    <tr>\n",
       "      <th>1</th>\n",
       "      <td>A3</td>\n",
       "      <td>3.4</td>\n",
       "      <td>67.9</td>\n",
       "      <td>27.52</td>\n",
       "    </tr>\n",
       "    <tr>\n",
       "      <th>2</th>\n",
       "      <td>A3</td>\n",
       "      <td>3.6</td>\n",
       "      <td>67.6</td>\n",
       "      <td>24.35</td>\n",
       "    </tr>\n",
       "    <tr>\n",
       "      <th>3</th>\n",
       "      <td>A3</td>\n",
       "      <td>3.6</td>\n",
       "      <td>67.6</td>\n",
       "      <td>28.85</td>\n",
       "    </tr>\n",
       "    <tr>\n",
       "      <th>4</th>\n",
       "      <td>A3</td>\n",
       "      <td>3.8</td>\n",
       "      <td>28.0</td>\n",
       "      <td>45.00</td>\n",
       "    </tr>\n",
       "    <tr>\n",
       "      <th>5</th>\n",
       "      <td>A3</td>\n",
       "      <td>3.8</td>\n",
       "      <td>37.1</td>\n",
       "      <td>56.58</td>\n",
       "    </tr>\n",
       "    <tr>\n",
       "      <th>6</th>\n",
       "      <td>PrismA</td>\n",
       "      <td>3.4</td>\n",
       "      <td>69.8</td>\n",
       "      <td>32.66</td>\n",
       "    </tr>\n",
       "    <tr>\n",
       "      <th>7</th>\n",
       "      <td>PrismA</td>\n",
       "      <td>3.4</td>\n",
       "      <td>70.0</td>\n",
       "      <td>32.48</td>\n",
       "    </tr>\n",
       "    <tr>\n",
       "      <th>8</th>\n",
       "      <td>PrismA</td>\n",
       "      <td>3.6</td>\n",
       "      <td>63.1</td>\n",
       "      <td>31.52</td>\n",
       "    </tr>\n",
       "    <tr>\n",
       "      <th>9</th>\n",
       "      <td>PrismA</td>\n",
       "      <td>3.6</td>\n",
       "      <td>63.5</td>\n",
       "      <td>30.99</td>\n",
       "    </tr>\n",
       "    <tr>\n",
       "      <th>10</th>\n",
       "      <td>PrismA</td>\n",
       "      <td>3.8</td>\n",
       "      <td>58.0</td>\n",
       "      <td>35.71</td>\n",
       "    </tr>\n",
       "    <tr>\n",
       "      <th>11</th>\n",
       "      <td>PrismA</td>\n",
       "      <td>3.8</td>\n",
       "      <td>58.9</td>\n",
       "      <td>34.32</td>\n",
       "    </tr>\n",
       "  </tbody>\n",
       "</table>\n",
       "</div>"
      ],
      "text/plain": [
       "     resin   pH  yield  purity\n",
       "0       A3  3.4   69.8   31.15\n",
       "1       A3  3.4   67.9   27.52\n",
       "2       A3  3.6   67.6   24.35\n",
       "3       A3  3.6   67.6   28.85\n",
       "4       A3  3.8   28.0   45.00\n",
       "5       A3  3.8   37.1   56.58\n",
       "6   PrismA  3.4   69.8   32.66\n",
       "7   PrismA  3.4   70.0   32.48\n",
       "8   PrismA  3.6   63.1   31.52\n",
       "9   PrismA  3.6   63.5   30.99\n",
       "10  PrismA  3.8   58.0   35.71\n",
       "11  PrismA  3.8   58.9   34.32"
      ]
     },
     "execution_count": 32,
     "metadata": {},
     "output_type": "execute_result"
    }
   ],
   "source": [
    "df"
   ]
  },
  {
   "cell_type": "code",
   "execution_count": 47,
   "metadata": {},
   "outputs": [
    {
     "data": {
      "text/plain": [
       "<AxesSubplot:xlabel='pH', ylabel='yield'>"
      ]
     },
     "execution_count": 47,
     "metadata": {},
     "output_type": "execute_result"
    },
    {
     "data": {
      "image/png": "[encoded data removed]",
      "text/plain": [
       "<Figure size 936x432 with 2 Axes>"
      ]
     },
     "metadata": {},
     "output_type": "display_data"
    }
   ],
   "source": [
    "sns.set_theme(style='dark')\n",
    "\n",
    "fig, axes = plt.subplots(1, 2, figsize=(13, 6))\n",
    "# fig.suptitle('1 row x 2 columns axes with no data')\n",
    "\n",
    "# Purity\n",
    "sns.pointplot(ax=axes[0], x='pH', y='purity', hue='resin',\n",
    "            palette=\"pastel\", alpha=.6, data=df)\n",
    "# axes[0].set_title(bulbasaur.name)\n",
    "\n",
    "#Yield\n",
    "sns.pointplot(ax=axes[1], x='pH', y='yield', hue='resin',\n",
    "            palette=\"pastel\", alpha=.6, data=df)\n",
    "# axes[1].set_title(charmander.name)"
   ]
  }
 ],
 "metadata": {
  "kernelspec": {
   "display_name": "Python 3",
   "language": "python",
   "name": "python3"
  },
  "language_info": {
   "codemirror_mode": {
    "name": "ipython",
    "version": 3
   },
   "file_extension": ".py",
   "mimetype": "text/x-python",
   "name": "python",
   "nbconvert_exporter": "python",
   "pygments_lexer": "ipython3",
   "version": "3.8.5"
  }
 },
 "nbformat": 4,
 "nbformat_minor": 4
}
