{
 "cells": [
  {
   "cell_type": "code",
   "execution_count": 9,
   "id": "collected-portrait",
   "metadata": {},
   "outputs": [
    {
     "data": {
      "text/plain": [
       "<matplotlib.collections.PathCollection at 0x22e7aea2f70>"
      ]
     },
     "execution_count": 9,
     "metadata": {},
     "output_type": "execute_result"
    },
    {
     "data": {
      "image/png": "[encoded data removed]",
      "text/plain": [
       "<Figure size 432x288 with 1 Axes>"
      ]
     },
     "metadata": {
      "needs_background": "light"
     },
     "output_type": "display_data"
    }
   ],
   "source": [
    "import matplotlib.pyplot as plt\n",
    "%matplotlib inline\n",
    "\n",
    "x = ['A','B','C']\n",
    "y = [1,2,3]\n",
    "\n",
    "plt.scatter([1,2,3],['A','T','G'], )"
   ]
  },
  {
   "cell_type": "code",
   "execution_count": 7,
   "id": "super-transparency",
   "metadata": {},
   "outputs": [
    {
     "name": "stdout",
     "output_type": "stream",
     "text": [
      "['>abcam_hPlGF\\n', 'LPAVPPQQWALSAGNGSSEVEVVPFQEVWGRSYCRALERLVDVVSEYPSEVEHMFSPSCVSLLRCTGCCGDENLHCVPVETANVTMQLLKIRSGDRPSYVELTFSQHVRCECRPLREKMKPERRRPKGRGKRRREKQRPTDCHLCGDAVPRR\\n', '>sp|P49763|PLGF_HUMAN Placenta growth factor OS=Homo sapiens OX=9606 GN=PGF PE=1 SV=2\\n', 'MPVMRLFPCFLQLLAGLALPAVPPQQWALSAGNGSSEVEVVPFQEVWGRSYCRALERLVDVVSEYPSEVEHMFSPSCVSLLRCTGCCGDENLHCVPVETANVTMQLLKIRSGDRPSYVELTFSQHVRCECRHSPGRQSPDMPGDFRADAPSFLPPRRSLPMLFRMEWGCALTGSQSAVWPSSPVPEEIPRMHPGRNGKKQQRKPLREKMKPERCGDAVPRR\\n', '>sp|P49763-2|PLGF_HUMAN Isoform PlGF-1 of Placenta growth factor OS=Homo sapiens OX=9606 GN=PGF\\n', 'MPVMRLFPCFLQLLAGLALPAVPPQQWALSAGNGSSEVEVVPFQEVWGRSYCRALERLVDVVSEYPSEVEHMFSPSCVSLLRCTGCCGDENLHCVPVETANVTMQLLKIRSGDRPSYVELTFSQHVRCECRPLREKMKPERCGDAVPRR\\n', '>sp|P49763-3|PLGF_HUMAN Isoform PlGF-2 of Placenta growth factor OS=Homo sapiens OX=9606 GN=PGF\\n', 'MPVMRLFPCFLQLLAGLALPAVPPQQWALSAGNGSSEVEVVPFQEVWGRSYCRALERLVDVVSEYPSEVEHMFSPSCVSLLRCTGCCGDENLHCVPVETANVTMQLLKIRSGDRPSYVELTFSQHVRCECRPLREKMKPERRRPKGRGKRRREKQRPTDCHLCGDAVPRR\\n', '>sp|P49763-4|PLGF_HUMAN Isoform PlGF-4 of Placenta growth factor OS=Homo sapiens OX=9606 GN=PGF\\n', 'MPVMRLFPCFLQLLAGLALPAVPPQQWALSAGNGSSEVEVVPFQEVWGRSYCRALERLVDVVSEYPSEVEHMFSPSCVSLLRCTGCCGDENLHCVPVETANVTMQLLKIRSGDRPSYVELTFSQHVRCECRHSPGRQSPDMPGDFRADAPSFLPPRRSLPMLFRMEWGCALTGSQSAVWPSSPVPEEIPRMHPGRNGKKQQRKPLREKMKPERRRPKGRGKRRREKQRPTDCHLCGDAVPRR\\n', '>bianca_request_PlGF\\n', 'MPVMRLFPCFLQLLAGLALPAVPPQQWALSAGNGSSEVEVVPFQEVWGRSYCRALERLVDVVSEYPSEVEHMFSPSCVSLLRCTGCCGDENLHCVPVETANVTMQLLKIRSGDRPSYVELTFSQHVRCECRPLREKMKPERCGDAVPRR']\n"
     ]
    }
   ],
   "source": [
    "\n",
    "with open('./INPUT/PlGF_sequence.txt', 'r') as f:\n",
    "    lines = f.readlines()\n",
    "    seq = {}\n",
    "    for i in lines:\n",
    "        if i.startwith('>'):\n",
    "            seq[i] = None\n",
    "\n",
    "            "
   ]
  },
  {
   "cell_type": "code",
   "execution_count": 15,
   "id": "level-dating",
   "metadata": {},
   "outputs": [
    {
     "data": {
      "text/plain": [
       "{'test': None}"
      ]
     },
     "execution_count": 15,
     "metadata": {},
     "output_type": "execute_result"
    }
   ],
   "source": [
    "seq={}\n",
    "seq['test']=None\n",
    "seq"
   ]
  }
 ],
 "metadata": {
  "kernelspec": {
   "display_name": "Python 3",
   "language": "python",
   "name": "python3"
  },
  "language_info": {
   "codemirror_mode": {
    "name": "ipython",
    "version": 3
   },
   "file_extension": ".py",
   "mimetype": "text/x-python",
   "name": "python",
   "nbconvert_exporter": "python",
   "pygments_lexer": "ipython3",
   "version": "3.8.3"
  }
 },
 "nbformat": 4,
 "nbformat_minor": 5
}
