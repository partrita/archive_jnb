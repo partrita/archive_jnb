{
 "cells": [
  {
   "cell_type": "code",
   "execution_count": 21,
   "id": "premium-demand",
   "metadata": {},
   "outputs": [
    {
     "data": {
      "text/html": [
       "<div>\n",
       "<style scoped>\n",
       "    .dataframe tbody tr th:only-of-type {\n",
       "        vertical-align: middle;\n",
       "    }\n",
       "\n",
       "    .dataframe tbody tr th {\n",
       "        vertical-align: top;\n",
       "    }\n",
       "\n",
       "    .dataframe thead th {\n",
       "        text-align: right;\n",
       "    }\n",
       "</style>\n",
       "<table border=\"1\" class=\"dataframe\">\n",
       "  <thead>\n",
       "    <tr style=\"text-align: right;\">\n",
       "      <th></th>\n",
       "      <th>Date and Time</th>\n",
       "      <th>Trend Age</th>\n",
       "      <th>Inoculation Age</th>\n",
       "      <th>I: Air Act.</th>\n",
       "      <th>I: O2 Act.</th>\n",
       "      <th>I: CO2 Act.</th>\n",
       "      <th>I: TempV</th>\n",
       "      <th>I: TempJ</th>\n",
       "      <th>I: DOamp</th>\n",
       "      <th>I: pH</th>\n",
       "      <th>...</th>\n",
       "      <th>O: N2</th>\n",
       "      <th>O: Heat</th>\n",
       "      <th>O: Cool</th>\n",
       "      <th>O: PumpTh</th>\n",
       "      <th>O: Stirr Setp.</th>\n",
       "      <th>O: Pump A1</th>\n",
       "      <th>O: Pump A2</th>\n",
       "      <th>O: Pump A3</th>\n",
       "      <th>O: Pump A4</th>\n",
       "      <th>O: Headspace</th>\n",
       "    </tr>\n",
       "  </thead>\n",
       "  <tbody>\n",
       "    <tr>\n",
       "      <th>0</th>\n",
       "      <td>2021-01-27 10:56:45</td>\n",
       "      <td>0.000000</td>\n",
       "      <td>-6.17500</td>\n",
       "      <td>100.0100</td>\n",
       "      <td>-0.200456</td>\n",
       "      <td>-0.629100</td>\n",
       "      <td>37.2</td>\n",
       "      <td>43.0</td>\n",
       "      <td>12.6570</td>\n",
       "      <td>8.44414</td>\n",
       "      <td>...</td>\n",
       "      <td>0</td>\n",
       "      <td>3.19972</td>\n",
       "      <td>0</td>\n",
       "      <td>1</td>\n",
       "      <td>200</td>\n",
       "      <td>0</td>\n",
       "      <td>0</td>\n",
       "      <td>0.0</td>\n",
       "      <td>0</td>\n",
       "      <td>0</td>\n",
       "    </tr>\n",
       "    <tr>\n",
       "      <th>1</th>\n",
       "      <td>2021-01-27 10:57:15</td>\n",
       "      <td>0.008333</td>\n",
       "      <td>-6.16667</td>\n",
       "      <td>100.0020</td>\n",
       "      <td>-0.201956</td>\n",
       "      <td>-0.644154</td>\n",
       "      <td>37.2</td>\n",
       "      <td>42.9</td>\n",
       "      <td>12.6098</td>\n",
       "      <td>8.44466</td>\n",
       "      <td>...</td>\n",
       "      <td>0</td>\n",
       "      <td>3.08953</td>\n",
       "      <td>0</td>\n",
       "      <td>1</td>\n",
       "      <td>200</td>\n",
       "      <td>0</td>\n",
       "      <td>0</td>\n",
       "      <td>0.0</td>\n",
       "      <td>0</td>\n",
       "      <td>0</td>\n",
       "    </tr>\n",
       "    <tr>\n",
       "      <th>2</th>\n",
       "      <td>2021-01-27 10:57:45</td>\n",
       "      <td>0.016667</td>\n",
       "      <td>-6.15833</td>\n",
       "      <td>100.0190</td>\n",
       "      <td>-0.201658</td>\n",
       "      <td>-0.605726</td>\n",
       "      <td>37.2</td>\n",
       "      <td>42.9</td>\n",
       "      <td>12.6097</td>\n",
       "      <td>8.44576</td>\n",
       "      <td>...</td>\n",
       "      <td>0</td>\n",
       "      <td>3.12709</td>\n",
       "      <td>0</td>\n",
       "      <td>1</td>\n",
       "      <td>200</td>\n",
       "      <td>0</td>\n",
       "      <td>0</td>\n",
       "      <td>0.0</td>\n",
       "      <td>0</td>\n",
       "      <td>0</td>\n",
       "    </tr>\n",
       "    <tr>\n",
       "      <th>3</th>\n",
       "      <td>2021-01-27 10:58:15</td>\n",
       "      <td>0.025000</td>\n",
       "      <td>-6.15000</td>\n",
       "      <td>99.9676</td>\n",
       "      <td>-0.238050</td>\n",
       "      <td>-0.608155</td>\n",
       "      <td>37.2</td>\n",
       "      <td>42.8</td>\n",
       "      <td>12.5956</td>\n",
       "      <td>8.44436</td>\n",
       "      <td>...</td>\n",
       "      <td>0</td>\n",
       "      <td>3.32702</td>\n",
       "      <td>0</td>\n",
       "      <td>1</td>\n",
       "      <td>200</td>\n",
       "      <td>0</td>\n",
       "      <td>0</td>\n",
       "      <td>0.0</td>\n",
       "      <td>0</td>\n",
       "      <td>0</td>\n",
       "    </tr>\n",
       "    <tr>\n",
       "      <th>4</th>\n",
       "      <td>2021-01-27 10:58:45</td>\n",
       "      <td>0.033333</td>\n",
       "      <td>-6.14167</td>\n",
       "      <td>99.9903</td>\n",
       "      <td>-0.198060</td>\n",
       "      <td>-0.628170</td>\n",
       "      <td>37.4</td>\n",
       "      <td>42.7</td>\n",
       "      <td>12.5260</td>\n",
       "      <td>8.43119</td>\n",
       "      <td>...</td>\n",
       "      <td>0</td>\n",
       "      <td>1.50192</td>\n",
       "      <td>0</td>\n",
       "      <td>1</td>\n",
       "      <td>200</td>\n",
       "      <td>0</td>\n",
       "      <td>0</td>\n",
       "      <td>0.0</td>\n",
       "      <td>0</td>\n",
       "      <td>0</td>\n",
       "    </tr>\n",
       "  </tbody>\n",
       "</table>\n",
       "<p>5 rows × 39 columns</p>\n",
       "</div>"
      ],
      "text/plain": [
       "        Date and Time  Trend Age  Inoculation Age  I: Air Act.  I: O2 Act.  \\\n",
       "0 2021-01-27 10:56:45   0.000000         -6.17500     100.0100   -0.200456   \n",
       "1 2021-01-27 10:57:15   0.008333         -6.16667     100.0020   -0.201956   \n",
       "2 2021-01-27 10:57:45   0.016667         -6.15833     100.0190   -0.201658   \n",
       "3 2021-01-27 10:58:15   0.025000         -6.15000      99.9676   -0.238050   \n",
       "4 2021-01-27 10:58:45   0.033333         -6.14167      99.9903   -0.198060   \n",
       "\n",
       "   I: CO2 Act.  I: TempV  I: TempJ  I: DOamp    I: pH  ...  O: N2  O: Heat  \\\n",
       "0    -0.629100      37.2      43.0   12.6570  8.44414  ...      0  3.19972   \n",
       "1    -0.644154      37.2      42.9   12.6098  8.44466  ...      0  3.08953   \n",
       "2    -0.605726      37.2      42.9   12.6097  8.44576  ...      0  3.12709   \n",
       "3    -0.608155      37.2      42.8   12.5956  8.44436  ...      0  3.32702   \n",
       "4    -0.628170      37.4      42.7   12.5260  8.43119  ...      0  1.50192   \n",
       "\n",
       "   O: Cool  O: PumpTh  O: Stirr Setp.  O: Pump A1  O: Pump A2  O: Pump A3  \\\n",
       "0        0          1             200           0           0         0.0   \n",
       "1        0          1             200           0           0         0.0   \n",
       "2        0          1             200           0           0         0.0   \n",
       "3        0          1             200           0           0         0.0   \n",
       "4        0          1             200           0           0         0.0   \n",
       "\n",
       "   O: Pump A4  O: Headspace   \n",
       "0           0              0  \n",
       "1           0              0  \n",
       "2           0              0  \n",
       "3           0              0  \n",
       "4           0              0  \n",
       "\n",
       "[5 rows x 39 columns]"
      ]
     },
     "execution_count": 21,
     "metadata": {},
     "output_type": "execute_result"
    }
   ],
   "source": [
    "import pandas as pd\n",
    "\n",
    "df = pd.read_csv('.\\INPUT\\\\0406_Bioreactor_record_full.csv', sep=';', skiprows = [1],\n",
    "                  parse_dates=['Date and Time'], dayfirst=True, infer_datetime_format=True)\n",
    "\n",
    "df.head()"
   ]
  },
  {
   "cell_type": "code",
   "execution_count": 22,
   "id": "secret-coating",
   "metadata": {},
   "outputs": [
    {
     "name": "stdout",
     "output_type": "stream",
     "text": [
      "<class 'pandas.core.frame.DataFrame'>\n",
      "RangeIndex: 23394 entries, 0 to 23393\n",
      "Data columns (total 39 columns):\n",
      " #   Column            Non-Null Count  Dtype         \n",
      "---  ------            --------------  -----         \n",
      " 0   Date and Time     23299 non-null  datetime64[ns]\n",
      " 1   Trend Age         23394 non-null  float64       \n",
      " 2   Inoculation Age   23394 non-null  float64       \n",
      " 3   I: Air Act.       23394 non-null  float64       \n",
      " 4   I: O2 Act.        23394 non-null  float64       \n",
      " 5   I: CO2 Act.       23394 non-null  float64       \n",
      " 6   I: TempV          23394 non-null  float64       \n",
      " 7   I: TempJ          23394 non-null  float64       \n",
      " 8   I: DOamp          23394 non-null  float64       \n",
      " 9   I: pH             23394 non-null  float64       \n",
      " 10  I: Level 1        23394 non-null  int64         \n",
      " 11  I: Stirr Act.     23394 non-null  int64         \n",
      " 12  I: Torque         23394 non-null  float64       \n",
      " 13  I: Balance1       23394 non-null  int64         \n",
      " 14  I: Vol. Pump A1   23394 non-null  float64       \n",
      " 15  I: Vol. Pump A2   23394 non-null  float64       \n",
      " 16  I: Vol. Pump A3   23394 non-null  float64       \n",
      " 17  I: Vol. Pump A4   23394 non-null  float64       \n",
      " 18  I: Vol. CO2 Act.  23394 non-null  float64       \n",
      " 19  I: Vol. O2 Act.   23394 non-null  float64       \n",
      " 20  I: Vol. Air Act.  23394 non-null  float64       \n",
      " 21  SP Temperature    23394 non-null  int64         \n",
      " 22  SP Oxygen         23394 non-null  int64         \n",
      " 23  SP pH             23394 non-null  int64         \n",
      " 24  SP Foam           23394 non-null  int64         \n",
      " 25  SP Level          23394 non-null  int64         \n",
      " 26  O: Air Setp.      23394 non-null  float64       \n",
      " 27  O: O2 Setp.       23394 non-null  int64         \n",
      " 28  O: CO2 Setp.      23394 non-null  float64       \n",
      " 29  O: N2             23394 non-null  int64         \n",
      " 30  O: Heat           23394 non-null  float64       \n",
      " 31  O: Cool           23394 non-null  int64         \n",
      " 32  O: PumpTh         23394 non-null  int64         \n",
      " 33  O: Stirr Setp.    23394 non-null  int64         \n",
      " 34  O: Pump A1        23394 non-null  int64         \n",
      " 35  O: Pump A2        23394 non-null  int64         \n",
      " 36  O: Pump A3        23394 non-null  float64       \n",
      " 37  O: Pump A4        23394 non-null  int64         \n",
      " 38  O: Headspace      23394 non-null  int64         \n",
      "dtypes: datetime64[ns](1), float64(21), int64(17)\n",
      "memory usage: 7.0 MB\n"
     ]
    }
   ],
   "source": [
    "df.info()"
   ]
  },
  {
   "cell_type": "code",
   "execution_count": 24,
   "id": "wound-establishment",
   "metadata": {},
   "outputs": [],
   "source": [
    "df.to_csv(\".\\OUTPUT\\\\0406_PB101_record.csv\")"
   ]
  },
  {
   "cell_type": "code",
   "execution_count": 46,
   "id": "european-sussex",
   "metadata": {},
   "outputs": [
    {
     "data": {
      "text/html": [
       "<div>\n",
       "<style scoped>\n",
       "    .dataframe tbody tr th:only-of-type {\n",
       "        vertical-align: middle;\n",
       "    }\n",
       "\n",
       "    .dataframe tbody tr th {\n",
       "        vertical-align: top;\n",
       "    }\n",
       "\n",
       "    .dataframe thead th {\n",
       "        text-align: right;\n",
       "    }\n",
       "</style>\n",
       "<table border=\"1\" class=\"dataframe\">\n",
       "  <thead>\n",
       "    <tr style=\"text-align: right;\">\n",
       "      <th></th>\n",
       "      <th>Date and Time</th>\n",
       "      <th>Trend Age</th>\n",
       "      <th>Inoculation Age</th>\n",
       "      <th>I: Air Act.</th>\n",
       "      <th>I: O2 Act.</th>\n",
       "      <th>I: CO2 Act.</th>\n",
       "      <th>I: TempV</th>\n",
       "      <th>I: TempJ</th>\n",
       "      <th>I: DOamp</th>\n",
       "      <th>I: pH</th>\n",
       "      <th>...</th>\n",
       "      <th>O: N2</th>\n",
       "      <th>O: Heat</th>\n",
       "      <th>O: Cool</th>\n",
       "      <th>O: PumpTh</th>\n",
       "      <th>O: Stirr Setp.</th>\n",
       "      <th>O: Pump A1</th>\n",
       "      <th>O: Pump A2</th>\n",
       "      <th>O: Pump A3</th>\n",
       "      <th>O: Pump A4</th>\n",
       "      <th>O: Headspace</th>\n",
       "    </tr>\n",
       "  </thead>\n",
       "  <tbody>\n",
       "    <tr>\n",
       "      <th>0</th>\n",
       "      <td>2021-03-10 00:00:24</td>\n",
       "      <td>439.700</td>\n",
       "      <td>0</td>\n",
       "      <td>-0.455923</td>\n",
       "      <td>-0.059103</td>\n",
       "      <td>-0.177096</td>\n",
       "      <td>36.0</td>\n",
       "      <td>33.2</td>\n",
       "      <td>54.6247</td>\n",
       "      <td>8.23971</td>\n",
       "      <td>...</td>\n",
       "      <td>0</td>\n",
       "      <td>95.70</td>\n",
       "      <td>0.0</td>\n",
       "      <td>1</td>\n",
       "      <td>0</td>\n",
       "      <td>0.0</td>\n",
       "      <td>0</td>\n",
       "      <td>0</td>\n",
       "      <td>0</td>\n",
       "      <td>0</td>\n",
       "    </tr>\n",
       "    <tr>\n",
       "      <th>1</th>\n",
       "      <td>2021-03-10 00:00:54</td>\n",
       "      <td>439.708</td>\n",
       "      <td>0</td>\n",
       "      <td>-0.457699</td>\n",
       "      <td>-0.051389</td>\n",
       "      <td>-0.180004</td>\n",
       "      <td>35.8</td>\n",
       "      <td>35.4</td>\n",
       "      <td>54.0941</td>\n",
       "      <td>8.24538</td>\n",
       "      <td>...</td>\n",
       "      <td>0</td>\n",
       "      <td>92.40</td>\n",
       "      <td>0.0</td>\n",
       "      <td>1</td>\n",
       "      <td>0</td>\n",
       "      <td>0.0</td>\n",
       "      <td>0</td>\n",
       "      <td>0</td>\n",
       "      <td>0</td>\n",
       "      <td>0</td>\n",
       "    </tr>\n",
       "    <tr>\n",
       "      <th>2</th>\n",
       "      <td>2021-03-10 00:01:24</td>\n",
       "      <td>439.717</td>\n",
       "      <td>0</td>\n",
       "      <td>-0.435555</td>\n",
       "      <td>-0.044483</td>\n",
       "      <td>-0.179254</td>\n",
       "      <td>35.5</td>\n",
       "      <td>37.7</td>\n",
       "      <td>53.9244</td>\n",
       "      <td>8.24883</td>\n",
       "      <td>...</td>\n",
       "      <td>0</td>\n",
       "      <td>88.95</td>\n",
       "      <td>0.0</td>\n",
       "      <td>1</td>\n",
       "      <td>0</td>\n",
       "      <td>0.0</td>\n",
       "      <td>0</td>\n",
       "      <td>0</td>\n",
       "      <td>0</td>\n",
       "      <td>0</td>\n",
       "    </tr>\n",
       "    <tr>\n",
       "      <th>3</th>\n",
       "      <td>2021-03-10 00:01:54</td>\n",
       "      <td>439.725</td>\n",
       "      <td>0</td>\n",
       "      <td>-0.449912</td>\n",
       "      <td>-0.053858</td>\n",
       "      <td>-0.182292</td>\n",
       "      <td>35.3</td>\n",
       "      <td>39.6</td>\n",
       "      <td>53.7732</td>\n",
       "      <td>8.25047</td>\n",
       "      <td>...</td>\n",
       "      <td>0</td>\n",
       "      <td>86.10</td>\n",
       "      <td>0.0</td>\n",
       "      <td>1</td>\n",
       "      <td>0</td>\n",
       "      <td>0.0</td>\n",
       "      <td>0</td>\n",
       "      <td>0</td>\n",
       "      <td>0</td>\n",
       "      <td>0</td>\n",
       "    </tr>\n",
       "    <tr>\n",
       "      <th>4</th>\n",
       "      <td>2021-03-10 00:02:24</td>\n",
       "      <td>439.733</td>\n",
       "      <td>0</td>\n",
       "      <td>-0.425298</td>\n",
       "      <td>-0.057327</td>\n",
       "      <td>-0.180992</td>\n",
       "      <td>35.3</td>\n",
       "      <td>41.5</td>\n",
       "      <td>53.4324</td>\n",
       "      <td>8.25077</td>\n",
       "      <td>...</td>\n",
       "      <td>0</td>\n",
       "      <td>83.25</td>\n",
       "      <td>0.0</td>\n",
       "      <td>1</td>\n",
       "      <td>0</td>\n",
       "      <td>0.0</td>\n",
       "      <td>0</td>\n",
       "      <td>0</td>\n",
       "      <td>0</td>\n",
       "      <td>0</td>\n",
       "    </tr>\n",
       "  </tbody>\n",
       "</table>\n",
       "<p>5 rows × 39 columns</p>\n",
       "</div>"
      ],
      "text/plain": [
       "        Date and Time  Trend Age  Inoculation Age  I: Air Act.  I: O2 Act.  \\\n",
       "0 2021-03-10 00:00:24    439.700                0    -0.455923   -0.059103   \n",
       "1 2021-03-10 00:00:54    439.708                0    -0.457699   -0.051389   \n",
       "2 2021-03-10 00:01:24    439.717                0    -0.435555   -0.044483   \n",
       "3 2021-03-10 00:01:54    439.725                0    -0.449912   -0.053858   \n",
       "4 2021-03-10 00:02:24    439.733                0    -0.425298   -0.057327   \n",
       "\n",
       "   I: CO2 Act.  I: TempV  I: TempJ  I: DOamp    I: pH  ...  O: N2  O: Heat  \\\n",
       "0    -0.177096      36.0      33.2   54.6247  8.23971  ...      0    95.70   \n",
       "1    -0.180004      35.8      35.4   54.0941  8.24538  ...      0    92.40   \n",
       "2    -0.179254      35.5      37.7   53.9244  8.24883  ...      0    88.95   \n",
       "3    -0.182292      35.3      39.6   53.7732  8.25047  ...      0    86.10   \n",
       "4    -0.180992      35.3      41.5   53.4324  8.25077  ...      0    83.25   \n",
       "\n",
       "   O: Cool  O: PumpTh  O: Stirr Setp.  O: Pump A1  O: Pump A2  O: Pump A3  \\\n",
       "0      0.0          1               0         0.0           0           0   \n",
       "1      0.0          1               0         0.0           0           0   \n",
       "2      0.0          1               0         0.0           0           0   \n",
       "3      0.0          1               0         0.0           0           0   \n",
       "4      0.0          1               0         0.0           0           0   \n",
       "\n",
       "   O: Pump A4  O: Headspace   \n",
       "0           0              0  \n",
       "1           0              0  \n",
       "2           0              0  \n",
       "3           0              0  \n",
       "4           0              0  \n",
       "\n",
       "[5 rows x 39 columns]"
      ]
     },
     "execution_count": 46,
     "metadata": {},
     "output_type": "execute_result"
    }
   ],
   "source": [
    "import pandas as pd\n",
    "\n",
    "df = pd.read_csv('.\\INPUT\\\\0219_full_3.csv', sep=';', skiprows = [1],\n",
    "                  parse_dates=['Date and Time'], dayfirst=True, infer_datetime_format=True)\n",
    "\n",
    "df.head()"
   ]
  },
  {
   "cell_type": "code",
   "execution_count": 47,
   "id": "ordered-determination",
   "metadata": {},
   "outputs": [],
   "source": [
    "df.to_csv(\".\\OUTPUT\\\\0219_Bioreactor.csv\")"
   ]
  },
  {
   "cell_type": "code",
   "execution_count": 48,
   "id": "respective-hindu",
   "metadata": {},
   "outputs": [
    {
     "data": {
      "text/plain": [
       "<AxesSubplot:xlabel='Date and Time'>"
      ]
     },
     "execution_count": 48,
     "metadata": {},
     "output_type": "execute_result"
    },
    {
     "data": {
      "image/png": "[encoded data removed]",
      "text/plain": [
       "<Figure size 432x288 with 1 Axes>"
      ]
     },
     "metadata": {
      "needs_background": "light"
     },
     "output_type": "display_data"
    }
   ],
   "source": [
    "df.plot('Date and Time','I: Air Act.')"
   ]
  },
  {
   "cell_type": "code",
   "execution_count": 49,
   "id": "intense-chancellor",
   "metadata": {},
   "outputs": [
    {
     "data": {
      "text/plain": [
       "<AxesSubplot:xlabel='Date and Time'>"
      ]
     },
     "execution_count": 49,
     "metadata": {},
     "output_type": "execute_result"
    },
    {
     "data": {
      "image/png": "[encoded data removed]",
      "text/plain": [
       "<Figure size 432x288 with 1 Axes>"
      ]
     },
     "metadata": {
      "needs_background": "light"
     },
     "output_type": "display_data"
    }
   ],
   "source": [
    "df[:6000].plot('Date and Time','I: DOamp')"
   ]
  },
  {
   "cell_type": "code",
   "execution_count": 52,
   "id": "durable-destiny",
   "metadata": {},
   "outputs": [
    {
     "data": {
      "text/plain": [
       "<AxesSubplot:xlabel='Date and Time'>"
      ]
     },
     "execution_count": 52,
     "metadata": {},
     "output_type": "execute_result"
    },
    {
     "data": {
      "image/png": "[encoded data removed]",
      "text/plain": [
       "<Figure size 432x288 with 1 Axes>"
      ]
     },
     "metadata": {
      "needs_background": "light"
     },
     "output_type": "display_data"
    }
   ],
   "source": [
    "df.plot('Date and Time','I: pH')"
   ]
  },
  {
   "cell_type": "code",
   "execution_count": 54,
   "id": "minor-lithuania",
   "metadata": {},
   "outputs": [
    {
     "data": {
      "text/plain": [
       "<AxesSubplot:xlabel='Date and Time'>"
      ]
     },
     "execution_count": 54,
     "metadata": {},
     "output_type": "execute_result"
    },
    {
     "data": {
      "image/png": "[encoded data removed]",
      "text/plain": [
       "<Figure size 432x288 with 1 Axes>"
      ]
     },
     "metadata": {
      "needs_background": "light"
     },
     "output_type": "display_data"
    }
   ],
   "source": [
    "df.plot('Date and Time','I: Vol. Pump A3')"
   ]
  },
  {
   "cell_type": "code",
   "execution_count": 55,
   "id": "embedded-vehicle",
   "metadata": {},
   "outputs": [
    {
     "data": {
      "text/plain": [
       "<AxesSubplot:xlabel='Date and Time'>"
      ]
     },
     "execution_count": 55,
     "metadata": {},
     "output_type": "execute_result"
    },
    {
     "data": {
      "image/png": "[encoded data removed]",
      "text/plain": [
       "<Figure size 432x288 with 1 Axes>"
      ]
     },
     "metadata": {
      "needs_background": "light"
     },
     "output_type": "display_data"
    }
   ],
   "source": [
    "df.plot('Date and Time','I: Vol. Pump A2')"
   ]
  },
  {
   "cell_type": "code",
   "execution_count": 56,
   "id": "mechanical-header",
   "metadata": {},
   "outputs": [
    {
     "data": {
      "text/plain": [
       "<AxesSubplot:xlabel='Date and Time'>"
      ]
     },
     "execution_count": 56,
     "metadata": {},
     "output_type": "execute_result"
    },
    {
     "data": {
      "image/png": "[encoded data removed]",
      "text/plain": [
       "<Figure size 432x288 with 1 Axes>"
      ]
     },
     "metadata": {
      "needs_background": "light"
     },
     "output_type": "display_data"
    }
   ],
   "source": [
    "df.plot('Date and Time','I: Vol. Pump A1')"
   ]
  },
  {
   "cell_type": "code",
   "execution_count": 53,
   "id": "subjective-antarctica",
   "metadata": {},
   "outputs": [
    {
     "data": {
      "text/plain": [
       "<AxesSubplot:xlabel='Date and Time'>"
      ]
     },
     "execution_count": 53,
     "metadata": {},
     "output_type": "execute_result"
    },
    {
     "data": {
      "image/png": "[encoded data removed]",
      "text/plain": [
       "<Figure size 432x288 with 1 Axes>"
      ]
     },
     "metadata": {
      "needs_background": "light"
     },
     "output_type": "display_data"
    }
   ],
   "source": [
    "df.plot('Date and Time','I: Vol. Pump A4')"
   ]
  },
  {
   "cell_type": "code",
   "execution_count": 51,
   "id": "living-white",
   "metadata": {},
   "outputs": [
    {
     "data": {
      "text/html": [
       "<div>\n",
       "<style scoped>\n",
       "    .dataframe tbody tr th:only-of-type {\n",
       "        vertical-align: middle;\n",
       "    }\n",
       "\n",
       "    .dataframe tbody tr th {\n",
       "        vertical-align: top;\n",
       "    }\n",
       "\n",
       "    .dataframe thead th {\n",
       "        text-align: right;\n",
       "    }\n",
       "</style>\n",
       "<table border=\"1\" class=\"dataframe\">\n",
       "  <thead>\n",
       "    <tr style=\"text-align: right;\">\n",
       "      <th></th>\n",
       "      <th>Date and Time</th>\n",
       "      <th>Trend Age</th>\n",
       "      <th>Inoculation Age</th>\n",
       "      <th>I: Air Act.</th>\n",
       "      <th>I: O2 Act.</th>\n",
       "      <th>I: CO2 Act.</th>\n",
       "      <th>I: TempV</th>\n",
       "      <th>I: TempJ</th>\n",
       "      <th>I: DOamp</th>\n",
       "      <th>I: pH</th>\n",
       "      <th>...</th>\n",
       "      <th>O: N2</th>\n",
       "      <th>O: Heat</th>\n",
       "      <th>O: Cool</th>\n",
       "      <th>O: PumpTh</th>\n",
       "      <th>O: Stirr Setp.</th>\n",
       "      <th>O: Pump A1</th>\n",
       "      <th>O: Pump A2</th>\n",
       "      <th>O: Pump A3</th>\n",
       "      <th>O: Pump A4</th>\n",
       "      <th>O: Headspace</th>\n",
       "    </tr>\n",
       "  </thead>\n",
       "  <tbody>\n",
       "    <tr>\n",
       "      <th>10863</th>\n",
       "      <td>2021-03-26 13:28:54</td>\n",
       "      <td>837.175</td>\n",
       "      <td>0</td>\n",
       "      <td>-0.427126</td>\n",
       "      <td>-0.101825</td>\n",
       "      <td>-0.188363</td>\n",
       "      <td>34.1</td>\n",
       "      <td>32.4</td>\n",
       "      <td>0.203456</td>\n",
       "      <td>7.38400</td>\n",
       "      <td>...</td>\n",
       "      <td>0</td>\n",
       "      <td>0.0</td>\n",
       "      <td>0.0</td>\n",
       "      <td>0</td>\n",
       "      <td>0</td>\n",
       "      <td>0.0</td>\n",
       "      <td>0</td>\n",
       "      <td>0</td>\n",
       "      <td>0</td>\n",
       "      <td>0</td>\n",
       "    </tr>\n",
       "    <tr>\n",
       "      <th>10864</th>\n",
       "      <td>2021-03-26 13:29:24</td>\n",
       "      <td>837.183</td>\n",
       "      <td>0</td>\n",
       "      <td>-0.407617</td>\n",
       "      <td>-0.124492</td>\n",
       "      <td>-0.186540</td>\n",
       "      <td>31.3</td>\n",
       "      <td>32.4</td>\n",
       "      <td>0.001303</td>\n",
       "      <td>7.36068</td>\n",
       "      <td>...</td>\n",
       "      <td>0</td>\n",
       "      <td>0.0</td>\n",
       "      <td>0.0</td>\n",
       "      <td>0</td>\n",
       "      <td>0</td>\n",
       "      <td>0.0</td>\n",
       "      <td>0</td>\n",
       "      <td>0</td>\n",
       "      <td>0</td>\n",
       "      <td>0</td>\n",
       "    </tr>\n",
       "    <tr>\n",
       "      <th>10865</th>\n",
       "      <td>2021-03-26 13:29:54</td>\n",
       "      <td>837.192</td>\n",
       "      <td>0</td>\n",
       "      <td>-0.419125</td>\n",
       "      <td>-0.134191</td>\n",
       "      <td>-0.174298</td>\n",
       "      <td>28.6</td>\n",
       "      <td>32.4</td>\n",
       "      <td>-0.001736</td>\n",
       "      <td>7.35613</td>\n",
       "      <td>...</td>\n",
       "      <td>0</td>\n",
       "      <td>0.0</td>\n",
       "      <td>0.0</td>\n",
       "      <td>0</td>\n",
       "      <td>0</td>\n",
       "      <td>0.0</td>\n",
       "      <td>0</td>\n",
       "      <td>0</td>\n",
       "      <td>0</td>\n",
       "      <td>0</td>\n",
       "    </tr>\n",
       "    <tr>\n",
       "      <th>10866</th>\n",
       "      <td>2021-03-26 13:30:24</td>\n",
       "      <td>837.200</td>\n",
       "      <td>0</td>\n",
       "      <td>-0.420171</td>\n",
       "      <td>-0.145544</td>\n",
       "      <td>-0.194139</td>\n",
       "      <td>27.2</td>\n",
       "      <td>32.4</td>\n",
       "      <td>-0.004490</td>\n",
       "      <td>7.35292</td>\n",
       "      <td>...</td>\n",
       "      <td>0</td>\n",
       "      <td>0.0</td>\n",
       "      <td>0.0</td>\n",
       "      <td>0</td>\n",
       "      <td>0</td>\n",
       "      <td>0.0</td>\n",
       "      <td>0</td>\n",
       "      <td>0</td>\n",
       "      <td>0</td>\n",
       "      <td>0</td>\n",
       "    </tr>\n",
       "    <tr>\n",
       "      <th>10867</th>\n",
       "      <td>2021-03-26 13:30:40</td>\n",
       "      <td>837.204</td>\n",
       "      <td>0</td>\n",
       "      <td>-0.454509</td>\n",
       "      <td>-0.126140</td>\n",
       "      <td>-0.176436</td>\n",
       "      <td>26.6</td>\n",
       "      <td>32.3</td>\n",
       "      <td>-0.002953</td>\n",
       "      <td>7.35101</td>\n",
       "      <td>...</td>\n",
       "      <td>0</td>\n",
       "      <td>0.0</td>\n",
       "      <td>0.0</td>\n",
       "      <td>0</td>\n",
       "      <td>0</td>\n",
       "      <td>0.0</td>\n",
       "      <td>0</td>\n",
       "      <td>0</td>\n",
       "      <td>0</td>\n",
       "      <td>0</td>\n",
       "    </tr>\n",
       "  </tbody>\n",
       "</table>\n",
       "<p>5 rows × 39 columns</p>\n",
       "</div>"
      ],
      "text/plain": [
       "            Date and Time  Trend Age  Inoculation Age  I: Air Act.  \\\n",
       "10863 2021-03-26 13:28:54    837.175                0    -0.427126   \n",
       "10864 2021-03-26 13:29:24    837.183                0    -0.407617   \n",
       "10865 2021-03-26 13:29:54    837.192                0    -0.419125   \n",
       "10866 2021-03-26 13:30:24    837.200                0    -0.420171   \n",
       "10867 2021-03-26 13:30:40    837.204                0    -0.454509   \n",
       "\n",
       "       I: O2 Act.  I: CO2 Act.  I: TempV  I: TempJ  I: DOamp    I: pH  ...  \\\n",
       "10863   -0.101825    -0.188363      34.1      32.4  0.203456  7.38400  ...   \n",
       "10864   -0.124492    -0.186540      31.3      32.4  0.001303  7.36068  ...   \n",
       "10865   -0.134191    -0.174298      28.6      32.4 -0.001736  7.35613  ...   \n",
       "10866   -0.145544    -0.194139      27.2      32.4 -0.004490  7.35292  ...   \n",
       "10867   -0.126140    -0.176436      26.6      32.3 -0.002953  7.35101  ...   \n",
       "\n",
       "       O: N2  O: Heat  O: Cool  O: PumpTh  O: Stirr Setp.  O: Pump A1  \\\n",
       "10863      0      0.0      0.0          0               0         0.0   \n",
       "10864      0      0.0      0.0          0               0         0.0   \n",
       "10865      0      0.0      0.0          0               0         0.0   \n",
       "10866      0      0.0      0.0          0               0         0.0   \n",
       "10867      0      0.0      0.0          0               0         0.0   \n",
       "\n",
       "       O: Pump A2  O: Pump A3  O: Pump A4  O: Headspace   \n",
       "10863           0           0           0              0  \n",
       "10864           0           0           0              0  \n",
       "10865           0           0           0              0  \n",
       "10866           0           0           0              0  \n",
       "10867           0           0           0              0  \n",
       "\n",
       "[5 rows x 39 columns]"
      ]
     },
     "execution_count": 51,
     "metadata": {},
     "output_type": "execute_result"
    }
   ],
   "source": [
    "df.plot('Date and Time','SP pH')"
   ]
  }
 ],
 "metadata": {
  "kernelspec": {
   "display_name": "Python 3",
   "language": "python",
   "name": "python3"
  },
  "language_info": {
   "codemirror_mode": {
    "name": "ipython",
    "version": 3
   },
   "file_extension": ".py",
   "mimetype": "text/x-python",
   "name": "python",
   "nbconvert_exporter": "python",
   "pygments_lexer": "ipython3",
   "version": "3.8.5"
  }
 },
 "nbformat": 4,
 "nbformat_minor": 5
}
