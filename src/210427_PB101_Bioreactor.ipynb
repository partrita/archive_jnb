{
 "cells": [
  {
   "cell_type": "code",
   "execution_count": 1,
   "id": "spanish-truck",
   "metadata": {},
   "outputs": [
    {
     "data": {
      "text/html": [
       "<div>\n",
       "<style scoped>\n",
       "    .dataframe tbody tr th:only-of-type {\n",
       "        vertical-align: middle;\n",
       "    }\n",
       "\n",
       "    .dataframe tbody tr th {\n",
       "        vertical-align: top;\n",
       "    }\n",
       "\n",
       "    .dataframe thead th {\n",
       "        text-align: right;\n",
       "    }\n",
       "</style>\n",
       "<table border=\"1\" class=\"dataframe\">\n",
       "  <thead>\n",
       "    <tr style=\"text-align: right;\">\n",
       "      <th></th>\n",
       "      <th>Date and Time</th>\n",
       "      <th>Trend Age</th>\n",
       "      <th>Inoculation Age</th>\n",
       "      <th>I: Air Act.</th>\n",
       "      <th>I: O2 Act.</th>\n",
       "      <th>I: CO2 Act.</th>\n",
       "      <th>I: TempV</th>\n",
       "      <th>I: TempJ</th>\n",
       "      <th>I: DOamp</th>\n",
       "      <th>I: pH</th>\n",
       "      <th>...</th>\n",
       "      <th>O: N2</th>\n",
       "      <th>O: Heat</th>\n",
       "      <th>O: Cool</th>\n",
       "      <th>O: PumpTh</th>\n",
       "      <th>O: Stirr Setp.</th>\n",
       "      <th>O: Pump A1</th>\n",
       "      <th>O: Pump A2</th>\n",
       "      <th>O: Pump A3</th>\n",
       "      <th>O: Pump A4</th>\n",
       "      <th>O: Headspace</th>\n",
       "    </tr>\n",
       "  </thead>\n",
       "  <tbody>\n",
       "    <tr>\n",
       "      <th>0</th>\n",
       "      <td>2021-04-13 17:27:52</td>\n",
       "      <td>0</td>\n",
       "      <td>0</td>\n",
       "      <td>100,005</td>\n",
       "      <td>-0,0757486</td>\n",
       "      <td>-0,663953</td>\n",
       "      <td>35,2</td>\n",
       "      <td>26,3</td>\n",
       "      <td>133,613</td>\n",
       "      <td>8,89087</td>\n",
       "      <td>...</td>\n",
       "      <td>0</td>\n",
       "      <td>19,2258</td>\n",
       "      <td>0</td>\n",
       "      <td>1</td>\n",
       "      <td>0</td>\n",
       "      <td>0</td>\n",
       "      <td>0</td>\n",
       "      <td>0</td>\n",
       "      <td>0</td>\n",
       "      <td>1</td>\n",
       "    </tr>\n",
       "    <tr>\n",
       "      <th>1</th>\n",
       "      <td>2021-04-13 17:57:52</td>\n",
       "      <td>0,5</td>\n",
       "      <td>0</td>\n",
       "      <td>99,9957</td>\n",
       "      <td>-0,098452</td>\n",
       "      <td>-0,662302</td>\n",
       "      <td>35,4</td>\n",
       "      <td>35,9</td>\n",
       "      <td>91,7152</td>\n",
       "      <td>7,61719</td>\n",
       "      <td>...</td>\n",
       "      <td>0</td>\n",
       "      <td>12,9731</td>\n",
       "      <td>0</td>\n",
       "      <td>1</td>\n",
       "      <td>190</td>\n",
       "      <td>0</td>\n",
       "      <td>0</td>\n",
       "      <td>0</td>\n",
       "      <td>0</td>\n",
       "      <td>1</td>\n",
       "    </tr>\n",
       "    <tr>\n",
       "      <th>2</th>\n",
       "      <td>2021-04-13 18:27:52</td>\n",
       "      <td>1</td>\n",
       "      <td>0</td>\n",
       "      <td>100,006</td>\n",
       "      <td>-0,135639</td>\n",
       "      <td>-0,656667</td>\n",
       "      <td>36,7</td>\n",
       "      <td>38</td>\n",
       "      <td>91,19</td>\n",
       "      <td>7,75242</td>\n",
       "      <td>...</td>\n",
       "      <td>0</td>\n",
       "      <td>6,32808</td>\n",
       "      <td>0</td>\n",
       "      <td>1</td>\n",
       "      <td>190</td>\n",
       "      <td>0</td>\n",
       "      <td>0</td>\n",
       "      <td>0</td>\n",
       "      <td>0</td>\n",
       "      <td>1</td>\n",
       "    </tr>\n",
       "    <tr>\n",
       "      <th>3</th>\n",
       "      <td>2021-04-13 18:57:52</td>\n",
       "      <td>1,5</td>\n",
       "      <td>0</td>\n",
       "      <td>99,9996</td>\n",
       "      <td>-0,119477</td>\n",
       "      <td>-0,658426</td>\n",
       "      <td>36,9</td>\n",
       "      <td>38,3</td>\n",
       "      <td>94,9944</td>\n",
       "      <td>7,85579</td>\n",
       "      <td>...</td>\n",
       "      <td>0</td>\n",
       "      <td>5,70543</td>\n",
       "      <td>0</td>\n",
       "      <td>1</td>\n",
       "      <td>190</td>\n",
       "      <td>0</td>\n",
       "      <td>0</td>\n",
       "      <td>0</td>\n",
       "      <td>0</td>\n",
       "      <td>1</td>\n",
       "    </tr>\n",
       "    <tr>\n",
       "      <th>4</th>\n",
       "      <td>2021-04-13 19:27:52</td>\n",
       "      <td>2</td>\n",
       "      <td>0</td>\n",
       "      <td>100,019</td>\n",
       "      <td>-0,129457</td>\n",
       "      <td>-0,664023</td>\n",
       "      <td>37</td>\n",
       "      <td>38,6</td>\n",
       "      <td>98,1647</td>\n",
       "      <td>7,93815</td>\n",
       "      <td>...</td>\n",
       "      <td>0</td>\n",
       "      <td>4,84834</td>\n",
       "      <td>0</td>\n",
       "      <td>1</td>\n",
       "      <td>190</td>\n",
       "      <td>0</td>\n",
       "      <td>0</td>\n",
       "      <td>0</td>\n",
       "      <td>0</td>\n",
       "      <td>1</td>\n",
       "    </tr>\n",
       "  </tbody>\n",
       "</table>\n",
       "<p>5 rows × 39 columns</p>\n",
       "</div>"
      ],
      "text/plain": [
       "        Date and Time Trend Age  Inoculation Age I: Air Act.  I: O2 Act.  \\\n",
       "0 2021-04-13 17:27:52         0                0     100,005  -0,0757486   \n",
       "1 2021-04-13 17:57:52       0,5                0     99,9957   -0,098452   \n",
       "2 2021-04-13 18:27:52         1                0     100,006   -0,135639   \n",
       "3 2021-04-13 18:57:52       1,5                0     99,9996   -0,119477   \n",
       "4 2021-04-13 19:27:52         2                0     100,019   -0,129457   \n",
       "\n",
       "  I: CO2 Act. I: TempV I: TempJ I: DOamp    I: pH  ...  O: N2  O: Heat  \\\n",
       "0   -0,663953     35,2     26,3  133,613  8,89087  ...      0  19,2258   \n",
       "1   -0,662302     35,4     35,9  91,7152  7,61719  ...      0  12,9731   \n",
       "2   -0,656667     36,7       38    91,19  7,75242  ...      0  6,32808   \n",
       "3   -0,658426     36,9     38,3  94,9944  7,85579  ...      0  5,70543   \n",
       "4   -0,664023       37     38,6  98,1647  7,93815  ...      0  4,84834   \n",
       "\n",
       "  O: Cool  O: PumpTh O: Stirr Setp. O: Pump A1 O: Pump A2 O: Pump A3  \\\n",
       "0       0          1              0          0          0          0   \n",
       "1       0          1            190          0          0          0   \n",
       "2       0          1            190          0          0          0   \n",
       "3       0          1            190          0          0          0   \n",
       "4       0          1            190          0          0          0   \n",
       "\n",
       "  O: Pump A4 O: Headspace   \n",
       "0          0             1  \n",
       "1          0             1  \n",
       "2          0             1  \n",
       "3          0             1  \n",
       "4          0             1  \n",
       "\n",
       "[5 rows x 39 columns]"
      ]
     },
     "execution_count": 1,
     "metadata": {},
     "output_type": "execute_result"
    }
   ],
   "source": [
    "import pandas as pd\n",
    "\n",
    "df = pd.read_csv('.\\INPUT\\\\210413_pb101_4_full.csv', sep=';', skiprows = [1],\n",
    "                  parse_dates=['Date and Time'], dayfirst=True, infer_datetime_format=True)\n",
    "\n",
    "df.head()"
   ]
  },
  {
   "cell_type": "code",
   "execution_count": 2,
   "id": "occupational-light",
   "metadata": {},
   "outputs": [
    {
     "name": "stdout",
     "output_type": "stream",
     "text": [
      "<class 'pandas.core.frame.DataFrame'>\n",
      "RangeIndex: 657 entries, 0 to 656\n",
      "Data columns (total 39 columns):\n",
      " #   Column            Non-Null Count  Dtype         \n",
      "---  ------            --------------  -----         \n",
      " 0   Date and Time     657 non-null    datetime64[ns]\n",
      " 1   Trend Age         657 non-null    object        \n",
      " 2   Inoculation Age   657 non-null    int64         \n",
      " 3   I: Air Act.       657 non-null    object        \n",
      " 4   I: O2 Act.        657 non-null    object        \n",
      " 5   I: CO2 Act.       657 non-null    object        \n",
      " 6   I: TempV          657 non-null    object        \n",
      " 7   I: TempJ          657 non-null    object        \n",
      " 8   I: DOamp          657 non-null    object        \n",
      " 9   I: pH             657 non-null    object        \n",
      " 10  I: Level 1        657 non-null    int64         \n",
      " 11  I: Stirr Act.     657 non-null    int64         \n",
      " 12  I: Torque         657 non-null    object        \n",
      " 13  I: Balance1       657 non-null    int64         \n",
      " 14  I: Vol. Pump A1   657 non-null    object        \n",
      " 15  I: Vol. Pump A2   657 non-null    object        \n",
      " 16  I: Vol. Pump A3   657 non-null    object        \n",
      " 17  I: Vol. Pump A4   657 non-null    object        \n",
      " 18  I: Vol. CO2 Act.  657 non-null    object        \n",
      " 19  I: Vol. O2 Act.   657 non-null    object        \n",
      " 20  I: Vol. Air Act.  657 non-null    object        \n",
      " 21  SP Temperature    657 non-null    int64         \n",
      " 22  SP Oxygen         657 non-null    int64         \n",
      " 23  SP pH             657 non-null    int64         \n",
      " 24  SP Foam           657 non-null    int64         \n",
      " 25  SP Level          657 non-null    int64         \n",
      " 26  O: Air Setp.      657 non-null    object        \n",
      " 27  O: O2 Setp.       657 non-null    object        \n",
      " 28  O: CO2 Setp.      657 non-null    object        \n",
      " 29  O: N2             657 non-null    int64         \n",
      " 30  O: Heat           657 non-null    object        \n",
      " 31  O: Cool           657 non-null    int64         \n",
      " 32  O: PumpTh         657 non-null    int64         \n",
      " 33  O: Stirr Setp.    657 non-null    int64         \n",
      " 34  O: Pump A1        657 non-null    int64         \n",
      " 35  O: Pump A2        657 non-null    int64         \n",
      " 36  O: Pump A3        657 non-null    int64         \n",
      " 37  O: Pump A4        657 non-null    int64         \n",
      " 38  O: Headspace      657 non-null    int64         \n",
      "dtypes: datetime64[ns](1), int64(18), object(20)\n",
      "memory usage: 200.3+ KB\n"
     ]
    }
   ],
   "source": [
    "df.info()"
   ]
  },
  {
   "cell_type": "code",
   "execution_count": 18,
   "id": "russian-tackle",
   "metadata": {},
   "outputs": [],
   "source": [
    "df.to_csv(\".\\OUTPUT\\\\210413_pb101_4_full.csv\")"
   ]
  },
  {
   "cell_type": "code",
   "execution_count": 10,
   "id": "broad-complement",
   "metadata": {},
   "outputs": [
    {
     "data": {
      "text/html": [
       "<div>\n",
       "<style scoped>\n",
       "    .dataframe tbody tr th:only-of-type {\n",
       "        vertical-align: middle;\n",
       "    }\n",
       "\n",
       "    .dataframe tbody tr th {\n",
       "        vertical-align: top;\n",
       "    }\n",
       "\n",
       "    .dataframe thead th {\n",
       "        text-align: right;\n",
       "    }\n",
       "</style>\n",
       "<table border=\"1\" class=\"dataframe\">\n",
       "  <thead>\n",
       "    <tr style=\"text-align: right;\">\n",
       "      <th></th>\n",
       "      <th>Date and Time</th>\n",
       "      <th>Trend Age</th>\n",
       "      <th>Inoculation Age</th>\n",
       "      <th>I: Air Act.</th>\n",
       "      <th>I: O2 Act.</th>\n",
       "      <th>I: CO2 Act.</th>\n",
       "      <th>I: TempV</th>\n",
       "      <th>I: TempJ</th>\n",
       "      <th>I: DOamp</th>\n",
       "      <th>I: pH</th>\n",
       "      <th>...</th>\n",
       "      <th>O: N2</th>\n",
       "      <th>O: Heat</th>\n",
       "      <th>O: Cool</th>\n",
       "      <th>O: PumpTh</th>\n",
       "      <th>O: Stirr Setp.</th>\n",
       "      <th>O: Pump A1</th>\n",
       "      <th>O: Pump A2</th>\n",
       "      <th>O: Pump A3</th>\n",
       "      <th>O: Pump A4</th>\n",
       "      <th>O: Headspace</th>\n",
       "    </tr>\n",
       "  </thead>\n",
       "  <tbody>\n",
       "    <tr>\n",
       "      <th>0</th>\n",
       "      <td>2021-04-13 17:27:52</td>\n",
       "      <td>0.0</td>\n",
       "      <td>0</td>\n",
       "      <td>100.0050</td>\n",
       "      <td>-0.075749</td>\n",
       "      <td>-0.663953</td>\n",
       "      <td>35.2</td>\n",
       "      <td>26.3</td>\n",
       "      <td>133.6130</td>\n",
       "      <td>8.89087</td>\n",
       "      <td>...</td>\n",
       "      <td>0</td>\n",
       "      <td>19.22580</td>\n",
       "      <td>0</td>\n",
       "      <td>1</td>\n",
       "      <td>0</td>\n",
       "      <td>0</td>\n",
       "      <td>0</td>\n",
       "      <td>0</td>\n",
       "      <td>0</td>\n",
       "      <td>1</td>\n",
       "    </tr>\n",
       "    <tr>\n",
       "      <th>1</th>\n",
       "      <td>2021-04-13 17:57:52</td>\n",
       "      <td>0.5</td>\n",
       "      <td>0</td>\n",
       "      <td>99.9957</td>\n",
       "      <td>-0.098452</td>\n",
       "      <td>-0.662302</td>\n",
       "      <td>35.4</td>\n",
       "      <td>35.9</td>\n",
       "      <td>91.7152</td>\n",
       "      <td>7.61719</td>\n",
       "      <td>...</td>\n",
       "      <td>0</td>\n",
       "      <td>12.97310</td>\n",
       "      <td>0</td>\n",
       "      <td>1</td>\n",
       "      <td>190</td>\n",
       "      <td>0</td>\n",
       "      <td>0</td>\n",
       "      <td>0</td>\n",
       "      <td>0</td>\n",
       "      <td>1</td>\n",
       "    </tr>\n",
       "    <tr>\n",
       "      <th>2</th>\n",
       "      <td>2021-04-13 18:27:52</td>\n",
       "      <td>1.0</td>\n",
       "      <td>0</td>\n",
       "      <td>100.0060</td>\n",
       "      <td>-0.135639</td>\n",
       "      <td>-0.656667</td>\n",
       "      <td>36.7</td>\n",
       "      <td>38.0</td>\n",
       "      <td>91.1900</td>\n",
       "      <td>7.75242</td>\n",
       "      <td>...</td>\n",
       "      <td>0</td>\n",
       "      <td>6.32808</td>\n",
       "      <td>0</td>\n",
       "      <td>1</td>\n",
       "      <td>190</td>\n",
       "      <td>0</td>\n",
       "      <td>0</td>\n",
       "      <td>0</td>\n",
       "      <td>0</td>\n",
       "      <td>1</td>\n",
       "    </tr>\n",
       "    <tr>\n",
       "      <th>3</th>\n",
       "      <td>2021-04-13 18:57:52</td>\n",
       "      <td>1.5</td>\n",
       "      <td>0</td>\n",
       "      <td>99.9996</td>\n",
       "      <td>-0.119477</td>\n",
       "      <td>-0.658426</td>\n",
       "      <td>36.9</td>\n",
       "      <td>38.3</td>\n",
       "      <td>94.9944</td>\n",
       "      <td>7.85579</td>\n",
       "      <td>...</td>\n",
       "      <td>0</td>\n",
       "      <td>5.70543</td>\n",
       "      <td>0</td>\n",
       "      <td>1</td>\n",
       "      <td>190</td>\n",
       "      <td>0</td>\n",
       "      <td>0</td>\n",
       "      <td>0</td>\n",
       "      <td>0</td>\n",
       "      <td>1</td>\n",
       "    </tr>\n",
       "    <tr>\n",
       "      <th>4</th>\n",
       "      <td>2021-04-13 19:27:52</td>\n",
       "      <td>2.0</td>\n",
       "      <td>0</td>\n",
       "      <td>100.0190</td>\n",
       "      <td>-0.129457</td>\n",
       "      <td>-0.664023</td>\n",
       "      <td>37.0</td>\n",
       "      <td>38.6</td>\n",
       "      <td>98.1647</td>\n",
       "      <td>7.93815</td>\n",
       "      <td>...</td>\n",
       "      <td>0</td>\n",
       "      <td>4.84834</td>\n",
       "      <td>0</td>\n",
       "      <td>1</td>\n",
       "      <td>190</td>\n",
       "      <td>0</td>\n",
       "      <td>0</td>\n",
       "      <td>0</td>\n",
       "      <td>0</td>\n",
       "      <td>1</td>\n",
       "    </tr>\n",
       "  </tbody>\n",
       "</table>\n",
       "<p>5 rows × 39 columns</p>\n",
       "</div>"
      ],
      "text/plain": [
       "        Date and Time  Trend Age  Inoculation Age  I: Air Act.  I: O2 Act.  \\\n",
       "0 2021-04-13 17:27:52        0.0                0     100.0050   -0.075749   \n",
       "1 2021-04-13 17:57:52        0.5                0      99.9957   -0.098452   \n",
       "2 2021-04-13 18:27:52        1.0                0     100.0060   -0.135639   \n",
       "3 2021-04-13 18:57:52        1.5                0      99.9996   -0.119477   \n",
       "4 2021-04-13 19:27:52        2.0                0     100.0190   -0.129457   \n",
       "\n",
       "   I: CO2 Act.  I: TempV  I: TempJ  I: DOamp    I: pH  ...  O: N2   O: Heat  \\\n",
       "0    -0.663953      35.2      26.3  133.6130  8.89087  ...      0  19.22580   \n",
       "1    -0.662302      35.4      35.9   91.7152  7.61719  ...      0  12.97310   \n",
       "2    -0.656667      36.7      38.0   91.1900  7.75242  ...      0   6.32808   \n",
       "3    -0.658426      36.9      38.3   94.9944  7.85579  ...      0   5.70543   \n",
       "4    -0.664023      37.0      38.6   98.1647  7.93815  ...      0   4.84834   \n",
       "\n",
       "   O: Cool  O: PumpTh  O: Stirr Setp.  O: Pump A1  O: Pump A2  O: Pump A3  \\\n",
       "0        0          1               0           0           0           0   \n",
       "1        0          1             190           0           0           0   \n",
       "2        0          1             190           0           0           0   \n",
       "3        0          1             190           0           0           0   \n",
       "4        0          1             190           0           0           0   \n",
       "\n",
       "   O: Pump A4  O: Headspace   \n",
       "0           0              1  \n",
       "1           0              1  \n",
       "2           0              1  \n",
       "3           0              1  \n",
       "4           0              1  \n",
       "\n",
       "[5 rows x 39 columns]"
      ]
     },
     "execution_count": 10,
     "metadata": {},
     "output_type": "execute_result"
    }
   ],
   "source": [
    "import pandas as pd\n",
    "\n",
    "df = pd.read_csv('.\\INPUT\\\\210413_pb101_4_full.csv', sep=';', skiprows = [1],\n",
    "                  parse_dates=['Date and Time'], dayfirst=True, infer_datetime_format=True)\n",
    "\n",
    "df.head()"
   ]
  },
  {
   "cell_type": "code",
   "execution_count": 11,
   "id": "growing-toyota",
   "metadata": {},
   "outputs": [
    {
     "data": {
      "text/plain": [
       "<AxesSubplot:xlabel='Date and Time'>"
      ]
     },
     "execution_count": 11,
     "metadata": {},
     "output_type": "execute_result"
    },
    {
     "data": {
      "image/png": "[encoded data removed]",
      "text/plain": [
       "<Figure size 432x288 with 1 Axes>"
      ]
     },
     "metadata": {
      "needs_background": "light"
     },
     "output_type": "display_data"
    }
   ],
   "source": [
    "df.plot('Date and Time','I: Air Act.')"
   ]
  },
  {
   "cell_type": "code",
   "execution_count": 12,
   "id": "hawaiian-conditioning",
   "metadata": {},
   "outputs": [
    {
     "data": {
      "text/plain": [
       "<AxesSubplot:xlabel='Date and Time'>"
      ]
     },
     "execution_count": 12,
     "metadata": {},
     "output_type": "execute_result"
    },
    {
     "data": {
      "image/png": "[encoded data removed]",
      "text/plain": [
       "<Figure size 432x288 with 1 Axes>"
      ]
     },
     "metadata": {
      "needs_background": "light"
     },
     "output_type": "display_data"
    }
   ],
   "source": [
    "df[:6000].plot('Date and Time','I: DOamp')"
   ]
  },
  {
   "cell_type": "code",
   "execution_count": 13,
   "id": "third-association",
   "metadata": {},
   "outputs": [
    {
     "data": {
      "text/plain": [
       "<AxesSubplot:xlabel='Date and Time'>"
      ]
     },
     "execution_count": 13,
     "metadata": {},
     "output_type": "execute_result"
    },
    {
     "data": {
      "image/png": "[encoded data removed]",
      "text/plain": [
       "<Figure size 432x288 with 1 Axes>"
      ]
     },
     "metadata": {
      "needs_background": "light"
     },
     "output_type": "display_data"
    }
   ],
   "source": [
    "df.plot('Date and Time','I: pH')"
   ]
  },
  {
   "cell_type": "code",
   "execution_count": 14,
   "id": "turned-dance",
   "metadata": {},
   "outputs": [
    {
     "data": {
      "text/plain": [
       "<AxesSubplot:xlabel='Date and Time'>"
      ]
     },
     "execution_count": 14,
     "metadata": {},
     "output_type": "execute_result"
    },
    {
     "data": {
      "image/png": "[encoded data removed]",
      "text/plain": [
       "<Figure size 432x288 with 1 Axes>"
      ]
     },
     "metadata": {
      "needs_background": "light"
     },
     "output_type": "display_data"
    }
   ],
   "source": [
    "df.plot('Date and Time','I: Vol. Pump A3')"
   ]
  },
  {
   "cell_type": "code",
   "execution_count": 15,
   "id": "persistent-photographer",
   "metadata": {},
   "outputs": [
    {
     "data": {
      "text/plain": [
       "<AxesSubplot:xlabel='Date and Time'>"
      ]
     },
     "execution_count": 15,
     "metadata": {},
     "output_type": "execute_result"
    },
    {
     "data": {
      "image/png": "[encoded data removed]",
      "text/plain": [
       "<Figure size 432x288 with 1 Axes>"
      ]
     },
     "metadata": {
      "needs_background": "light"
     },
     "output_type": "display_data"
    }
   ],
   "source": [
    "df.plot('Date and Time','I: Vol. Pump A2')"
   ]
  },
  {
   "cell_type": "code",
   "execution_count": 16,
   "id": "separated-integer",
   "metadata": {},
   "outputs": [
    {
     "data": {
      "text/plain": [
       "<AxesSubplot:xlabel='Date and Time'>"
      ]
     },
     "execution_count": 16,
     "metadata": {},
     "output_type": "execute_result"
    },
    {
     "data": {
      "image/png": "[encoded data removed]",
      "text/plain": [
       "<Figure size 432x288 with 1 Axes>"
      ]
     },
     "metadata": {
      "needs_background": "light"
     },
     "output_type": "display_data"
    }
   ],
   "source": [
    "df.plot('Date and Time','I: Vol. Pump A1')"
   ]
  },
  {
   "cell_type": "code",
   "execution_count": 17,
   "id": "architectural-brief",
   "metadata": {},
   "outputs": [
    {
     "data": {
      "text/plain": [
       "<AxesSubplot:xlabel='Date and Time'>"
      ]
     },
     "execution_count": 17,
     "metadata": {},
     "output_type": "execute_result"
    },
    {
     "data": {
      "image/png": "[encoded data removed]",
      "text/plain": [
       "<Figure size 432x288 with 1 Axes>"
      ]
     },
     "metadata": {
      "needs_background": "light"
     },
     "output_type": "display_data"
    }
   ],
   "source": [
    "df.plot('Date and Time','I: Vol. Pump A4')"
   ]
  },
  {
   "cell_type": "code",
   "execution_count": 19,
   "id": "level-monitoring",
   "metadata": {},
   "outputs": [
    {
     "data": {
      "text/plain": [
       "<AxesSubplot:xlabel='Date and Time'>"
      ]
     },
     "execution_count": 19,
     "metadata": {},
     "output_type": "execute_result"
    },
    {
     "data": {
      "image/png": "[encoded data removed]",
      "text/plain": [
       "<Figure size 432x288 with 1 Axes>"
      ]
     },
     "metadata": {
      "needs_background": "light"
     },
     "output_type": "display_data"
    }
   ],
   "source": [
    "df.plot('Date and Time','SP pH')"
   ]
  }
 ],
 "metadata": {
  "kernelspec": {
   "display_name": "Python 3",
   "language": "python",
   "name": "python3"
  },
  "language_info": {
   "codemirror_mode": {
    "name": "ipython",
    "version": 3
   },
   "file_extension": ".py",
   "mimetype": "text/x-python",
   "name": "python",
   "nbconvert_exporter": "python",
   "pygments_lexer": "ipython3",
   "version": "3.8.3"
  }
 },
 "nbformat": 4,
 "nbformat_minor": 5
}
