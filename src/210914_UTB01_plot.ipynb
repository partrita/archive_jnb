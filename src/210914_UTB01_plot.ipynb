{
 "cells": [
  {
   "cell_type": "code",
   "execution_count": 1,
   "id": "44aef3a6",
   "metadata": {},
   "outputs": [
    {
     "name": "stderr",
     "output_type": "stream",
     "text": [
      "also installing the dependencies 'matrixStats', 'zip', 'SparseM', 'MatrixModels', 'conquer', 'sp', 'openxlsx', 'minqa', 'nloptr', 'RcppEigen', 'carData', 'abind', 'pbkrtest', 'quantreg', 'maptools', 'rio', 'lme4', 'ggplot2', 'corrplot', 'car', 'ggrepel', 'ggsci', 'cowplot', 'ggsignif', 'gridExtra', 'polynom', 'rstatix'\n",
      "\n"
     ]
    },
    {
     "name": "stdout",
     "output_type": "stream",
     "text": [
      "\n",
      "  There are binary versions available but the source versions are later:\n",
      "            binary   source needs_compilation\n",
      "matrixStats 0.58.0   0.60.1              TRUE\n",
      "zip          2.1.1    2.2.0              TRUE\n",
      "openxlsx     4.2.3    4.2.4              TRUE\n",
      "quantreg      5.85     5.86              TRUE\n",
      "maptools     1.1-1    1.1-2              TRUE\n",
      "rio         0.5.26   0.5.27             FALSE\n",
      "lme4        1.1-26 1.1-27.1              TRUE\n",
      "ggplot2      3.3.3    3.3.5             FALSE\n",
      "corrplot      0.88     0.90             FALSE\n",
      "car         3.0-10   3.0-11             FALSE\n",
      "ggsignif     0.6.1    0.6.3             FALSE\n",
      "\n",
      "  Binaries will be installed\n",
      "package 'matrixStats' successfully unpacked and MD5 sums checked\n",
      "package 'zip' successfully unpacked and MD5 sums checked\n",
      "package 'SparseM' successfully unpacked and MD5 sums checked\n",
      "package 'MatrixModels' successfully unpacked and MD5 sums checked\n",
      "package 'conquer' successfully unpacked and MD5 sums checked\n",
      "package 'sp' successfully unpacked and MD5 sums checked\n",
      "package 'openxlsx' successfully unpacked and MD5 sums checked\n",
      "package 'minqa' successfully unpacked and MD5 sums checked\n",
      "package 'nloptr' successfully unpacked and MD5 sums checked\n",
      "package 'RcppEigen' successfully unpacked and MD5 sums checked\n",
      "package 'carData' successfully unpacked and MD5 sums checked\n",
      "package 'abind' successfully unpacked and MD5 sums checked\n",
      "package 'pbkrtest' successfully unpacked and MD5 sums checked\n",
      "package 'quantreg' successfully unpacked and MD5 sums checked\n",
      "package 'maptools' successfully unpacked and MD5 sums checked\n",
      "package 'lme4' successfully unpacked and MD5 sums checked\n",
      "package 'ggrepel' successfully unpacked and MD5 sums checked\n",
      "package 'ggsci' successfully unpacked and MD5 sums checked\n",
      "package 'cowplot' successfully unpacked and MD5 sums checked\n",
      "package 'gridExtra' successfully unpacked and MD5 sums checked\n",
      "package 'polynom' successfully unpacked and MD5 sums checked\n",
      "package 'rstatix' successfully unpacked and MD5 sums checked\n",
      "package 'ggpubr' successfully unpacked and MD5 sums checked\n",
      "\n",
      "The downloaded binary packages are in\n",
      "\tC:\\Users\\KimTaeyoon\\AppData\\Local\\Temp\\Rtmp8K1rVM\\downloaded_packages\n"
     ]
    },
    {
     "name": "stderr",
     "output_type": "stream",
     "text": [
      "installing the source packages 'rio', 'ggplot2', 'corrplot', 'car', 'ggsignif'\n",
      "\n"
     ]
    }
   ],
   "source": [
    "install.packages(\"ggpubr\")"
   ]
  },
  {
   "cell_type": "code",
   "execution_count": 2,
   "id": "725615c9",
   "metadata": {},
   "outputs": [
    {
     "name": "stderr",
     "output_type": "stream",
     "text": [
      "Loading required package: ggplot2\n"
     ]
    }
   ],
   "source": [
    "library(\"ggpubr\")"
   ]
  },
  {
   "cell_type": "code",
   "execution_count": 7,
   "id": "cb8155cc",
   "metadata": {},
   "outputs": [
    {
     "data": {
      "text/html": [
       "<table class=\"dataframe\">\n",
       "<caption>A data.frame: 4 × 3</caption>\n",
       "<thead>\n",
       "\t<tr><th scope=col>PB101</th><th scope=col>scFv</th><th scope=col>purity</th></tr>\n",
       "\t<tr><th scope=col>&lt;fct&gt;</th><th scope=col>&lt;fct&gt;</th><th scope=col>&lt;dbl&gt;</th></tr>\n",
       "</thead>\n",
       "<tbody>\n",
       "\t<tr><td>H-11A1 </td><td>Panitumumab</td><td>41.50</td></tr>\n",
       "\t<tr><td>H-11A1 </td><td>Trastzumab </td><td>47.38</td></tr>\n",
       "\t<tr><td>H-01C49</td><td>Panitumumab</td><td>43.90</td></tr>\n",
       "\t<tr><td>H-01C49</td><td>Trastzumab </td><td>65.40</td></tr>\n",
       "</tbody>\n",
       "</table>\n"
      ],
      "text/latex": [
       "A data.frame: 4 × 3\n",
       "\\begin{tabular}{lll}\n",
       " PB101 & scFv & purity\\\\\n",
       " <fct> & <fct> & <dbl>\\\\\n",
       "\\hline\n",
       "\t H-11A1  & Panitumumab & 41.50\\\\\n",
       "\t H-11A1  & Trastzumab  & 47.38\\\\\n",
       "\t H-01C49 & Panitumumab & 43.90\\\\\n",
       "\t H-01C49 & Trastzumab  & 65.40\\\\\n",
       "\\end{tabular}\n"
      ],
      "text/markdown": [
       "\n",
       "A data.frame: 4 × 3\n",
       "\n",
       "| PB101 &lt;fct&gt; | scFv &lt;fct&gt; | purity &lt;dbl&gt; |\n",
       "|---|---|---|\n",
       "| H-11A1  | Panitumumab | 41.50 |\n",
       "| H-11A1  | Trastzumab  | 47.38 |\n",
       "| H-01C49 | Panitumumab | 43.90 |\n",
       "| H-01C49 | Trastzumab  | 65.40 |\n",
       "\n"
      ],
      "text/plain": [
       "  PB101   scFv        purity\n",
       "1 H-11A1  Panitumumab 41.50 \n",
       "2 H-11A1  Trastzumab  47.38 \n",
       "3 H-01C49 Panitumumab 43.90 \n",
       "4 H-01C49 Trastzumab  65.40 "
      ]
     },
     "metadata": {},
     "output_type": "display_data"
    }
   ],
   "source": [
    "df2 <- data.frame(\n",
    "    PB101=rep(c(\"H-11A1\", \"H-01C49\"), each=2),\n",
    "    scFv=rep(c(\"Panitumumab\", \"Trastzumab\"),2),\n",
    "    purity=c(41.5, 47.38, 43.90, 65.40))\n",
    "\n",
    "df2"
   ]
  },
  {
   "cell_type": "code",
   "execution_count": 9,
   "id": "612f3361",
   "metadata": {},
   "outputs": [],
   "source": [
    "p1 <- ggbarplot(df2, \"PB101\", \"purity\",\n",
    "        fill = \"svFv\", color = \"svFv\", palette = \"Paired\",\n",
    "        position = position_dodge(0.8))"
   ]
  },
  {
   "cell_type": "code",
   "execution_count": 17,
   "id": "c03fb3c4",
   "metadata": {},
   "outputs": [
    {
     "data": {
      "image/png": "[encoded data removed]",
      "text/plain": [
       "plot without title"
      ]
     },
     "metadata": {},
     "output_type": "display_data"
    }
   ],
   "source": [
    "ggbarplot(df2, \"scFv\", \"purity\",\n",
    "        fill = \"PB101\", color = \"PB101\", palette = \"Paired\",\n",
    "#         sort.val = \"asc\", \n",
    "        position = position_dodge(0.8))"
   ]
  },
  {
   "cell_type": "code",
   "execution_count": 22,
   "id": "ce4cebb3",
   "metadata": {},
   "outputs": [
    {
     "data": {
      "text/html": [
       "<table class=\"dataframe\">\n",
       "<caption>A data.frame: 4 × 3</caption>\n",
       "<thead>\n",
       "\t<tr><th scope=col>scFv</th><th scope=col>PB101</th><th scope=col>purity</th></tr>\n",
       "\t<tr><th scope=col>&lt;fct&gt;</th><th scope=col>&lt;fct&gt;</th><th scope=col>&lt;dbl&gt;</th></tr>\n",
       "</thead>\n",
       "<tbody>\n",
       "\t<tr><td>Panitumumab</td><td>H-11A1 </td><td>41.50</td></tr>\n",
       "\t<tr><td>Panitumumab</td><td>H-01C49</td><td>47.38</td></tr>\n",
       "\t<tr><td>Trastzumab </td><td>H-11A1 </td><td>43.90</td></tr>\n",
       "\t<tr><td>Trastzumab </td><td>H-01C49</td><td>65.40</td></tr>\n",
       "</tbody>\n",
       "</table>\n"
      ],
      "text/latex": [
       "A data.frame: 4 × 3\n",
       "\\begin{tabular}{lll}\n",
       " scFv & PB101 & purity\\\\\n",
       " <fct> & <fct> & <dbl>\\\\\n",
       "\\hline\n",
       "\t Panitumumab & H-11A1  & 41.50\\\\\n",
       "\t Panitumumab & H-01C49 & 47.38\\\\\n",
       "\t Trastzumab  & H-11A1  & 43.90\\\\\n",
       "\t Trastzumab  & H-01C49 & 65.40\\\\\n",
       "\\end{tabular}\n"
      ],
      "text/markdown": [
       "\n",
       "A data.frame: 4 × 3\n",
       "\n",
       "| scFv &lt;fct&gt; | PB101 &lt;fct&gt; | purity &lt;dbl&gt; |\n",
       "|---|---|---|\n",
       "| Panitumumab | H-11A1  | 41.50 |\n",
       "| Panitumumab | H-01C49 | 47.38 |\n",
       "| Trastzumab  | H-11A1  | 43.90 |\n",
       "| Trastzumab  | H-01C49 | 65.40 |\n",
       "\n"
      ],
      "text/plain": [
       "  scFv        PB101   purity\n",
       "1 Panitumumab H-11A1  41.50 \n",
       "2 Panitumumab H-01C49 47.38 \n",
       "3 Trastzumab  H-11A1  43.90 \n",
       "4 Trastzumab  H-01C49 65.40 "
      ]
     },
     "metadata": {},
     "output_type": "display_data"
    }
   ],
   "source": [
    "df<- data.frame(\n",
    "    scFv=rep(c(\"Panitumumab\", \"Trastzumab\"), each=2),\n",
    "    PB101=rep(c(\"H-11A1\", \"H-01C49\"),2),\n",
    "    purity=c(41.5, 47.38, 43.90, 65.40))\n",
    "\n",
    "df$PB101 <- factor(df$PB101, levels = c(\"H-11A1\",\"H-01C49\"))\n",
    "\n",
    "df"
   ]
  },
  {
   "cell_type": "code",
   "execution_count": 23,
   "id": "77cef043",
   "metadata": {},
   "outputs": [
    {
     "data": {
      "image/png": "[encoded data removed]",
      "text/plain": [
       "plot without title"
      ]
     },
     "metadata": {},
     "output_type": "display_data"
    }
   ],
   "source": [
    "ggbarplot(df, \"scFv\", \"purity\",\n",
    "        fill = \"PB101\", color = \"PB101\", palette = \"Paired\", \n",
    "        position = position_dodge(0.8))"
   ]
  }
 ],
 "metadata": {
  "kernelspec": {
   "display_name": "R",
   "language": "R",
   "name": "ir"
  },
  "language_info": {
   "codemirror_mode": "r",
   "file_extension": ".r",
   "mimetype": "text/x-r-source",
   "name": "R",
   "pygments_lexer": "r",
   "version": "3.6.3"
  }
 },
 "nbformat": 4,
 "nbformat_minor": 5
}
