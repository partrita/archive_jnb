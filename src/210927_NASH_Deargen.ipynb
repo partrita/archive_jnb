{
 "cells": [
  {
   "cell_type": "code",
   "execution_count": 4,
   "id": "13779db7-191a-4695-aff7-be9a5618d4e0",
   "metadata": {},
   "outputs": [
    {
     "data": {
      "text/html": [
       "<div><div id=55eeb479-223d-4f16-8215-91b1ec031f08 style=\"display:none; background-color:#9D6CFF; color:white; width:200px; height:30px; padding-left:5px; border-radius:4px; flex-direction:row; justify-content:space-around; align-items:center;\" onmouseover=\"this.style.backgroundColor='#BA9BF8'\" onmouseout=\"this.style.backgroundColor='#9D6CFF'\" onclick=\"window.commands?.execute('create-mitosheet-from-dataframe-output');\">Open in Mito</div> <script> if (window.commands.hasCommand('create-mitosheet-from-dataframe-output')) document.getElementById('55eeb479-223d-4f16-8215-91b1ec031f08').style.display = 'flex' </script> <table border=\"1\" class=\"dataframe\">\n",
       "  <thead>\n",
       "    <tr style=\"text-align: right;\">\n",
       "      <th></th>\n",
       "      <th>GN</th>\n",
       "      <th>hgnc_symbol</th>\n",
       "      <th>early_NASH.Mean</th>\n",
       "      <th>advanced_NASH.Mean</th>\n",
       "      <th>baseMean</th>\n",
       "      <th>log2FoldChange</th>\n",
       "      <th>lfcSE</th>\n",
       "      <th>stat</th>\n",
       "      <th>pvalue</th>\n",
       "      <th>padj</th>\n",
       "      <th>wx_rank</th>\n",
       "    </tr>\n",
       "  </thead>\n",
       "  <tbody>\n",
       "    <tr>\n",
       "      <th>0</th>\n",
       "      <td>ENSG00000000003</td>\n",
       "      <td>TSPAN6</td>\n",
       "      <td>2.644419</td>\n",
       "      <td>3.178566</td>\n",
       "      <td>2.866090</td>\n",
       "      <td>0.266757</td>\n",
       "      <td>0.296147</td>\n",
       "      <td>0.900757</td>\n",
       "      <td>0.367717</td>\n",
       "      <td>0.999971</td>\n",
       "      <td>35663.0</td>\n",
       "    </tr>\n",
       "    <tr>\n",
       "      <th>1</th>\n",
       "      <td>ENSG00000000005</td>\n",
       "      <td>TNMD</td>\n",
       "      <td>0.123901</td>\n",
       "      <td>0.139905</td>\n",
       "      <td>0.130543</td>\n",
       "      <td>-0.008625</td>\n",
       "      <td>0.700324</td>\n",
       "      <td>-0.012315</td>\n",
       "      <td>0.990174</td>\n",
       "      <td>0.999971</td>\n",
       "      <td>18090.0</td>\n",
       "    </tr>\n",
       "    <tr>\n",
       "      <th>2</th>\n",
       "      <td>ENSG00000000419</td>\n",
       "      <td>DPM1</td>\n",
       "      <td>1.899148</td>\n",
       "      <td>1.920583</td>\n",
       "      <td>1.908044</td>\n",
       "      <td>0.011519</td>\n",
       "      <td>0.284299</td>\n",
       "      <td>0.040516</td>\n",
       "      <td>0.967682</td>\n",
       "      <td>0.999971</td>\n",
       "      <td>33972.0</td>\n",
       "    </tr>\n",
       "    <tr>\n",
       "      <th>3</th>\n",
       "      <td>ENSG00000000457</td>\n",
       "      <td>SCYL3</td>\n",
       "      <td>20.550444</td>\n",
       "      <td>21.565559</td>\n",
       "      <td>20.971717</td>\n",
       "      <td>0.071856</td>\n",
       "      <td>0.075127</td>\n",
       "      <td>0.956456</td>\n",
       "      <td>0.338842</td>\n",
       "      <td>0.999971</td>\n",
       "      <td>1593.0</td>\n",
       "    </tr>\n",
       "    <tr>\n",
       "      <th>4</th>\n",
       "      <td>ENSG00000000460</td>\n",
       "      <td>C1orf112</td>\n",
       "      <td>44.449158</td>\n",
       "      <td>46.372151</td>\n",
       "      <td>45.247200</td>\n",
       "      <td>0.061458</td>\n",
       "      <td>0.041394</td>\n",
       "      <td>1.484703</td>\n",
       "      <td>0.137622</td>\n",
       "      <td>0.999971</td>\n",
       "      <td>833.0</td>\n",
       "    </tr>\n",
       "  </tbody>\n",
       "</table></div>"
      ],
      "text/plain": [
       "                GN hgnc_symbol  early_NASH.Mean  advanced_NASH.Mean  \\\n",
       "0  ENSG00000000003      TSPAN6         2.644419            3.178566   \n",
       "1  ENSG00000000005        TNMD         0.123901            0.139905   \n",
       "2  ENSG00000000419        DPM1         1.899148            1.920583   \n",
       "3  ENSG00000000457       SCYL3        20.550444           21.565559   \n",
       "4  ENSG00000000460    C1orf112        44.449158           46.372151   \n",
       "\n",
       "    baseMean  log2FoldChange     lfcSE      stat    pvalue      padj  wx_rank  \n",
       "0   2.866090        0.266757  0.296147  0.900757  0.367717  0.999971  35663.0  \n",
       "1   0.130543       -0.008625  0.700324 -0.012315  0.990174  0.999971  18090.0  \n",
       "2   1.908044        0.011519  0.284299  0.040516  0.967682  0.999971  33972.0  \n",
       "3  20.971717        0.071856  0.075127  0.956456  0.338842  0.999971   1593.0  \n",
       "4  45.247200        0.061458  0.041394  1.484703  0.137622  0.999971    833.0  "
      ]
     },
     "execution_count": 4,
     "metadata": {},
     "output_type": "execute_result"
    }
   ],
   "source": [
    "import seaborn as sns\n",
    "import matplotlib.pyplot as plt\n",
    "%matplotlib inline\n",
    "%config InlineBackend.figure_format='retina'\n",
    "import pandas as pd\n",
    "\n",
    "df = pd.read_csv('./INPUT/210927_early_NASH_vs_advanced_NASH.csv')\n",
    "df.head()"
   ]
  },
  {
   "cell_type": "code",
   "execution_count": 3,
   "id": "b97888cc-edc0-4acf-a94c-21daebcf77ff",
   "metadata": {},
   "outputs": [
    {
     "data": {
      "application/vnd.jupyter.widget-view+json": {
       "model_id": "f23843307a774c0086a30c2c56f7d833",
       "version_major": 2,
       "version_minor": 0
      },
      "text/plain": [
       "MitoWidget(analysis_name='UUID-5a6b95a2-fb1b-4fae-a3d1-ada12ee419c7', code_json='{\"imports\": \"from mitosheet i…"
      ]
     },
     "metadata": {},
     "output_type": "display_data"
    }
   ],
   "source": [
    "import mitosheet\n",
    "mitosheet.sheet()"
   ]
  },
  {
   "cell_type": "code",
   "execution_count": 6,
   "id": "7a7e8376-b4df-47a6-90e1-dba5308c9afc",
   "metadata": {},
   "outputs": [],
   "source": [
    "# MITO CODE START (DO NOT EDIT)\n",
    "\n",
    "from mitosheet import * # Import necessary functions from Mito\n",
    "register_analysis('UUID-5a6b95a2-fb1b-4fae-a3d1-ada12ee419c7') # Let Mito know which analysis is being run\n",
    "\n",
    "# Imported C:\\Users\\KimTaeyoon\\Documents\\Jupyter_note\\INPUT\\210927_early_NASH_vs_advanced_NASH.csv\n",
    "import pandas as pd\n",
    "df = pd.read_csv(r'C:\\Users\\KimTaeyoon\\Documents\\Jupyter_note\\INPUT\\210927_early_NASH_vs_advanced_NASH.csv')\n",
    "\n",
    "  \n",
    "# MITO CODE END (DO NOT EDIT)"
   ]
  },
  {
   "cell_type": "code",
   "execution_count": 7,
   "id": "3d72148a-c62e-46c4-b4c4-2d02fcdc983a",
   "metadata": {},
   "outputs": [
    {
     "data": {
      "text/html": [
       "<div><div id=6891808b-5b84-49e2-995a-656d6c8eb898 style=\"display:none; background-color:#9D6CFF; color:white; width:200px; height:30px; padding-left:5px; border-radius:4px; flex-direction:row; justify-content:space-around; align-items:center;\" onmouseover=\"this.style.backgroundColor='#BA9BF8'\" onmouseout=\"this.style.backgroundColor='#9D6CFF'\" onclick=\"window.commands?.execute('create-mitosheet-from-dataframe-output');\">Open in Mito</div> <script> if (window.commands.hasCommand('create-mitosheet-from-dataframe-output')) document.getElementById('6891808b-5b84-49e2-995a-656d6c8eb898').style.display = 'flex' </script> <table border=\"1\" class=\"dataframe\">\n",
       "  <thead>\n",
       "    <tr style=\"text-align: right;\">\n",
       "      <th></th>\n",
       "      <th>GN</th>\n",
       "      <th>hgnc_symbol</th>\n",
       "      <th>early_NASH.Mean</th>\n",
       "      <th>advanced_NASH.Mean</th>\n",
       "      <th>baseMean</th>\n",
       "      <th>log2FoldChange</th>\n",
       "      <th>lfcSE</th>\n",
       "      <th>stat</th>\n",
       "      <th>pvalue</th>\n",
       "      <th>padj</th>\n",
       "      <th>wx_rank</th>\n",
       "    </tr>\n",
       "  </thead>\n",
       "  <tbody>\n",
       "    <tr>\n",
       "      <th>0</th>\n",
       "      <td>ENSG00000000003</td>\n",
       "      <td>TSPAN6</td>\n",
       "      <td>2.644419</td>\n",
       "      <td>3.178566</td>\n",
       "      <td>2.866090</td>\n",
       "      <td>0.266757</td>\n",
       "      <td>0.296147</td>\n",
       "      <td>0.900757</td>\n",
       "      <td>0.367717</td>\n",
       "      <td>0.999971</td>\n",
       "      <td>35663.0</td>\n",
       "    </tr>\n",
       "    <tr>\n",
       "      <th>1</th>\n",
       "      <td>ENSG00000000005</td>\n",
       "      <td>TNMD</td>\n",
       "      <td>0.123901</td>\n",
       "      <td>0.139905</td>\n",
       "      <td>0.130543</td>\n",
       "      <td>-0.008625</td>\n",
       "      <td>0.700324</td>\n",
       "      <td>-0.012315</td>\n",
       "      <td>0.990174</td>\n",
       "      <td>0.999971</td>\n",
       "      <td>18090.0</td>\n",
       "    </tr>\n",
       "    <tr>\n",
       "      <th>2</th>\n",
       "      <td>ENSG00000000419</td>\n",
       "      <td>DPM1</td>\n",
       "      <td>1.899148</td>\n",
       "      <td>1.920583</td>\n",
       "      <td>1.908044</td>\n",
       "      <td>0.011519</td>\n",
       "      <td>0.284299</td>\n",
       "      <td>0.040516</td>\n",
       "      <td>0.967682</td>\n",
       "      <td>0.999971</td>\n",
       "      <td>33972.0</td>\n",
       "    </tr>\n",
       "    <tr>\n",
       "      <th>3</th>\n",
       "      <td>ENSG00000000457</td>\n",
       "      <td>SCYL3</td>\n",
       "      <td>20.550444</td>\n",
       "      <td>21.565559</td>\n",
       "      <td>20.971717</td>\n",
       "      <td>0.071856</td>\n",
       "      <td>0.075127</td>\n",
       "      <td>0.956456</td>\n",
       "      <td>0.338842</td>\n",
       "      <td>0.999971</td>\n",
       "      <td>1593.0</td>\n",
       "    </tr>\n",
       "    <tr>\n",
       "      <th>4</th>\n",
       "      <td>ENSG00000000460</td>\n",
       "      <td>C1orf112</td>\n",
       "      <td>44.449158</td>\n",
       "      <td>46.372151</td>\n",
       "      <td>45.247200</td>\n",
       "      <td>0.061458</td>\n",
       "      <td>0.041394</td>\n",
       "      <td>1.484703</td>\n",
       "      <td>0.137622</td>\n",
       "      <td>0.999971</td>\n",
       "      <td>833.0</td>\n",
       "    </tr>\n",
       "  </tbody>\n",
       "</table></div>"
      ],
      "text/plain": [
       "                GN hgnc_symbol  early_NASH.Mean  advanced_NASH.Mean  \\\n",
       "0  ENSG00000000003      TSPAN6         2.644419            3.178566   \n",
       "1  ENSG00000000005        TNMD         0.123901            0.139905   \n",
       "2  ENSG00000000419        DPM1         1.899148            1.920583   \n",
       "3  ENSG00000000457       SCYL3        20.550444           21.565559   \n",
       "4  ENSG00000000460    C1orf112        44.449158           46.372151   \n",
       "\n",
       "    baseMean  log2FoldChange     lfcSE      stat    pvalue      padj  wx_rank  \n",
       "0   2.866090        0.266757  0.296147  0.900757  0.367717  0.999971  35663.0  \n",
       "1   0.130543       -0.008625  0.700324 -0.012315  0.990174  0.999971  18090.0  \n",
       "2   1.908044        0.011519  0.284299  0.040516  0.967682  0.999971  33972.0  \n",
       "3  20.971717        0.071856  0.075127  0.956456  0.338842  0.999971   1593.0  \n",
       "4  45.247200        0.061458  0.041394  1.484703  0.137622  0.999971    833.0  "
      ]
     },
     "execution_count": 7,
     "metadata": {},
     "output_type": "execute_result"
    }
   ],
   "source": [
    "df.head()"
   ]
  },
  {
   "cell_type": "code",
   "execution_count": 18,
   "id": "308c5998-b309-45bb-be42-d632d430294d",
   "metadata": {
    "scrolled": true,
    "tags": []
   },
   "outputs": [
    {
     "data": {
      "image/png": "[encoded data removed]",
      "text/plain": [
       "<Figure size 864x864 with 1 Axes>"
      ]
     },
     "metadata": {
      "image/png": {
       "height": 696,
       "width": 722
      },
      "needs_background": "light"
     },
     "output_type": "display_data"
    }
   ],
   "source": [
    "plt.figure(figsize=(12, 12))\n",
    "plt.scatter(df['baseMean'], df['wx_rank'])\n",
    "plt.xlabel('baseMean')\n",
    "plt.ylabel('wx_rank')\n",
    "# plt.xscale(\"log\")\n",
    "plt.yscale(\"log\")"
   ]
  },
  {
   "cell_type": "code",
   "execution_count": 20,
   "id": "eb7bdd8c-e9e4-4016-84ee-fb927b371850",
   "metadata": {
    "collapsed": true,
    "jupyter": {
     "outputs_hidden": true
    },
    "tags": []
   },
   "outputs": [
    {
     "data": {
      "text/html": [
       "<iframe\n",
       "    scrolling=\"no\"\n",
       "    width=\"100%\"\n",
       "    height=\"545px\"\n",
       "    src=\"iframe_figures/figure_20.html\"\n",
       "    frameborder=\"0\"\n",
       "    allowfullscreen\n",
       "></iframe>\n"
      ]
     },
     "metadata": {},
     "output_type": "display_data"
    }
   ],
   "source": [
    "# Import plotly and create a figure\n",
    "import plotly.graph_objects as go\n",
    "fig = go.Figure()\n",
    "\n",
    "\n",
    "# Filter the dataframe so that it doesn't crash the browser with too much data\n",
    "from mitosheet import filter_df_to_safe_size\n",
    "df_210927_early_NASH_vs_advanced_NASH_csv_filtered, _ = filter_df_to_safe_size('scatter', df_210927_early_NASH_vs_advanced_NASH_csv, ['pvalue', 'log2FoldChange'])\n",
    "\n",
    "\n",
    "# Add the scatter traces to the figure\n",
    "for column_header in ['pvalue']:\n",
    "    fig.add_trace(go.Scatter(\n",
    "        x=df_210927_early_NASH_vs_advanced_NASH_csv_filtered[column_header],\n",
    "        y=df_210927_early_NASH_vs_advanced_NASH_csv_filtered['log2FoldChange'],\n",
    "        mode='markers',\n",
    "        name=column_header\n",
    "    ))\n",
    "\n",
    "# Update the layout\n",
    "# See Plotly documentation for cutomizations: https://plotly.com/python/reference/scatter/\n",
    "fig.update_layout(\n",
    "    xaxis_title='pvalue',\n",
    "    yaxis_title='log2FoldChange',\n",
    "    title='pvalue, log2FoldChange (first 10k) scatter plot',\n",
    ")\n",
    "fig.show(renderer=\"iframe\")"
   ]
  }
 ],
 "metadata": {
  "kernelspec": {
   "display_name": "Python 3",
   "language": "python",
   "name": "python3"
  },
  "language_info": {
   "codemirror_mode": {
    "name": "ipython",
    "version": 3
   },
   "file_extension": ".py",
   "mimetype": "text/x-python",
   "name": "python",
   "nbconvert_exporter": "python",
   "pygments_lexer": "ipython3",
   "version": "3.8.3"
  }
 },
 "nbformat": 4,
 "nbformat_minor": 5
}
