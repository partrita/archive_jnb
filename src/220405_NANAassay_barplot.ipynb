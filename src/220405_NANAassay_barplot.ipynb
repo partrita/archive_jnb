{
 "cells": [
  {
   "cell_type": "code",
   "execution_count": 1,
   "id": "cd456af8-4e7a-41dd-ad28-86e9c1f856a3",
   "metadata": {},
   "outputs": [
    {
     "name": "stderr",
     "output_type": "stream",
     "text": [
      "-- \u001b[1mAttaching packages\u001b[22m --------------------------------------------------------------------- tidyverse 1.3.1 --\n",
      "\u001b[32mv\u001b[39m \u001b[34mggplot2\u001b[39m 3.3.5     \u001b[32mv\u001b[39m \u001b[34mpurrr  \u001b[39m 0.3.4\n",
      "\u001b[32mv\u001b[39m \u001b[34mtibble \u001b[39m 3.1.2     \u001b[32mv\u001b[39m \u001b[34mdplyr  \u001b[39m 1.0.6\n",
      "\u001b[32mv\u001b[39m \u001b[34mtidyr  \u001b[39m 1.1.3     \u001b[32mv\u001b[39m \u001b[34mstringr\u001b[39m 1.4.0\n",
      "\u001b[32mv\u001b[39m \u001b[34mreadr  \u001b[39m 1.4.0     \u001b[32mv\u001b[39m \u001b[34mforcats\u001b[39m 0.5.1\n",
      "-- \u001b[1mConflicts\u001b[22m ------------------------------------------------------------------------ tidyverse_conflicts() --\n",
      "\u001b[31mx\u001b[39m \u001b[34mdplyr\u001b[39m::\u001b[32mfilter()\u001b[39m masks \u001b[34mstats\u001b[39m::filter()\n",
      "\u001b[31mx\u001b[39m \u001b[34mdplyr\u001b[39m::\u001b[32mlag()\u001b[39m    masks \u001b[34mstats\u001b[39m::lag()\n"
     ]
    }
   ],
   "source": [
    "library(tidyverse)\n",
    "library(ggplot2)"
   ]
  },
  {
   "cell_type": "code",
   "execution_count": 2,
   "id": "24848944-3b02-40ba-ac62-86723f6432d6",
   "metadata": {},
   "outputs": [
    {
     "data": {
      "text/html": [
       "<table class=\"dataframe\">\n",
       "<caption>A data.frame: 5 × 2</caption>\n",
       "<thead>\n",
       "\t<tr><th></th><th scope=col>Name</th><th scope=col>Area</th></tr>\n",
       "\t<tr><th></th><th scope=col>&lt;fct&gt;</th><th scope=col>&lt;dbl&gt;</th></tr>\n",
       "</thead>\n",
       "<tbody>\n",
       "\t<tr><th scope=row>1</th><td>Zaltrap   </td><td>2044967273</td></tr>\n",
       "\t<tr><th scope=row>2</th><td>GMP-DP    </td><td>2333392492</td></tr>\n",
       "\t<tr><th scope=row>3</th><td>GMP-DS    </td><td>1429166951</td></tr>\n",
       "\t<tr><th scope=row>4</th><td>Panolos-DS</td><td>2776436525</td></tr>\n",
       "\t<tr><th scope=row>5</th><td>MSR-DS    </td><td>1189386044</td></tr>\n",
       "</tbody>\n",
       "</table>\n"
      ],
      "text/latex": [
       "A data.frame: 5 × 2\n",
       "\\begin{tabular}{r|ll}\n",
       "  & Name & Area\\\\\n",
       "  & <fct> & <dbl>\\\\\n",
       "\\hline\n",
       "\t1 & Zaltrap    & 2044967273\\\\\n",
       "\t2 & GMP-DP     & 2333392492\\\\\n",
       "\t3 & GMP-DS     & 1429166951\\\\\n",
       "\t4 & Panolos-DS & 2776436525\\\\\n",
       "\t5 & MSR-DS     & 1189386044\\\\\n",
       "\\end{tabular}\n"
      ],
      "text/markdown": [
       "\n",
       "A data.frame: 5 × 2\n",
       "\n",
       "| <!--/--> | Name &lt;fct&gt; | Area &lt;dbl&gt; |\n",
       "|---|---|---|\n",
       "| 1 | Zaltrap    | 2044967273 |\n",
       "| 2 | GMP-DP     | 2333392492 |\n",
       "| 3 | GMP-DS     | 1429166951 |\n",
       "| 4 | Panolos-DS | 2776436525 |\n",
       "| 5 | MSR-DS     | 1189386044 |\n",
       "\n"
      ],
      "text/plain": [
       "  Name       Area      \n",
       "1 Zaltrap    2044967273\n",
       "2 GMP-DP     2333392492\n",
       "3 GMP-DS     1429166951\n",
       "4 Panolos-DS 2776436525\n",
       "5 MSR-DS     1189386044"
      ]
     },
     "metadata": {},
     "output_type": "display_data"
    }
   ],
   "source": [
    "data1 = data.frame(\n",
    "    Name=c(\n",
    "        \"Zaltrap\",\"GMP-DP\",\"GMP-DS\",\"Panolos-DS\",\"MSR-DS\"),\n",
    "    Area=c(\n",
    "        2044967273,\n",
    "        2333392492,\n",
    "        1429166951,\n",
    "        2776436525,\n",
    "        1189386044))\n",
    "head(data1)\n",
    "        "
   ]
  },
  {
   "cell_type": "code",
   "execution_count": 8,
   "id": "926c8d76-5f7b-4098-a064-ecbd418302e7",
   "metadata": {},
   "outputs": [
    {
     "data": {
      "image/png": "[encoded data removed]",
      "text/plain": [
       "plot without title"
      ]
     },
     "metadata": {},
     "output_type": "display_data"
    }
   ],
   "source": [
    "p <- ggplot(data=data1, aes(x=Name, y=Area)) + geom_bar(stat='identity')\n",
    "p"
   ]
  },
  {
   "cell_type": "code",
   "execution_count": 9,
   "id": "22c7b81f-ae84-4957-b6e7-7fa60b36c9c0",
   "metadata": {},
   "outputs": [
    {
     "data": {
      "image/png": "[encoded data removed]",
      "text/plain": [
       "plot without title"
      ]
     },
     "metadata": {},
     "output_type": "display_data"
    }
   ],
   "source": [
    "data2 = data.frame(\n",
    "    Name=c(\n",
    "        \"inhouse_PB101\",\"H-01C61\",\"H-01C65\",\"PB101\"),\n",
    "    Area=c(\n",
    "        598439535,\n",
    "        1344635149,\n",
    "        1398562808,\n",
    "        1210658465))\n",
    "\n",
    "p <- ggplot(data=data2, aes(x=Name, y=Area)) + geom_bar(stat='identity')\n",
    "p"
   ]
  }
 ],
 "metadata": {
  "kernelspec": {
   "display_name": "R",
   "language": "R",
   "name": "ir"
  },
  "language_info": {
   "codemirror_mode": "r",
   "file_extension": ".r",
   "mimetype": "text/x-r-source",
   "name": "R",
   "pygments_lexer": "r",
   "version": "3.6.3"
  }
 },
 "nbformat": 4,
 "nbformat_minor": 5
}
