{
 "cells": [
  {
   "cell_type": "markdown",
   "id": "5e2ce306",
   "metadata": {},
   "source": [
    "# PB101 stability test plotting\n",
    "\n"
   ]
  },
  {
   "cell_type": "code",
   "execution_count": null,
   "id": "8c098168",
   "metadata": {},
   "outputs": [],
   "source": [
    "import pandas as pd\n",
    "import matplotlib.pyplot as plt\n",
    "import seaborn as sns\n",
    "sns.set_theme()\n",
    "# (style=\"ticks\")\n",
    "sns.set_style(\"darkgrid\")\n",
    "\n",
    "def stability_plot(x, y, col, xlim, ylim ):\n",
    "    g = sns.lmplot(x=x, y=y, col=col, hue=\"Product type\", data=df,\n",
    "           col_wrap=2, ci=None, palette=\"muted\", height=4, scatter_kws={\"s\": 50, \"alpha\": 0.8})\n",
    "    g.set(xlim=xlim, ylim=ylim)\n",
    "    return g\n",
    "\n",
    "df = pd.read_csv(\"./INPUT/220324_PB101_Stability_2.csv\", index_col=None)\n",
    "df.head()"
   ]
  },
  {
   "cell_type": "code",
   "execution_count": null,
   "id": "256a8ca0",
   "metadata": {},
   "outputs": [],
   "source": [
    "df.columns"
   ]
  },
  {
   "cell_type": "code",
   "execution_count": null,
   "id": "aeb1d39a",
   "metadata": {},
   "outputs": [],
   "source": [
    "df_nonGMP = df[df['Grade'] == \"NonGMP\"]\n",
    "df_GMP = df[df['Grade'] == \"GMP\"]\n",
    "\n",
    "df_GMP.head()"
   ]
  },
  {
   "cell_type": "code",
   "execution_count": null,
   "id": "f05ecc24",
   "metadata": {},
   "outputs": [],
   "source": [
    "g = sns.lmplot(x=\"TimePoint(months)\", y=\"Potency(%)\", col=\"StorageTemp\", hue=\"Grade\", data=df,\n",
    "           col_wrap=3, ci=None, palette=\"muted\", height=4,\n",
    "           scatter_kws={\"s\": 50, \"alpha\": 0.8}\n",
    "          )\n",
    "g.set(xlim=(-1, 12), ylim=(60, 140),\n",
    "#       xticks=[10, 30, 50], yticks=[2, 6, 10]\n",
    "     )\n",
    "# g.map(plt.axhline, y=70, ls='--', c='red')"
   ]
  },
  {
   "cell_type": "code",
   "execution_count": null,
   "id": "6b12d087",
   "metadata": {},
   "outputs": [],
   "source": [
    "g = sns.lmplot(x=\"TimePoint(months)\", y=\"SE-HPLC(monomer%)\", col=\"StorageTemp\", hue=\"Grade\", data=df,\n",
    "           col_wrap=3, ci=None, palette=\"muted\", height=4,\n",
    "           scatter_kws={\"s\": 50, \"alpha\": 0.8}\n",
    "          )\n",
    "g.set(xlim=(-1, 12), ylim=(90, 100),\n",
    "#       xticks=[10, 30, 50],\n",
    "      yticks=[90,95,100]\n",
    "     )\n",
    "# g.map(plt.axhline, y=95, ls='--', c='red')"
   ]
  },
  {
   "cell_type": "code",
   "execution_count": null,
   "id": "57b56495",
   "metadata": {},
   "outputs": [],
   "source": [
    "import pandas as pd\n",
    "import matplotlib.pyplot as plt\n",
    "import seaborn as sns\n",
    "\n",
    "\n",
    "df = pd.read_csv(\"./INPUT/0329_PB101_StabilityTest_Summary.csv\", index_col=None)\n",
    "df.head()"
   ]
  },
  {
   "cell_type": "code",
   "execution_count": null,
   "id": "1fba1caa",
   "metadata": {},
   "outputs": [],
   "source": [
    "g = sns.lmplot(x=\"Time\\nPoint\", y=\"Potency\", col=\"Temp\", hue=\"Product type\", data=df,\n",
    "           col_wrap=2, ci=None, palette=\"muted\", height=4, scatter_kws={\"s\": 50, \"alpha\": 0.8})\n",
    "g.set(xlim=(-1, 12), ylim=(0, 120))"
   ]
  },
  {
   "cell_type": "code",
   "execution_count": null,
   "id": "6c7a0723",
   "metadata": {},
   "outputs": [],
   "source": [
    "g = sns.lmplot(x=\"Time\\nPoint\", y=\"SE-HPLC\\n(monomer)\", col=\"Temp\", hue=\"Product type\", data=df,\n",
    "           col_wrap=2, ci=None, palette=\"muted\", height=4, scatter_kws={\"s\": 50, \"alpha\": 0.8})\n",
    "g.set(xlim=(-1, 12), ylim=(70, 120))"
   ]
  },
  {
   "cell_type": "code",
   "execution_count": null,
   "id": "d102885f",
   "metadata": {},
   "outputs": [],
   "source": [
    "g = sns.lmplot(x=\"Time\\nPoint\", y=\"CE-SDS(R)\\n_Purity\", col=\"Temp\", hue=\"Product type\", data=df,\n",
    "           col_wrap=2, ci=None, palette=\"muted\", height=4, scatter_kws={\"s\": 50, \"alpha\": 0.8})\n",
    "g.set(xlim=(-1, 12), ylim=(60, 120))"
   ]
  },
  {
   "cell_type": "code",
   "execution_count": null,
   "id": "425cb4ce",
   "metadata": {},
   "outputs": [],
   "source": [
    "g = sns.lmplot(x=\"Time\\nPoint\", y=\"CE-SDS(NR)\\n_purity\", col=\"Temp\", hue=\"Product type\", data=df,\n",
    "           col_wrap=2, ci=None, palette=\"muted\", height=4, scatter_kws={\"s\": 50, \"alpha\": 0.8})\n",
    "g.set(xlim=(-1, 12), ylim=(60, 120))"
   ]
  },
  {
   "cell_type": "code",
   "execution_count": null,
   "id": "58571191",
   "metadata": {},
   "outputs": [],
   "source": [
    "g = sns.lmplot(x=\"Time\\nPoint\", y=\"Protein\\nConc.\", col=\"Temp\", hue=\"Product type\", data=df,\n",
    "           col_wrap=2, ci=None, palette=\"muted\", height=4, scatter_kws={\"s\": 50, \"alpha\": 0.8})\n",
    "g.set(xlim=(-1, 12), ylim=(0, 30))"
   ]
  },
  {
   "cell_type": "code",
   "execution_count": null,
   "id": "d42b21d4",
   "metadata": {},
   "outputs": [],
   "source": [
    "g = sns.lmplot(x=\"Time\\nPoint\", y=\"Osmolality\", col=\"Temp\", hue=\"Product type\", data=df,\n",
    "           col_wrap=2, ci=None, palette=\"muted\", height=4, scatter_kws={\"s\": 50, \"alpha\": 0.8})\n",
    "g.set(xlim=(-1, 12), ylim=(400, 700))"
   ]
  },
  {
   "cell_type": "code",
   "execution_count": null,
   "id": "afff54ca",
   "metadata": {},
   "outputs": [],
   "source": [
    "g = sns.lmplot(x=\"Time\\nPoint\", y=\"PS80\", col=\"Temp\", hue=\"Product type\", data=df,\n",
    "           col_wrap=2, ci=None, palette=\"muted\", height=4, scatter_kws={\"s\": 50, \"alpha\": 0.8})\n",
    "g.set(xlim=(-1, 12), ylim=(0.02, 0.08))"
   ]
  },
  {
   "cell_type": "code",
   "execution_count": null,
   "id": "5834a26a",
   "metadata": {},
   "outputs": [],
   "source": [
    "df = pd.read_csv(\"./INPUT/0419_PB101_StabilityTest_Summary.csv\", index_col=None)\n",
    "df.head()"
   ]
  },
  {
   "cell_type": "code",
   "execution_count": null,
   "id": "48e990e1",
   "metadata": {},
   "outputs": [],
   "source": [
    "stability_plot(x=\"Time\\nPoint\", y=\"Potency\", col=\"Temp\", xlim=(-1, 12), ylim=(0, 120))"
   ]
  },
  {
   "cell_type": "code",
   "execution_count": null,
   "id": "8987a9bc",
   "metadata": {},
   "outputs": [],
   "source": [
    "import numpy as np\n",
    "g = sns.lmplot(y=\"Time\\nPoint\", x=\"Potency\", col=\"Temp\", hue=\"Product type\", data=df,\n",
    "           col_wrap=2, ci=None, palette=\"muted\", height=4, scatter_kws={\"s\": 50, \"alpha\": 0.8}, x_estimator=np.mean, logx=True)\n",
    "g.set(ylim=(-1, 12), xlim=(0, 120))"
   ]
  },
  {
   "cell_type": "code",
   "execution_count": null,
   "id": "3e5f458e",
   "metadata": {},
   "outputs": [],
   "source": [
    "stability_plot(x=\"Time\\nPoint\", y=\"SE-HPLC\\n(monomer)\", col=\"Temp\", xlim=(-1, 12), ylim=(70, 120))"
   ]
  },
  {
   "cell_type": "code",
   "execution_count": null,
   "id": "f415d55c",
   "metadata": {
    "scrolled": true
   },
   "outputs": [],
   "source": [
    "stability_plot(x=\"Time\\nPoint\", y=\"CE-SDS(R)\\n_Purity\", col=\"Temp\", xlim=(-1, 12), ylim=(50, 120))"
   ]
  },
  {
   "cell_type": "code",
   "execution_count": null,
   "id": "896cb6b5",
   "metadata": {},
   "outputs": [],
   "source": [
    "df = pd.read_csv(\"./INPUT/220427_PB101_Stability.csv\", index_col=None)\n",
    "stability_plot(x=\"Time\\nPoint\", y=\"Potency\", col=\"Temp\", xlim=(-1, 12), ylim=(0, 120))"
   ]
  },
  {
   "cell_type": "code",
   "execution_count": null,
   "id": "1b8f3099",
   "metadata": {},
   "outputs": [],
   "source": [
    "stability_plot(x=\"Time\\nPoint\", y=\"SE-HPLC\\n(monomer)\", col=\"Temp\", xlim=(-1, 12), ylim=(70, 120))"
   ]
  },
  {
   "cell_type": "code",
   "execution_count": null,
   "id": "b4b3d0e0",
   "metadata": {},
   "outputs": [],
   "source": [
    "stability_plot(x=\"Time\\nPoint\", y=\"CE-SDS(R)\\n_Purity\", col=\"Temp\", xlim=(-1, 12), ylim=(50, 120))"
   ]
  },
  {
   "cell_type": "code",
   "execution_count": null,
   "id": "c0ca2b93",
   "metadata": {},
   "outputs": [],
   "source": [
    "df = pd.read_csv(\"./INPUT/0427_PB101_StabilityTest_Summary.csv\", index_col=None)\n",
    "df.head()"
   ]
  },
  {
   "cell_type": "code",
   "execution_count": null,
   "id": "0522824c",
   "metadata": {},
   "outputs": [],
   "source": [
    "import seaborn as sns\n",
    "import matplotlib.pyplot as plt\n",
    "import numpy as np\n",
    "sns.set_style(\"darkgrid\")\n",
    "plt.figure(figsize=(3,5))\n",
    "\n",
    "# ax = sns.violinplot(y=df['PS80'], data=df)\n",
    "# ax = sns.boxplot(y=df['PS80'], data=df)\n",
    "ax = sns.swarmplot(y='PS80', data=df, color='k')\n",
    "plt.axhline(y = 0.078, color = 'r', linestyle = 'dashed')   \n",
    "# ax.set(ylim=(0.032, 0.090))"
   ]
  },
  {
   "cell_type": "code",
   "execution_count": null,
   "id": "4ab2a0f1",
   "metadata": {},
   "outputs": [],
   "source": [
    "import pandas as pd\n",
    "import matplotlib.pyplot as plt\n",
    "import seaborn as sns\n",
    "\n",
    "\n",
    "df = pd.read_csv(\"./INPUT/0620_PB101_StabilityTest_Summary.csv, index_col=None)\n",
    "df.head()"
   ]
  },
  {
   "cell_type": "code",
   "execution_count": null,
   "id": "38821d9c",
   "metadata": {},
   "outputs": [],
   "source": [
    "stability_plot(x=\"Time\\nPoint\", y=\"Potency\", col=\"Temp\", xlim=(-1, 12), ylim=(0, 120))"
   ]
  },
  {
   "cell_type": "code",
   "execution_count": null,
   "id": "08d9578a",
   "metadata": {},
   "outputs": [],
   "source": [
    "stability_plot(x=\"Time\\nPoint\", y=\"SE-HPLC\\n(monomer)\", col=\"Temp\", xlim=(-1, 12), ylim=(70, 120))"
   ]
  },
  {
   "cell_type": "code",
   "execution_count": null,
   "id": "7ec5b47b",
   "metadata": {},
   "outputs": [],
   "source": [
    "stability_plot(x=\"Time\\nPoint\", y=\"CE-SDS(R)\\n_Purity\", col=\"Temp\", xlim=(-1, 12), ylim=(50, 120))"
   ]
  }
 ],
 "metadata": {
  "kernelspec": {
   "display_name": "Python 3 (ipykernel)",
   "language": "python",
   "name": "python3"
  },
  "language_info": {
   "codemirror_mode": {
    "name": "ipython",
    "version": 3
   },
   "file_extension": ".py",
   "mimetype": "text/x-python",
   "name": "python",
   "nbconvert_exporter": "python",
   "pygments_lexer": "ipython3",
   "version": "3.8.3"
  }
 },
 "nbformat": 4,
 "nbformat_minor": 5
}
