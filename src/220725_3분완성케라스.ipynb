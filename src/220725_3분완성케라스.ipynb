{
 "cells": [
  {
   "cell_type": "markdown",
   "metadata": {},
   "source": [
    "책 *김성진,코딩셰프의 3분 딥러닝 케라스맛,한빛미디어,2018*을 읽고 책에서 사용된 코드를 재구성했습니다.\n",
    "\n",
    "# 인공신경망 원리\n",
    "\n",
    "## 인공신경망 개념\n",
    "\n",
    "뉴런 구조를 인공적으로 구현해 계층을 형성하는 방법입니다.\n",
    "\n",
    "## 인공신경망 구조\n",
    "\n",
    "입력 계층, 은닉계층, 출력 계층으로 구성\n",
    "\n",
    "## 인공신경망 활용\n",
    "분류와 회귀에 모두 사용이 가능합니다.\n",
    "- 분류문제에서는 손실 함수로 교차 엔트로피 함수를 주로 사용합니다.\n",
    "- 주로 MSE를 손실 함수로 사용합니다.\n",
    "\n",
    "### 오차역전파(error back propagation)\n",
    "- 경사하강법: \n",
    "- Adam: 경사의 분산과 평균으로부터 변수를 조절하는 알고리즘\n",
    "- Adagrad: 밀집되지 않은 데이터에 적합하도록 경사 제곱을 통해 시간에 따라 학습률을 조절하는 알고리즘\n",
    "- RMSprop: 학습률이 급격히 떨어지지 않게 감쇠 항을 추가한 알고리즘\n",
    "\n",
    "# 인공신경망으로 분류문제 풀기"
   ]
  },
  {
   "cell_type": "code",
   "execution_count": 1,
   "metadata": {},
   "outputs": [
    {
     "name": "stderr",
     "output_type": "stream",
     "text": [
      "Using TensorFlow backend.\n"
     ]
    }
   ],
   "source": [
    "import numpy as np\n",
    "from keras import datasets\n",
    "from keras.utils import np_utils # categorical 데이터로 변환하기 위함\n",
    "\n",
    "(X_train, y_train), (X_test, y_test) = datasets.mnist.load_data()\n",
    "# X_train = X_train.reshape(60000, 784)\n",
    "# X_test = X_test.reshape(10000, 784)\n",
    "# X_train = X_train.astype('float32')\n",
    "# X_test = X_test.astype('float32')\n",
    "\n",
    "\n",
    "# X_train /= 255\n",
    "# X_test /= 255"
   ]
  },
  {
   "cell_type": "code",
   "execution_count": 2,
   "metadata": {},
   "outputs": [
    {
     "data": {
      "text/plain": [
       "(60000, 28, 28)"
      ]
     },
     "execution_count": 2,
     "metadata": {},
     "output_type": "execute_result"
    }
   ],
   "source": [
    "X_train.shape"
   ]
  },
  {
   "cell_type": "code",
   "execution_count": 3,
   "metadata": {},
   "outputs": [
    {
     "data": {
      "text/plain": [
       "(60000, 784)"
      ]
     },
     "execution_count": 3,
     "metadata": {},
     "output_type": "execute_result"
    }
   ],
   "source": [
    "X_train = X_train.reshape(-1, 28*28)\n",
    "X_test = X_test.reshape(-1, 28*28)\n",
    "X_train = X_train / 255.0\n",
    "X_test = X_test / 255.0\n",
    "X_train.shape"
   ]
  },
  {
   "cell_type": "markdown",
   "metadata": {},
   "source": []
  },
  {
   "cell_type": "code",
   "execution_count": 4,
   "metadata": {},
   "outputs": [],
   "source": [
    "# batch_size = 128\n",
    "# nr_classes = 10\n",
    "# nr_iterations = 20\n",
    "\n",
    "y_train = np_utils.to_categorical(y_train)\n",
    "y_test = np_utils.to_categorical(y_test)"
   ]
  },
  {
   "cell_type": "markdown",
   "metadata": {},
   "source": [
    "이렇게 전환해 인공신경망을 이용한 분류작업시 정수보다 이진 벡터로 출력 변수를 구성하는 것이 효율적입니다."
   ]
  },
  {
   "cell_type": "code",
   "execution_count": 5,
   "metadata": {},
   "outputs": [
    {
     "name": "stdout",
     "output_type": "stream",
     "text": [
      "_________________________________________________________________\n",
      "Layer (type)                 Output Shape              Param #   \n",
      "=================================================================\n",
      "dense_1 (Dense)              (None, 100)               78500     \n",
      "_________________________________________________________________\n",
      "dense_2 (Dense)              (None, 10)                1010      \n",
      "=================================================================\n",
      "Total params: 79,510\n",
      "Trainable params: 79,510\n",
      "Non-trainable params: 0\n",
      "_________________________________________________________________\n"
     ]
    }
   ],
   "source": [
    "from keras.models import Sequential\n",
    "from keras.layers.core import Dense, Dropout, Activation\n",
    "from keras.optimizers import SGD, Adam, RMSprop\n",
    "\n",
    "model = Sequential()\n",
    "model.add(Dense(100, activation='relu', input_shape=(784,)))\n",
    "# model.add(Activation('relu'))\n",
    "# model.add(Dropout(0.5))\n",
    "model.add(Dense(10, activation='softmax'))\n",
    "# model.add(Activation('softmax'))\n",
    "model.compile(loss='categorical_crossentropy',\n",
    "              optimizer=Adam(),\n",
    "              metrics=['accuracy'])\n",
    "\n",
    "model.summary()\n",
    "\n"
   ]
  },
  {
   "cell_type": "code",
   "execution_count": 6,
   "metadata": {},
   "outputs": [
    {
     "name": "stdout",
     "output_type": "stream",
     "text": [
      "Train on 48000 samples, validate on 12000 samples\n",
      "Epoch 1/15\n",
      "48000/48000 [==============================] - 2s 50us/step - loss: 0.3870 - acc: 0.8924 - val_loss: 0.2138 - val_acc: 0.9406\n",
      "Epoch 2/15\n",
      "48000/48000 [==============================] - 2s 39us/step - loss: 0.1844 - acc: 0.9475 - val_loss: 0.1582 - val_acc: 0.9580\n",
      "Epoch 3/15\n",
      "48000/48000 [==============================] - 2s 38us/step - loss: 0.1386 - acc: 0.9599 - val_loss: 0.1384 - val_acc: 0.9597\n",
      "Epoch 4/15\n",
      "48000/48000 [==============================] - 2s 42us/step - loss: 0.1091 - acc: 0.9685 - val_loss: 0.1194 - val_acc: 0.9646\n",
      "Epoch 5/15\n",
      "48000/48000 [==============================] - 2s 42us/step - loss: 0.0889 - acc: 0.9744 - val_loss: 0.1077 - val_acc: 0.9681\n",
      "Epoch 6/15\n",
      "48000/48000 [==============================] - 2s 39us/step - loss: 0.0737 - acc: 0.9788 - val_loss: 0.1100 - val_acc: 0.9678\n",
      "Epoch 7/15\n",
      "48000/48000 [==============================] - 2s 42us/step - loss: 0.0630 - acc: 0.9818 - val_loss: 0.0949 - val_acc: 0.9723\n",
      "Epoch 8/15\n",
      "48000/48000 [==============================] - 2s 37us/step - loss: 0.0524 - acc: 0.9853 - val_loss: 0.0956 - val_acc: 0.9722\n",
      "Epoch 9/15\n",
      "48000/48000 [==============================] - 2s 42us/step - loss: 0.0461 - acc: 0.9867 - val_loss: 0.0906 - val_acc: 0.9734\n",
      "Epoch 10/15\n",
      "48000/48000 [==============================] - 2s 41us/step - loss: 0.0389 - acc: 0.9893 - val_loss: 0.0889 - val_acc: 0.9748\n",
      "Epoch 11/15\n",
      "48000/48000 [==============================] - 2s 38us/step - loss: 0.0327 - acc: 0.9914 - val_loss: 0.0892 - val_acc: 0.9734\n",
      "Epoch 12/15\n",
      "48000/48000 [==============================] - 2s 38us/step - loss: 0.0284 - acc: 0.9926 - val_loss: 0.0966 - val_acc: 0.9730\n",
      "Epoch 13/15\n",
      "48000/48000 [==============================] - 2s 41us/step - loss: 0.0238 - acc: 0.9943 - val_loss: 0.0876 - val_acc: 0.9763\n",
      "Epoch 14/15\n",
      "48000/48000 [==============================] - 2s 42us/step - loss: 0.0204 - acc: 0.9952 - val_loss: 0.0908 - val_acc: 0.9740\n",
      "Epoch 15/15\n",
      "48000/48000 [==============================] - 2s 39us/step - loss: 0.0182 - acc: 0.9959 - val_loss: 0.0869 - val_acc: 0.9753\n"
     ]
    }
   ],
   "source": [
    "history = model.fit(X_train, y_train,\n",
    "                    batch_size = 100, epochs = 15,\n",
    "                    verbose = 1, validation_split= 0.2)\n",
    "score = model.evaluate(X_test, y_test, verbose = 0)"
   ]
  },
  {
   "cell_type": "code",
   "execution_count": 7,
   "metadata": {},
   "outputs": [
    {
     "data": {
      "text/plain": [
       "<matplotlib.legend.Legend at 0x7f051a94d1d0>"
      ]
     },
     "execution_count": 7,
     "metadata": {},
     "output_type": "execute_result"
    },
    {
     "data": {
      "image/png": "[encoded data removed]",
      "text/plain": [
       "<matplotlib.figure.Figure at 0x7f0498ecfcf8>"
      ]
     },
     "metadata": {},
     "output_type": "display_data"
    }
   ],
   "source": [
    "import matplotlib.pyplot as plt\n",
    "%matplotlib inline\n",
    "plt.plot(history.history['loss'])\n",
    "plt.plot(history.history['val_loss'])\n",
    "plt.title('Model loss')\n",
    "plt.xlabel('Epoch')\n",
    "plt.legend(['Train','Test'])"
   ]
  },
  {
   "cell_type": "code",
   "execution_count": 8,
   "metadata": {},
   "outputs": [
    {
     "data": {
      "text/plain": [
       "<matplotlib.legend.Legend at 0x7f041879b400>"
      ]
     },
     "execution_count": 8,
     "metadata": {},
     "output_type": "execute_result"
    },
    {
     "data": {
      "image/png": "[encoded data removed]",
      "text/plain": [
       "<matplotlib.figure.Figure at 0x7f0498ecfa20>"
      ]
     },
     "metadata": {},
     "output_type": "display_data"
    }
   ],
   "source": [
    "plt.plot(history.history['acc'])\n",
    "plt.plot(history.history['val_acc'])\n",
    "plt.title('Model accuracy')\n",
    "plt.xlabel('Epoch')\n",
    "plt.legend(['Train','Test'])"
   ]
  },
  {
   "cell_type": "markdown",
   "metadata": {},
   "source": [
    "# 인공신경망으로 회귀 문제 풀기"
   ]
  },
  {
   "cell_type": "code",
   "execution_count": 9,
   "metadata": {},
   "outputs": [],
   "source": [
    "from keras import datasets\n",
    "from sklearn.preprocessing import MinMaxScaler\n",
    "\n",
    "(X_train, y_train),(X_test, y_test) = datasets.boston_housing.load_data()\n",
    "scaler = MinMaxScaler()\n",
    "X_train = scaler.fit_transform(X_train)\n",
    "X_test = scaler.transform(X_test)"
   ]
  },
  {
   "cell_type": "code",
   "execution_count": 10,
   "metadata": {},
   "outputs": [
    {
     "data": {
      "text/plain": [
       "(404, 13)"
      ]
     },
     "execution_count": 10,
     "metadata": {},
     "output_type": "execute_result"
    }
   ],
   "source": [
    "X_train.shape"
   ]
  },
  {
   "cell_type": "code",
   "execution_count": 20,
   "metadata": {},
   "outputs": [
    {
     "name": "stdout",
     "output_type": "stream",
     "text": [
      "_________________________________________________________________\n",
      "Layer (type)                 Output Shape              Param #   \n",
      "=================================================================\n",
      "dense_8 (Dense)              (None, 13)                182       \n",
      "_________________________________________________________________\n",
      "dense_9 (Dense)              (None, 1)                 14        \n",
      "=================================================================\n",
      "Total params: 196\n",
      "Trainable params: 196\n",
      "Non-trainable params: 0\n",
      "_________________________________________________________________\n"
     ]
    }
   ],
   "source": [
    "from keras.models import Sequential\n",
    "from keras.layers.core import Dense, Dropout, Activation\n",
    "\n",
    "model = Sequential()\n",
    "model.add(Dense(13, input_dim=13, kernel_initializer='normal', activation='relu'))\n",
    "model.add(Dense(1, kernel_initializer='normal', activation='relu'))\n",
    "# Compile model\n",
    "model.compile(loss='mean_squared_error', optimizer='SGD')\n",
    "model.summary()"
   ]
  },
  {
   "cell_type": "code",
   "execution_count": 12,
   "metadata": {
    "scrolled": false
   },
   "outputs": [
    {
     "name": "stdout",
     "output_type": "stream",
     "text": [
      "102/102 [==============================] - 0s 31us/step\n"
     ]
    }
   ],
   "source": [
    "history = model.fit(X_train, y_train,\n",
    "                    batch_size = 100, epochs = 100,\n",
    "                    verbose = 0, validation_split= 0.2)\n",
    "score = model.evaluate(X_test, y_test, batch_size=100,verbose = 1)"
   ]
  },
  {
   "cell_type": "code",
   "execution_count": 13,
   "metadata": {},
   "outputs": [
    {
     "data": {
      "text/plain": [
       "<matplotlib.legend.Legend at 0x7f0481f323c8>"
      ]
     },
     "execution_count": 13,
     "metadata": {},
     "output_type": "execute_result"
    },
    {
     "data": {
      "image/png": "[encoded data removed]",
      "text/plain": [
       "<matplotlib.figure.Figure at 0x7f03e07e3860>"
      ]
     },
     "metadata": {},
     "output_type": "display_data"
    }
   ],
   "source": [
    "plt.plot(history.history['loss'])\n",
    "plt.plot(history.history['val_loss'])\n",
    "plt.title('Model loss')\n",
    "plt.xlabel('Epoch')\n",
    "plt.legend(['Train','Test'])"
   ]
  },
  {
   "cell_type": "code",
   "execution_count": 14,
   "metadata": {},
   "outputs": [
    {
     "data": {
      "text/plain": [
       "22.318215463675706"
      ]
     },
     "execution_count": 14,
     "metadata": {},
     "output_type": "execute_result"
    }
   ],
   "source": [
    "score"
   ]
  },
  {
   "cell_type": "markdown",
   "metadata": {},
   "source": [
    "지금까지 인공신경망의 기본 개념과 케라스를 이용해 구현하는 방법을 알아보았ㅅㅂ니다.\n",
    "은닉 계층이 하나인 경우를 다루었습니다. 앞으로는 더 많은 은닉 계층과 다른 평태의 은닉계층을 활용해 더 높은 정확도를 달성해보도록 하겠습니다."
   ]
  },
  {
   "cell_type": "markdown",
   "metadata": {},
   "source": [
    "# 케라스로 심층신경망(DNN)\n",
    "\n",
    "MNIST 데이터셋을 동일하게 이용하지만, 이번에는 은닉계층을 4단계로 늘인 DNN을 구현하겠습니다.\n"
   ]
  },
  {
   "cell_type": "code",
   "execution_count": 15,
   "metadata": {},
   "outputs": [
    {
     "data": {
      "text/plain": [
       "(60000, 784)"
      ]
     },
     "execution_count": 15,
     "metadata": {},
     "output_type": "execute_result"
    }
   ],
   "source": [
    "from keras import datasets\n",
    "from keras.utils import np_utils # categorical 데이터로 변환하기 위함\n",
    "\n",
    "(X_train, y_train), (X_test, y_test) = datasets.mnist.load_data()\n",
    "X_train = X_train.reshape(-1, 28*28)\n",
    "X_test = X_test.reshape(-1, 28*28)\n",
    "X_train = X_train / 255.0\n",
    "X_test = X_test / 255.0\n",
    "X_train.shape"
   ]
  },
  {
   "cell_type": "code",
   "execution_count": 16,
   "metadata": {},
   "outputs": [
    {
     "data": {
      "text/plain": [
       "(60000, 10)"
      ]
     },
     "execution_count": 16,
     "metadata": {},
     "output_type": "execute_result"
    }
   ],
   "source": [
    "y_train = np_utils.to_categorical(y_train)\n",
    "y_test = np_utils.to_categorical(y_test)\n",
    "y_train.shape"
   ]
  },
  {
   "cell_type": "code",
   "execution_count": 17,
   "metadata": {},
   "outputs": [
    {
     "name": "stdout",
     "output_type": "stream",
     "text": [
      "_________________________________________________________________\n",
      "Layer (type)                 Output Shape              Param #   \n",
      "=================================================================\n",
      "Hidden-1 (Dense)             (None, 100)               78500     \n",
      "_________________________________________________________________\n",
      "dropout_1 (Dropout)          (None, 100)               0         \n",
      "_________________________________________________________________\n",
      "Hidden-2 (Dense)             (None, 50)                5050      \n",
      "_________________________________________________________________\n",
      "dropout_2 (Dropout)          (None, 50)                0         \n",
      "_________________________________________________________________\n",
      "dense_5 (Dense)              (None, 10)                510       \n",
      "=================================================================\n",
      "Total params: 84,060\n",
      "Trainable params: 84,060\n",
      "Non-trainable params: 0\n",
      "_________________________________________________________________\n"
     ]
    }
   ],
   "source": [
    "from keras.models import Sequential\n",
    "from keras.layers.core import Dense, Dropout, Activation\n",
    "from keras.optimizers import SGD, Adam, RMSprop\n",
    "\n",
    "model = Sequential()\n",
    "model.add(Dense(100, activation='relu', input_shape=(784,), name='Hidden-1'))\n",
    "model.add(Dropout(0.2))\n",
    "model.add(Dense(50, activation='relu', name='Hidden-2'))\n",
    "model.add(Dropout(0.2))\n",
    "model.add(Dense(10, activation='softmax'))\n",
    "model.compile(loss='categorical_crossentropy',\n",
    "              optimizer=Adam(),\n",
    "              metrics=['accuracy'])\n",
    "model.summary()"
   ]
  },
  {
   "cell_type": "markdown",
   "metadata": {},
   "source": [
    "`Dropout()`은 일정한 확률로 출력노드의 신호를 제거해 신경망이 더 견고하게 학습하도록 합니다."
   ]
  },
  {
   "cell_type": "code",
   "execution_count": 18,
   "metadata": {},
   "outputs": [
    {
     "name": "stdout",
     "output_type": "stream",
     "text": [
      "Train on 48000 samples, validate on 12000 samples\n",
      "Epoch 1/15\n",
      "48000/48000 [==============================] - 3s 55us/step - loss: 0.5354 - acc: 0.8379 - val_loss: 0.1973 - val_acc: 0.9417\n",
      "Epoch 2/15\n",
      "48000/48000 [==============================] - 2s 52us/step - loss: 0.2420 - acc: 0.9290 - val_loss: 0.1435 - val_acc: 0.9597\n",
      "Epoch 3/15\n",
      "48000/48000 [==============================] - 3s 53us/step - loss: 0.1867 - acc: 0.9445 - val_loss: 0.1234 - val_acc: 0.9634\n",
      "Epoch 4/15\n",
      "48000/48000 [==============================] - 2s 51us/step - loss: 0.1562 - acc: 0.9539 - val_loss: 0.1173 - val_acc: 0.9639\n",
      "Epoch 5/15\n",
      "48000/48000 [==============================] - 2s 52us/step - loss: 0.1388 - acc: 0.9576 - val_loss: 0.1075 - val_acc: 0.9679\n",
      "Epoch 6/15\n",
      "48000/48000 [==============================] - 3s 53us/step - loss: 0.1207 - acc: 0.9626 - val_loss: 0.0984 - val_acc: 0.9724\n",
      "Epoch 7/15\n",
      "48000/48000 [==============================] - 3s 53us/step - loss: 0.1111 - acc: 0.9667 - val_loss: 0.0952 - val_acc: 0.9728\n",
      "Epoch 8/15\n",
      "48000/48000 [==============================] - 2s 51us/step - loss: 0.1015 - acc: 0.9686 - val_loss: 0.0966 - val_acc: 0.9729\n",
      "Epoch 9/15\n",
      "48000/48000 [==============================] - 2s 51us/step - loss: 0.0913 - acc: 0.9718 - val_loss: 0.0926 - val_acc: 0.9720\n",
      "Epoch 10/15\n",
      "48000/48000 [==============================] - 3s 52us/step - loss: 0.0886 - acc: 0.9714 - val_loss: 0.0914 - val_acc: 0.9729\n",
      "Epoch 11/15\n",
      "48000/48000 [==============================] - 2s 52us/step - loss: 0.0835 - acc: 0.9742 - val_loss: 0.0900 - val_acc: 0.9729\n",
      "Epoch 12/15\n",
      "48000/48000 [==============================] - 3s 52us/step - loss: 0.0793 - acc: 0.9752 - val_loss: 0.0840 - val_acc: 0.9753\n",
      "Epoch 13/15\n",
      "48000/48000 [==============================] - 3s 53us/step - loss: 0.0764 - acc: 0.9768 - val_loss: 0.0865 - val_acc: 0.9758\n",
      "Epoch 14/15\n",
      "48000/48000 [==============================] - 3s 53us/step - loss: 0.0689 - acc: 0.9786 - val_loss: 0.0863 - val_acc: 0.9748\n",
      "Epoch 15/15\n",
      "48000/48000 [==============================] - 3s 53us/step - loss: 0.0666 - acc: 0.9784 - val_loss: 0.0912 - val_acc: 0.9742\n"
     ]
    }
   ],
   "source": [
    "history = model.fit(X_train, y_train,\n",
    "                    batch_size = 100, epochs = 15,\n",
    "                    verbose = 1, validation_split= 0.2)\n",
    "score = model.evaluate(X_test, y_test, verbose = 0)"
   ]
  },
  {
   "cell_type": "markdown",
   "metadata": {},
   "source": [
    "DNN은 일반 인공신경망 보다 더 깊은 신경망이기 때문에 더 좋은 성능을 내지만 MNIST데이터는 비교적 간단해 성능차이가 거의 없습니다. \n",
    "\n",
    "# 케라스로 구현하는 합성곱신경망(CNN)\n",
    "합성곱신경망은 주로 영상처리에 많이 사용되는 기술입니다. \n",
    "\n",
    "## 데이터 준비\n",
    "CNN은 DNN에서의 데이터 준비과정과 두가지가 다릅니다.\n",
    "1. 이미지를 벡터화하지 않고 그대로 사용\n",
    "2. 흑백 이미지는 추가적인 채널정보를 포함해야 합니다.\n"
   ]
  },
  {
   "cell_type": "code",
   "execution_count": 27,
   "metadata": {},
   "outputs": [
    {
     "data": {
      "text/plain": [
       "(60000, 28, 28, 1)"
      ]
     },
     "execution_count": 27,
     "metadata": {},
     "output_type": "execute_result"
    }
   ],
   "source": [
    "from keras import datasets\n",
    "from keras.utils import np_utils # categorical 데이터로 변환하기 위함\n",
    "\n",
    "(X_train, y_train), (X_test, y_test) = datasets.mnist.load_data()\n",
    "img_rows, img_cols = X_train.shape[1:] # 채널 정보를 추가하기 위해\n",
    "# X_train = X_train.reshape(X_train.shape[0], 1, img_rows, img_cols)\n",
    "# X_test = X_test.reshape(X_test.shape[0], 1, img_rows, img_cols)\n",
    "# input_shape = (1, img_rows, img_cols)\n",
    "X_train = X_train.reshape(X_train.shape[0], img_rows, img_cols,1)\n",
    "X_test = X_test.reshape(X_test.shape[0], img_rows, img_cols,1)\n",
    "input_shape=(img_cols, img_rows, 1)\n",
    "X_train = X_train.astype('float32')\n",
    "X_test = X_test.astype('float32')\n",
    "X_train = X_train / 255\n",
    "X_test = X_test / 255\n",
    "X_train.shape"
   ]
  },
  {
   "cell_type": "code",
   "execution_count": 28,
   "metadata": {},
   "outputs": [
    {
     "data": {
      "text/plain": [
       "(60000, 10)"
      ]
     },
     "execution_count": 28,
     "metadata": {},
     "output_type": "execute_result"
    }
   ],
   "source": [
    "y_train = np_utils.to_categorical(y_train)\n",
    "y_test = np_utils.to_categorical(y_test)\n",
    "y_train.shape"
   ]
  },
  {
   "cell_type": "code",
   "execution_count": 34,
   "metadata": {},
   "outputs": [
    {
     "name": "stdout",
     "output_type": "stream",
     "text": [
      "_________________________________________________________________\n",
      "Layer (type)                 Output Shape              Param #   \n",
      "=================================================================\n",
      "conv2d_4 (Conv2D)            (None, 26, 26, 32)        320       \n",
      "_________________________________________________________________\n",
      "conv2d_5 (Conv2D)            (None, 24, 24, 64)        18496     \n",
      "_________________________________________________________________\n",
      "max_pooling2d_2 (MaxPooling2 (None, 12, 12, 64)        0         \n",
      "_________________________________________________________________\n",
      "dropout_5 (Dropout)          (None, 12, 12, 64)        0         \n",
      "_________________________________________________________________\n",
      "flatten_2 (Flatten)          (None, 9216)              0         \n",
      "_________________________________________________________________\n",
      "dense_12 (Dense)             (None, 128)               1179776   \n",
      "_________________________________________________________________\n",
      "dropout_6 (Dropout)          (None, 128)               0         \n",
      "_________________________________________________________________\n",
      "dense_13 (Dense)             (None, 10)                1290      \n",
      "=================================================================\n",
      "Total params: 1,199,882\n",
      "Trainable params: 1,199,882\n",
      "Non-trainable params: 0\n",
      "_________________________________________________________________\n"
     ]
    }
   ],
   "source": [
    "from keras.models import Sequential\n",
    "from keras.layers.core import Dense, Dropout, Activation, Flatten\n",
    "from keras.layers.convolutional import Conv2D, MaxPooling2D\n",
    "from keras.optimizers import SGD, Adam, RMSprop\n",
    "\n",
    "model = Sequential()\n",
    "model.add(Conv2D(32, kernel_size=(3, 3), activation='relu', input_shape=input_shape))\n",
    "model.add(Conv2D(64, (3, 3), activation='relu'))\n",
    "model.add(MaxPooling2D(pool_size=(2, 2)))\n",
    "model.add(Dropout(0.25))\n",
    "model.add(Flatten())\n",
    "model.add(Dense(128, activation='relu'))\n",
    "model.add(Dropout(0.5))\n",
    "model.add(Dense(10, activation='softmax'))\n",
    "model.compile(loss='categorical_crossentropy',\n",
    "              optimizer=Adam(),\n",
    "              metrics=['accuracy'])\n",
    "model.summary()"
   ]
  },
  {
   "cell_type": "code",
   "execution_count": 35,
   "metadata": {},
   "outputs": [
    {
     "name": "stdout",
     "output_type": "stream",
     "text": [
      "Train on 48000 samples, validate on 12000 samples\n",
      "Epoch 1/10\n",
      "48000/48000 [==============================] - 42s 872us/step - loss: 0.2522 - acc: 0.9238 - val_loss: 0.0617 - val_acc: 0.9825\n",
      "Epoch 2/10\n",
      "48000/48000 [==============================] - 41s 845us/step - loss: 0.0914 - acc: 0.9720 - val_loss: 0.0519 - val_acc: 0.9842\n",
      "Epoch 3/10\n",
      "48000/48000 [==============================] - 41s 855us/step - loss: 0.0687 - acc: 0.9792 - val_loss: 0.0397 - val_acc: 0.9879\n",
      "Epoch 4/10\n",
      "48000/48000 [==============================] - 41s 857us/step - loss: 0.0545 - acc: 0.9835 - val_loss: 0.0405 - val_acc: 0.9878\n",
      "Epoch 5/10\n",
      "48000/48000 [==============================] - 42s 874us/step - loss: 0.0452 - acc: 0.9857 - val_loss: 0.0406 - val_acc: 0.9873\n",
      "Epoch 6/10\n",
      "48000/48000 [==============================] - 42s 877us/step - loss: 0.0416 - acc: 0.9868 - val_loss: 0.0363 - val_acc: 0.9896\n",
      "Epoch 7/10\n",
      "48000/48000 [==============================] - 41s 864us/step - loss: 0.0339 - acc: 0.9893 - val_loss: 0.0370 - val_acc: 0.9895\n",
      "Epoch 8/10\n",
      "48000/48000 [==============================] - 41s 850us/step - loss: 0.0309 - acc: 0.9897 - val_loss: 0.0376 - val_acc: 0.9902\n",
      "Epoch 9/10\n",
      "48000/48000 [==============================] - 41s 855us/step - loss: 0.0287 - acc: 0.9905 - val_loss: 0.0394 - val_acc: 0.9903\n",
      "Epoch 10/10\n",
      "48000/48000 [==============================] - 41s 849us/step - loss: 0.0262 - acc: 0.9917 - val_loss: 0.0384 - val_acc: 0.9912\n"
     ]
    }
   ],
   "source": [
    "history = model.fit(X_train, y_train,\n",
    "                    batch_size = 100, epochs = 10,\n",
    "                    verbose = 1, validation_split= 0.2)\n",
    "score = model.evaluate(X_test, y_test, verbose = 0)"
   ]
  },
  {
   "cell_type": "code",
   "execution_count": 36,
   "metadata": {},
   "outputs": [
    {
     "data": {
      "text/plain": [
       "<matplotlib.legend.Legend at 0x7f04952795f8>"
      ]
     },
     "execution_count": 36,
     "metadata": {},
     "output_type": "execute_result"
    },
    {
     "data": {
      "image/png": "[encoded data removed]",
      "text/plain": [
       "<matplotlib.figure.Figure at 0x7f04952f2518>"
      ]
     },
     "metadata": {},
     "output_type": "display_data"
    }
   ],
   "source": [
    "import matplotlib.pyplot as plt\n",
    "%matplotlib inline\n",
    "plt.plot(history.history['loss'])\n",
    "plt.plot(history.history['val_loss'])\n",
    "plt.title('Model loss')\n",
    "plt.xlabel('Epoch')\n",
    "plt.legend(['Train','Test'])"
   ]
  },
  {
   "cell_type": "code",
   "execution_count": 37,
   "metadata": {},
   "outputs": [
    {
     "data": {
      "text/plain": [
       "<matplotlib.legend.Legend at 0x7f0494b8f198>"
      ]
     },
     "execution_count": 37,
     "metadata": {},
     "output_type": "execute_result"
    },
    {
     "data": {
      "image/png": "[encoded data removed]",
      "text/plain": [
       "<matplotlib.figure.Figure at 0x7f04954f90f0>"
      ]
     },
     "metadata": {},
     "output_type": "display_data"
    }
   ],
   "source": [
    "plt.plot(history.history['acc'])\n",
    "plt.plot(history.history['val_acc'])\n",
    "plt.title('Model accuracy')\n",
    "plt.xlabel('Epoch')\n",
    "plt.legend(['Train','Test'])"
   ]
  },
  {
   "cell_type": "markdown",
   "metadata": {},
   "source": [
    "케라스로 CNN을 구현하는 방법을 알아봤습니다. CNN은 합성곱 계층을 이용해 적은 가중치로 높은 성능을 냅니다. 가중치가 적기때문에 오버피팅의 문제도 낮습니다.\n",
    "\n",
    "# 케라스로 구현하는 순환신경망(RNN)\n",
    "순환신경망은 시계열 데이터 처리에 강점이 있는 인공신경망입니다. 순환신경망에서도 가장 많이 사용되는 LSTM(Long term shor term memory)를 다뤄 보겠습니다.\n",
    "\n",
    "## LSTM\n",
    "\n",
    "사용할 데이터셋은 영화 평점을 다루는 IMDB입니다.\n"
   ]
  },
  {
   "cell_type": "code",
   "execution_count": 2,
   "metadata": {},
   "outputs": [
    {
     "name": "stdout",
     "output_type": "stream",
     "text": [
      "Downloading data from https://s3.amazonaws.com/text-datasets/imdb.npz\n",
      "17465344/17464789 [==============================] - 21s 1us/step\n"
     ]
    }
   ],
   "source": [
    "from keras.preprocessing import sequence\n",
    "from keras.datasets import imdb\n",
    "\n",
    "(X_train, y_train), (X_test, y_test) = imdb.load_data(num_words=20000) # 최대 단어의 빈도를 20000으로 제한했습니다.\n",
    "X_train = sequence.pad_sequences(X_train, maxlen=80)\n",
    "X_test = sequence.pad_sequences(X_test, maxlen=80)\n"
   ]
  },
  {
   "cell_type": "code",
   "execution_count": 13,
   "metadata": {},
   "outputs": [
    {
     "data": {
      "text/plain": [
       "(25000, 500)"
      ]
     },
     "execution_count": 13,
     "metadata": {},
     "output_type": "execute_result"
    }
   ],
   "source": [
    "# LSTM and CNN for sequence classification in the IMDB dataset\n",
    "import numpy\n",
    "from keras.datasets import imdb\n",
    "\n",
    "# fix random seed for reproducibility\n",
    "numpy.random.seed(42)\n",
    "# load the dataset but only keep the top n words, zero the rest\n",
    "top_words = 5000\n",
    "(X_train, y_train), (X_test, y_test) = imdb.load_data(num_words=top_words)\n",
    "# truncate and pad input sequences\n",
    "max_review_length = 500\n",
    "X_train = sequence.pad_sequences(X_train, maxlen=max_review_length)\n",
    "X_test = sequence.pad_sequences(X_test, maxlen=max_review_length)\n",
    "X_train.shape"
   ]
  },
  {
   "cell_type": "code",
   "execution_count": 14,
   "metadata": {},
   "outputs": [
    {
     "name": "stdout",
     "output_type": "stream",
     "text": [
      "_________________________________________________________________\n",
      "Layer (type)                 Output Shape              Param #   \n",
      "=================================================================\n",
      "embedding_1 (Embedding)      (None, 500, 32)           160000    \n",
      "_________________________________________________________________\n",
      "conv1d_1 (Conv1D)            (None, 500, 32)           3104      \n",
      "_________________________________________________________________\n",
      "max_pooling1d_1 (MaxPooling1 (None, 250, 32)           0         \n",
      "_________________________________________________________________\n",
      "lstm_7 (LSTM)                (None, 100)               53200     \n",
      "_________________________________________________________________\n",
      "dense_4 (Dense)              (None, 1)                 101       \n",
      "=================================================================\n",
      "Total params: 216,405\n",
      "Trainable params: 216,405\n",
      "Non-trainable params: 0\n",
      "_________________________________________________________________\n"
     ]
    }
   ],
   "source": [
    "from keras.models import Sequential\n",
    "from keras.layers import Dense, LSTM\n",
    "from keras.layers.convolutional import Conv1D, MaxPooling1D\n",
    "from keras.layers.embeddings import Embedding\n",
    "from keras.preprocessing import sequence\n",
    "# create the model\n",
    "embedding_vecor_length = 32\n",
    "model = Sequential()\n",
    "model.add(Embedding(top_words, embedding_vecor_length, input_length=max_review_length))\n",
    "model.add(Conv1D(filters=32, kernel_size=3, padding='same', activation='relu'))\n",
    "model.add(MaxPooling1D(pool_size=2))\n",
    "model.add(LSTM(100))\n",
    "model.add(Dense(1, activation='sigmoid'))\n",
    "model.compile(loss='binary_crossentropy', optimizer='adam', metrics=['accuracy'])\n",
    "model.summary()"
   ]
  },
  {
   "cell_type": "code",
   "execution_count": 19,
   "metadata": {},
   "outputs": [
    {
     "name": "stdout",
     "output_type": "stream",
     "text": [
      "Train on 25000 samples, validate on 25000 samples\n",
      "Epoch 1/10\n",
      "25000/25000 [==============================] - 47s 2ms/step - loss: 0.1373 - acc: 0.9530 - val_loss: 0.3076 - val_acc: 0.8854\n",
      "Epoch 2/10\n",
      "25000/25000 [==============================] - 46s 2ms/step - loss: 0.1274 - acc: 0.9567 - val_loss: 0.3081 - val_acc: 0.8859\n",
      "Epoch 3/10\n",
      "25000/25000 [==============================] - 46s 2ms/step - loss: 0.1226 - acc: 0.9589 - val_loss: 0.3151 - val_acc: 0.8852\n",
      "Epoch 4/10\n",
      "25000/25000 [==============================] - 45s 2ms/step - loss: 0.1175 - acc: 0.9626 - val_loss: 0.3239 - val_acc: 0.8844\n",
      "Epoch 5/10\n",
      "25000/25000 [==============================] - 46s 2ms/step - loss: 0.1120 - acc: 0.9645 - val_loss: 0.3233 - val_acc: 0.8842\n",
      "Epoch 6/10\n",
      "25000/25000 [==============================] - 46s 2ms/step - loss: 0.1088 - acc: 0.9656 - val_loss: 0.3402 - val_acc: 0.8834\n",
      "Epoch 7/10\n",
      "25000/25000 [==============================] - 46s 2ms/step - loss: 0.1034 - acc: 0.9686 - val_loss: 0.3516 - val_acc: 0.8828\n",
      "Epoch 8/10\n",
      "25000/25000 [==============================] - 45s 2ms/step - loss: 0.0994 - acc: 0.9705 - val_loss: 0.3530 - val_acc: 0.8823\n",
      "Epoch 9/10\n",
      "25000/25000 [==============================] - 45s 2ms/step - loss: 0.0954 - acc: 0.9718 - val_loss: 0.3710 - val_acc: 0.8804\n",
      "Epoch 10/10\n",
      "25000/25000 [==============================] - 46s 2ms/step - loss: 0.0937 - acc: 0.9720 - val_loss: 0.3610 - val_acc: 0.8799\n"
     ]
    }
   ],
   "source": [
    "# Final evaluation of the model\n",
    "history = model.fit(X_train, y_train,\n",
    "                    batch_size = 32, epochs = 10,\n",
    "                    verbose = 1, validation_data=(X_test, y_test))"
   ]
  },
  {
   "cell_type": "code",
   "execution_count": 20,
   "metadata": {},
   "outputs": [
    {
     "name": "stdout",
     "output_type": "stream",
     "text": [
      "Accuracy: 87.99%\n"
     ]
    }
   ],
   "source": [
    "# Final evaluation of the model\n",
    "scores = model.evaluate(X_test, y_test, verbose=0)\n",
    "print(\"Accuracy: %.2f%%\" % (scores[1]*100))"
   ]
  },
  {
   "cell_type": "code",
   "execution_count": 21,
   "metadata": {},
   "outputs": [
    {
     "data": {
      "text/plain": [
       "<matplotlib.legend.Legend at 0x7f9644630828>"
      ]
     },
     "execution_count": 21,
     "metadata": {},
     "output_type": "execute_result"
    },
    {
     "data": {
      "image/png": "[encoded data removed]",
      "text/plain": [
       "<matplotlib.figure.Figure at 0x7f9647ff2ac8>"
      ]
     },
     "metadata": {},
     "output_type": "display_data"
    }
   ],
   "source": [
    "import matplotlib.pyplot as plt\n",
    "%matplotlib inline\n",
    "plt.plot(history.history['loss'])\n",
    "plt.plot(history.history['val_loss'])\n",
    "plt.title('Model loss')\n",
    "plt.xlabel('Epoch')\n",
    "plt.legend(['Train','Test'])"
   ]
  },
  {
   "cell_type": "code",
   "execution_count": 22,
   "metadata": {},
   "outputs": [
    {
     "data": {
      "text/plain": [
       "<matplotlib.legend.Legend at 0x7f96445d2198>"
      ]
     },
     "execution_count": 22,
     "metadata": {},
     "output_type": "execute_result"
    },
    {
     "data": {
      "image/png": "[encoded data removed]",
      "text/plain": [
       "<matplotlib.figure.Figure at 0x7f964466e4e0>"
      ]
     },
     "metadata": {},
     "output_type": "display_data"
    }
   ],
   "source": [
    "plt.plot(history.history['acc'])\n",
    "plt.plot(history.history['val_acc'])\n",
    "plt.title('Model accuracy')\n",
    "plt.xlabel('Epoch')\n",
    "plt.legend(['Train','Test'])"
   ]
  },
  {
   "cell_type": "markdown",
   "metadata": {},
   "source": [
    "# 케라스로 구현하는 오토인코더(AE)\n",
    "오토인코더는 비지도 학습의 예시입니다. 비지도학습은 입력 데이터를 가공해서 목표값을 출력하는 방식이 아니라 레이블 정보가 없는 데이터 특성을 분석하거나 추출합니다.  \n",
    "오토인코더의 목적은 입력 데이터의 특징점을 효율적으로 찾는 겁니다.  주로 활용되는 곳은 데이터 압축, 잡음 억제등입니다. 주성분분석(PCA)으로 처리하는 일차원 데이터 처리방식을 딥러닝 방식으로 확장한 것입니다. \n",
    "\n",
    "## MNIST데이터를 이용해 오토인코더 구현"
   ]
  },
  {
   "cell_type": "code",
   "execution_count": 24,
   "metadata": {},
   "outputs": [
    {
     "data": {
      "text/plain": [
       "(60000, 784)"
      ]
     },
     "execution_count": 24,
     "metadata": {},
     "output_type": "execute_result"
    }
   ],
   "source": [
    "from keras import datasets\n",
    "from keras.utils import np_utils # categorical 데이터로 변환하기 위함\n",
    "\n",
    "(X_train, _), (X_test, _) = datasets.mnist.load_data() # AE에서는 레이블 정보가 필요하지 않음\n",
    "X_train = X_train.astype('float32') / 255.0\n",
    "X_test = X_test.astype('float32') / 255.0\n",
    "X_train = X_train.reshape((len(X_train), -1))\n",
    "X_test = X_test.reshape((len(X_test), -1))\n",
    "X_train.shape"
   ]
  },
  {
   "cell_type": "code",
   "execution_count": null,
   "metadata": {},
   "outputs": [
    {
     "name": "stdout",
     "output_type": "stream",
     "text": [
      "Train on 25000 samples, validate on 25000 samples\n",
      "Epoch 1/3\n",
      " 8320/25000 [========>.....................] - ETA: 1:21 - loss: 0.6531 - acc: 0.6174"
     ]
    }
   ],
   "source": [
    "# Final evaluation of the model\n",
    "history = model.fit(X_train, y_train,\n",
    "                    batch_size = 64, epochs = 3,\n",
    "                    verbose = 1, validation_data=(X_test, y_test))"
   ]
  },
  {
   "cell_type": "code",
   "execution_count": 25,
   "metadata": {},
   "outputs": [
    {
     "name": "stdout",
     "output_type": "stream",
     "text": [
      "_________________________________________________________________\n",
      "Layer (type)                 Output Shape              Param #   \n",
      "=================================================================\n",
      "input_1 (InputLayer)         (None, 784)               0         \n",
      "_________________________________________________________________\n",
      "dense_5 (Dense)              (None, 32)                25120     \n",
      "_________________________________________________________________\n",
      "dense_6 (Dense)              (None, 784)               25872     \n",
      "=================================================================\n",
      "Total params: 50,992\n",
      "Trainable params: 50,992\n",
      "Non-trainable params: 0\n",
      "_________________________________________________________________\n"
     ]
    }
   ],
   "source": [
    "from keras.layers import Input, Dense\n",
    "from keras.models import Model\n",
    "\n",
    "# this is the size of our encoded representations\n",
    "encoding_dim = 32  # 32 floats -> compression of factor 24.5, assuming the input is 784 floats\n",
    "\n",
    "# this is our input placeholder\n",
    "input_img = Input(shape=(784,))\n",
    "# \"encoded\" is the encoded representation of the input\n",
    "encoded = Dense(encoding_dim, activation='relu')(input_img)\n",
    "# \"decoded\" is the lossy reconstruction of the input\n",
    "decoded = Dense(784, activation='sigmoid')(encoded)\n",
    "\n",
    "# this model maps an input to its reconstruction\n",
    "autoencoder = Model(input_img, decoded)\n",
    "\n",
    "# this model maps an input to its encoded representation\n",
    "encoder = Model(input_img, encoded)\n",
    "\n",
    "# create a placeholder for an encoded (32-dimensional) input\n",
    "encoded_input = Input(shape=(encoding_dim,))\n",
    "# retrieve the last layer of the autoencoder model\n",
    "decoder_layer = autoencoder.layers[-1]\n",
    "# create the decoder model\n",
    "decoder = Model(encoded_input, decoder_layer(encoded_input))\n",
    "autoencoder.compile(optimizer='adadelta', loss='binary_crossentropy')\n",
    "autoencoder.summary()"
   ]
  },
  {
   "cell_type": "code",
   "execution_count": 37,
   "metadata": {},
   "outputs": [
    {
     "name": "stdout",
     "output_type": "stream",
     "text": [
      "Train on 60000 samples, validate on 10000 samples\n",
      "Epoch 1/10\n",
      "60000/60000 [==============================] - 9s 158us/step - loss: 0.1040 - val_loss: 0.1009\n",
      "Epoch 2/10\n",
      "60000/60000 [==============================] - 9s 157us/step - loss: 0.1016 - val_loss: 0.0990\n",
      "Epoch 3/10\n",
      "60000/60000 [==============================] - 9s 156us/step - loss: 0.1000 - val_loss: 0.0978\n",
      "Epoch 4/10\n",
      "60000/60000 [==============================] - 9s 157us/step - loss: 0.0989 - val_loss: 0.0967\n",
      "Epoch 5/10\n",
      "60000/60000 [==============================] - 9s 156us/step - loss: 0.0980 - val_loss: 0.0960\n",
      "Epoch 6/10\n",
      "60000/60000 [==============================] - 9s 155us/step - loss: 0.0973 - val_loss: 0.0955\n",
      "Epoch 7/10\n",
      "60000/60000 [==============================] - 9s 156us/step - loss: 0.0968 - val_loss: 0.0951\n",
      "Epoch 8/10\n",
      "60000/60000 [==============================] - 9s 158us/step - loss: 0.0964 - val_loss: 0.0947\n",
      "Epoch 9/10\n",
      "60000/60000 [==============================] - 9s 158us/step - loss: 0.0961 - val_loss: 0.0944\n",
      "Epoch 10/10\n",
      "60000/60000 [==============================] - 9s 156us/step - loss: 0.0958 - val_loss: 0.0941\n"
     ]
    }
   ],
   "source": [
    "history = autoencoder.fit(X_train, X_train,\n",
    "                    epochs=10,\n",
    "                    batch_size=32,\n",
    "                    shuffle=True,\n",
    "                    validation_data=(X_test, X_test))"
   ]
  },
  {
   "cell_type": "code",
   "execution_count": 32,
   "metadata": {},
   "outputs": [
    {
     "data": {
      "text/plain": [
       "<matplotlib.legend.Legend at 0x7f95a47687f0>"
      ]
     },
     "execution_count": 32,
     "metadata": {},
     "output_type": "execute_result"
    },
    {
     "data": {
      "image/png": "[encoded data removed]",
      "text/plain": [
       "<matplotlib.figure.Figure at 0x7f9637fddb00>"
      ]
     },
     "metadata": {},
     "output_type": "display_data"
    }
   ],
   "source": [
    "import matplotlib.pyplot as plt\n",
    "%matplotlib inline\n",
    "plt.plot(history.history['loss'])\n",
    "plt.plot(history.history['val_loss'])\n",
    "plt.title('Model loss')\n",
    "plt.xlabel('Epoch')\n",
    "plt.legend(['Train','Test'])"
   ]
  },
  {
   "cell_type": "code",
   "execution_count": 33,
   "metadata": {},
   "outputs": [],
   "source": [
    "# encode and decode some digits\n",
    "# note that we take them from the *test* set\n",
    "encoded_imgs = encoder.predict(X_test)\n",
    "decoded_imgs = decoder.predict(encoded_imgs)"
   ]
  },
  {
   "cell_type": "code",
   "execution_count": 34,
   "metadata": {},
   "outputs": [
    {
     "data": {
      "image/png": "[encoded data removed]",
      "text/plain": [
       "<matplotlib.figure.Figure at 0x7f9637fd07b8>"
      ]
     },
     "metadata": {},
     "output_type": "display_data"
    }
   ],
   "source": [
    "n = 10  # how many digits we will display\n",
    "plt.figure(figsize=(20, 4))\n",
    "for i in range(n):\n",
    "    # display original\n",
    "    ax = plt.subplot(2, n, i + 1)\n",
    "    plt.imshow(X_test[i].reshape(28, 28))\n",
    "    plt.gray()\n",
    "    ax.get_xaxis().set_visible(False)\n",
    "    ax.get_yaxis().set_visible(False)\n",
    "\n",
    "    # display reconstruction\n",
    "    ax = plt.subplot(2, n, i + 1 + n)\n",
    "    plt.imshow(decoded_imgs[i].reshape(28, 28))\n",
    "    plt.gray()\n",
    "    ax.get_xaxis().set_visible(False)\n",
    "    ax.get_yaxis().set_visible(False)"
   ]
  },
  {
   "cell_type": "markdown",
   "metadata": {},
   "source": [
    "# 케라스로 구현하는 생성적 적대 신경망(GAN)\n",
    "\n",
    "생성적 적대 신경망(GAN; Generative Adverasrial Nework)은 경쟁해서 최적화를 수행하는 생성현 신경망입니다. GAN 내부의 두 신경망이 상호 경쟁하면서 학습합니다. \n",
    "두 신경망 중의 하나는 생성망이고 다른 하나는 판별망입니다.\n",
    "생성형 인공지능 방식으로 실제 데이터와 비슷한 확률분포를 가지는 허구 데이터를 생성합니다. "
   ]
  },
  {
   "cell_type": "code",
   "execution_count": 38,
   "metadata": {},
   "outputs": [],
   "source": [
    "import numpy as np\n",
    "import matplotlib.pyplot as plt\n",
    "%matplotlib inline\n",
    "from keras import datasets\n",
    "\n",
    "def load_data():\n",
    "    (X_train, _), (_, _) = mnist.load_data()\n",
    "    X_train = (X_train.astype(np.float32) - 127.5) / 127.5\n",
    "    X_train = np.expand_dims(X_train, axis=3)\n",
    "    return X_train"
   ]
  },
  {
   "cell_type": "markdown",
   "metadata": {},
   "source": [
    "# Building the generator"
   ]
  },
  {
   "cell_type": "code",
   "execution_count": null,
   "metadata": {},
   "outputs": [],
   "source": [
    "from keras import models\n",
    "from keras.layers import Dense, Conv2D, Reshape, Flatten, Lambda\n",
    "from keras.optimizers import Adam\n",
    "\n",
    "def build_generator(noise_shape=(100,)):\n",
    "    input = Input(noise_shape)\n",
    "    x = Dense(128 * 7 * 7, activation=\"relu\")(input)\n",
    "    x = Reshape((7, 7, 128))(x)\n",
    "    x = BatchNormalization(momentum=0.8)(x)\n",
    "    x = UpSampling2D()(x)\n",
    "    x = Conv2D(128, kernel_size=3, padding=\"same\")(x)\n",
    "    x = Activation(\"relu\")(x)\n",
    "    x = BatchNormalization(momentum=0.8)(x)\n",
    "    x = UpSampling2D()(x)\n",
    "    x = Conv2D(64, kernel_size=3, padding=\"same\")(x)\n",
    "    x = Activation(\"relu\")(x)\n",
    "    x = BatchNormalization(momentum=0.8)(x)\n",
    "    x = Conv2D(1, kernel_size=3, padding=\"same\")(x)\n",
    "    out = Activation(\"tanh\")(x)\n",
    "    model = Model(input, out)\n",
    "    print(\"-- Generator -- \")\n",
    "    model.summary()\n",
    "    return model"
   ]
  },
  {
   "cell_type": "markdown",
   "metadata": {},
   "source": [
    "# Building the discriminator"
   ]
  },
  {
   "cell_type": "code",
   "execution_count": null,
   "metadata": {},
   "outputs": [],
   "source": [
    "def build_discriminator(img_shape):\n",
    "    input = Input(img_shape)\n",
    "    x =Conv2D(32, kernel_size=3, strides=2, padding=\"same\")(input)\n",
    "    x = LeakyReLU(alpha=0.2)(x)\n",
    "    x = Dropout(0.25)(x)\n",
    "    x = Conv2D(64, kernel_size=3, strides=2, padding=\"same\")(x)\n",
    "    x = ZeroPadding2D(padding=((0, 1), (0, 1)))(x)\n",
    "    x = (LeakyReLU(alpha=0.2))(x)\n",
    "    x = Dropout(0.25)(x)\n",
    "    x = BatchNormalization(momentum=0.8)(x)\n",
    "    x = Conv2D(128, kernel_size=3, strides=2, padding=\"same\")(x)\n",
    "    x = LeakyReLU(alpha=0.2)(x)\n",
    "    x = Dropout(0.25)(x)\n",
    "    x = BatchNormalization(momentum=0.8)(x)\n",
    "    x = Conv2D(256, kernel_size=3, strides=1, padding=\"same\")(x)\n",
    "    x = LeakyReLU(alpha=0.2)(x)\n",
    "    x = Dropout(0.25)(x)\n",
    "    x = Flatten()(x)\n",
    "    out = Dense(1, activation='sigmoid')(x)\n",
    "    model = Model(input, out)\n",
    "    print(\"-- Discriminator -- \")\n",
    "    model.summary()\n",
    "    return model"
   ]
  }
 ],
 "metadata": {
  "kernelspec": {
   "display_name": "Python 3",
   "language": "python",
   "name": "python3"
  },
  "language_info": {
   "codemirror_mode": {
    "name": "ipython",
    "version": 3
   },
   "file_extension": ".py",
   "mimetype": "text/x-python",
   "name": "python",
   "nbconvert_exporter": "python",
   "pygments_lexer": "ipython3",
   "version": "3.6.3"
  }
 },
 "nbformat": 4,
 "nbformat_minor": 2
}
