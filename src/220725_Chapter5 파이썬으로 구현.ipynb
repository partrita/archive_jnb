{
 "cells": [
  {
   "cell_type": "markdown",
   "metadata": {},
   "source": [
    "머신러닝을 이해하는데 \n",
    "실제로 파이썬을 사용해 회귀와 분류를 구현해 이해를 해보도록 합니다.\n",
    "\n",
    "# 회귀\n",
    "\n",
    "## 학습데이터\n",
    "시각화를 통해 점 그래프로 나타내어 본다."
   ]
  },
  {
   "cell_type": "code",
   "execution_count": 24,
   "metadata": {},
   "outputs": [
    {
     "data": {
      "text/plain": [
       "[<matplotlib.lines.Line2D at 0x7f60b4219a58>]"
      ]
     },
     "execution_count": 24,
     "metadata": {},
     "output_type": "execute_result"
    },
    {
     "data": {
      "image/png": "[encoded data removed]",
      "text/plain": [
       "<matplotlib.figure.Figure at 0x7f60b40e7cc0>"
      ]
     },
     "metadata": {},
     "output_type": "display_data"
    }
   ],
   "source": [
    "import numpy as np\n",
    "import matplotlib.pyplot as plt\n",
    "%matplotlib inline\n",
    "\n",
    "# 데이터를 불러옵니다.\n",
    "train = np.loadtxt('./data/test.csv', delimiter=',', skiprows=1)\n",
    "x_train, y_train = train[:,0], train[:,1]\n",
    "\n",
    "# 시각화\n",
    "plt.plot(x_train,y_train, 'o', alpha = 0.7)"
   ]
  },
  {
   "cell_type": "markdown",
   "metadata": {},
   "source": [
    "일단은 1 차함수로 구현합니다. \n",
    "목적함수도 구현합니다.\n"
   ]
  },
  {
   "cell_type": "code",
   "execution_count": 19,
   "metadata": {},
   "outputs": [],
   "source": [
    "# 변수를 초기화합니다.\n",
    "theta0 = np.random.rand()\n",
    "theta1 = np.random.rand()\n",
    "\n",
    "def f(x):\n",
    "    '''예측함수'''\n",
    "    return theta0 + theta1 * x\n",
    "\n",
    "def E(x, y):\n",
    "    '''목적함수'''\n",
    "    return 0.5 * np.sum((y-f(x)) ** 2)\n",
    "\n",
    "# z-score 정규화\n",
    "mu = x_train.mean()\n",
    "sigma = x_train.std()\n",
    "\n",
    "def standardize(x):\n",
    "    '''표준화 함수'''\n",
    "    return (x - mu)/sigma\n",
    "\n",
    "z_train = standardize(x_train)"
   ]
  },
  {
   "cell_type": "markdown",
   "metadata": {},
   "source": [
    "변환된 z_train을 이용해 시각화를 하면 가로축의 스케일이 변한 것을 알 수 있습니다."
   ]
  },
  {
   "cell_type": "code",
   "execution_count": 25,
   "metadata": {},
   "outputs": [
    {
     "data": {
      "text/plain": [
       "[<matplotlib.lines.Line2D at 0x7f60b3e7c7f0>]"
      ]
     },
     "execution_count": 25,
     "metadata": {},
     "output_type": "execute_result"
    },
    {
     "data": {
      "image/png": "[encoded data removed]",
      "text/plain": [
       "<matplotlib.figure.Figure at 0x7f60b3f490f0>"
      ]
     },
     "metadata": {},
     "output_type": "display_data"
    }
   ],
   "source": [
    "# 시각화\n",
    "plt.plot(z_train,y_train, 'o', alpha = 0.7)"
   ]
  },
  {
   "cell_type": "markdown",
   "metadata": {},
   "source": [
    "이제 매개변수를 갱신하는 것은 구현합니다. 갱신식은 다음과 같습니다.\n",
    "\n",
    "<수학수식 넣기>\n"
   ]
  },
  {
   "cell_type": "code",
   "execution_count": 27,
   "metadata": {},
   "outputs": [
    {
     "name": "stdout",
     "output_type": "stream",
     "text": [
      "1 번째: theta0 = 429.121, theta1 = 93.472, 차분 = 0.005\n"
     ]
    }
   ],
   "source": [
    "eta  = 0.01 # 학습률\n",
    "diff = 1 # 오차의 차분\n",
    "count = 0 # 갱신횟수\n",
    "error = E(z_train, y_train)\n",
    "while diff > 0.01:\n",
    "    temp0 = theta0 - eta * np.sum((f(z_train) - y_train))\n",
    "    temp1 = theta1 - eta * np.sum((f(z_train) - y_train) * z_train)\n",
    "    theta0, theta1 = temp0, temp1\n",
    "    current_error = E(z_train, y_train)\n",
    "    diff = error - current_error\n",
    "    error = current_error\n",
    "    # 로그 출력\n",
    "    count += 1\n",
    "    log = '{} 번째: theta0 = {:.3f}, theta1 = {:.3f}, 차분 = {:.3f}'\n",
    "    print(log.format(count, theta0, theta1, diff))"
   ]
  },
  {
   "cell_type": "markdown",
   "metadata": {},
   "source": [
    "학습결과를 시각화해서 살펴봅니다."
   ]
  },
  {
   "cell_type": "code",
   "execution_count": 28,
   "metadata": {},
   "outputs": [
    {
     "data": {
      "text/plain": [
       "[<matplotlib.lines.Line2D at 0x7f60b3f49470>]"
      ]
     },
     "execution_count": 28,
     "metadata": {},
     "output_type": "execute_result"
    },
    {
     "data": {
      "image/png": "[encoded data removed]",
      "text/plain": [
       "<matplotlib.figure.Figure at 0x7f60b3f49198>"
      ]
     },
     "metadata": {},
     "output_type": "display_data"
    }
   ],
   "source": [
    "x = np.linspace(-3, 3, 100)\n",
    "plt.plot(z_train, y_train, 'o', alpha = 0.5)\n",
    "plt.plot(x, f(x))"
   ]
  },
  {
   "cell_type": "markdown",
   "metadata": {},
   "source": [
    "# 다항식 회귀 구현\n"
   ]
  },
  {
   "cell_type": "code",
   "execution_count": 32,
   "metadata": {
    "scrolled": false
   },
   "outputs": [
    {
     "name": "stdout",
     "output_type": "stream",
     "text": [
      "1회째: theta = [ 86.22266052  19.22233409  89.97659635], 차분 = 1170439.5944\n",
      "2회째: theta = [ 136.81280914   35.32175988  123.75398327], 차분 = 309485.4865\n",
      "3회째: theta = [ 170.52945066   48.66985429  132.92037185], 차분 = 118908.9462\n",
      "4회째: theta = [ 195.66948616   59.4754843   131.53493752], 차분 = 68216.4323\n",
      "5회째: theta = [ 216.05860142   68.10076982  125.87500263], 차분 = 48855.9735\n",
      "6회째: theta = [ 233.50188061   74.92248464  118.72284116], 차분 = 38000.8057\n",
      "7회째: theta = [ 248.88693626   80.28064301  111.29274209], 차분 = 30435.9137\n",
      "8회째: theta = [ 262.68100059   84.46410072  104.09714115], 차분 = 24693.1032\n",
      "9회째: theta = [ 275.15537224   87.71105082   97.33577407], 차분 = 20185.8773\n",
      "10회째: theta = [ 286.48714298   90.21481844   91.0703992 ], 차분 = 16589.5577\n",
      "11회째: theta = [ 296.80563454   92.13092039   85.30313112], 차분 = 13689.2692\n",
      "12회째: theta = [ 306.21388141   93.58379946   80.01145608], 차분 = 11331.5637\n",
      "13회째: theta = [ 314.79881391   94.67269755   75.16378856], 차분 = 9402.8853\n",
      "14회째: theta = [ 322.63629342   95.47657006   70.72629501], 차분 = 7817.3074\n",
      "15회째: theta = [ 329.79377573   96.05811197   66.66580559], 차분 = 6508.6671\n",
      "16회째: theta = [ 336.33185947   96.46701912   62.95098062], 차분 = 5425.2581\n",
      "17회째: theta = [ 342.30529145   96.74261346   59.55270428], 차분 = 4526.1517\n",
      "18회째: theta = [ 347.7636923    96.91594866   56.44414217], 차분 = 3778.5960\n",
      "19회째: theta = [ 352.75212541   97.01149542   53.60065789], 차분 = 3156.1431\n",
      "20회째: theta = [ 357.31156875   97.04848852   50.99967551], 차분 = 2637.2756\n",
      "21회째: theta = [ 361.4793199    97.04200265   48.62052634], 차분 = 2204.3813\n",
      "22회째: theta = [ 365.28935065   97.00381082   46.4442963 ], 차분 = 1842.9748\n",
      "23회째: theta = [ 368.77262126   96.94306909   44.45368085], 차분 = 1541.0963\n",
      "24회째: theta = [ 371.95736084   96.86686225   42.63284974], 차분 = 1288.8421\n",
      "25회째: theta = [ 374.86931872   96.78063855   40.96732218], 차분 = 1077.9912\n",
      "26회째: theta = [ 377.53199054   96.68855568   39.44385215], 차분 = 901.7074\n",
      "27회째: theta = [ 379.966822     96.59375609   38.05032326], 차분 = 754.2976\n",
      "28회째: theta = [ 382.19339295   96.49858564   36.77565251], 차분 = 631.0158\n",
      "29회째: theta = [ 384.22958386   96.40476727   35.60970216], 차분 = 527.9021\n",
      "30회째: theta = [ 386.09172665   96.31353873   34.54319914], 차분 = 441.6503\n",
      "31회째: theta = [ 387.79474149   96.22576156   33.56766131], 차분 = 369.4986\n",
      "32회째: theta = [ 389.35226093   96.14200734   32.67532996], 차분 = 309.1392\n",
      "33회째: theta = [ 390.77674276   96.06262571   31.85910818], 차분 = 258.6430\n",
      "34회째: theta = [ 392.07957257   95.98779792   31.11250437], 차분 = 216.3971\n",
      "35회째: theta = [ 393.27115718   95.91757893   30.42958059], 차분 = 181.0528\n",
      "36회째: theta = [ 394.36100963   95.85193035   29.80490539], 차분 = 151.4822\n",
      "37회째: theta = [ 395.35782662   95.79074611   29.23351058], 차분 = 126.7417\n",
      "38회째: theta = [ 396.26955918   95.73387242   28.71085171], 차분 = 106.0423\n",
      "39회째: theta = [ 397.10347701   95.68112325   28.23277196], 차분 = 88.7237\n",
      "40회째: theta = [ 397.86622721   95.63229208   27.79546904], 차분 = 74.2337\n",
      "41회째: theta = [ 398.56388796   95.58716095   27.39546497], 차분 = 62.1102\n",
      "42회째: theta = [ 399.20201738   95.54550726   27.02957843], 차분 = 51.9668\n",
      "43회째: theta = [ 399.78569822   95.5071088    26.69489943], 차분 = 43.4799\n",
      "44회째: theta = [ 400.31957869   95.47174743   26.38876618], 차분 = 36.3791\n",
      "45회째: theta = [ 400.80790971   95.4392117    26.10874395], 차분 = 30.4379\n",
      "46회째: theta = [ 401.25457898   95.40929871   25.85260563], 차분 = 25.4670\n",
      "47회째: theta = [ 401.66314206   95.3818152    25.61831411], 차분 = 21.3080\n",
      "48회째: theta = [ 402.03685083   95.35657835   25.40400599], 차분 = 17.8281\n",
      "49회째: theta = [ 402.37867946   95.33341603   25.20797685], 차분 = 14.9166\n",
      "50회째: theta = [ 402.6913482    95.31216689   25.02866762], 차분 = 12.4805\n",
      "51회째: theta = [ 402.97734504   95.29268023   24.86465219], 차분 = 10.4423\n",
      "52회째: theta = [ 403.23894559   95.27481571   24.71462613], 차분 = 8.7370\n",
      "53회째: theta = [ 403.47823125   95.25844297   24.57739622], 차분 = 7.3101\n",
      "54회째: theta = [ 403.69710575   95.24344114   24.45187107], 차분 = 6.1163\n",
      "55회째: theta = [ 403.89731039   95.22969841   24.33705232], 차분 = 5.1174\n",
      "56회째: theta = [ 404.08043785   95.21711149   24.2320268 ], 차분 = 4.2817\n",
      "57회째: theta = [ 404.24794492   95.20558506   24.13595922], 차분 = 3.5825\n",
      "58회째: theta = [ 404.40116409   95.19503128   24.04808552], 차분 = 2.9974\n",
      "59회째: theta = [ 404.54131417   95.18536928   23.96770683], 차분 = 2.5079\n",
      "60회째: theta = [ 404.66950997   95.17652469   23.89418388], 차분 = 2.0983\n",
      "61회째: theta = [ 404.7867712    95.16842912   23.82693191], 차분 = 1.7556\n",
      "62회째: theta = [ 404.89403058   95.16101976   23.76541606], 차분 = 1.4689\n",
      "63회째: theta = [ 404.99214125   95.15423893   23.70914708], 차분 = 1.2290\n",
      "64회째: theta = [ 405.08188358   95.14803372   23.65767745], 차분 = 1.0283\n",
      "65회째: theta = [ 405.16397138   95.14235557   23.61059782], 차분 = 0.8604\n",
      "66회째: theta = [ 405.23905754   95.13715997   23.56753374], 차분 = 0.7199\n",
      "67회째: theta = [ 405.30773928   95.13240611   23.52814273], 차분 = 0.6023\n",
      "68회째: theta = [ 405.37056288   95.1280566    23.49211149], 차분 = 0.5039\n",
      "69회째: theta = [ 405.42802801   95.12407717   23.45915346], 차분 = 0.4216\n",
      "70회째: theta = [ 405.48059171   95.12043644   23.42900652], 차분 = 0.3528\n",
      "71회째: theta = [ 405.52867206   95.11710567   23.4014309 ], 차분 = 0.2952\n",
      "72회째: theta = [ 405.57265147   95.11405852   23.37620729], 차분 = 0.2470\n",
      "73회째: theta = [ 405.61287972   95.11127091   23.35313508], 차분 = 0.2066\n",
      "74회째: theta = [ 405.64967676   95.10872076   23.33203076], 차분 = 0.1729\n",
      "75회째: theta = [ 405.68333526   95.10638789   23.31272649], 차분 = 0.1447\n",
      "76회째: theta = [ 405.71412291   95.10425381   23.29506873], 차분 = 0.1210\n",
      "77회째: theta = [ 405.74228458   95.1023016    23.27891706], 차분 = 0.1013\n",
      "78회째: theta = [ 405.76804425   95.10051578   23.26414302], 차분 = 0.0847\n",
      "79회째: theta = [ 405.7916068    95.09888218   23.25062909], 차분 = 0.0709\n",
      "80회째: theta = [ 405.81315962   95.09738784   23.23826781], 차분 = 0.0593\n",
      "81회째: theta = [ 405.83287413   95.09602089   23.22696086], 차분 = 0.0496\n",
      "82회째: theta = [ 405.85090714   95.09477048   23.21661831], 차분 = 0.0415\n",
      "83회째: theta = [ 405.86740205   95.09362669   23.20715791], 차분 = 0.0347\n",
      "84회째: theta = [ 405.88249006   95.09258042   23.19850441], 차분 = 0.0291\n",
      "85회째: theta = [ 405.89629116   95.09162336   23.190589  ], 차분 = 0.0243\n",
      "86회째: theta = [ 405.90891513   95.09074792   23.18334871], 차분 = 0.0203\n",
      "87회째: theta = [ 405.92046236   95.08994713   23.17672597], 차분 = 0.0170\n",
      "88회째: theta = [ 405.9310247    95.08921462   23.1706681 ], 차분 = 0.0142\n",
      "89회째: theta = [ 405.94068614   95.08854459   23.16512693], 차분 = 0.0119\n",
      "90회째: theta = [ 405.94952352   95.08793169   23.16005838], 차분 = 0.0100\n"
     ]
    },
    {
     "data": {
      "image/png": "[encoded data removed]",
      "text/plain": [
       "<matplotlib.figure.Figure at 0x7f60b3cab198>"
      ]
     },
     "metadata": {},
     "output_type": "display_data"
    }
   ],
   "source": [
    "# 학습 데이터를 읽는다\n",
    "train = np.loadtxt('./data/test.csv', delimiter=',', dtype='int', skiprows=1)\n",
    "train_x = train[:,0]\n",
    "train_y = train[:,1]\n",
    "\n",
    "# 표준화\n",
    "mu = train_x.mean()\n",
    "sigma = train_x.std()\n",
    "def standardize(x):\n",
    "    return (x - mu) / sigma\n",
    "\n",
    "train_z = standardize(train_x)\n",
    "\n",
    "# 매개변수를 초기화한다\n",
    "theta = np.random.rand(3)\n",
    "\n",
    "# 학습 데이터 행렬을 만든다\n",
    "def to_matrix(x):\n",
    "    return np.vstack([np.ones(x.size), x, x ** 2]).T\n",
    "\n",
    "X = to_matrix(train_z)\n",
    "\n",
    "# 예측함수\n",
    "def f(x):\n",
    "    return np.dot(x, theta)\n",
    "\n",
    "# 목적함수\n",
    "def E(x, y):\n",
    "    return 0.5 * np.sum((y - f(x)) ** 2)\n",
    "\n",
    "\n",
    "# 학습률\n",
    "ETA = 0.01\n",
    "\n",
    "# 오차의 차분\n",
    "diff = 1\n",
    "\n",
    "# 갱신 횟수\n",
    "count = 0\n",
    "\n",
    "# 오차의 차분이 0.01이하가 될 때까지 매개변수 갱신을 반복한다\n",
    "error = E(X, train_y)\n",
    "while diff > 0.01:\n",
    "    # 갱신 결과를 임시변수에 저장한다\n",
    "    theta = theta - ETA * np.dot(f(X) - train_y, X)\n",
    "\n",
    "    # 이전 회의 오차와의 차분을 계산한다\n",
    "    current_error = E(X, train_y)\n",
    "    diff = error - current_error\n",
    "    error = current_error\n",
    "\n",
    "    # 로그를 출력한다\n",
    "    count += 1\n",
    "    log = '{}회째: theta = {}, 차분 = {:.4f}'\n",
    "    print(log.format(count, theta, diff))\n",
    "\n",
    "# 그래프로 나타낸다\n",
    "x = np.linspace(-3, 3, 100)\n",
    "plt.plot(train_z, train_y, 'o')\n",
    "plt.plot(x, f(to_matrix(x)))\n",
    "plt.show()\n",
    "            \n"
   ]
  },
  {
   "cell_type": "code",
   "execution_count": 36,
   "metadata": {},
   "outputs": [
    {
     "data": {
      "image/png": "[encoded data removed]",
      "text/plain": [
       "<matplotlib.figure.Figure at 0x7f60b39fe240>"
      ]
     },
     "metadata": {},
     "output_type": "display_data"
    }
   ],
   "source": [
    "def MSE(x, y):\n",
    "    '''평균제곱오차'''\n",
    "    return (1 / x.shape[0] * np.sum((y-f(x)) ** 2 ))\n",
    "\n",
    "theta = np.random.rand(3)\n",
    "errors = []\n",
    "diff = 1\n",
    "errors.append(MSE(X, train_y))\n",
    "while diff > 0.01:\n",
    "            theta = theta - ETA *np.dot(f(X) - train_y, X)\n",
    "            errors.append(MSE(X, train_y))\n",
    "            diff = errors[-2] - errors[-1]\n",
    "            \n",
    "x = np.arange(len(errors))\n",
    "plt.plot(x, errors)\n",
    "plt.show()"
   ]
  },
  {
   "cell_type": "code",
   "execution_count": null,
   "metadata": {},
   "outputs": [],
   "source": []
  }
 ],
 "metadata": {
  "kernelspec": {
   "display_name": "Python 3",
   "language": "python",
   "name": "python3"
  },
  "language_info": {
   "codemirror_mode": {
    "name": "ipython",
    "version": 3
   },
   "file_extension": ".py",
   "mimetype": "text/x-python",
   "name": "python",
   "nbconvert_exporter": "python",
   "pygments_lexer": "ipython3",
   "version": "3.6.3"
  }
 },
 "nbformat": 4,
 "nbformat_minor": 2
}
