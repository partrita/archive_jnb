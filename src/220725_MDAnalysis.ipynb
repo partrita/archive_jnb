{
 "cells": [
  {
   "cell_type": "markdown",
   "metadata": {},
   "source": [
    "# MDAnalysis\n",
    "\n",
    "## basic example"
   ]
  },
  {
   "cell_type": "code",
   "execution_count": 2,
   "metadata": {},
   "outputs": [
    {
     "name": "stdout",
     "output_type": "stream",
     "text": [
      "frame = 0: d = 11.712209701538086 A, Rgyr = 16.43512217722917 A\n",
      "frame = 1: d = 11.437788963317871 A, Rgyr = 16.446379905942543 A\n",
      "frame = 2: d = 11.20651912689209 A, Rgyr = 16.514262645778786 A\n",
      "frame = 3: d = 10.541850090026855 A, Rgyr = 16.537608886324758 A\n",
      "frame = 4: d = 10.559649467468262 A, Rgyr = 16.556085186727625 A\n",
      "frame = 5: d = 10.744684219360352 A, Rgyr = 16.50855042776456 A\n",
      "frame = 6: d = 10.879876136779785 A, Rgyr = 16.5880977180091 A\n",
      "frame = 7: d = 10.3356351852417 A, Rgyr = 16.585374810361454 A\n",
      "frame = 8: d = 10.72763442993164 A, Rgyr = 16.60715456523085 A\n",
      "frame = 9: d = 11.756329536437988 A, Rgyr = 16.632735021355646 A\n",
      "frame = 10: d = 11.579389572143555 A, Rgyr = 16.661952763645147 A\n",
      "frame = 11: d = 11.506628036499023 A, Rgyr = 16.665241030824312 A\n",
      "frame = 12: d = 10.815601348876953 A, Rgyr = 16.678476525559958 A\n",
      "frame = 13: d = 10.514074325561523 A, Rgyr = 16.725832721672987 A\n",
      "frame = 14: d = 10.491043090820312 A, Rgyr = 16.748083041365195 A\n",
      "frame = 15: d = 10.608440399169922 A, Rgyr = 16.796727427971135 A\n",
      "frame = 16: d = 10.874850273132324 A, Rgyr = 16.81213475656776 A\n",
      "frame = 17: d = 10.812933921813965 A, Rgyr = 16.833610165883382 A\n",
      "frame = 18: d = 11.347336769104004 A, Rgyr = 16.911875488608867 A\n",
      "frame = 19: d = 11.099172592163086 A, Rgyr = 16.955626966693966 A\n",
      "frame = 20: d = 11.02481460571289 A, Rgyr = 16.97180050629148 A\n",
      "frame = 21: d = 10.993246078491211 A, Rgyr = 16.99551229054332 A\n",
      "frame = 22: d = 11.26960563659668 A, Rgyr = 17.04674696249996 A\n",
      "frame = 23: d = 10.70339584350586 A, Rgyr = 17.042910912214342 A\n",
      "frame = 24: d = 10.253727912902832 A, Rgyr = 17.087061310346606 A\n",
      "frame = 25: d = 10.34040641784668 A, Rgyr = 17.140986595590633 A\n",
      "frame = 26: d = 10.447964668273926 A, Rgyr = 17.173693196187518 A\n",
      "frame = 27: d = 10.386266708374023 A, Rgyr = 17.22393113703349 A\n",
      "frame = 28: d = 11.161060333251953 A, Rgyr = 17.284159814523566 A\n",
      "frame = 29: d = 11.322938919067383 A, Rgyr = 17.33446077908817 A\n",
      "frame = 30: d = 10.835244178771973 A, Rgyr = 17.36951625601524 A\n",
      "frame = 31: d = 10.754547119140625 A, Rgyr = 17.39683632549182 A\n",
      "frame = 32: d = 9.8779935836792 A, Rgyr = 17.437797955189975 A\n",
      "frame = 33: d = 9.925955772399902 A, Rgyr = 17.487257704730013 A\n",
      "frame = 34: d = 10.840104103088379 A, Rgyr = 17.5579328129066 A\n",
      "frame = 35: d = 11.2741117477417 A, Rgyr = 17.583506352579814 A\n",
      "frame = 36: d = 11.093612670898438 A, Rgyr = 17.647915523956 A\n",
      "frame = 37: d = 11.172843933105469 A, Rgyr = 17.66361622105028 A\n",
      "frame = 38: d = 11.665624618530273 A, Rgyr = 17.726630720255123 A\n",
      "frame = 39: d = 10.560954093933105 A, Rgyr = 17.792526872353484 A\n",
      "frame = 40: d = 11.234977722167969 A, Rgyr = 17.812567171073685 A\n",
      "frame = 41: d = 10.860090255737305 A, Rgyr = 17.875372314111925 A\n",
      "frame = 42: d = 11.07529067993164 A, Rgyr = 17.929459358630528 A\n",
      "frame = 43: d = 11.442818641662598 A, Rgyr = 17.956946045912883 A\n",
      "frame = 44: d = 10.446491241455078 A, Rgyr = 18.003364756137817 A\n",
      "frame = 45: d = 10.461115837097168 A, Rgyr = 18.05809317716235 A\n",
      "frame = 46: d = 10.530206680297852 A, Rgyr = 18.120051346928676 A\n",
      "frame = 47: d = 11.288724899291992 A, Rgyr = 18.16009455358577 A\n",
      "frame = 48: d = 10.513795852661133 A, Rgyr = 18.219306782966928 A\n",
      "frame = 49: d = 11.161148071289062 A, Rgyr = 18.25548018369986 A\n",
      "frame = 50: d = 10.790514945983887 A, Rgyr = 18.29371816314127 A\n",
      "frame = 51: d = 10.654065132141113 A, Rgyr = 18.333492311687692 A\n",
      "frame = 52: d = 10.1670503616333 A, Rgyr = 18.41239705559576 A\n",
      "frame = 53: d = 9.503074645996094 A, Rgyr = 18.442614527566988 A\n",
      "frame = 54: d = 9.482149124145508 A, Rgyr = 18.548611250024237 A\n",
      "frame = 55: d = 9.670262336730957 A, Rgyr = 18.532018464649184 A\n",
      "frame = 56: d = 9.920693397521973 A, Rgyr = 18.586801506125905 A\n",
      "frame = 57: d = 10.298683166503906 A, Rgyr = 18.652206860577255 A\n",
      "frame = 58: d = 9.464628219604492 A, Rgyr = 18.746940317391932 A\n",
      "frame = 59: d = 9.314188003540039 A, Rgyr = 18.755656398081594 A\n",
      "frame = 60: d = 10.18846321105957 A, Rgyr = 18.76080017742711 A\n",
      "frame = 61: d = 10.093527793884277 A, Rgyr = 18.809474408000632 A\n",
      "frame = 62: d = 9.335489273071289 A, Rgyr = 18.823398860439568 A\n",
      "frame = 63: d = 9.227848052978516 A, Rgyr = 18.858905659031947 A\n",
      "frame = 64: d = 9.686277389526367 A, Rgyr = 18.854195654866643 A\n",
      "frame = 65: d = 10.189227104187012 A, Rgyr = 18.910939034290188 A\n",
      "frame = 66: d = 9.97265338897705 A, Rgyr = 18.987779477012307 A\n",
      "frame = 67: d = 10.501687049865723 A, Rgyr = 19.00180629008548 A\n",
      "frame = 68: d = 9.682138442993164 A, Rgyr = 19.10154495795353 A\n",
      "frame = 69: d = 9.797377586364746 A, Rgyr = 19.163124107289264 A\n",
      "frame = 70: d = 10.023391723632812 A, Rgyr = 19.1968948218356 A\n",
      "frame = 71: d = 10.100427627563477 A, Rgyr = 19.186844147060107 A\n",
      "frame = 72: d = 9.420878410339355 A, Rgyr = 19.164284278139473 A\n",
      "frame = 73: d = 9.380023002624512 A, Rgyr = 19.186709951891547 A\n",
      "frame = 74: d = 10.24001693725586 A, Rgyr = 19.245363295299452 A\n",
      "frame = 75: d = 9.511256217956543 A, Rgyr = 19.26139380108523 A\n",
      "frame = 76: d = 9.226740837097168 A, Rgyr = 19.29551412691776 A\n",
      "frame = 77: d = 9.042043685913086 A, Rgyr = 19.317692690770492 A\n",
      "frame = 78: d = 9.225113868713379 A, Rgyr = 19.339675220414374 A\n",
      "frame = 79: d = 9.570869445800781 A, Rgyr = 19.353827896716908 A\n",
      "frame = 80: d = 9.851541519165039 A, Rgyr = 19.376783488109997 A\n",
      "frame = 81: d = 9.238840103149414 A, Rgyr = 19.386381318701787 A\n",
      "frame = 82: d = 9.361523628234863 A, Rgyr = 19.384905615477262 A\n",
      "frame = 83: d = 10.045469284057617 A, Rgyr = 19.415816567280515 A\n",
      "frame = 84: d = 9.427517890930176 A, Rgyr = 19.41063074818078 A\n",
      "frame = 85: d = 9.009650230407715 A, Rgyr = 19.47807298829613 A\n",
      "frame = 86: d = 9.29185676574707 A, Rgyr = 19.48268314784007 A\n",
      "frame = 87: d = 9.723532676696777 A, Rgyr = 19.41941335628113 A\n",
      "frame = 88: d = 9.716852188110352 A, Rgyr = 19.43324222380339 A\n",
      "frame = 89: d = 9.69136905670166 A, Rgyr = 19.469842527284428 A\n",
      "frame = 90: d = 10.082599639892578 A, Rgyr = 19.478591463446243 A\n",
      "frame = 91: d = 10.056045532226562 A, Rgyr = 19.466419404244284 A\n",
      "frame = 92: d = 9.674400329589844 A, Rgyr = 19.489106473928366 A\n",
      "frame = 93: d = 10.003105163574219 A, Rgyr = 19.451345660432114 A\n",
      "frame = 94: d = 9.68830680847168 A, Rgyr = 19.453190508926067 A\n",
      "frame = 95: d = 9.582745552062988 A, Rgyr = 19.43169335473808 A\n",
      "frame = 96: d = 9.667543411254883 A, Rgyr = 19.4474718023193 A\n",
      "frame = 97: d = 9.9535551071167 A, Rgyr = 19.469876946752677 A\n"
     ]
    }
   ],
   "source": [
    "import MDAnalysis\n",
    "from MDAnalysis.tests.datafiles import PSF, DCD   # test trajectory\n",
    "import numpy.linalg\n",
    "\n",
    "u = MDAnalysis.Universe(PSF,DCD)  # always start with a Universe\n",
    "# can access via segid (4AKE) and atom name\n",
    "# we take the first atom named N and the last atom named C\n",
    "nterm = u.select_atoms('segid 4AKE and name N')[0]\n",
    "cterm = u.select_atoms('segid 4AKE and name C')[-1]\n",
    "\n",
    "bb = u.select_atoms('protein and backbone')  # a selection (AtomGroup)\n",
    "\n",
    "for ts in u.trajectory:     # iterate through all frames\n",
    "    r = cterm.position - nterm.position # end-to-end vector from atom positions\n",
    "    d = numpy.linalg.norm(r)  # end-to-end distance\n",
    "    rgyr = bb.radius_of_gyration()  # method of AtomGroup\n",
    "    print(\"frame = {0}: d = {1} A, Rgyr = {2} A\".format(\n",
    "          ts.frame, d, rgyr))"
   ]
  },
  {
   "cell_type": "code",
   "execution_count": 3,
   "metadata": {},
   "outputs": [
    {
     "name": "stdout",
     "output_type": "stream",
     "text": [
      "<Universe with 3341 atoms>\n",
      "0.19.0\n"
     ]
    }
   ],
   "source": [
    "import MDAnalysis\n",
    "from MDAnalysis.tests.datafiles import PSF, DCD\n",
    "\n",
    "print(MDAnalysis.Universe(PSF, DCD))\n",
    "print(MDAnalysis.__version__)"
   ]
  },
  {
   "cell_type": "code",
   "execution_count": null,
   "metadata": {},
   "outputs": [],
   "source": []
  }
 ],
 "metadata": {
  "kernelspec": {
   "display_name": "Python 3",
   "language": "python",
   "name": "python3"
  },
  "language_info": {
   "codemirror_mode": {
    "name": "ipython",
    "version": 3
   },
   "file_extension": ".py",
   "mimetype": "text/x-python",
   "name": "python",
   "nbconvert_exporter": "python",
   "pygments_lexer": "ipython3",
   "version": "3.6.3"
  }
 },
 "nbformat": 4,
 "nbformat_minor": 2
}
