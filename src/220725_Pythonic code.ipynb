{
 "cells": [
  {
   "cell_type": "markdown",
   "metadata": {},
   "source": [
    "# 곱집합(Cartesian product) 구하기 - product\n",
    "\n",
    "이번 강의에서는 iterable으로 곱집합을 구하는 방법을 알아봅니다.\n",
    "\n",
    "예시) 두 스트링 'ABCD', 'xy' 의 곱집합은 Ax Ay Bx By Cx Cy Dx Dy 입니다.\n",
    "\n",
    "다른 언어에서는..(또는 이 기능을 모르시는 분은)\n",
    "보통 사람들은 for 문을 이용해 두 iterable의 원소를 하나씩 곱해갑니다."
   ]
  },
  {
   "cell_type": "code",
   "execution_count": 5,
   "metadata": {},
   "outputs": [
    {
     "name": "stdout",
     "output_type": "stream",
     "text": [
      "A1 A2 A3 A4 B1 B2 B3 B4 C1 C2 C3 C4 D1 D2 D3 D4 "
     ]
    }
   ],
   "source": [
    "iterable1 = 'ABCD'\n",
    "iterable2 = '1234'\n",
    "\n",
    "for i in iterable1:\n",
    "    for j in iterable2:\n",
    "        print(i+j, end = ' ')"
   ]
  },
  {
   "cell_type": "markdown",
   "metadata": {},
   "source": [
    "파이썬에서는\n",
    "itertools.product를 이용하면, for 문을 사용하지 않고도 곱집합을 구할 수 있습니다."
   ]
  },
  {
   "cell_type": "code",
   "execution_count": 6,
   "metadata": {},
   "outputs": [
    {
     "name": "stdout",
     "output_type": "stream",
     "text": [
      "('A', '1') ('A', '2') ('A', '3') ('A', '4') ('B', '1') ('B', '2') ('B', '3') ('B', '4') ('C', '1') ('C', '2') ('C', '3') ('C', '4') ('D', '1') ('D', '2') ('D', '3') ('D', '4') "
     ]
    }
   ],
   "source": [
    "import itertools\n",
    "result = itertools.product(iterable1, iterable2)\n",
    "# 결과를 보이기 위한 코드\n",
    "for i in result:\n",
    "    print(i,end = ' ')"
   ]
  },
  {
   "cell_type": "markdown",
   "metadata": {},
   "source": [
    "https://docs.python.org/3.4/library/string.html"
   ]
  },
  {
   "cell_type": "markdown",
   "metadata": {},
   "source": [
    "# 2차원 리스트를 1차원 리스트로 만들기 - from_iterable\n",
    "코딩을 하다보면, 이차원 리스트를 일차원 리스트로 만들어야 할 때가 있습니다. 이럴 땐 어떻게 하시나요? 다른 언어에서는..(또는 이 기능을 모르시는 분은)\n",
    "보통 사람들은 반복문을 이용해 리스트를 더해갑니다. 파이썬에서는\n",
    "파이썬의 다양한 기능을 사용하면, for 문을 사용하지 않고도 리스트를 이어붙일 수 있습니다."
   ]
  },
  {
   "cell_type": "code",
   "execution_count": 7,
   "metadata": {},
   "outputs": [
    {
     "ename": "NameError",
     "evalue": "name 'mylist' is not defined",
     "output_type": "error",
     "traceback": [
      "\u001b[0;31m---------------------------------------------------------------------------\u001b[0m",
      "\u001b[0;31mNameError\u001b[0m                                 Traceback (most recent call last)",
      "\u001b[0;32m<ipython-input-7-b399b56582f2>\u001b[0m in \u001b[0;36m<module>\u001b[0;34m()\u001b[0m\n\u001b[1;32m      2\u001b[0m \u001b[0;34m\u001b[0m\u001b[0m\n\u001b[1;32m      3\u001b[0m \u001b[0;31m# 방법 1 - sum 함수\u001b[0m\u001b[0;34m\u001b[0m\u001b[0;34m\u001b[0m\u001b[0m\n\u001b[0;32m----> 4\u001b[0;31m \u001b[0manswer\u001b[0m \u001b[0;34m=\u001b[0m \u001b[0msum\u001b[0m\u001b[0;34m(\u001b[0m\u001b[0mmylist\u001b[0m\u001b[0;34m,\u001b[0m \u001b[0;34m[\u001b[0m\u001b[0;34m]\u001b[0m\u001b[0;34m)\u001b[0m\u001b[0;34m\u001b[0m\u001b[0m\n\u001b[0m\u001b[1;32m      5\u001b[0m \u001b[0;34m\u001b[0m\u001b[0m\n\u001b[1;32m      6\u001b[0m \u001b[0;31m# 방법 2 - itertools\u001b[0m\u001b[0;34m\u001b[0m\u001b[0;34m\u001b[0m\u001b[0m\n",
      "\u001b[0;31mNameError\u001b[0m: name 'mylist' is not defined"
     ]
    }
   ],
   "source": [
    "my_list = [[1, 2], [3, 4], [5, 6]]\n",
    "\n",
    "# 방법 1 - sum 함수\n",
    "answer = sum(my_list, [])\n",
    "\n",
    "# 방법 2 - itertools\n",
    "import itertools\n",
    "itertools.chain.from_iterable(my_list)"
   ]
  },
  {
   "cell_type": "markdown",
   "metadata": {},
   "source": [
    "# 순열과 조합 - combinations, permutations\n",
    "이번 강의에서는 iterable의 원소로 순열과 조합을 구하는 방법을 배워봅시다.\n",
    "\n",
    "예시)\n",
    "\n",
    "1,2,3의 숫자가 적힌 카드가 있을 때, 이 중 두 장을 꺼내는 경우의 수 -> 12, 13, 21, 23, 31, 32\n",
    "'A', 'B', 'C'로 만들 수 있는 경우의 수 -> 'ABC', 'ACB', 'BAC', 'BCA', 'CAB', 'CBA'\n"
   ]
  },
  {
   "cell_type": "code",
   "execution_count": null,
   "metadata": {},
   "outputs": [],
   "source": [
    "다른 언어에서는..(또는 이 기능을 모르시는 분은)\n",
    "보통 사람들은 for 문을 이용해 permutation 함수를 구현합니다."
   ]
  },
  {
   "cell_type": "code",
   "execution_count": 11,
   "metadata": {},
   "outputs": [
    {
     "name": "stdout",
     "output_type": "stream",
     "text": [
      "['B', 'A', 'C']\n",
      "['A', 'C', 'B']\n",
      "['C', 'B', 'A']\n",
      "['B', 'A', 'C']\n",
      "['A', 'C', 'B']\n",
      "['C', 'B', 'A']\n"
     ]
    }
   ],
   "source": [
    "# 재귀함수를 이용해 만든 permutation 함수\n",
    "def permutation(iterable, n, r):\n",
    "    if r == 0:\n",
    "        print(iterable)\n",
    "#         return\n",
    "    for i in range(n-1, -1, -1):\n",
    "        iterable[i], iterable[i-1] = iterable[i-1], iterable[i]\n",
    "        permutation(iterable, n-1, r-1)\n",
    "        iterable[i], iterable[i-1] = iterable[i-1], iterable[i]\n",
    "\n",
    "pool = ['A', 'B', 'C']\n",
    "permutation(pool, len(pool), len(pool))"
   ]
  },
  {
   "cell_type": "markdown",
   "metadata": {},
   "source": [
    "파이썬에서는\n",
    "itertools.permutation를 이용하면, for문을 사용하지 않고도 순열을 구할 수 있습니다."
   ]
  },
  {
   "cell_type": "code",
   "execution_count": 10,
   "metadata": {},
   "outputs": [
    {
     "name": "stdout",
     "output_type": "stream",
     "text": [
      "['ABC', 'ACB', 'BAC', 'BCA', 'CAB', 'CBA']\n",
      "['AB', 'AC', 'BA', 'BC', 'CA', 'CB']\n"
     ]
    }
   ],
   "source": [
    "import itertools\n",
    "\n",
    "pool = ['A', 'B', 'C']\n",
    "print(list(map(''.join, itertools.permutations(pool)))) # 3개의 원소로 수열 만들기\n",
    "print(list(map(''.join, itertools.permutations(pool, 2)))) # 2개의 원소로 수열 만들기\n",
    "# 조합은 itertools.combinations를 사용해서 구할 수 있습니다. 사용법은 permutations와 비슷해요!"
   ]
  },
  {
   "cell_type": "code",
   "execution_count": null,
   "metadata": {},
   "outputs": [],
   "source": [
    "가장 많이 등장하는 알파벳 찾기 - Counter\n",
    "알고리즘 문제를 풀다 보면 어떤 원소 x가 주어진 시퀀스타입에 몇 번이나 등장하는지 세야 할 때가 있습니다.\n",
    "이런 경우는 보통 어떻게 하시나요?\n",
    "다른 언어에서는..(또는 이 기능을 모르시는 분은)\n",
    "보통 사람들은 반복문을 이용해 수를 셉니다."
   ]
  },
  {
   "cell_type": "code",
   "execution_count": null,
   "metadata": {},
   "outputs": [],
   "source": [
    "my_list = [1, 2, 3, 4, 5, 6, 7, 8, 7, 9, 1, 2, 3, 3, 5, 2, 6, 8, 9, 0, 1, 1, 4, 7, 0]\n",
    "answer = {}\n",
    "for number in my_list:\n",
    "    try:\n",
    "        answer[number] += 1\n",
    "    except KeyError:\n",
    "        answer[number] = 1\n",
    "\n",
    "print(answer[1]) # = 4\n",
    "print(answer[3])  # = 3\n",
    "print(answer[100])  # =  raise KeyError"
   ]
  },
  {
   "cell_type": "code",
   "execution_count": null,
   "metadata": {},
   "outputs": [],
   "source": [
    "파이썬에서는\n",
    "파이썬의 collection.Counter 클래스를 사용하면 이 코드를 간략하게 만들 수 있습니다."
   ]
  },
  {
   "cell_type": "code",
   "execution_count": null,
   "metadata": {},
   "outputs": [],
   "source": [
    "import collections\n",
    "my_list = [1, 2, 3, 4, 5, 6, 7, 8, 7, 9, 1, 2, 3, 3, 5, 2, 6, 8, 9, 0, 1, 1, 4, 7, 0]\n",
    "answer = collections.Counter(my_list)\n",
    "\n",
    "print(answer[1]) # = 4\n",
    "print(answer[3])  # = 3\n",
    "print(answer[100]) # = 0"
   ]
  }
 ],
 "metadata": {
  "kernelspec": {
   "display_name": "Python 3",
   "language": "python",
   "name": "python3"
  },
  "language_info": {
   "codemirror_mode": {
    "name": "ipython",
    "version": 3
   },
   "file_extension": ".py",
   "mimetype": "text/x-python",
   "name": "python",
   "nbconvert_exporter": "python",
   "pygments_lexer": "ipython3",
   "version": "3.6.3"
  }
 },
 "nbformat": 4,
 "nbformat_minor": 2
}
