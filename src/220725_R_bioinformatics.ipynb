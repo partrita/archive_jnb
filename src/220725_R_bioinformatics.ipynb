{
  "nbformat": 4,
  "nbformat_minor": 0,
  "metadata": {
    "colab": {
      "name": "R_bioinformatics.ipynb",
      "version": "0.3.2",
      "provenance": [],
      "include_colab_link": true
    },
    "kernelspec": {
      "display_name": "R",
      "language": "R",
      "name": "ir"
    }
  },
  "cells": [
    {
      "cell_type": "markdown",
      "metadata": {
        "id": "view-in-github",
        "colab_type": "text"
      },
      "source": [
        "<a href=\"https://colab.research.google.com/github/partrita/JupyterNote/blob/master/R_bioinformatics.ipynb\" target=\"_parent\"><img src=\"https://colab.research.google.com/assets/colab-badge.svg\" alt=\"Open In Colab\"/></a>"
      ]
    },
    {
      "cell_type": "markdown",
      "metadata": {
        "id": "z9Y4oH2yXEKO",
        "colab_type": "text"
      },
      "source": [
        "# 0. 내용 출처\n",
        "\n",
        "포루쉬 프라빈 신하의 저서 R을 활용한바이오인포매틱스(에이콘출판, 2014)의 내용을 발췌해 Jupyter notebook 파일로 만들었다.\n",
        "\n",
        "# 1. R을 이용한 생명정보학 시작\n",
        "\n",
        "## 1.1. 라이브러리 설치\n",
        "\n",
        "라이브러리 설치 명령어\n",
        "```\n",
        "install.packages(\"package_name\")\n",
        "\n",
        "```\n",
        "\n",
        "라이브러리 불러오기\n",
        "```\n",
        "library(package_name)\n",
        "```\n",
        "\n",
        "## 1.2. 데이터 읽고 쓰기\n",
        "\n",
        "주로 테이블 데이터를 읽기 위해 `read.csv`나 `read.table`를 사용한다."
      ]
    },
    {
      "cell_type": "code",
      "metadata": {
        "id": "fDA63iCpXEKX",
        "colab_type": "code",
        "colab": {},
        "outputId": "d51170c2-5ec3-40b9-9771-1a5b6a6add5d"
      },
      "source": [
        "iris <- read.csv('iris.csv', header= TRUE, sep=\",\")\n",
        "head(iris) # 맨위 6행의 데이터를 학인"
      ],
      "execution_count": 0,
      "outputs": [
        {
          "output_type": "display_data",
          "data": {
            "text/html": [
              "<table>\n",
              "<thead><tr><th scope=col>sepal.length</th><th scope=col>sepal.width</th><th scope=col>petal.length</th><th scope=col>petal.width</th><th scope=col>variety</th></tr></thead>\n",
              "<tbody>\n",
              "\t<tr><td>5.1   </td><td>3.5   </td><td>1.4   </td><td>0.2   </td><td>Setosa</td></tr>\n",
              "\t<tr><td>4.9   </td><td>3.0   </td><td>1.4   </td><td>0.2   </td><td>Setosa</td></tr>\n",
              "\t<tr><td>4.7   </td><td>3.2   </td><td>1.3   </td><td>0.2   </td><td>Setosa</td></tr>\n",
              "\t<tr><td>4.6   </td><td>3.1   </td><td>1.5   </td><td>0.2   </td><td>Setosa</td></tr>\n",
              "\t<tr><td>5.0   </td><td>3.6   </td><td>1.4   </td><td>0.2   </td><td>Setosa</td></tr>\n",
              "\t<tr><td>5.4   </td><td>3.9   </td><td>1.7   </td><td>0.4   </td><td>Setosa</td></tr>\n",
              "</tbody>\n",
              "</table>\n"
            ],
            "text/latex": "\\begin{tabular}{r|lllll}\n sepal.length & sepal.width & petal.length & petal.width & variety\\\\\n\\hline\n\t 5.1    & 3.5    & 1.4    & 0.2    & Setosa\\\\\n\t 4.9    & 3.0    & 1.4    & 0.2    & Setosa\\\\\n\t 4.7    & 3.2    & 1.3    & 0.2    & Setosa\\\\\n\t 4.6    & 3.1    & 1.5    & 0.2    & Setosa\\\\\n\t 5.0    & 3.6    & 1.4    & 0.2    & Setosa\\\\\n\t 5.4    & 3.9    & 1.7    & 0.4    & Setosa\\\\\n\\end{tabular}\n",
            "text/markdown": "\nsepal.length | sepal.width | petal.length | petal.width | variety | \n|---|---|---|---|---|---|\n| 5.1    | 3.5    | 1.4    | 0.2    | Setosa | \n| 4.9    | 3.0    | 1.4    | 0.2    | Setosa | \n| 4.7    | 3.2    | 1.3    | 0.2    | Setosa | \n| 4.6    | 3.1    | 1.5    | 0.2    | Setosa | \n| 5.0    | 3.6    | 1.4    | 0.2    | Setosa | \n| 5.4    | 3.9    | 1.7    | 0.4    | Setosa | \n\n\n",
            "text/plain": [
              "  sepal.length sepal.width petal.length petal.width variety\n",
              "1 5.1          3.5         1.4          0.2         Setosa \n",
              "2 4.9          3.0         1.4          0.2         Setosa \n",
              "3 4.7          3.2         1.3          0.2         Setosa \n",
              "4 4.6          3.1         1.5          0.2         Setosa \n",
              "5 5.0          3.6         1.4          0.2         Setosa \n",
              "6 5.4          3.9         1.7          0.4         Setosa "
            ]
          },
          "metadata": {
            "tags": []
          }
        }
      ]
    },
    {
      "cell_type": "markdown",
      "metadata": {
        "id": "VgM4Gct_XEKw",
        "colab_type": "text"
      },
      "source": [
        "## 1.3. 데이터 프레임 나누기\n",
        "\n",
        "`iris` 데이터로 부터 일부 데이터를 뽑아 내기 위해 `data.frame` 함수에 열 이름을 지정해 준다."
      ]
    },
    {
      "cell_type": "code",
      "metadata": {
        "id": "RsEatiZ7XEK1",
        "colab_type": "code",
        "colab": {},
        "outputId": "c1ce983c-354d-4dea-a062-fe30172992b3"
      },
      "source": [
        "iris2 <- data.frame(sepal.length=iris$sepal.length, sepal.width=iris$sepal.width, variety=iris$variety)\n",
        "head(iris2)"
      ],
      "execution_count": 0,
      "outputs": [
        {
          "output_type": "display_data",
          "data": {
            "text/html": [
              "<table>\n",
              "<thead><tr><th scope=col>sepal.length</th><th scope=col>sepal.width</th><th scope=col>variety</th></tr></thead>\n",
              "<tbody>\n",
              "\t<tr><td>5.1   </td><td>3.5   </td><td>Setosa</td></tr>\n",
              "\t<tr><td>4.9   </td><td>3.0   </td><td>Setosa</td></tr>\n",
              "\t<tr><td>4.7   </td><td>3.2   </td><td>Setosa</td></tr>\n",
              "\t<tr><td>4.6   </td><td>3.1   </td><td>Setosa</td></tr>\n",
              "\t<tr><td>5.0   </td><td>3.6   </td><td>Setosa</td></tr>\n",
              "\t<tr><td>5.4   </td><td>3.9   </td><td>Setosa</td></tr>\n",
              "</tbody>\n",
              "</table>\n"
            ],
            "text/latex": "\\begin{tabular}{r|lll}\n sepal.length & sepal.width & variety\\\\\n\\hline\n\t 5.1    & 3.5    & Setosa\\\\\n\t 4.9    & 3.0    & Setosa\\\\\n\t 4.7    & 3.2    & Setosa\\\\\n\t 4.6    & 3.1    & Setosa\\\\\n\t 5.0    & 3.6    & Setosa\\\\\n\t 5.4    & 3.9    & Setosa\\\\\n\\end{tabular}\n",
            "text/markdown": "\nsepal.length | sepal.width | variety | \n|---|---|---|---|---|---|\n| 5.1    | 3.5    | Setosa | \n| 4.9    | 3.0    | Setosa | \n| 4.7    | 3.2    | Setosa | \n| 4.6    | 3.1    | Setosa | \n| 5.0    | 3.6    | Setosa | \n| 5.4    | 3.9    | Setosa | \n\n\n",
            "text/plain": [
              "  sepal.length sepal.width variety\n",
              "1 5.1          3.5         Setosa \n",
              "2 4.9          3.0         Setosa \n",
              "3 4.7          3.2         Setosa \n",
              "4 4.6          3.1         Setosa \n",
              "5 5.0          3.6         Setosa \n",
              "6 5.4          3.9         Setosa "
            ]
          },
          "metadata": {
            "tags": []
          }
        }
      ]
    },
    {
      "cell_type": "markdown",
      "metadata": {
        "id": "mznFef7hXELO",
        "colab_type": "text"
      },
      "source": [
        "다음과 같이 일정한 조건을 만족시키는 부분만 추출할 수도 있다."
      ]
    },
    {
      "cell_type": "code",
      "metadata": {
        "id": "ccZmZostXELU",
        "colab_type": "code",
        "colab": {},
        "outputId": "3184b8a9-e280-4e5f-e80f-b886e981e785"
      },
      "source": [
        "iris3 <- subset(iris, sepal.length >= 5)\n",
        "head(iris3)"
      ],
      "execution_count": 0,
      "outputs": [
        {
          "output_type": "display_data",
          "data": {
            "text/html": [
              "<table>\n",
              "<thead><tr><th></th><th scope=col>sepal.length</th><th scope=col>sepal.width</th><th scope=col>petal.length</th><th scope=col>petal.width</th><th scope=col>variety</th></tr></thead>\n",
              "<tbody>\n",
              "\t<tr><th scope=row>1</th><td>5.1   </td><td>3.5   </td><td>1.4   </td><td>0.2   </td><td>Setosa</td></tr>\n",
              "\t<tr><th scope=row>5</th><td>5.0   </td><td>3.6   </td><td>1.4   </td><td>0.2   </td><td>Setosa</td></tr>\n",
              "\t<tr><th scope=row>6</th><td>5.4   </td><td>3.9   </td><td>1.7   </td><td>0.4   </td><td>Setosa</td></tr>\n",
              "\t<tr><th scope=row>8</th><td>5.0   </td><td>3.4   </td><td>1.5   </td><td>0.2   </td><td>Setosa</td></tr>\n",
              "\t<tr><th scope=row>11</th><td>5.4   </td><td>3.7   </td><td>1.5   </td><td>0.2   </td><td>Setosa</td></tr>\n",
              "\t<tr><th scope=row>15</th><td>5.8   </td><td>4.0   </td><td>1.2   </td><td>0.2   </td><td>Setosa</td></tr>\n",
              "</tbody>\n",
              "</table>\n"
            ],
            "text/latex": "\\begin{tabular}{r|lllll}\n  & sepal.length & sepal.width & petal.length & petal.width & variety\\\\\n\\hline\n\t1 & 5.1    & 3.5    & 1.4    & 0.2    & Setosa\\\\\n\t5 & 5.0    & 3.6    & 1.4    & 0.2    & Setosa\\\\\n\t6 & 5.4    & 3.9    & 1.7    & 0.4    & Setosa\\\\\n\t8 & 5.0    & 3.4    & 1.5    & 0.2    & Setosa\\\\\n\t11 & 5.4    & 3.7    & 1.5    & 0.2    & Setosa\\\\\n\t15 & 5.8    & 4.0    & 1.2    & 0.2    & Setosa\\\\\n\\end{tabular}\n",
            "text/markdown": "\n| <!--/--> | sepal.length | sepal.width | petal.length | petal.width | variety | \n|---|---|---|---|---|---|\n| 1 | 5.1    | 3.5    | 1.4    | 0.2    | Setosa | \n| 5 | 5.0    | 3.6    | 1.4    | 0.2    | Setosa | \n| 6 | 5.4    | 3.9    | 1.7    | 0.4    | Setosa | \n| 8 | 5.0    | 3.4    | 1.5    | 0.2    | Setosa | \n| 11 | 5.4    | 3.7    | 1.5    | 0.2    | Setosa | \n| 15 | 5.8    | 4.0    | 1.2    | 0.2    | Setosa | \n\n\n",
            "text/plain": [
              "   sepal.length sepal.width petal.length petal.width variety\n",
              "1  5.1          3.5         1.4          0.2         Setosa \n",
              "5  5.0          3.6         1.4          0.2         Setosa \n",
              "6  5.4          3.9         1.7          0.4         Setosa \n",
              "8  5.0          3.4         1.5          0.2         Setosa \n",
              "11 5.4          3.7         1.5          0.2         Setosa \n",
              "15 5.8          4.0         1.2          0.2         Setosa "
            ]
          },
          "metadata": {
            "tags": []
          }
        }
      ]
    },
    {
      "cell_type": "markdown",
      "metadata": {
        "id": "MlMiC6BkXELj",
        "colab_type": "text"
      },
      "source": [
        "## 1.4. 기술 통계처리"
      ]
    },
    {
      "cell_type": "code",
      "metadata": {
        "id": "7teid7reXELn",
        "colab_type": "code",
        "colab": {},
        "outputId": "fffcaa1c-aeb2-4911-eff6-daa47a320245"
      },
      "source": [
        "summary(iris) # 각 열에 대한 요약"
      ],
      "execution_count": 0,
      "outputs": [
        {
          "output_type": "display_data",
          "data": {
            "text/plain": [
              "  sepal.length    sepal.width     petal.length    petal.width   \n",
              " Min.   :4.300   Min.   :2.000   Min.   :1.000   Min.   :0.100  \n",
              " 1st Qu.:5.100   1st Qu.:2.800   1st Qu.:1.600   1st Qu.:0.300  \n",
              " Median :5.800   Median :3.000   Median :4.350   Median :1.300  \n",
              " Mean   :5.843   Mean   :3.057   Mean   :3.758   Mean   :1.199  \n",
              " 3rd Qu.:6.400   3rd Qu.:3.300   3rd Qu.:5.100   3rd Qu.:1.800  \n",
              " Max.   :7.900   Max.   :4.400   Max.   :6.900   Max.   :2.500  \n",
              "       variety  \n",
              " Setosa    :50  \n",
              " Versicolor:50  \n",
              " Virginica :50  \n",
              "                \n",
              "                \n",
              "                "
            ]
          },
          "metadata": {
            "tags": []
          }
        }
      ]
    },
    {
      "cell_type": "markdown",
      "metadata": {
        "id": "24HwhZYuXEL2",
        "colab_type": "text"
      },
      "source": [
        "## 1.5. 확률 분포 데이터 만들기"
      ]
    },
    {
      "cell_type": "code",
      "metadata": {
        "id": "uWV_HjqFXEL5",
        "colab_type": "code",
        "colab": {},
        "outputId": "70ae6b51-1528-4e0e-da15-3f85020fd9f9"
      },
      "source": [
        "n.data <- rnorm(n=100, mean=1, sd=0.1)\n",
        "# hist(n.data)\n",
        "plot(density(n.data))"
      ],
      "execution_count": 0,
      "outputs": [
        {
          "output_type": "display_data",
          "data": {
            "image/png": "[encoded data removed]",
            "text/plain": [
              "Plot with title \"density.default(x = n.data)\""
            ]
          },
          "metadata": {
            "tags": []
          }
        }
      ]
    },
    {
      "cell_type": "markdown",
      "metadata": {
        "id": "jsuYk0v4XEMJ",
        "colab_type": "text"
      },
      "source": [
        "## 1.6. 데이터 통계 검정\n",
        "\n",
        "R에 내장된 t-test를 해본다. t-test는 관측 데이터의 평균이 실제의 평균과 통계적 차이가 있는지를 판단한다.\n",
        "\n",
        "사용한 sleep 데이터는 10명의 환자(ID)들이 두 종류(group)의 약을 먹었을때 수면시간(extra)의 증감을 비교한 것이다."
      ]
    },
    {
      "cell_type": "code",
      "metadata": {
        "id": "-t8Kp2VAXEMN",
        "colab_type": "code",
        "colab": {},
        "outputId": "d3a841a0-3d76-406d-ed64-25969c15efec"
      },
      "source": [
        "data(sleep) # 기본적으로 들어있는 데이터 사용\n",
        "sleep"
      ],
      "execution_count": 0,
      "outputs": [
        {
          "output_type": "display_data",
          "data": {
            "text/html": [
              "<table>\n",
              "<thead><tr><th scope=col>extra</th><th scope=col>group</th><th scope=col>ID</th></tr></thead>\n",
              "<tbody>\n",
              "\t<tr><td> 0.7</td><td>1   </td><td>1   </td></tr>\n",
              "\t<tr><td>-1.6</td><td>1   </td><td>2   </td></tr>\n",
              "\t<tr><td>-0.2</td><td>1   </td><td>3   </td></tr>\n",
              "\t<tr><td>-1.2</td><td>1   </td><td>4   </td></tr>\n",
              "\t<tr><td>-0.1</td><td>1   </td><td>5   </td></tr>\n",
              "\t<tr><td> 3.4</td><td>1   </td><td>6   </td></tr>\n",
              "\t<tr><td> 3.7</td><td>1   </td><td>7   </td></tr>\n",
              "\t<tr><td> 0.8</td><td>1   </td><td>8   </td></tr>\n",
              "\t<tr><td> 0.0</td><td>1   </td><td>9   </td></tr>\n",
              "\t<tr><td> 2.0</td><td>1   </td><td>10  </td></tr>\n",
              "\t<tr><td> 1.9</td><td>2   </td><td>1   </td></tr>\n",
              "\t<tr><td> 0.8</td><td>2   </td><td>2   </td></tr>\n",
              "\t<tr><td> 1.1</td><td>2   </td><td>3   </td></tr>\n",
              "\t<tr><td> 0.1</td><td>2   </td><td>4   </td></tr>\n",
              "\t<tr><td>-0.1</td><td>2   </td><td>5   </td></tr>\n",
              "\t<tr><td> 4.4</td><td>2   </td><td>6   </td></tr>\n",
              "\t<tr><td> 5.5</td><td>2   </td><td>7   </td></tr>\n",
              "\t<tr><td> 1.6</td><td>2   </td><td>8   </td></tr>\n",
              "\t<tr><td> 4.6</td><td>2   </td><td>9   </td></tr>\n",
              "\t<tr><td> 3.4</td><td>2   </td><td>10  </td></tr>\n",
              "</tbody>\n",
              "</table>\n"
            ],
            "text/latex": "\\begin{tabular}{r|lll}\n extra & group & ID\\\\\n\\hline\n\t  0.7 & 1    & 1   \\\\\n\t -1.6 & 1    & 2   \\\\\n\t -0.2 & 1    & 3   \\\\\n\t -1.2 & 1    & 4   \\\\\n\t -0.1 & 1    & 5   \\\\\n\t  3.4 & 1    & 6   \\\\\n\t  3.7 & 1    & 7   \\\\\n\t  0.8 & 1    & 8   \\\\\n\t  0.0 & 1    & 9   \\\\\n\t  2.0 & 1    & 10  \\\\\n\t  1.9 & 2    & 1   \\\\\n\t  0.8 & 2    & 2   \\\\\n\t  1.1 & 2    & 3   \\\\\n\t  0.1 & 2    & 4   \\\\\n\t -0.1 & 2    & 5   \\\\\n\t  4.4 & 2    & 6   \\\\\n\t  5.5 & 2    & 7   \\\\\n\t  1.6 & 2    & 8   \\\\\n\t  4.6 & 2    & 9   \\\\\n\t  3.4 & 2    & 10  \\\\\n\\end{tabular}\n",
            "text/markdown": "\nextra | group | ID | \n|---|---|---|---|---|---|---|---|---|---|---|---|---|---|---|---|---|---|---|---|\n|  0.7 | 1    | 1    | \n| -1.6 | 1    | 2    | \n| -0.2 | 1    | 3    | \n| -1.2 | 1    | 4    | \n| -0.1 | 1    | 5    | \n|  3.4 | 1    | 6    | \n|  3.7 | 1    | 7    | \n|  0.8 | 1    | 8    | \n|  0.0 | 1    | 9    | \n|  2.0 | 1    | 10   | \n|  1.9 | 2    | 1    | \n|  0.8 | 2    | 2    | \n|  1.1 | 2    | 3    | \n|  0.1 | 2    | 4    | \n| -0.1 | 2    | 5    | \n|  4.4 | 2    | 6    | \n|  5.5 | 2    | 7    | \n|  1.6 | 2    | 8    | \n|  4.6 | 2    | 9    | \n|  3.4 | 2    | 10   | \n\n\n",
            "text/plain": [
              "   extra group ID\n",
              "1   0.7  1     1 \n",
              "2  -1.6  1     2 \n",
              "3  -0.2  1     3 \n",
              "4  -1.2  1     4 \n",
              "5  -0.1  1     5 \n",
              "6   3.4  1     6 \n",
              "7   3.7  1     7 \n",
              "8   0.8  1     8 \n",
              "9   0.0  1     9 \n",
              "10  2.0  1     10\n",
              "11  1.9  2     1 \n",
              "12  0.8  2     2 \n",
              "13  1.1  2     3 \n",
              "14  0.1  2     4 \n",
              "15 -0.1  2     5 \n",
              "16  4.4  2     6 \n",
              "17  5.5  2     7 \n",
              "18  1.6  2     8 \n",
              "19  4.6  2     9 \n",
              "20  3.4  2     10"
            ]
          },
          "metadata": {
            "tags": []
          }
        }
      ]
    },
    {
      "cell_type": "code",
      "metadata": {
        "id": "oTxmlpngXEMe",
        "colab_type": "code",
        "colab": {},
        "outputId": "cb72920d-46a0-4897-ddd5-a5646a403580"
      },
      "source": [
        "test <- t.test(sleep[,1]~sleep[,2])\n",
        "test"
      ],
      "execution_count": 0,
      "outputs": [
        {
          "output_type": "display_data",
          "data": {
            "text/plain": [
              "\n",
              "\tWelch Two Sample t-test\n",
              "\n",
              "data:  sleep[, 1] by sleep[, 2]\n",
              "t = -1.8608, df = 17.776, p-value = 0.07939\n",
              "alternative hypothesis: true difference in means is not equal to 0\n",
              "95 percent confidence interval:\n",
              " -3.3654832  0.2054832\n",
              "sample estimates:\n",
              "mean in group 1 mean in group 2 \n",
              "           0.75            2.33 \n"
            ]
          },
          "metadata": {
            "tags": []
          }
        }
      ]
    },
    {
      "cell_type": "markdown",
      "metadata": {
        "id": "wSG0u6imXEMq",
        "colab_type": "text"
      },
      "source": [
        "t-test의 결과로 `p-value = 0.07939` 를 구했다.\n",
        "\n",
        "## 1.7. 데이터 시각화\n",
        "\n",
        "데이터의 직관적인 이해를 위해 시각화를 해본다. `iris` 데이터셋을 사용해 산포도를 그려본다."
      ]
    },
    {
      "cell_type": "code",
      "metadata": {
        "id": "SGiJHcOPXEMv",
        "colab_type": "code",
        "colab": {},
        "outputId": "bdd9b04f-9974-4aaf-acf8-da2f44daf020"
      },
      "source": [
        "plot(x=iris[,1],y=iris[,3], xlab='petal length', ylab='sepal length')"
      ],
      "execution_count": 0,
      "outputs": [
        {
          "output_type": "display_data",
          "data": {
            "image/png": "[encoded data removed]",
            "text/plain": [
              "plot without title"
            ]
          },
          "metadata": {
            "tags": []
          }
        }
      ]
    },
    {
      "cell_type": "markdown",
      "metadata": {
        "id": "HcTKaHgyXEM7",
        "colab_type": "text"
      },
      "source": [
        "박스 플롯을 그리기 위해 `boxplot()`함수를 사용한다."
      ]
    },
    {
      "cell_type": "code",
      "metadata": {
        "id": "ayZxVzzZXEM9",
        "colab_type": "code",
        "colab": {},
        "outputId": "f80ccdf0-a245-4a6f-fb55-b7cea5ab325e"
      },
      "source": [
        "boxplot(sepal.length~variety, data=iris, xlab='species', ylab='sepal lengh')"
      ],
      "execution_count": 0,
      "outputs": [
        {
          "output_type": "display_data",
          "data": {
            "image/png": "[encoded data removed]",
            "text/plain": [
              "plot without title"
            ]
          },
          "metadata": {
            "tags": []
          }
        }
      ]
    },
    {
      "cell_type": "markdown",
      "metadata": {
        "id": "sSQMq6DxXENJ",
        "colab_type": "text"
      },
      "source": [
        "## 1.8. R에서 PubMed 작업\n",
        "\n",
        "PubMed는 문헌 검색을 제공하는 서비스이다. PubMed에 접속하지 않고 R에서 검색어의 메타 데이터를 분석하는 방법을 알아본다."
      ]
    },
    {
      "cell_type": "code",
      "metadata": {
        "id": "xM78R3yUXENM",
        "colab_type": "code",
        "colab": {},
        "outputId": "fa631258-889e-4f45-dcfd-ed0a6bcca1da"
      },
      "source": [
        "# install.packages(\"RISmed\") # 패키지 설치\n",
        "library(RISmed)"
      ],
      "execution_count": 0,
      "outputs": [
        {
          "output_type": "stream",
          "text": [
            "Warning message:\n",
            "\"unable to access index for repository http://www.stats.ox.ac.uk/pub/RWin/bin/windows/contrib/3.5:\n",
            "  URL 'http://www.stats.ox.ac.uk/pub/RWin/bin/windows/contrib/3.5/PACKAGES'를 열 수 없습니다\""
          ],
          "name": "stderr"
        },
        {
          "output_type": "stream",
          "text": [
            "package 'RISmed' successfully unpacked and MD5 sums checked\n",
            "\n",
            "The downloaded binary packages are in\n",
            "\tC:\\Users\\건회\\AppData\\Local\\Temp\\RtmpQxEF3Y\\downloaded_packages\n"
          ],
          "name": "stdout"
        }
      ]
    },
    {
      "cell_type": "code",
      "metadata": {
        "scrolled": true,
        "id": "ab5StdAKXENZ",
        "colab_type": "code",
        "colab": {},
        "outputId": "b7da9b46-b78b-4ae6-cb85-104944a52f02"
      },
      "source": [
        "cancer <- EUtilsSummary(\"cancer[ti]\", type=\"esearch\", db=\"pubmed\")\n",
        "class(cancer)"
      ],
      "execution_count": 0,
      "outputs": [
        {
          "output_type": "display_data",
          "data": {
            "text/html": [
              "'EUtilsSummary'"
            ],
            "text/latex": "'EUtilsSummary'",
            "text/markdown": "'EUtilsSummary'",
            "text/plain": [
              "[1] \"EUtilsSummary\"\n",
              "attr(,\"package\")\n",
              "[1] \"RISmed\""
            ]
          },
          "metadata": {
            "tags": []
          }
        }
      ]
    },
    {
      "cell_type": "code",
      "metadata": {
        "id": "NWvESNO6XENq",
        "colab_type": "code",
        "colab": {},
        "outputId": "e5b97abd-4e51-4691-f9cb-132166cbe29b"
      },
      "source": [
        "str(cancer)"
      ],
      "execution_count": 0,
      "outputs": [
        {
          "output_type": "stream",
          "text": [
            "Formal class 'EUtilsSummary' [package \"RISmed\"] with 6 slots\n",
            "  ..@ db              : chr \"pubmed\"\n",
            "  ..@ count           : num 895477\n",
            "  ..@ retmax          : num 1000\n",
            "  ..@ retstart        : num 0\n",
            "  ..@ PMID            : chr [1:1000] \"31121622\" \"31121595\" \"31121588\" \"31121583\" ...\n",
            "  ..@ querytranslation: chr \"cancer[ti]\"\n"
          ],
          "name": "stdout"
        }
      ]
    },
    {
      "cell_type": "code",
      "metadata": {
        "id": "sFo7aNWRXEN2",
        "colab_type": "code",
        "colab": {},
        "outputId": "7b1945dc-8dcf-45c3-e241-dab0fe521abc"
      },
      "source": [
        "cancer@PMID[1:10]"
      ],
      "execution_count": 0,
      "outputs": [
        {
          "output_type": "display_data",
          "data": {
            "text/html": [
              "<ol class=list-inline>\n",
              "\t<li>'31121622'</li>\n",
              "\t<li>'31121595'</li>\n",
              "\t<li>'31121588'</li>\n",
              "\t<li>'31121583'</li>\n",
              "\t<li>'31121562'</li>\n",
              "\t<li>'31121557'</li>\n",
              "\t<li>'31121525'</li>\n",
              "\t<li>'31121496'</li>\n",
              "\t<li>'31121491'</li>\n",
              "\t<li>'31121484'</li>\n",
              "</ol>\n"
            ],
            "text/latex": "\\begin{enumerate*}\n\\item '31121622'\n\\item '31121595'\n\\item '31121588'\n\\item '31121583'\n\\item '31121562'\n\\item '31121557'\n\\item '31121525'\n\\item '31121496'\n\\item '31121491'\n\\item '31121484'\n\\end{enumerate*}\n",
            "text/markdown": "1. '31121622'\n2. '31121595'\n3. '31121588'\n4. '31121583'\n5. '31121562'\n6. '31121557'\n7. '31121525'\n8. '31121496'\n9. '31121491'\n10. '31121484'\n\n\n",
            "text/plain": [
              " [1] \"31121622\" \"31121595\" \"31121588\" \"31121583\" \"31121562\" \"31121557\"\n",
              " [7] \"31121525\" \"31121496\" \"31121491\" \"31121484\""
            ]
          },
          "metadata": {
            "tags": []
          }
        }
      ]
    },
    {
      "cell_type": "markdown",
      "metadata": {
        "id": "kxkC4Wt8XEN_",
        "colab_type": "text"
      },
      "source": [
        "## 1.9. BioMart로부터 데이터 검색\n",
        "\n",
        "Ensembl, Uniprot, HGNC, Gramene, Wormbase등의 데이터베이스를 한번에 검색할 수 있는 BioMart 데이터베이스를 다루는 방법을 살펴본다."
      ]
    },
    {
      "cell_type": "code",
      "metadata": {
        "id": "QQ2Z2CaSXEOE",
        "colab_type": "code",
        "colab": {},
        "outputId": "48dc33a2-55f1-419b-cb21-2897dca36cab"
      },
      "source": [
        "source(\"http://bioconductor.org/biocLite.R\") # Bioconductor 라이브러리를 추가"
      ],
      "execution_count": 0,
      "outputs": [
        {
          "output_type": "stream",
          "text": [
            "Bioconductor version 3.7 (BiocInstaller 1.30.0), ?biocLite for help\n",
            "A newer version of Bioconductor is available for this version of R,\n",
            "  ?BiocUpgrade for help\n"
          ],
          "name": "stderr"
        }
      ]
    },
    {
      "cell_type": "code",
      "metadata": {
        "id": "3X2xPHpgXEON",
        "colab_type": "code",
        "colab": {},
        "outputId": "a93e618b-ebee-483f-a4e3-6247dec2f52c"
      },
      "source": [
        "# biocLite(\"biomaRt\")\n",
        "library(biomaRt)"
      ],
      "execution_count": 0,
      "outputs": [
        {
          "output_type": "stream",
          "text": [
            "BioC_mirror: https://bioconductor.org\n",
            "Using Bioconductor 3.7 (BiocInstaller 1.30.0), R 3.5.1 (2018-07-02).\n",
            "Installing package(s) 'biomaRt'\n"
          ],
          "name": "stderr"
        },
        {
          "output_type": "stream",
          "text": [
            "package 'biomaRt' successfully unpacked and MD5 sums checked\n",
            "\n",
            "The downloaded binary packages are in\n",
            "\tC:\\Users\\건회\\AppData\\Local\\Temp\\RtmpQxEF3Y\\downloaded_packages\n"
          ],
          "name": "stdout"
        },
        {
          "output_type": "stream",
          "text": [
            "Old packages: 'assertthat', 'backports', 'BH', 'boot', 'broom', 'callr',\n",
            "  'caret', 'checkpoint', 'class', 'cli', 'clipr', 'cluster', 'codetools',\n",
            "  'colorspace', 'curl', 'data.table', 'dbplyr', 'ddalpha', 'digest', 'dimRed',\n",
            "  'doParallel', 'dplyr', 'evaluate', 'fansi', 'forcats', 'foreign', 'formatR',\n",
            "  'geometry', 'ggplot2', 'glmnet', 'glue', 'gower', 'gtable', 'haven',\n",
            "  'hexbin', 'highr', 'htmlwidgets', 'httpuv', 'httr', 'ipred', 'IRdisplay',\n",
            "  'IRkernel', 'jsonlite', 'kernlab', 'knitr', 'later', 'lattice', 'lava',\n",
            "  'lazyeval', 'magic', 'markdown', 'MASS', 'Matrix', 'mgcv', 'mime',\n",
            "  'ModelMetrics', 'modelr', 'nlme', 'openssl', 'pillar', 'pkgconfig', 'pls',\n",
            "  'processx', 'purrr', 'quantmod', 'R6', 'Rcpp', 'readr', 'readxl', 'recipes',\n",
            "  'repr', 'reprex', 'rlang', 'rmarkdown', 'robustbase', 'rpart', 'rstudioapi',\n",
            "  'RUnit', 'rvest', 'scales', 'sfsmisc', 'shiny', 'stringi', 'stringr',\n",
            "  'survival', 'testthat', 'tibble', 'tidyr', 'tidyselect', 'tinytex', 'TTR',\n",
            "  'xfun', 'xtable', 'xts', 'zoo'\n"
          ],
          "name": "stderr"
        }
      ]
    },
    {
      "cell_type": "code",
      "metadata": {
        "id": "90bKP-JfXEOZ",
        "colab_type": "code",
        "colab": {}
      },
      "source": [
        "mart = useMart(\"ensembl\",dataset=\"hsapiens_gene_ensembl\")"
      ],
      "execution_count": 0,
      "outputs": []
    },
    {
      "cell_type": "code",
      "metadata": {
        "id": "I2ZmYDcqXEOl",
        "colab_type": "code",
        "colab": {}
      },
      "source": [
        "my_results <- getBM(attributes=c(\"hgnc_symbol\"), mart=mart)"
      ],
      "execution_count": 0,
      "outputs": []
    },
    {
      "cell_type": "markdown",
      "metadata": {
        "id": "-3DqHoAlXEOs",
        "colab_type": "text"
      },
      "source": [
        "추출한 유전자의 목록을 확인한다."
      ]
    },
    {
      "cell_type": "code",
      "metadata": {
        "id": "H9cqKS0qXEOu",
        "colab_type": "code",
        "colab": {},
        "outputId": "b4a21716-ed67-472d-cfa5-e174092c1e68"
      },
      "source": [
        "my_sample <- sample(my_results$hgnc_symbol)\n",
        "head(my_sample)"
      ],
      "execution_count": 0,
      "outputs": [
        {
          "output_type": "display_data",
          "data": {
            "text/html": [
              "<ol class=list-inline>\n",
              "\t<li>'SCGB1B2P'</li>\n",
              "\t<li>'ACTL9'</li>\n",
              "\t<li>'OR1F2P'</li>\n",
              "\t<li>'RNU4ATAC6P'</li>\n",
              "\t<li>'GPR146'</li>\n",
              "\t<li>'DNMT3B'</li>\n",
              "</ol>\n"
            ],
            "text/latex": "\\begin{enumerate*}\n\\item 'SCGB1B2P'\n\\item 'ACTL9'\n\\item 'OR1F2P'\n\\item 'RNU4ATAC6P'\n\\item 'GPR146'\n\\item 'DNMT3B'\n\\end{enumerate*}\n",
            "text/markdown": "1. 'SCGB1B2P'\n2. 'ACTL9'\n3. 'OR1F2P'\n4. 'RNU4ATAC6P'\n5. 'GPR146'\n6. 'DNMT3B'\n\n\n",
            "text/plain": [
              "[1] \"SCGB1B2P\"   \"ACTL9\"      \"OR1F2P\"     \"RNU4ATAC6P\" \"GPR146\"    \n",
              "[6] \"DNMT3B\"    "
            ]
          },
          "metadata": {
            "tags": []
          }
        }
      ]
    },
    {
      "cell_type": "markdown",
      "metadata": {
        "id": "RMEGlKn7XEO3",
        "colab_type": "text"
      },
      "source": [
        "데이터베이스에서 서열정보를 가져오는 것도 가능하다. `BRCA1` 유전자를 예시로 든다."
      ]
    },
    {
      "cell_type": "code",
      "metadata": {
        "scrolled": false,
        "id": "6LNg7lAAXEO5",
        "colab_type": "code",
        "colab": {},
        "outputId": "039e9852-6d24-4092-ea62-832d0e86c92f"
      },
      "source": [
        "seq <- getSequence(id='BRCA1', type='hgnc_symbol', seqType='peptide', mart=mart)\n",
        "head(seq)"
      ],
      "execution_count": 0,
      "outputs": [
        {
          "output_type": "display_data",
          "data": {
            "text/html": [
              "<table>\n",
              "<thead><tr><th scope=col>peptide</th><th scope=col>hgnc_symbol</th></tr></thead>\n",
              "<tbody>\n",
              "\t<tr><td>XIPSQSTRHSTVATECLSKNTEENLLSLKNSLNDCSNQVILAKASQEHHLSEETKCSASLFSSQCSELEDLTANTNTQDPFLIGSSKQMRHQSESQGVGLSDKELVSDDEERGTGLEENNQEEQSMDSNLGEAASGCESETSVSEDCSGLSSQSDILTTQQRDTMQHNLIKLQQEMAELEAVLEQHGSQPSNSYPSIISDSSALEDLRNPEQSTSEKVLTSQKSSEYPISQNPEGLSADKFE                                                                                                                                                                                                                                                                                                                                                                                                                                                                                                                                                                                                                                                                                                                                                                                                                                                                                                                                                                                                                                                                                                                                                                                                                                                                                                                                                                                                                                                                                                                                                                                                                                                                                      </td><td>BRCA1                                                                                                                                                                                                                                                                                                                                                                                                                                                                                                                                                                                                                                                                                                                                                                                                                                                                                                                                                                                                                                                                                                                                                                                                                                                                                                                                                                                                                                                                                                                                                                                                                                                                                                                                                                                                                                                                                                                                   </td></tr>\n",
              "\t<tr><td>XLDSAKKAACEFSETDVTNTEHHQPSNNDLNTTEKRAAERHPEKYQGSSVSNLHVEPCGTNTHASSLQHENSSLLLTKDRMNVEKAEFCNKSKQPGLARSQHNRWAGSKETCNDRRTPSTEKKVDLNADPLCERKEWNKQKLPCSENPRDTEDVPWITLNSSIQKVNEWFSRSDELLGSDDSHDGESESNAKVADVLDVLNEVDEYSGSSEKIDLLASDPHEALICKSERVHSKSVESNIEDKIFGKTYRKKASLPNLSHVTENLIIGAFVTEPQIIQERPLTNKLKRKRRPTSGLHPEDFIKKADLAVQKTPEMINQGTNQTEQNGQVMNITNSGHENKTKGDSIQNEKNPNPIESLEKESAFKTKAEPISSSISNMELELNIHNSKAPKKNRLRRKSSTRHIHALELVVSRNLSPPNCTELQIDSCSSSEEIKKK                                                                                                                                                                                                                                                                                                                                                                                                                                                                                                                                                                                                                                                                                                                                                                                                                                                                                                                                                                                                                                                                                                                                                                                                                                                                                                                                                                                                                                                                                   </td><td>BRCA1                                                                                                                                                                                                                                                                                                                                                                                                                                                                                                                                                                                                                                                                                                                                                                                                                                                                                                                                                                                                                                                                                                                                                                                                                                                                                                                                                                                                                                                                                                                                                                                                                                                                                                                                                                                                                                                                                                                                   </td></tr>\n",
              "\t<tr><td>MDLSALRVEEVQNVINAMQKILECPICLELIKEPVSTKCDHIFCKFCMLKLLNQKKGPSQCPLCKNDITKRSLQESTRFSQLVEELLKIICAFQLDTGLEYANSYNFAKKENNSPEHLKDEVSIIQSMGYRNRAKRLLQSEPENPSLQETSLSVQLSNLGTVRTLRTKQRIQPQKTSVYIELGSDSSEDTVNKATYCSVGDQELLQITPQGTRDEISLDSAKKAACEFSETDVTNTEHHQPSNNDLNTTEKRAAERHPEKYQGSSVSNLHVEPCGTNTHASSLQHENSSLLLTKDRMNVEKAEFCNKSKQPGLARSQHNRWAGSKETCNDRRTPSTEKKVDLNADPLCERKEWNKQKLPCSENPRDTEDVPWITLNSSIQKVNEWFSRSDELLGSDDSHDGESESNAKVADVLDVLNEVDEYSGSSEKIDLLASDPHEALICKSERVHSKSVESNIEDKIFGKTYRKKASLPNLSHVTENLIIGAFVTEPQIIQERPLTNKLKRKRRPTSGLHPEDFIKKADLAVQKTPEMINQGTNQTEQNGQVMNITNSGHENKTKGDSIQNEKNPNPIESLEKESAFKTKAEPISSSISNMELELNIHNSKAPKKNRLRRKSSTRHIHALELVVSRNLSPPNCTELQIDSCSSSEEIKKKKYNQMPVRHSRNLQLMEGKEPATGAKKSNKPNEQTSKRHDSDTFPELKLTNAPGSFTKCSNTSELKEFVNPSLPREEKEEKLETVKVSNNAEDPKDLMLSGERVLQTERSVESSSISLVPGTDYGTQESISLLEVSTLGKAKTEPNKCVSQCAAFENPKGLIHGCSKDNRNDTEGFKYPLGHEVNHSRETSIEMEESELDAQYLQNTFKVSKRQSFAPFSNPGNAEEECATFSAHSGSLKKQSPKVTFECEQKEENQGKNESNIKPVQTVNITAGFPVVGQKDKPVDNAKCSIKGGSRFCLSSQFRGNETGLITPNKHGLLQNPYRIPPLFPIKSFVKTKCKKNLLEENFEEHSMSPEREMGNENIPSTVSTISRNNIRENVFKEASSSNINEVGSSTNEVGSSINEIGSSDENIQAELGRNRGPKLNAMLRLGVLQPEVYKQSLPGSNCKHPEIKKQEYEEVVQTVNTDFSPYLISDNLEQPMGSSHASQVCSETPDDLLDDGEIKEDTSFAENDIKESSAVFSKSVQKGELSRSPSPFTHTHLAQGYRRGAKKLESSEENLSSEDEELPCFQHLLFGKVNNIPSQSTRHSTVATECLSKNTEENLLSLKNSLNDCSNQVILAKASQEHHLSEETKCSASLFSSQCSELEDLTANTNTQDPFLIGSSKQMRHQSESQGVGLSDKELVSDDEERGTGLEENNQEEQSMDSNLGEAASGCESETSVSEDCSGLSSQSDILTTQQRDTMQHNLIKLQQEMAELEAVLEQHGSQPSNSYPSIISDSSALEDLRNPEQSTSEKAVLTSQKSSEYPISQNPEGLSADKFEVSADSSTSKNKEPGVERSSPSKCPSLDDRWYMHSCSGSLQNRNYPSQEELIKVVDVEEQQLEESGPHDLTETSYLPRQDLEGTPYLESGISLFSDDPESDPSEDRAPESARVGNIPSSTSALKVPQLKVAESAQSPAAAHTTDTAGYNAMEESVSREKPELTASTERVNKRMSMVVSGLTPEEFMLVYKFARKHHITLTNLITEETTHVVMKTDAEFVCERTLKYFLGIAGGKWVVSYFWVTQSIKERKMLNEHDFEVRGDVVNGRNHQGPKRARESQDRKIFRGLEICCYGPFTNMPTDQLEWMVQLCGASVVKELSSFTLGTGVHPIVVVQPDAWTEDNGFHAIGQMCEAPVVTREWVLDSVALYQCQELDTYLIPQIPHSHY*</td><td>BRCA1                                                                                                                                                                                                                                                                                                                                                                                                                                                                                                                                                                                                                                                                                                                                                                                                                                                                                                                                                                                                                                                                                                                                                                                                                                                                                                                                                                                                                                                                                                                                                                                                                                                                                                                                                                                                                                                                                                                                   </td></tr>\n",
              "\t<tr><td>MDLSALRVEEVQNVINAMQKILECPICLELIKEPVSTKCDHIFCKFCMLKLLNQKKGPSQCPLCKNDITKRSLQESTRFSQLVEELLKIICAFQLDTGLEYANSYNFAKKENNSPEHLKDEVSIIQSMGYRNRAKRLLQSEPENPSLETSLSVQLSNLGTVRTLRTKQRIQPQKTSVYIELGSDSSEDTVNKATYCSVGDQELLQITPQGTRDEISLDSAKK                                                                                                                                                                                                                                                                                                                                                                                                                                                                                                                                                                                                                                                                                                                                                                                                                                                                                                                                                                                                                                                                                                                                                                                                                                                                                                                                                                                                                                                                                                                                                                                                                                                                                                          </td><td>BRCA1                                                                                                                                                                                                                                                                                                                                                                                                                                                                                                                                                                                                                                                                                                                                                                                                                                                                                                                                                                                                                                                                                                                                                                                                                                                                                                                                                                                                                                                                                                                                                                                                                                                                                                                                                                                                                                                                                                                                   </td></tr>\n",
              "\t<tr><td>MDLSALRVEEVQNVINAMQKILECPICLELIKEPVSTKCDHIFCKFCMLKLLNQKKGPSQCPLCKNDITKRSLQESTRFSQLVEELLKIICAFQLDTGLEYANSYNFAKKENNSPEHLKDEVSIIQSMGYRNRAKRLLQSEPENPSLQETSLSVQLSNLGTVRTLRTKQRIQPQKTSVYIELGSDSSEDTVNKATYCSVGDQELLQITPQGTRDEISLDSAKKAACEFSETDVTNTEHHQPSNNDLNTTEKRAAERHPEKYQGEAASGCESETSVSEDCSGLSSQSDILTTQQRDTMQHNLIKLQQEMAELEAVLEQHGSQPSNSYPSIISDSSALEDLRNPEQSTSEKVLTSQKSSEYPISQNPEGLSADKFEVSADSSTSKNKEPGVERSSPSKCPSLDDRWYMHSCSGSLQNRNYPSQEELIKVVDVEEQQLEESGPHDLTETSYLPRQDLEGTPYLESGISLFSDDPESDPSEDRAPESARVGNIPSSTSALKVPQLKVAESAQSPAAAHTTDTAGYNAMEESVSREKPELTASTERVNKRMSMVVSGLTPEEFMLVYKFARKHHITLTNLITEETTHVVMKTDAEFVCERTLKYFLGIAGGKWVVSYFWVTQSIKERKMLNEHDFEVRGDVVNGRNHQGPKRARESQDRKIFRGLEICCYGPFTNMPTGCPPNCGCAARCLDRGQWLPCNWADV*                                                                                                                                                                                                                                                                                                                                                                                                                                                                                                                                                                                                                                                                                                                                                                                                                                                                                                                                                                                                                                                                                                                                                                                                            </td><td>BRCA1                                                                                                                                                                                                                                                                                                                                                                                                                                                                                                                                                                                                                                                                                                                                                                                                                                                                                                                                                                                                                                                                                                                                                                                                                                                                                                                                                                                                                                                                                                                                                                                                                                                                                                                                                                                                                                                                                                                                   </td></tr>\n",
              "\t<tr><td>MDLSALRVEEVQNVINAMQKILECPICLELIKEPVSTKCDHIFCKSLQESTRFSQLVEELLKIICAFQLDTGLEYANSYNFAKKENNSPEHLKDEVSIIQSMGYRNRAKRLLQSEPENPSLQETSLSVQLSNLGTVRTLRTKQRIQPQKTSVYIELGSDSSEDTVNKATYCSVGDQELLQITPQGTRDEISLDSAKKAACEFSETDVTNTEHHQPSNNDLNTTEKRAAERHPEKYQGSSVSNLHVEPCGTNTHASSLQHENSSLLLTKDRMNVEKAEFCNKSKQPGLARSQHNRWAGSKETCNDRRTPSTEKKVDLNADPLCERKEWNKQKLPCSENPRDTEDVPWITLNSSIQKVNEWFSRSDELLGSDDSHDGESESNAKVADVLDVLNEVDEYSGSSEKIDLLASDPHEALICKSERVHSKSVESNIEDKIFGKTYRKKASLPNLSHVTENLIIGAFVTEPQIIQERPLTNKLKRKRRPTSGLHPEDFIKKADLAVQKTPEMINQGTNQTEQNGQVMNITNSGHENKTKGDSIQNEKNPNPIESLEKESAFKTKAEPISSSISNMELELNIHNSKAPKKNRLRRKSSTRHIHALELVVSRNLSPPNCTELQIDSCSSSE                                                                                                                                                                                                                                                                                                                                                                                                                                                                                                                                                                                                                                                                                                                                                                                                                                                                                                                                                                                                                                                                                                                                                                                                                                                                                          </td><td>BRCA1                                                                                                                                                                                                                                                                                                                                                                                                                                                                                                                                                                                                                                                                                                                                                                                                                                                                                                                                                                                                                                                                                                                                                                                                                                                                                                                                                                                                                                                                                                                                                                                                                                                                                                                                                                                                                                                                                                                                   </td></tr>\n",
              "</tbody>\n",
              "</table>\n"
            ],
            "text/latex": "\\begin{tabular}{r|ll}\n peptide & hgnc\\_symbol\\\\\n\\hline\n\t XIPSQSTRHSTVATECLSKNTEENLLSLKNSLNDCSNQVILAKASQEHHLSEETKCSASLFSSQCSELEDLTANTNTQDPFLIGSSKQMRHQSESQGVGLSDKELVSDDEERGTGLEENNQEEQSMDSNLGEAASGCESETSVSEDCSGLSSQSDILTTQQRDTMQHNLIKLQQEMAELEAVLEQHGSQPSNSYPSIISDSSALEDLRNPEQSTSEKVLTSQKSSEYPISQNPEGLSADKFE                                                                                                                                                                                                                                                                                                                                                                                                                                                                                                                                                                                                                                                                                                                                                                                                                                                                                                                                                                                                                                                                                                                                                                                                                                                                                                                                                                                                                                                                                                                                                                                                                                                                                       & BRCA1                                                                                                                                                                                                                                                                                                                                                                                                                                                                                                                                                                                                                                                                                                                                                                                                                                                                                                                                                                                                                                                                                                                                                                                                                                                                                                                                                                                                                                                                                                                                                                                                                                                                                                                                                                                                                                                                                                                                   \\\\\n\t XLDSAKKAACEFSETDVTNTEHHQPSNNDLNTTEKRAAERHPEKYQGSSVSNLHVEPCGTNTHASSLQHENSSLLLTKDRMNVEKAEFCNKSKQPGLARSQHNRWAGSKETCNDRRTPSTEKKVDLNADPLCERKEWNKQKLPCSENPRDTEDVPWITLNSSIQKVNEWFSRSDELLGSDDSHDGESESNAKVADVLDVLNEVDEYSGSSEKIDLLASDPHEALICKSERVHSKSVESNIEDKIFGKTYRKKASLPNLSHVTENLIIGAFVTEPQIIQERPLTNKLKRKRRPTSGLHPEDFIKKADLAVQKTPEMINQGTNQTEQNGQVMNITNSGHENKTKGDSIQNEKNPNPIESLEKESAFKTKAEPISSSISNMELELNIHNSKAPKKNRLRRKSSTRHIHALELVVSRNLSPPNCTELQIDSCSSSEEIKKK                                                                                                                                                                                                                                                                                                                                                                                                                                                                                                                                                                                                                                                                                                                                                                                                                                                                                                                                                                                                                                                                                                                                                                                                                                                                                                                                                                                                                                                                                    & BRCA1                                                                                                                                                                                                                                                                                                                                                                                                                                                                                                                                                                                                                                                                                                                                                                                                                                                                                                                                                                                                                                                                                                                                                                                                                                                                                                                                                                                                                                                                                                                                                                                                                                                                                                                                                                                                                                                                                                                                   \\\\\n\t MDLSALRVEEVQNVINAMQKILECPICLELIKEPVSTKCDHIFCKFCMLKLLNQKKGPSQCPLCKNDITKRSLQESTRFSQLVEELLKIICAFQLDTGLEYANSYNFAKKENNSPEHLKDEVSIIQSMGYRNRAKRLLQSEPENPSLQETSLSVQLSNLGTVRTLRTKQRIQPQKTSVYIELGSDSSEDTVNKATYCSVGDQELLQITPQGTRDEISLDSAKKAACEFSETDVTNTEHHQPSNNDLNTTEKRAAERHPEKYQGSSVSNLHVEPCGTNTHASSLQHENSSLLLTKDRMNVEKAEFCNKSKQPGLARSQHNRWAGSKETCNDRRTPSTEKKVDLNADPLCERKEWNKQKLPCSENPRDTEDVPWITLNSSIQKVNEWFSRSDELLGSDDSHDGESESNAKVADVLDVLNEVDEYSGSSEKIDLLASDPHEALICKSERVHSKSVESNIEDKIFGKTYRKKASLPNLSHVTENLIIGAFVTEPQIIQERPLTNKLKRKRRPTSGLHPEDFIKKADLAVQKTPEMINQGTNQTEQNGQVMNITNSGHENKTKGDSIQNEKNPNPIESLEKESAFKTKAEPISSSISNMELELNIHNSKAPKKNRLRRKSSTRHIHALELVVSRNLSPPNCTELQIDSCSSSEEIKKKKYNQMPVRHSRNLQLMEGKEPATGAKKSNKPNEQTSKRHDSDTFPELKLTNAPGSFTKCSNTSELKEFVNPSLPREEKEEKLETVKVSNNAEDPKDLMLSGERVLQTERSVESSSISLVPGTDYGTQESISLLEVSTLGKAKTEPNKCVSQCAAFENPKGLIHGCSKDNRNDTEGFKYPLGHEVNHSRETSIEMEESELDAQYLQNTFKVSKRQSFAPFSNPGNAEEECATFSAHSGSLKKQSPKVTFECEQKEENQGKNESNIKPVQTVNITAGFPVVGQKDKPVDNAKCSIKGGSRFCLSSQFRGNETGLITPNKHGLLQNPYRIPPLFPIKSFVKTKCKKNLLEENFEEHSMSPEREMGNENIPSTVSTISRNNIRENVFKEASSSNINEVGSSTNEVGSSINEIGSSDENIQAELGRNRGPKLNAMLRLGVLQPEVYKQSLPGSNCKHPEIKKQEYEEVVQTVNTDFSPYLISDNLEQPMGSSHASQVCSETPDDLLDDGEIKEDTSFAENDIKESSAVFSKSVQKGELSRSPSPFTHTHLAQGYRRGAKKLESSEENLSSEDEELPCFQHLLFGKVNNIPSQSTRHSTVATECLSKNTEENLLSLKNSLNDCSNQVILAKASQEHHLSEETKCSASLFSSQCSELEDLTANTNTQDPFLIGSSKQMRHQSESQGVGLSDKELVSDDEERGTGLEENNQEEQSMDSNLGEAASGCESETSVSEDCSGLSSQSDILTTQQRDTMQHNLIKLQQEMAELEAVLEQHGSQPSNSYPSIISDSSALEDLRNPEQSTSEKAVLTSQKSSEYPISQNPEGLSADKFEVSADSSTSKNKEPGVERSSPSKCPSLDDRWYMHSCSGSLQNRNYPSQEELIKVVDVEEQQLEESGPHDLTETSYLPRQDLEGTPYLESGISLFSDDPESDPSEDRAPESARVGNIPSSTSALKVPQLKVAESAQSPAAAHTTDTAGYNAMEESVSREKPELTASTERVNKRMSMVVSGLTPEEFMLVYKFARKHHITLTNLITEETTHVVMKTDAEFVCERTLKYFLGIAGGKWVVSYFWVTQSIKERKMLNEHDFEVRGDVVNGRNHQGPKRARESQDRKIFRGLEICCYGPFTNMPTDQLEWMVQLCGASVVKELSSFTLGTGVHPIVVVQPDAWTEDNGFHAIGQMCEAPVVTREWVLDSVALYQCQELDTYLIPQIPHSHY* & BRCA1                                                                                                                                                                                                                                                                                                                                                                                                                                                                                                                                                                                                                                                                                                                                                                                                                                                                                                                                                                                                                                                                                                                                                                                                                                                                                                                                                                                                                                                                                                                                                                                                                                                                                                                                                                                                                                                                                                                                   \\\\\n\t MDLSALRVEEVQNVINAMQKILECPICLELIKEPVSTKCDHIFCKFCMLKLLNQKKGPSQCPLCKNDITKRSLQESTRFSQLVEELLKIICAFQLDTGLEYANSYNFAKKENNSPEHLKDEVSIIQSMGYRNRAKRLLQSEPENPSLETSLSVQLSNLGTVRTLRTKQRIQPQKTSVYIELGSDSSEDTVNKATYCSVGDQELLQITPQGTRDEISLDSAKK                                                                                                                                                                                                                                                                                                                                                                                                                                                                                                                                                                                                                                                                                                                                                                                                                                                                                                                                                                                                                                                                                                                                                                                                                                                                                                                                                                                                                                                                                                                                                                                                                                                                                                           & BRCA1                                                                                                                                                                                                                                                                                                                                                                                                                                                                                                                                                                                                                                                                                                                                                                                                                                                                                                                                                                                                                                                                                                                                                                                                                                                                                                                                                                                                                                                                                                                                                                                                                                                                                                                                                                                                                                                                                                                                   \\\\\n\t MDLSALRVEEVQNVINAMQKILECPICLELIKEPVSTKCDHIFCKFCMLKLLNQKKGPSQCPLCKNDITKRSLQESTRFSQLVEELLKIICAFQLDTGLEYANSYNFAKKENNSPEHLKDEVSIIQSMGYRNRAKRLLQSEPENPSLQETSLSVQLSNLGTVRTLRTKQRIQPQKTSVYIELGSDSSEDTVNKATYCSVGDQELLQITPQGTRDEISLDSAKKAACEFSETDVTNTEHHQPSNNDLNTTEKRAAERHPEKYQGEAASGCESETSVSEDCSGLSSQSDILTTQQRDTMQHNLIKLQQEMAELEAVLEQHGSQPSNSYPSIISDSSALEDLRNPEQSTSEKVLTSQKSSEYPISQNPEGLSADKFEVSADSSTSKNKEPGVERSSPSKCPSLDDRWYMHSCSGSLQNRNYPSQEELIKVVDVEEQQLEESGPHDLTETSYLPRQDLEGTPYLESGISLFSDDPESDPSEDRAPESARVGNIPSSTSALKVPQLKVAESAQSPAAAHTTDTAGYNAMEESVSREKPELTASTERVNKRMSMVVSGLTPEEFMLVYKFARKHHITLTNLITEETTHVVMKTDAEFVCERTLKYFLGIAGGKWVVSYFWVTQSIKERKMLNEHDFEVRGDVVNGRNHQGPKRARESQDRKIFRGLEICCYGPFTNMPTGCPPNCGCAARCLDRGQWLPCNWADV*                                                                                                                                                                                                                                                                                                                                                                                                                                                                                                                                                                                                                                                                                                                                                                                                                                                                                                                                                                                                                                                                                                                                                                                                             & BRCA1                                                                                                                                                                                                                                                                                                                                                                                                                                                                                                                                                                                                                                                                                                                                                                                                                                                                                                                                                                                                                                                                                                                                                                                                                                                                                                                                                                                                                                                                                                                                                                                                                                                                                                                                                                                                                                                                                                                                   \\\\\n\t MDLSALRVEEVQNVINAMQKILECPICLELIKEPVSTKCDHIFCKSLQESTRFSQLVEELLKIICAFQLDTGLEYANSYNFAKKENNSPEHLKDEVSIIQSMGYRNRAKRLLQSEPENPSLQETSLSVQLSNLGTVRTLRTKQRIQPQKTSVYIELGSDSSEDTVNKATYCSVGDQELLQITPQGTRDEISLDSAKKAACEFSETDVTNTEHHQPSNNDLNTTEKRAAERHPEKYQGSSVSNLHVEPCGTNTHASSLQHENSSLLLTKDRMNVEKAEFCNKSKQPGLARSQHNRWAGSKETCNDRRTPSTEKKVDLNADPLCERKEWNKQKLPCSENPRDTEDVPWITLNSSIQKVNEWFSRSDELLGSDDSHDGESESNAKVADVLDVLNEVDEYSGSSEKIDLLASDPHEALICKSERVHSKSVESNIEDKIFGKTYRKKASLPNLSHVTENLIIGAFVTEPQIIQERPLTNKLKRKRRPTSGLHPEDFIKKADLAVQKTPEMINQGTNQTEQNGQVMNITNSGHENKTKGDSIQNEKNPNPIESLEKESAFKTKAEPISSSISNMELELNIHNSKAPKKNRLRRKSSTRHIHALELVVSRNLSPPNCTELQIDSCSSSE                                                                                                                                                                                                                                                                                                                                                                                                                                                                                                                                                                                                                                                                                                                                                                                                                                                                                                                                                                                                                                                                                                                                                                                                                                                                                           & BRCA1                                                                                                                                                                                                                                                                                                                                                                                                                                                                                                                                                                                                                                                                                                                                                                                                                                                                                                                                                                                                                                                                                                                                                                                                                                                                                                                                                                                                                                                                                                                                                                                                                                                                                                                                                                                                                                                                                                                                   \\\\\n\\end{tabular}\n",
            "text/markdown": "\npeptide | hgnc_symbol | \n|---|---|---|---|---|---|\n| XIPSQSTRHSTVATECLSKNTEENLLSLKNSLNDCSNQVILAKASQEHHLSEETKCSASLFSSQCSELEDLTANTNTQDPFLIGSSKQMRHQSESQGVGLSDKELVSDDEERGTGLEENNQEEQSMDSNLGEAASGCESETSVSEDCSGLSSQSDILTTQQRDTMQHNLIKLQQEMAELEAVLEQHGSQPSNSYPSIISDSSALEDLRNPEQSTSEKVLTSQKSSEYPISQNPEGLSADKFE                                                                                                                                                                                                                                                                                                                                                                                                                                                                                                                                                                                                                                                                                                                                                                                                                                                                                                                                                                                                                                                                                                                                                                                                                                                                                                                                                                                                                                                                                                                                                                                                                                                                                       | BRCA1                                                                                                                                                                                                                                                                                                                                                                                                                                                                                                                                                                                                                                                                                                                                                                                                                                                                                                                                                                                                                                                                                                                                                                                                                                                                                                                                                                                                                                                                                                                                                                                                                                                                                                                                                                                                                                                                                                                                    | \n| XLDSAKKAACEFSETDVTNTEHHQPSNNDLNTTEKRAAERHPEKYQGSSVSNLHVEPCGTNTHASSLQHENSSLLLTKDRMNVEKAEFCNKSKQPGLARSQHNRWAGSKETCNDRRTPSTEKKVDLNADPLCERKEWNKQKLPCSENPRDTEDVPWITLNSSIQKVNEWFSRSDELLGSDDSHDGESESNAKVADVLDVLNEVDEYSGSSEKIDLLASDPHEALICKSERVHSKSVESNIEDKIFGKTYRKKASLPNLSHVTENLIIGAFVTEPQIIQERPLTNKLKRKRRPTSGLHPEDFIKKADLAVQKTPEMINQGTNQTEQNGQVMNITNSGHENKTKGDSIQNEKNPNPIESLEKESAFKTKAEPISSSISNMELELNIHNSKAPKKNRLRRKSSTRHIHALELVVSRNLSPPNCTELQIDSCSSSEEIKKK                                                                                                                                                                                                                                                                                                                                                                                                                                                                                                                                                                                                                                                                                                                                                                                                                                                                                                                                                                                                                                                                                                                                                                                                                                                                                                                                                                                                                                                                                    | BRCA1                                                                                                                                                                                                                                                                                                                                                                                                                                                                                                                                                                                                                                                                                                                                                                                                                                                                                                                                                                                                                                                                                                                                                                                                                                                                                                                                                                                                                                                                                                                                                                                                                                                                                                                                                                                                                                                                                                                                    | \n| MDLSALRVEEVQNVINAMQKILECPICLELIKEPVSTKCDHIFCKFCMLKLLNQKKGPSQCPLCKNDITKRSLQESTRFSQLVEELLKIICAFQLDTGLEYANSYNFAKKENNSPEHLKDEVSIIQSMGYRNRAKRLLQSEPENPSLQETSLSVQLSNLGTVRTLRTKQRIQPQKTSVYIELGSDSSEDTVNKATYCSVGDQELLQITPQGTRDEISLDSAKKAACEFSETDVTNTEHHQPSNNDLNTTEKRAAERHPEKYQGSSVSNLHVEPCGTNTHASSLQHENSSLLLTKDRMNVEKAEFCNKSKQPGLARSQHNRWAGSKETCNDRRTPSTEKKVDLNADPLCERKEWNKQKLPCSENPRDTEDVPWITLNSSIQKVNEWFSRSDELLGSDDSHDGESESNAKVADVLDVLNEVDEYSGSSEKIDLLASDPHEALICKSERVHSKSVESNIEDKIFGKTYRKKASLPNLSHVTENLIIGAFVTEPQIIQERPLTNKLKRKRRPTSGLHPEDFIKKADLAVQKTPEMINQGTNQTEQNGQVMNITNSGHENKTKGDSIQNEKNPNPIESLEKESAFKTKAEPISSSISNMELELNIHNSKAPKKNRLRRKSSTRHIHALELVVSRNLSPPNCTELQIDSCSSSEEIKKKKYNQMPVRHSRNLQLMEGKEPATGAKKSNKPNEQTSKRHDSDTFPELKLTNAPGSFTKCSNTSELKEFVNPSLPREEKEEKLETVKVSNNAEDPKDLMLSGERVLQTERSVESSSISLVPGTDYGTQESISLLEVSTLGKAKTEPNKCVSQCAAFENPKGLIHGCSKDNRNDTEGFKYPLGHEVNHSRETSIEMEESELDAQYLQNTFKVSKRQSFAPFSNPGNAEEECATFSAHSGSLKKQSPKVTFECEQKEENQGKNESNIKPVQTVNITAGFPVVGQKDKPVDNAKCSIKGGSRFCLSSQFRGNETGLITPNKHGLLQNPYRIPPLFPIKSFVKTKCKKNLLEENFEEHSMSPEREMGNENIPSTVSTISRNNIRENVFKEASSSNINEVGSSTNEVGSSINEIGSSDENIQAELGRNRGPKLNAMLRLGVLQPEVYKQSLPGSNCKHPEIKKQEYEEVVQTVNTDFSPYLISDNLEQPMGSSHASQVCSETPDDLLDDGEIKEDTSFAENDIKESSAVFSKSVQKGELSRSPSPFTHTHLAQGYRRGAKKLESSEENLSSEDEELPCFQHLLFGKVNNIPSQSTRHSTVATECLSKNTEENLLSLKNSLNDCSNQVILAKASQEHHLSEETKCSASLFSSQCSELEDLTANTNTQDPFLIGSSKQMRHQSESQGVGLSDKELVSDDEERGTGLEENNQEEQSMDSNLGEAASGCESETSVSEDCSGLSSQSDILTTQQRDTMQHNLIKLQQEMAELEAVLEQHGSQPSNSYPSIISDSSALEDLRNPEQSTSEKAVLTSQKSSEYPISQNPEGLSADKFEVSADSSTSKNKEPGVERSSPSKCPSLDDRWYMHSCSGSLQNRNYPSQEELIKVVDVEEQQLEESGPHDLTETSYLPRQDLEGTPYLESGISLFSDDPESDPSEDRAPESARVGNIPSSTSALKVPQLKVAESAQSPAAAHTTDTAGYNAMEESVSREKPELTASTERVNKRMSMVVSGLTPEEFMLVYKFARKHHITLTNLITEETTHVVMKTDAEFVCERTLKYFLGIAGGKWVVSYFWVTQSIKERKMLNEHDFEVRGDVVNGRNHQGPKRARESQDRKIFRGLEICCYGPFTNMPTDQLEWMVQLCGASVVKELSSFTLGTGVHPIVVVQPDAWTEDNGFHAIGQMCEAPVVTREWVLDSVALYQCQELDTYLIPQIPHSHY* | BRCA1                                                                                                                                                                                                                                                                                                                                                                                                                                                                                                                                                                                                                                                                                                                                                                                                                                                                                                                                                                                                                                                                                                                                                                                                                                                                                                                                                                                                                                                                                                                                                                                                                                                                                                                                                                                                                                                                                                                                    | \n| MDLSALRVEEVQNVINAMQKILECPICLELIKEPVSTKCDHIFCKFCMLKLLNQKKGPSQCPLCKNDITKRSLQESTRFSQLVEELLKIICAFQLDTGLEYANSYNFAKKENNSPEHLKDEVSIIQSMGYRNRAKRLLQSEPENPSLETSLSVQLSNLGTVRTLRTKQRIQPQKTSVYIELGSDSSEDTVNKATYCSVGDQELLQITPQGTRDEISLDSAKK                                                                                                                                                                                                                                                                                                                                                                                                                                                                                                                                                                                                                                                                                                                                                                                                                                                                                                                                                                                                                                                                                                                                                                                                                                                                                                                                                                                                                                                                                                                                                                                                                                                                                                           | BRCA1                                                                                                                                                                                                                                                                                                                                                                                                                                                                                                                                                                                                                                                                                                                                                                                                                                                                                                                                                                                                                                                                                                                                                                                                                                                                                                                                                                                                                                                                                                                                                                                                                                                                                                                                                                                                                                                                                                                                    | \n| MDLSALRVEEVQNVINAMQKILECPICLELIKEPVSTKCDHIFCKFCMLKLLNQKKGPSQCPLCKNDITKRSLQESTRFSQLVEELLKIICAFQLDTGLEYANSYNFAKKENNSPEHLKDEVSIIQSMGYRNRAKRLLQSEPENPSLQETSLSVQLSNLGTVRTLRTKQRIQPQKTSVYIELGSDSSEDTVNKATYCSVGDQELLQITPQGTRDEISLDSAKKAACEFSETDVTNTEHHQPSNNDLNTTEKRAAERHPEKYQGEAASGCESETSVSEDCSGLSSQSDILTTQQRDTMQHNLIKLQQEMAELEAVLEQHGSQPSNSYPSIISDSSALEDLRNPEQSTSEKVLTSQKSSEYPISQNPEGLSADKFEVSADSSTSKNKEPGVERSSPSKCPSLDDRWYMHSCSGSLQNRNYPSQEELIKVVDVEEQQLEESGPHDLTETSYLPRQDLEGTPYLESGISLFSDDPESDPSEDRAPESARVGNIPSSTSALKVPQLKVAESAQSPAAAHTTDTAGYNAMEESVSREKPELTASTERVNKRMSMVVSGLTPEEFMLVYKFARKHHITLTNLITEETTHVVMKTDAEFVCERTLKYFLGIAGGKWVVSYFWVTQSIKERKMLNEHDFEVRGDVVNGRNHQGPKRARESQDRKIFRGLEICCYGPFTNMPTGCPPNCGCAARCLDRGQWLPCNWADV*                                                                                                                                                                                                                                                                                                                                                                                                                                                                                                                                                                                                                                                                                                                                                                                                                                                                                                                                                                                                                                                                                                                                                                                                             | BRCA1                                                                                                                                                                                                                                                                                                                                                                                                                                                                                                                                                                                                                                                                                                                                                                                                                                                                                                                                                                                                                                                                                                                                                                                                                                                                                                                                                                                                                                                                                                                                                                                                                                                                                                                                                                                                                                                                                                                                    | \n| MDLSALRVEEVQNVINAMQKILECPICLELIKEPVSTKCDHIFCKSLQESTRFSQLVEELLKIICAFQLDTGLEYANSYNFAKKENNSPEHLKDEVSIIQSMGYRNRAKRLLQSEPENPSLQETSLSVQLSNLGTVRTLRTKQRIQPQKTSVYIELGSDSSEDTVNKATYCSVGDQELLQITPQGTRDEISLDSAKKAACEFSETDVTNTEHHQPSNNDLNTTEKRAAERHPEKYQGSSVSNLHVEPCGTNTHASSLQHENSSLLLTKDRMNVEKAEFCNKSKQPGLARSQHNRWAGSKETCNDRRTPSTEKKVDLNADPLCERKEWNKQKLPCSENPRDTEDVPWITLNSSIQKVNEWFSRSDELLGSDDSHDGESESNAKVADVLDVLNEVDEYSGSSEKIDLLASDPHEALICKSERVHSKSVESNIEDKIFGKTYRKKASLPNLSHVTENLIIGAFVTEPQIIQERPLTNKLKRKRRPTSGLHPEDFIKKADLAVQKTPEMINQGTNQTEQNGQVMNITNSGHENKTKGDSIQNEKNPNPIESLEKESAFKTKAEPISSSISNMELELNIHNSKAPKKNRLRRKSSTRHIHALELVVSRNLSPPNCTELQIDSCSSSE                                                                                                                                                                                                                                                                                                                                                                                                                                                                                                                                                                                                                                                                                                                                                                                                                                                                                                                                                                                                                                                                                                                                                                                                                                                                                           | BRCA1                                                                                                                                                                                                                                                                                                                                                                                                                                                                                                                                                                                                                                                                                                                                                                                                                                                                                                                                                                                                                                                                                                                                                                                                                                                                                                                                                                                                                                                                                                                                                                                                                                                                                                                                                                                                                                                                                                                                    | \n\n\n",
            "text/plain": [
              "  peptide                                                                                                                                                                                                                                                                                                                                                                                                                                                                                                                                                                                                                                                                                                                                                                                                                                                                                                                                                                                                                                                                                                                                                                                                                                                                                                                                                                                                                                                                                                                                                                                                                                                                                                                                                                                                                                                                                                                                 \n",
              "1 XIPSQSTRHSTVATECLSKNTEENLLSLKNSLNDCSNQVILAKASQEHHLSEETKCSASLFSSQCSELEDLTANTNTQDPFLIGSSKQMRHQSESQGVGLSDKELVSDDEERGTGLEENNQEEQSMDSNLGEAASGCESETSVSEDCSGLSSQSDILTTQQRDTMQHNLIKLQQEMAELEAVLEQHGSQPSNSYPSIISDSSALEDLRNPEQSTSEKVLTSQKSSEYPISQNPEGLSADKFE                                                                                                                                                                                                                                                                                                                                                                                                                                                                                                                                                                                                                                                                                                                                                                                                                                                                                                                                                                                                                                                                                                                                                                                                                                                                                                                                                                                                                                                                                                                                                                                                                                                                                      \n",
              "2 XLDSAKKAACEFSETDVTNTEHHQPSNNDLNTTEKRAAERHPEKYQGSSVSNLHVEPCGTNTHASSLQHENSSLLLTKDRMNVEKAEFCNKSKQPGLARSQHNRWAGSKETCNDRRTPSTEKKVDLNADPLCERKEWNKQKLPCSENPRDTEDVPWITLNSSIQKVNEWFSRSDELLGSDDSHDGESESNAKVADVLDVLNEVDEYSGSSEKIDLLASDPHEALICKSERVHSKSVESNIEDKIFGKTYRKKASLPNLSHVTENLIIGAFVTEPQIIQERPLTNKLKRKRRPTSGLHPEDFIKKADLAVQKTPEMINQGTNQTEQNGQVMNITNSGHENKTKGDSIQNEKNPNPIESLEKESAFKTKAEPISSSISNMELELNIHNSKAPKKNRLRRKSSTRHIHALELVVSRNLSPPNCTELQIDSCSSSEEIKKK                                                                                                                                                                                                                                                                                                                                                                                                                                                                                                                                                                                                                                                                                                                                                                                                                                                                                                                                                                                                                                                                                                                                                                                                                                                                                                                                                                                                                                                                                   \n",
              "3 MDLSALRVEEVQNVINAMQKILECPICLELIKEPVSTKCDHIFCKFCMLKLLNQKKGPSQCPLCKNDITKRSLQESTRFSQLVEELLKIICAFQLDTGLEYANSYNFAKKENNSPEHLKDEVSIIQSMGYRNRAKRLLQSEPENPSLQETSLSVQLSNLGTVRTLRTKQRIQPQKTSVYIELGSDSSEDTVNKATYCSVGDQELLQITPQGTRDEISLDSAKKAACEFSETDVTNTEHHQPSNNDLNTTEKRAAERHPEKYQGSSVSNLHVEPCGTNTHASSLQHENSSLLLTKDRMNVEKAEFCNKSKQPGLARSQHNRWAGSKETCNDRRTPSTEKKVDLNADPLCERKEWNKQKLPCSENPRDTEDVPWITLNSSIQKVNEWFSRSDELLGSDDSHDGESESNAKVADVLDVLNEVDEYSGSSEKIDLLASDPHEALICKSERVHSKSVESNIEDKIFGKTYRKKASLPNLSHVTENLIIGAFVTEPQIIQERPLTNKLKRKRRPTSGLHPEDFIKKADLAVQKTPEMINQGTNQTEQNGQVMNITNSGHENKTKGDSIQNEKNPNPIESLEKESAFKTKAEPISSSISNMELELNIHNSKAPKKNRLRRKSSTRHIHALELVVSRNLSPPNCTELQIDSCSSSEEIKKKKYNQMPVRHSRNLQLMEGKEPATGAKKSNKPNEQTSKRHDSDTFPELKLTNAPGSFTKCSNTSELKEFVNPSLPREEKEEKLETVKVSNNAEDPKDLMLSGERVLQTERSVESSSISLVPGTDYGTQESISLLEVSTLGKAKTEPNKCVSQCAAFENPKGLIHGCSKDNRNDTEGFKYPLGHEVNHSRETSIEMEESELDAQYLQNTFKVSKRQSFAPFSNPGNAEEECATFSAHSGSLKKQSPKVTFECEQKEENQGKNESNIKPVQTVNITAGFPVVGQKDKPVDNAKCSIKGGSRFCLSSQFRGNETGLITPNKHGLLQNPYRIPPLFPIKSFVKTKCKKNLLEENFEEHSMSPEREMGNENIPSTVSTISRNNIRENVFKEASSSNINEVGSSTNEVGSSINEIGSSDENIQAELGRNRGPKLNAMLRLGVLQPEVYKQSLPGSNCKHPEIKKQEYEEVVQTVNTDFSPYLISDNLEQPMGSSHASQVCSETPDDLLDDGEIKEDTSFAENDIKESSAVFSKSVQKGELSRSPSPFTHTHLAQGYRRGAKKLESSEENLSSEDEELPCFQHLLFGKVNNIPSQSTRHSTVATECLSKNTEENLLSLKNSLNDCSNQVILAKASQEHHLSEETKCSASLFSSQCSELEDLTANTNTQDPFLIGSSKQMRHQSESQGVGLSDKELVSDDEERGTGLEENNQEEQSMDSNLGEAASGCESETSVSEDCSGLSSQSDILTTQQRDTMQHNLIKLQQEMAELEAVLEQHGSQPSNSYPSIISDSSALEDLRNPEQSTSEKAVLTSQKSSEYPISQNPEGLSADKFEVSADSSTSKNKEPGVERSSPSKCPSLDDRWYMHSCSGSLQNRNYPSQEELIKVVDVEEQQLEESGPHDLTETSYLPRQDLEGTPYLESGISLFSDDPESDPSEDRAPESARVGNIPSSTSALKVPQLKVAESAQSPAAAHTTDTAGYNAMEESVSREKPELTASTERVNKRMSMVVSGLTPEEFMLVYKFARKHHITLTNLITEETTHVVMKTDAEFVCERTLKYFLGIAGGKWVVSYFWVTQSIKERKMLNEHDFEVRGDVVNGRNHQGPKRARESQDRKIFRGLEICCYGPFTNMPTDQLEWMVQLCGASVVKELSSFTLGTGVHPIVVVQPDAWTEDNGFHAIGQMCEAPVVTREWVLDSVALYQCQELDTYLIPQIPHSHY*\n",
              "4 MDLSALRVEEVQNVINAMQKILECPICLELIKEPVSTKCDHIFCKFCMLKLLNQKKGPSQCPLCKNDITKRSLQESTRFSQLVEELLKIICAFQLDTGLEYANSYNFAKKENNSPEHLKDEVSIIQSMGYRNRAKRLLQSEPENPSLETSLSVQLSNLGTVRTLRTKQRIQPQKTSVYIELGSDSSEDTVNKATYCSVGDQELLQITPQGTRDEISLDSAKK                                                                                                                                                                                                                                                                                                                                                                                                                                                                                                                                                                                                                                                                                                                                                                                                                                                                                                                                                                                                                                                                                                                                                                                                                                                                                                                                                                                                                                                                                                                                                                                                                                                                                                          \n",
              "5 MDLSALRVEEVQNVINAMQKILECPICLELIKEPVSTKCDHIFCKFCMLKLLNQKKGPSQCPLCKNDITKRSLQESTRFSQLVEELLKIICAFQLDTGLEYANSYNFAKKENNSPEHLKDEVSIIQSMGYRNRAKRLLQSEPENPSLQETSLSVQLSNLGTVRTLRTKQRIQPQKTSVYIELGSDSSEDTVNKATYCSVGDQELLQITPQGTRDEISLDSAKKAACEFSETDVTNTEHHQPSNNDLNTTEKRAAERHPEKYQGEAASGCESETSVSEDCSGLSSQSDILTTQQRDTMQHNLIKLQQEMAELEAVLEQHGSQPSNSYPSIISDSSALEDLRNPEQSTSEKVLTSQKSSEYPISQNPEGLSADKFEVSADSSTSKNKEPGVERSSPSKCPSLDDRWYMHSCSGSLQNRNYPSQEELIKVVDVEEQQLEESGPHDLTETSYLPRQDLEGTPYLESGISLFSDDPESDPSEDRAPESARVGNIPSSTSALKVPQLKVAESAQSPAAAHTTDTAGYNAMEESVSREKPELTASTERVNKRMSMVVSGLTPEEFMLVYKFARKHHITLTNLITEETTHVVMKTDAEFVCERTLKYFLGIAGGKWVVSYFWVTQSIKERKMLNEHDFEVRGDVVNGRNHQGPKRARESQDRKIFRGLEICCYGPFTNMPTGCPPNCGCAARCLDRGQWLPCNWADV*                                                                                                                                                                                                                                                                                                                                                                                                                                                                                                                                                                                                                                                                                                                                                                                                                                                                                                                                                                                                                                                                                                                                                                                                            \n",
              "6 MDLSALRVEEVQNVINAMQKILECPICLELIKEPVSTKCDHIFCKSLQESTRFSQLVEELLKIICAFQLDTGLEYANSYNFAKKENNSPEHLKDEVSIIQSMGYRNRAKRLLQSEPENPSLQETSLSVQLSNLGTVRTLRTKQRIQPQKTSVYIELGSDSSEDTVNKATYCSVGDQELLQITPQGTRDEISLDSAKKAACEFSETDVTNTEHHQPSNNDLNTTEKRAAERHPEKYQGSSVSNLHVEPCGTNTHASSLQHENSSLLLTKDRMNVEKAEFCNKSKQPGLARSQHNRWAGSKETCNDRRTPSTEKKVDLNADPLCERKEWNKQKLPCSENPRDTEDVPWITLNSSIQKVNEWFSRSDELLGSDDSHDGESESNAKVADVLDVLNEVDEYSGSSEKIDLLASDPHEALICKSERVHSKSVESNIEDKIFGKTYRKKASLPNLSHVTENLIIGAFVTEPQIIQERPLTNKLKRKRRPTSGLHPEDFIKKADLAVQKTPEMINQGTNQTEQNGQVMNITNSGHENKTKGDSIQNEKNPNPIESLEKESAFKTKAEPISSSISNMELELNIHNSKAPKKNRLRRKSSTRHIHALELVVSRNLSPPNCTELQIDSCSSSE                                                                                                                                                                                                                                                                                                                                                                                                                                                                                                                                                                                                                                                                                                                                                                                                                                                                                                                                                                                                                                                                                                                                                                                                                                                                                          \n",
              "  hgnc_symbol\n",
              "1 BRCA1      \n",
              "2 BRCA1      \n",
              "3 BRCA1      \n",
              "4 BRCA1      \n",
              "5 BRCA1      \n",
              "6 BRCA1      "
            ]
          },
          "metadata": {
            "tags": []
          }
        }
      ]
    },
    {
      "cell_type": "markdown",
      "metadata": {
        "id": "_U4RfX9YXEPC",
        "colab_type": "text"
      },
      "source": [
        "# 2. Bioconductor 소개\n",
        "\n",
        "Bioconductor는 R의 생명정보학 패키지들을 모아서 관리하는 프로젝트이다.\n",
        "\n",
        "## 2.1. Bioconductor로 패키지 설치\n",
        "\n",
        "```R\n",
        "source(\"http://bioconductor.org/biocLite.R\")\n",
        "biocLite(\"package_name\")\n",
        "library(package_name)\n",
        "```\n",
        "\n",
        "## 2.2.  Entrez  주석 확인\n"
      ]
    },
    {
      "cell_type": "code",
      "metadata": {
        "id": "Vh4zJQXXXEPE",
        "colab_type": "code",
        "colab": {}
      },
      "source": [
        "biocLite(\"hgu133a.db\")\n",
        "library(hgu133a.db)\n",
        "myMap <- hgu133aENTREZID # 매핑을 위해 Entrez ID를 분리한다.\n",
        "mapped_probes <- mappedkeys(myMap) # 매핑 프로브를 얻는다\n",
        "MyEntrez <- as.list(myMap[mapped_probes[1:5]]) # 알고자하는 프로브의 ID를 뽑는다"
      ],
      "execution_count": 0,
      "outputs": []
    },
    {
      "cell_type": "code",
      "metadata": {
        "id": "weiYWLzMXEPJ",
        "colab_type": "code",
        "colab": {},
        "outputId": "e49c2a70-cd0d-4d7b-ff47-bbc72e562ed1"
      },
      "source": [
        "for(i in 1:3){\n",
        "    print(MyEntrez[[i]])\n",
        "}"
      ],
      "execution_count": 0,
      "outputs": [
        {
          "output_type": "stream",
          "text": [
            "[1] \"5982\"\n",
            "[1] \"3310\"\n",
            "[1] \"7849\"\n"
          ],
          "name": "stdout"
        }
      ]
    },
    {
      "cell_type": "markdown",
      "metadata": {
        "id": "Swt754bpXEPZ",
        "colab_type": "text"
      },
      "source": [
        "# 3. R을 사용한 서열 분석\n",
        "\n",
        "## 3.1. 서열 추출\n",
        "\n",
        "`seqinr` 라이브러리를 사용해 `BRCA1` 유전자의 서열을 분석 한다."
      ]
    },
    {
      "cell_type": "code",
      "metadata": {
        "id": "kUXlTxWpXEPc",
        "colab_type": "code",
        "colab": {},
        "outputId": "e99d26ca-d682-447f-9a5f-856f61e628c6"
      },
      "source": [
        "#  install.packages(\"seqinr\")\n",
        "library(seqinr)\n",
        "choosebank()"
      ],
      "execution_count": 0,
      "outputs": [
        {
          "output_type": "display_data",
          "data": {
            "text/plain": [
              " [1] \"genbank\"         \"embl\"            \"emblwgs\"         \"swissprot\"      \n",
              " [5] \"ensembl\"         \"hogenom7dna\"     \"hogenom7\"        \"hogenom\"        \n",
              " [9] \"hogenomdna\"      \"hovergendna\"     \"hovergen\"        \"hogenom5\"       \n",
              "[13] \"hogenom5dna\"     \"hogenom4\"        \"hogenom4dna\"     \"homolens\"       \n",
              "[17] \"homolensdna\"     \"hobacnucl\"       \"hobacprot\"       \"phever2\"        \n",
              "[21] \"phever2dna\"      \"refseq\"          \"refseq16s\"       \"greviews\"       \n",
              "[25] \"bacterial\"       \"archaeal\"        \"protozoan\"       \"ensprotists\"    \n",
              "[29] \"ensfungi\"        \"ensmetazoa\"      \"ensplants\"       \"ensemblbacteria\"\n",
              "[33] \"mito\"            \"polymorphix\"     \"emglib\"          \"refseqViruses\"  \n",
              "[37] \"ribodb\"          \"taxodb\"         "
            ]
          },
          "metadata": {
            "tags": []
          }
        }
      ]
    },
    {
      "cell_type": "code",
      "metadata": {
        "id": "J5zABxXSXEPk",
        "colab_type": "code",
        "colab": {},
        "outputId": "9c591789-e0dc-4990-ebb7-ca239e5d95d8"
      },
      "source": [
        "choosebank(\"genbank\") # 데이터베이스를 선택한다\n",
        "test <- query(\"test\", \"N=rpoB AND SP=Escherichia coli\")"
      ],
      "execution_count": 0,
      "outputs": [
        {
          "output_type": "error",
          "ename": "ERROR",
          "evalue": "Error in acnucopen(bank, socket): Empty answer from server\n",
          "traceback": [
            "Error in acnucopen(bank, socket): Empty answer from server\nTraceback:\n",
            "1. choosebank(\"genbank\")",
            "2. acnucopen(bank, socket)",
            "3. stop(\"Empty answer from server\")"
          ]
        }
      ]
    },
    {
      "cell_type": "code",
      "metadata": {
        "id": "OSHVr5tXXEPs",
        "colab_type": "code",
        "colab": {}
      },
      "source": [
        "attributes(proteo)\n",
        "# BRCA1$req # 모든 서열을 확인하는 명령어\n",
        "myseq <- getSequence(proteo$req[[1]]) # 첫 번째 서열만 추출한다\n",
        "myseq\n",
        "closebank() # 쿼리 사용후 데이터베이스를 닫는다"
      ],
      "execution_count": 0,
      "outputs": []
    },
    {
      "cell_type": "markdown",
      "metadata": {
        "id": "LA_8v1o3XEPw",
        "colab_type": "text"
      },
      "source": [
        "## 3.2. FASTA 파일 다루기"
      ]
    },
    {
      "cell_type": "code",
      "metadata": {
        "id": "BrKyUa_HXEPy",
        "colab_type": "code",
        "colab": {},
        "outputId": "ef4fd30a-2cef-4641-e8d2-f1998f99f1c3"
      },
      "source": [
        "library(seqinr)\n",
        "my_seq <- read.fasta(file=\"2bq0.fasta\")\n",
        "my_seq"
      ],
      "execution_count": 0,
      "outputs": [
        {
          "output_type": "display_data",
          "data": {
            "text/plain": [
              "$`2BQ0:A|PDBID|CHAIN|SEQUENCE`\n",
              "  [1] \"m\" \"t\" \"m\" \"d\" \"k\" \"s\" \"e\" \"l\" \"v\" \"q\" \"k\" \"a\" \"k\" \"l\" \"a\" \"e\" \"q\" \"a\"\n",
              " [19] \"e\" \"r\" \"y\" \"d\" \"d\" \"m\" \"a\" \"a\" \"a\" \"m\" \"k\" \"a\" \"v\" \"t\" \"e\" \"q\" \"g\" \"h\"\n",
              " [37] \"e\" \"l\" \"s\" \"n\" \"e\" \"e\" \"r\" \"n\" \"l\" \"l\" \"s\" \"v\" \"a\" \"y\" \"k\" \"n\" \"v\" \"v\"\n",
              " [55] \"g\" \"a\" \"r\" \"r\" \"s\" \"s\" \"w\" \"r\" \"v\" \"i\" \"s\" \"s\" \"i\" \"e\" \"q\" \"k\" \"t\" \"e\"\n",
              " [73] \"r\" \"n\" \"e\" \"k\" \"k\" \"q\" \"q\" \"m\" \"g\" \"k\" \"e\" \"y\" \"r\" \"e\" \"k\" \"i\" \"e\" \"a\"\n",
              " [91] \"e\" \"l\" \"q\" \"d\" \"i\" \"c\" \"n\" \"d\" \"v\" \"l\" \"e\" \"l\" \"l\" \"d\" \"k\" \"y\" \"l\" \"i\"\n",
              "[109] \"p\" \"n\" \"a\" \"t\" \"q\" \"p\" \"e\" \"s\" \"k\" \"v\" \"f\" \"y\" \"l\" \"k\" \"m\" \"k\" \"g\" \"d\"\n",
              "[127] \"y\" \"f\" \"r\" \"y\" \"l\" \"s\" \"e\" \"v\" \"a\" \"s\" \"g\" \"d\" \"n\" \"k\" \"q\" \"t\" \"t\" \"v\"\n",
              "[145] \"s\" \"n\" \"s\" \"q\" \"q\" \"a\" \"y\" \"q\" \"e\" \"a\" \"f\" \"e\" \"i\" \"s\" \"k\" \"k\" \"e\" \"m\"\n",
              "[163] \"q\" \"p\" \"t\" \"h\" \"p\" \"i\" \"r\" \"l\" \"g\" \"l\" \"a\" \"l\" \"n\" \"f\" \"s\" \"v\" \"f\" \"y\"\n",
              "[181] \"y\" \"e\" \"i\" \"l\" \"n\" \"s\" \"p\" \"e\" \"k\" \"a\" \"c\" \"s\" \"l\" \"a\" \"k\" \"t\" \"a\" \"f\"\n",
              "[199] \"d\" \"e\" \"a\" \"i\" \"a\" \"e\" \"l\" \"d\" \"t\" \"l\" \"n\" \"e\" \"e\" \"s\" \"y\" \"k\" \"d\" \"s\"\n",
              "[217] \"t\" \"l\" \"i\" \"m\" \"q\" \"l\" \"l\" \"r\" \"d\" \"n\" \"l\" \"t\" \"l\" \"w\" \"t\" \"s\" \"e\" \"n\"\n",
              "[235] \"q\" \"g\" \"d\" \"e\" \"g\" \"e\" \"n\" \"l\" \"y\" \"f\" \"q\"\n",
              "attr(,\"name\")\n",
              "[1] \"2BQ0:A|PDBID|CHAIN|SEQUENCE\"\n",
              "attr(,\"Annot\")\n",
              "[1] \">2BQ0:A|PDBID|CHAIN|SEQUENCE\"\n",
              "attr(,\"class\")\n",
              "[1] \"SeqFastadna\"\n",
              "\n",
              "$`2BQ0:B|PDBID|CHAIN|SEQUENCE`\n",
              "  [1] \"m\" \"t\" \"m\" \"d\" \"k\" \"s\" \"e\" \"l\" \"v\" \"q\" \"k\" \"a\" \"k\" \"l\" \"a\" \"e\" \"q\" \"a\"\n",
              " [19] \"e\" \"r\" \"y\" \"d\" \"d\" \"m\" \"a\" \"a\" \"a\" \"m\" \"k\" \"a\" \"v\" \"t\" \"e\" \"q\" \"g\" \"h\"\n",
              " [37] \"e\" \"l\" \"s\" \"n\" \"e\" \"e\" \"r\" \"n\" \"l\" \"l\" \"s\" \"v\" \"a\" \"y\" \"k\" \"n\" \"v\" \"v\"\n",
              " [55] \"g\" \"a\" \"r\" \"r\" \"s\" \"s\" \"w\" \"r\" \"v\" \"i\" \"s\" \"s\" \"i\" \"e\" \"q\" \"k\" \"t\" \"e\"\n",
              " [73] \"r\" \"n\" \"e\" \"k\" \"k\" \"q\" \"q\" \"m\" \"g\" \"k\" \"e\" \"y\" \"r\" \"e\" \"k\" \"i\" \"e\" \"a\"\n",
              " [91] \"e\" \"l\" \"q\" \"d\" \"i\" \"c\" \"n\" \"d\" \"v\" \"l\" \"e\" \"l\" \"l\" \"d\" \"k\" \"y\" \"l\" \"i\"\n",
              "[109] \"p\" \"n\" \"a\" \"t\" \"q\" \"p\" \"e\" \"s\" \"k\" \"v\" \"f\" \"y\" \"l\" \"k\" \"m\" \"k\" \"g\" \"d\"\n",
              "[127] \"y\" \"f\" \"r\" \"y\" \"l\" \"s\" \"e\" \"v\" \"a\" \"s\" \"g\" \"d\" \"n\" \"k\" \"q\" \"t\" \"t\" \"v\"\n",
              "[145] \"s\" \"n\" \"s\" \"q\" \"q\" \"a\" \"y\" \"q\" \"e\" \"a\" \"f\" \"e\" \"i\" \"s\" \"k\" \"k\" \"e\" \"m\"\n",
              "[163] \"q\" \"p\" \"t\" \"h\" \"p\" \"i\" \"r\" \"l\" \"g\" \"l\" \"a\" \"l\" \"n\" \"f\" \"s\" \"v\" \"f\" \"y\"\n",
              "[181] \"y\" \"e\" \"i\" \"l\" \"n\" \"s\" \"p\" \"e\" \"k\" \"a\" \"c\" \"s\" \"l\" \"a\" \"k\" \"t\" \"a\" \"f\"\n",
              "[199] \"d\" \"e\" \"a\" \"i\" \"a\" \"e\" \"l\" \"d\" \"t\" \"l\" \"n\" \"e\" \"e\" \"s\" \"y\" \"k\" \"d\" \"s\"\n",
              "[217] \"t\" \"l\" \"i\" \"m\" \"q\" \"l\" \"l\" \"r\" \"d\" \"n\" \"l\" \"t\" \"l\" \"w\" \"t\" \"s\" \"e\" \"n\"\n",
              "[235] \"q\" \"g\" \"d\" \"e\" \"g\" \"e\" \"n\" \"l\" \"y\" \"f\" \"q\"\n",
              "attr(,\"name\")\n",
              "[1] \"2BQ0:B|PDBID|CHAIN|SEQUENCE\"\n",
              "attr(,\"Annot\")\n",
              "[1] \">2BQ0:B|PDBID|CHAIN|SEQUENCE\"\n",
              "attr(,\"class\")\n",
              "[1] \"SeqFastadna\"\n"
            ]
          },
          "metadata": {
            "tags": []
          }
        }
      ]
    },
    {
      "cell_type": "markdown",
      "metadata": {
        "id": "jjxnRYNjXEP-",
        "colab_type": "text"
      },
      "source": [
        "## 3.3. 서열 구성확인"
      ]
    },
    {
      "cell_type": "code",
      "metadata": {
        "id": "G8-MpW--XEQC",
        "colab_type": "code",
        "colab": {}
      },
      "source": [
        "library(seqinr)\n",
        "proteo$req"
      ],
      "execution_count": 0,
      "outputs": []
    },
    {
      "cell_type": "code",
      "metadata": {
        "id": "MmYkIXxqXEQI",
        "colab_type": "code",
        "colab": {}
      },
      "source": [
        "tab"
      ],
      "execution_count": 0,
      "outputs": []
    }
  ]
}