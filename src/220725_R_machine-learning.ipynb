{
 "cells": [
  {
   "cell_type": "markdown",
   "metadata": {},
   "source": [
    "https://machinelearningmastery.com/machine-learning-in-r-step-by-step/\n",
    "\n",
    "# Your First Machine Learning Project in R Step-By-Step (tutorial and template for future projects)\n",
    "\n",
    "Do you want to do machine learning using R, but you’re having trouble getting started?\n",
    "\n",
    "In this post you will complete your first machine learning project using R.\n",
    "\n",
    "In this step-by-step tutorial you will:\n",
    "\n",
    "1. Download and install R and get the most useful package for machine learning in R.\n",
    "2. Load a dataset and understand it’s structure using statistical summaries and data visualization.\n",
    "3. Create 5 machine learning models, pick the best and build confidence that the accuracy is reliable.\n",
    "\n",
    "If you are a machine learning beginner and looking to finally get started using R, this tutorial was designed for you.\n",
    "\n",
    "Let’s get started!\n",
    "\n",
    "# How Do You Start Machine Learning in R?\n",
    "\n",
    "The best way to learn machine learning is by designing and completing small projects.\n",
    "\n",
    "# R Can Be Intimidating When Getting Started\n",
    "\n",
    "R provides a scripting language with an odd syntax. There are also hundreds of packages and thousands of functions to choose from, providing multiple ways to do each task. It can feel overwhelming.\n",
    "\n",
    "The best way to get started using R for machine learning is to complete a project.\n",
    "\n",
    "- It will force you to install and start R (at the very least).\n",
    "- It will given you a bird’s eye view of how to step through a small project.\n",
    "- It will give you confidence, maybe to go on to your own small projects.\n",
    "\n",
    "# Machine Learning in R: Step-By-Step Tutorial (start here)\n",
    "In this section we are going to work through a small machine learning project end-to-end.\n",
    "\n",
    "Here is an overview what we are going to cover:\n",
    "\n",
    "1. Installing the R platform.\n",
    "2. Loading the dataset.\n",
    "3. Summarizing the dataset.\n",
    "4. Visualizing the dataset.\n",
    "5. Evaluating some algorithms.\n",
    "6. Making some predictions.\n",
    "\n",
    "Take your time. Work through each step.\n",
    "\n",
    "Try to type in the commands yourself or copy-and-paste the commands to speed things up.\n",
    "\n",
    "Any questions, please leave a comment at the bottom of the post.\n",
    "\n",
    "# 1. Downloading Installing and Starting R\n",
    "Get the R platform installed on your system if it is not already.\n",
    "\n",
    "UPDATE: This tutorial was written and tested with R version 3.2.3. It is recommend that you use this version of R or higher.\n",
    "\n",
    "I do not want to cover this in great detail, because others already have. This is already pretty straight forward, especially if you are a developer. If you do need help, ask a question in the comments.\n",
    "\n",
    "Here is what we are going to cover in this step:\n",
    "\n",
    "# Install R Packages.\n",
    "\n",
    "1.1 Download R\n",
    "You can download R from The R Project webpage.\n",
    "\n",
    "When you click the download link, you will have to choose a mirror. You can then choose R for your operating system, such as Windows, OS X or Linux.\n",
    "\n",
    "1.2 Install R\n",
    "R is is easy to install and I’m sure you can handle it. There are no special requirements. If you have questions or need help installing see R Installation and Administration.\n",
    "\n",
    "1.3 Start R\n",
    "You can start R from whatever menu system you use on your operating system.\n",
    "\n",
    "For me, I prefer the command line.\n",
    "\n",
    "Open your command line, change (or create) to your project directory and start R by typing:\n",
    "\n",
    "```bash\n",
    "install.packages(\"caret\")\n",
    "install.packages(\"caret\", dependencies=c(\"Depends\", \"Suggests\"))\n",
    "```"
   ]
  },
  {
   "cell_type": "code",
   "execution_count": 1,
   "metadata": {},
   "outputs": [
    {
     "name": "stderr",
     "output_type": "stream",
     "text": [
      "Warning message in install.packages(\"caret\"):\n",
      "“installation of package ‘caret’ had non-zero exit status”Updating HTML index of packages in '.Library'\n",
      "Making 'packages.html' ... done\n"
     ]
    },
    {
     "ename": "ERROR",
     "evalue": "Error in library(caret): there is no package called ‘caret’\n",
     "output_type": "error",
     "traceback": [
      "Error in library(caret): there is no package called ‘caret’\nTraceback:\n",
      "1. library(caret)",
      "2. stop(txt, domain = NA)"
     ]
    }
   ],
   "source": [
    "install.packages(\"caret\")\n",
    "library(caret)"
   ]
  },
  {
   "cell_type": "markdown",
   "metadata": {},
   "source": [
    "> UPDATE: We may need other packages, but caret should ask us if we want to load them. If you are having problems with packages, you can install the caret packages and all packages that you might need by typing:\n",
    "\n",
    "For more information about the caret R package see the [caret package homepage](http://topepo.github.io/caret/index.html).\n",
    "\n",
    "# 2. Load The Data\n",
    "\n",
    "Download the iris dataset from the UCI Machine Learning Repository (here is the direct [link](https://archive.ics.uci.edu/ml/datasets/Iris)).\n",
    "\n",
    "Save the file as iris.csv your project directory.\n",
    "\n",
    "Load the dataset from the CSV file as follows:"
   ]
  },
  {
   "cell_type": "code",
   "execution_count": null,
   "metadata": {},
   "outputs": [],
   "source": [
    "# define the filename\n",
    "filename <- \"https://archive.ics.uci.edu/ml/machine-learning-databases/iris/iris.data\"\n",
    "# load the CSV file from the local directory\n",
    "dataset <- read.csv(filename, header=FALSE)\n",
    "# set the column names in the dataset\n",
    "colnames(dataset) <- c(\"Sepal.Length\",\"Sepal.Width\",\"Petal.Length\",\"Petal.Width\",\"Species\")\n",
    "tail(dataset)"
   ]
  },
  {
   "cell_type": "markdown",
   "metadata": {},
   "source": [
    "# 3. Seperate training and test dataset\n",
    "\n",
    "We will split the loaded dataset into two, 80% of which we will use to train our models and 20% that we will hold back as a validation dataset."
   ]
  },
  {
   "cell_type": "code",
   "execution_count": null,
   "metadata": {},
   "outputs": [],
   "source": [
    "# create a list of 80% of the rows in the original dataset we can use for training\n",
    "validation_index <- createDataPartition(dataset$Species, p=0.80, list=FALSE)\n",
    "# select 20% of the data for validation\n",
    "validation <- dataset[-validation_index,]\n",
    "# use the remaining 80% of data to training and testing the models\n",
    "dataset <- dataset[validation_index,]\n",
    "tail(validation)"
   ]
  },
  {
   "cell_type": "markdown",
   "metadata": {},
   "source": [
    "You now have training data in the dataset variable and a validation set we will use later in the validation variable.\n",
    "\n",
    "Note that we replaced our dataset variable with the 80% sample of the dataset. This was an attempt to keep the rest of the code simpler and readable.\n",
    "\n",
    "# 4. Summarize Dataset\n",
    "\n",
    "Now it is time to take a look at the data.\n",
    "\n",
    "In this step we are going to take a look at the data a few different ways:\n",
    "\n",
    "Dimensions of the dataset.\n",
    "Types of the attributes.\n",
    "Peek at the data itself.\n",
    "Levels of the class attribute.\n",
    "Breakdown of the instances in each class.\n",
    "Statistical summary of all attributes.\n",
    "Don’t worry, each look at the data is one command. These are useful commands that you can use again and again on future projects."
   ]
  },
  {
   "cell_type": "code",
   "execution_count": null,
   "metadata": {},
   "outputs": [],
   "source": [
    "# dimensions of dataset\n",
    "dim(dataset)"
   ]
  },
  {
   "cell_type": "markdown",
   "metadata": {},
   "source": [
    "You should see 120 instances and 5 attributes:\n",
    "\n",
    "## Types of Attributes\n",
    "It is a good idea to get an idea of the types of the attributes. They could be doubles, integers, strings, factors and other types.\n",
    "\n",
    "Knowing the types is important as it will give you an idea of how to better summarize the data you have and the types of transforms you might need to use to prepare the data before you model it."
   ]
  },
  {
   "cell_type": "code",
   "execution_count": null,
   "metadata": {},
   "outputs": [],
   "source": [
    "# list types for each attribute\n",
    "sapply(dataset, class)"
   ]
  },
  {
   "cell_type": "markdown",
   "metadata": {},
   "source": [
    "## Levels of the Class\n",
    "The class variable is a factor. A factor is a class that has multiple class labels or levels. Let’s look at the levels:"
   ]
  },
  {
   "cell_type": "code",
   "execution_count": null,
   "metadata": {},
   "outputs": [],
   "source": [
    "# list the levels for the class\n",
    "levels(dataset$Species)"
   ]
  },
  {
   "cell_type": "markdown",
   "metadata": {},
   "source": [
    "> Notice above how we can refer to an attribute by name as a property of the dataset. In the results we can see that the class has 3 different labels:\n",
    "\n",
    "This is a multi-class or a multinomial classification problem. If there were two levels, it would be a binary classification problem\n",
    "\n",
    "## Class Distribution\n",
    "Let’s now take a look at the number of instances (rows) that belong to each class. We can view this as an absolute count and as a percentage.\n"
   ]
  },
  {
   "cell_type": "code",
   "execution_count": null,
   "metadata": {},
   "outputs": [],
   "source": [
    "# summarize the class distribution\n",
    "percentage <- prop.table(table(dataset$Species)) * 100\n",
    "cbind(freq=table(dataset$Species), percentage=percentage)"
   ]
  },
  {
   "cell_type": "markdown",
   "metadata": {},
   "source": [
    "We can see that each class has the same number of instances (40 or 33% of the dataset)\n",
    "\n",
    "## Statistical Summary\n",
    "Now finally, we can take a look at a summary of each attribute.\n",
    "\n",
    "This includes the mean, the min and max values as well as some percentiles (25th, 50th or media and 75th e.g. values at this points if we ordered all the values for an attribute)."
   ]
  },
  {
   "cell_type": "code",
   "execution_count": null,
   "metadata": {
    "scrolled": true
   },
   "outputs": [],
   "source": [
    "# summarize attribute distributions\n",
    "summary(dataset)"
   ]
  },
  {
   "cell_type": "markdown",
   "metadata": {},
   "source": [
    "We can see that all of the numerical values have the same scale (centimeters) and similar ranges [0,8] centimeters.\n",
    "\n",
    "# 5.Visualize Dataset\n",
    "We now have a basic idea about the data. We need to extend that with some visualizations.\n",
    "\n",
    "We are going to look at two types of plots:\n",
    "\n",
    "- Univariate plots to better understand each attribute.\n",
    "- Multivariate plots to better understand the relationships between attributes.\n",
    "\n",
    "## 5.1. Univariate Plots\n",
    "We start with some univariate plots, that is, plots of each individual variable.\n",
    "\n",
    "It is helpful with visualization to have a way to refer to just the input attributes and just the output attributes. Let’s set that up and call the inputs attributes x and the output attribute (or class) y.\n",
    "\n",
    "### Box and Whisker Plots in R"
   ]
  },
  {
   "cell_type": "code",
   "execution_count": null,
   "metadata": {},
   "outputs": [],
   "source": [
    "# split input and output\n",
    "x <- dataset[,1:4]\n",
    "y <- dataset[,5]\n",
    "\n",
    "# boxplot for each attribute on one image\n",
    "par(mfrow=c(1,4))\n",
    "  for(i in 1:4) {\n",
    "  boxplot(x[,i], main=names(iris)[i])\n",
    "}"
   ]
  },
  {
   "cell_type": "markdown",
   "metadata": {},
   "source": [
    "### Bar Plot of Iris Flower Species\n"
   ]
  },
  {
   "cell_type": "code",
   "execution_count": null,
   "metadata": {},
   "outputs": [],
   "source": [
    "# barplot for class breakdown\n",
    "plot(y)"
   ]
  },
  {
   "cell_type": "markdown",
   "metadata": {},
   "source": [
    "## 5.2. Multivariate Plots\n",
    "Now we can look at the interactions between the variables.\n",
    "\n",
    "First let’s look at scatterplots of all pairs of attributes and color the points by class. In addition, because the scatterplots show that points for each class are generally separate, we can draw ellipses around them.\n",
    "\n",
    "\n",
    "### Scatterplot Matrix of Iris Data in R"
   ]
  },
  {
   "cell_type": "code",
   "execution_count": null,
   "metadata": {},
   "outputs": [],
   "source": [
    "# scatterplot matrix\n",
    "featurePlot(x=x, y=y, plot=\"ellipse\")"
   ]
  },
  {
   "cell_type": "markdown",
   "metadata": {},
   "source": [
    "We can also look at box and whisker plots of each input variable again, but this time broken down into separate plots for each class. This can help to tease out obvious linear separations between the classes.\n",
    "\n",
    "### Box and Whisker Plot of Iris data by Class Value"
   ]
  },
  {
   "cell_type": "code",
   "execution_count": null,
   "metadata": {},
   "outputs": [],
   "source": [
    "# box and whisker plots for each attribute\n",
    "featurePlot(x=x, y=y, plot=\"box\")"
   ]
  },
  {
   "cell_type": "markdown",
   "metadata": {},
   "source": [
    "Next we can get an idea of the distribution of each attribute, again like the box and whisker plots, broken down by class value. Sometimes histograms are good for this, but in this case we will use some probability density plots to give nice smooth lines for each distribution.\n",
    "\n",
    "### Density Plots of Iris Data By Class Value"
   ]
  },
  {
   "cell_type": "code",
   "execution_count": null,
   "metadata": {},
   "outputs": [],
   "source": [
    "# density plots for each attribute by class value\n",
    "scales <- list(x=list(relation=\"free\"), y=list(relation=\"free\"))\n",
    "featurePlot(x=x, y=y, plot=\"density\", scales=scales)"
   ]
  },
  {
   "cell_type": "markdown",
   "metadata": {},
   "source": [
    "Like he boxplots, we can see the difference in distribution of each attribute by class value. We can also see the Gaussian-like distribution (bell curve) of each attribute.\n",
    "\n",
    "# 6. Evaluate Some Algorithms\n",
    "Now it is time to create some models of the data and estimate their accuracy on unseen data.\n",
    "\n",
    "Here is what we are going to cover in this step:\n",
    "\n",
    "Set-up the test harness to use 10-fold cross validation.\n",
    "Build 5 different models to predict species from flower measurements\n",
    "Select the best model.\n",
    "\n",
    "## 6.1. Test Harness\n",
    "We will 10-fold crossvalidation to estimate accuracy.\n",
    "\n",
    "This will split our dataset into 10 parts, train in 9 and test on 1 and release for all combinations of train-test splits. We will also repeat the process 3 times for each algorithm with different splits of the data into 10 groups, in an effort to get a more accurate estimate."
   ]
  },
  {
   "cell_type": "code",
   "execution_count": null,
   "metadata": {},
   "outputs": [],
   "source": [
    "# Run algorithms using 10-fold cross validation\n",
    "control <- trainControl(method=\"cv\", number=10)\n",
    "metric <- \"Accuracy\""
   ]
  },
  {
   "cell_type": "code",
   "execution_count": null,
   "metadata": {},
   "outputs": [],
   "source": [
    "# a) linear algorithms\n",
    "set.seed(7)\n",
    "fit.lda <- train(Species~., data=dataset, method=\"lda\", metric=metric, trControl=control)"
   ]
  },
  {
   "cell_type": "code",
   "execution_count": null,
   "metadata": {},
   "outputs": [],
   "source": [
    "# b) nonlinear algorithms\n",
    "# CART\n",
    "set.seed(7)\n",
    "fit.cart <- train(Species~., data=dataset, method=\"rpart\", metric=metric, trControl=control)\n",
    "# kNN\n",
    "set.seed(7)\n",
    "fit.knn <- train(Species~., data=dataset, method=\"knn\", metric=metric, trControl=control)\n",
    "# c) advanced algorithms\n",
    "# SVM\n",
    "set.seed(7)\n",
    "fit.svm <- train(Species~., data=dataset, method=\"svmRadial\", metric=metric, trControl=control)\n",
    "# Random Forest\n",
    "set.seed(7)\n",
    "fit.rf <- train(Species~., data=dataset, method=\"rf\", metric=metric, trControl=control)"
   ]
  },
  {
   "cell_type": "markdown",
   "metadata": {},
   "source": []
  },
  {
   "cell_type": "code",
   "execution_count": null,
   "metadata": {},
   "outputs": [],
   "source": [
    "# summarize accuracy of models\n",
    "results <- resamples(list(lda=fit.lda, cart=fit.cart, knn=fit.knn, svm=fit.svm, rf=fit.rf))\n",
    "summary(results)"
   ]
  },
  {
   "cell_type": "code",
   "execution_count": null,
   "metadata": {},
   "outputs": [],
   "source": [
    "# compare accuracy of models\n",
    "dotplot(results)"
   ]
  },
  {
   "cell_type": "code",
   "execution_count": null,
   "metadata": {},
   "outputs": [],
   "source": [
    "# summarize Best Model\n",
    "print(fit.lda)"
   ]
  },
  {
   "cell_type": "markdown",
   "metadata": {},
   "source": [
    "# 7. Make Predictions"
   ]
  },
  {
   "cell_type": "code",
   "execution_count": null,
   "metadata": {},
   "outputs": [],
   "source": [
    "# estimate skill of LDA on the validation dataset\n",
    "predictions <- predict(fit.lda, validation)\n",
    "confusionMatrix(predictions, validation$Species)"
   ]
  },
  {
   "cell_type": "markdown",
   "metadata": {},
   "source": [
    "# Summary\n",
    "\n",
    "In this post you discovered step-by-step how to complete your first machine learning project in R.\n",
    "\n",
    "You discovered that completing a small end-to-end project from loading the data to making predictions is the best way to get familiar with a new platform."
   ]
  }
 ],
 "metadata": {
  "kernelspec": {
   "display_name": "R",
   "language": "R",
   "name": "ir"
  },
  "language_info": {
   "codemirror_mode": "r",
   "file_extension": ".r",
   "mimetype": "text/x-r-source",
   "name": "R",
   "pygments_lexer": "r",
   "version": "3.3.2"
  }
 },
 "nbformat": 4,
 "nbformat_minor": 2
}
