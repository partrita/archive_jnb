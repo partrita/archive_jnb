{
 "cells": [
  {
   "cell_type": "markdown",
   "metadata": {},
   "source": [
    "# Logistic regression 스팸 필터링\n",
    "\n",
    "# 하이퍼파라미터\n",
    "사용자가 학습 알고리즘에 설정해주는 변수입니다. 예를 들어 스팸 필터링에는 정규화 값, 빈도에 따라 제거할 단어의 빈도 임계치등을 있습니다. `sklearn`에 제공하는 기본 값을 사용하는 것도 나쁘지 않으나 최적의 모델을 만들기 위해서는 하이퍼파라미터의 튜닝이 필요합니다.\n",
    "\n",
    "# Grid search\n",
    "그리드 탐색은 최적 모델 생성을 위해 흔히 사용되는 기법입니다. 튜닝해야 하는 각각의 하이퍼파라미터들의 집합을 가지고 모델을 훈련합니다. 경우의 수가 많기 때문에 그리드 탐색은 계산량이 많다는 단점이 있습니다. \n",
    "\n",
    "# 사용할 데이터"
   ]
  },
  {
   "cell_type": "code",
   "execution_count": 1,
   "metadata": {},
   "outputs": [
    {
     "data": {
      "text/html": [
       "<div>\n",
       "<table border=\"1\" class=\"dataframe\">\n",
       "  <thead>\n",
       "    <tr style=\"text-align: right;\">\n",
       "      <th></th>\n",
       "      <th>0</th>\n",
       "      <th>1</th>\n",
       "    </tr>\n",
       "  </thead>\n",
       "  <tbody>\n",
       "    <tr>\n",
       "      <th>5567</th>\n",
       "      <td>spam</td>\n",
       "      <td>This is the 2nd time we have tried 2 contact u...</td>\n",
       "    </tr>\n",
       "    <tr>\n",
       "      <th>5568</th>\n",
       "      <td>ham</td>\n",
       "      <td>Will ü b going to esplanade fr home?</td>\n",
       "    </tr>\n",
       "    <tr>\n",
       "      <th>5569</th>\n",
       "      <td>ham</td>\n",
       "      <td>Pity, * was in mood for that. So...any other s...</td>\n",
       "    </tr>\n",
       "    <tr>\n",
       "      <th>5570</th>\n",
       "      <td>ham</td>\n",
       "      <td>The guy did some bitching but I acted like i'd...</td>\n",
       "    </tr>\n",
       "    <tr>\n",
       "      <th>5571</th>\n",
       "      <td>ham</td>\n",
       "      <td>Rofl. Its true to its name</td>\n",
       "    </tr>\n",
       "  </tbody>\n",
       "</table>\n",
       "</div>"
      ],
      "text/plain": [
       "         0                                                  1\n",
       "5567  spam  This is the 2nd time we have tried 2 contact u...\n",
       "5568   ham               Will ü b going to esplanade fr home?\n",
       "5569   ham  Pity, * was in mood for that. So...any other s...\n",
       "5570   ham  The guy did some bitching but I acted like i'd...\n",
       "5571   ham                         Rofl. Its true to its name"
      ]
     },
     "execution_count": 1,
     "metadata": {},
     "output_type": "execute_result"
    }
   ],
   "source": [
    "import pandas as pd\n",
    "df = pd.read_csv('./data/SMSSpamCollection.txt', delimiter='\\t', header = None)\n",
    "df.tail()"
   ]
  },
  {
   "cell_type": "markdown",
   "metadata": {},
   "source": [
    "총 5571개의 데이터가 들어있군요. 각각이 **ham, spam**으로 분류가 되어 있습니다. **ham**의 갯수만 세어 보겠습니다."
   ]
  },
  {
   "cell_type": "code",
   "execution_count": 2,
   "metadata": {},
   "outputs": [
    {
     "data": {
      "text/plain": [
       "4825"
      ]
     },
     "execution_count": 2,
     "metadata": {},
     "output_type": "execute_result"
    }
   ],
   "source": [
    "df[df[0] == 'ham'][0].count()"
   ]
  },
  {
   "cell_type": "code",
   "execution_count": 3,
   "metadata": {},
   "outputs": [
    {
     "data": {
      "text/plain": [
       "747"
      ]
     },
     "execution_count": 3,
     "metadata": {},
     "output_type": "execute_result"
    }
   ],
   "source": [
    "df[df[0] == 'spam'][0].count()"
   ]
  },
  {
   "cell_type": "markdown",
   "metadata": {},
   "source": [
    "스팸이 8분의 1정도로 전체 데이터셋은 균일하지 않습니다. 이것은 모델 평가 지표를 선택할 때 고려해야 할 사항입니다. "
   ]
  },
  {
   "cell_type": "code",
   "execution_count": 4,
   "metadata": {},
   "outputs": [],
   "source": [
    "import numpy as np\n",
    "from sklearn.feature_extraction.text import TfidfVectorizer\n",
    "from sklearn.linear_model import LogisticRegression\n",
    "from sklearn.model_selection import train_test_split, cross_val_score\n",
    "\n",
    "X = df[1].values\n",
    "y = df[0].values\n",
    "X_train_raw, X_test_raw, y_train, y_test = train_test_split(X,y, test_size =0.3, random_state=42) "
   ]
  },
  {
   "cell_type": "code",
   "execution_count": 5,
   "metadata": {},
   "outputs": [
    {
     "name": "stdout",
     "output_type": "stream",
     "text": [
      "Accuracy: 0.9494825140266208\n"
     ]
    }
   ],
   "source": [
    "vectorizer = TfidfVectorizer()\n",
    "X_train = vectorizer.fit_transform(X_train_raw)\n",
    "X_test = vectorizer.fit_transform(X_test_raw)\n",
    "\n",
    "log_clf = LogisticRegression()\n",
    "log_clf.fit(X_train, y_train)\n",
    "\n",
    "score = cross_val_score(log_clf, X_train, y_train, cv=5)\n",
    "print('Accuracy: {}'.format(np.mean(score)))\n"
   ]
  },
  {
   "cell_type": "markdown",
   "metadata": {},
   "source": [
    "# 혼동 행렬 그리기"
   ]
  },
  {
   "cell_type": "code",
   "execution_count": 7,
   "metadata": {},
   "outputs": [
    {
     "data": {
      "text/plain": [
       "[<matplotlib.text.Text at 0x7f645149e710>,\n",
       " <matplotlib.text.Text at 0x7f645350b160>]"
      ]
     },
     "execution_count": 7,
     "metadata": {},
     "output_type": "execute_result"
    },
    {
     "data": {
      "image/png": "[encoded data removed]",
      "text/plain": [
       "<matplotlib.figure.Figure at 0x7f6451473908>"
      ]
     },
     "metadata": {},
     "output_type": "display_data"
    }
   ],
   "source": [
    "from sklearn.metrics import confusion_matrix\n",
    "import seaborn as sns\n",
    "\n",
    "y_pred = log_clf.predict(X_train)\n",
    "cf_matrix = confusion_matrix(y_train, y_pred)\n",
    "sns.heatmap(cf_matrix, annot=True, fmt=\"d\").set(xlabel='True values', ylabel='Predicted values')"
   ]
  },
  {
   "cell_type": "markdown",
   "metadata": {},
   "source": [
    "혼동 행렬을 보면 "
   ]
  },
  {
   "cell_type": "code",
   "execution_count": 8,
   "metadata": {},
   "outputs": [],
   "source": [
    "from sklearn.model_selection import GridSearchCV\n",
    "from sklearn.pipeline import Pipeline\n",
    "from sklearn.metrics import precision_score, recall_score, accuracy_score\n",
    "from sklearn.preprocessing import LabelEncoder\n",
    "pipeline = Pipeline([\n",
    "    ('vect', TfidfVectorizer(stop_words='english')),\n",
    "    ('clf', LogisticRegression())\n",
    "])"
   ]
  },
  {
   "cell_type": "code",
   "execution_count": 9,
   "metadata": {},
   "outputs": [],
   "source": [
    "parameters = {\n",
    "    'vect__max_df' : (0.25, 0.5, 0.75),\n",
    "    'vect__stop_words' : ('english', None),\n",
    "    'vect__max_features': (2500,5000,10000,None),\n",
    "    'vect__ngram_range':((1, 1), (1,2)),\n",
    "    'vect__use_idf': (True,False),\n",
    "    'vect__norm': ('l1','l2'),\n",
    "    'clf__penalty':('l1','l2'),\n",
    "    'clf__C': (0.01,0.1,1,10),\n",
    "}\n",
    "\n",
    "X = df[1].values\n",
    "\n",
    "label_encoder = LabelEncoder()\n",
    "y= label_encoder.fit_transform(df[0].values)\n",
    "\n",
    "X_train, X_test, y_train, y_test = train_test_split(X,y)"
   ]
  },
  {
   "cell_type": "code",
   "execution_count": 10,
   "metadata": {
    "scrolled": false
   },
   "outputs": [
    {
     "name": "stdout",
     "output_type": "stream",
     "text": [
      "Fitting 10 folds for each of 1536 candidates, totalling 15360 fits\n"
     ]
    },
    {
     "name": "stderr",
     "output_type": "stream",
     "text": [
      "[Parallel(n_jobs=-1)]: Done 136 tasks      | elapsed:    2.7s\n",
      "[Parallel(n_jobs=-1)]: Done 386 tasks      | elapsed:    6.6s\n",
      "[Parallel(n_jobs=-1)]: Done 736 tasks      | elapsed:   12.7s\n",
      "[Parallel(n_jobs=-1)]: Done 1186 tasks      | elapsed:   20.2s\n",
      "[Parallel(n_jobs=-1)]: Done 1736 tasks      | elapsed:   29.9s\n",
      "[Parallel(n_jobs=-1)]: Done 2386 tasks      | elapsed:   42.0s\n",
      "[Parallel(n_jobs=-1)]: Done 3136 tasks      | elapsed:  1.1min\n",
      "[Parallel(n_jobs=-1)]: Done 3986 tasks      | elapsed:  1.5min\n",
      "[Parallel(n_jobs=-1)]: Done 4936 tasks      | elapsed:  1.8min\n",
      "[Parallel(n_jobs=-1)]: Done 5986 tasks      | elapsed:  2.1min\n",
      "[Parallel(n_jobs=-1)]: Done 7136 tasks      | elapsed:  2.8min\n",
      "[Parallel(n_jobs=-1)]: Done 8386 tasks      | elapsed:  3.3min\n",
      "[Parallel(n_jobs=-1)]: Done 9736 tasks      | elapsed:  3.7min\n",
      "[Parallel(n_jobs=-1)]: Done 11186 tasks      | elapsed:  4.5min\n",
      "[Parallel(n_jobs=-1)]: Done 12736 tasks      | elapsed:  6.0min\n",
      "[Parallel(n_jobs=-1)]: Done 14386 tasks      | elapsed:  7.5min\n",
      "[Parallel(n_jobs=-1)]: Done 15360 out of 15360 | elapsed:  8.2min finished\n"
     ]
    },
    {
     "data": {
      "text/plain": [
       "GridSearchCV(cv=10, error_score='raise',\n",
       "       estimator=Pipeline(steps=[('vect', TfidfVectorizer(analyzer='word', binary=False, decode_error='strict',\n",
       "        dtype=<class 'numpy.int64'>, encoding='utf-8', input='content',\n",
       "        lowercase=True, max_df=1.0, max_features=None, min_df=1,\n",
       "        ngram_range=(1, 1), norm='l2', preprocessor=None, smooth_idf=True,\n",
       "  ...ty='l2', random_state=None, solver='liblinear', tol=0.0001,\n",
       "          verbose=0, warm_start=False))]),\n",
       "       fit_params={}, iid=True, n_jobs=-1,\n",
       "       param_grid={'vect__max_df': (0.25, 0.5, 0.75), 'vect__stop_words': ('english', None), 'vect__max_features': (2500, 5000, 10000, None), 'vect__ngram_range': ((1, 1), (1, 2)), 'vect__use_idf': (True, False), 'vect__norm': ('l1', 'l2'), 'clf__penalty': ('l1', 'l2'), 'clf__C': (0.01, 0.1, 1, 10)},\n",
       "       pre_dispatch='2*n_jobs', refit=True, return_train_score=True,\n",
       "       scoring='recall', verbose=1)"
      ]
     },
     "execution_count": 10,
     "metadata": {},
     "output_type": "execute_result"
    }
   ],
   "source": [
    "grid_search = GridSearchCV(pipeline, parameters, n_jobs=-1, verbose=1, scoring='recall', cv=10) #n_jobs = 사용할 cpu 코어의 수\n",
    "grid_search.fit(X_train,y_train)"
   ]
  },
  {
   "cell_type": "code",
   "execution_count": 11,
   "metadata": {},
   "outputs": [
    {
     "data": {
      "text/plain": [
       "0.91803455962727831"
      ]
     },
     "execution_count": 11,
     "metadata": {},
     "output_type": "execute_result"
    }
   ],
   "source": [
    "grid_search.best_score_"
   ]
  },
  {
   "cell_type": "code",
   "execution_count": 12,
   "metadata": {},
   "outputs": [
    {
     "name": "stdout",
     "output_type": "stream",
     "text": [
      "clf__C : 10 \n",
      "clf__penalty : l1 \n",
      "vect__max_df : 0.5 \n",
      "vect__max_features : None \n",
      "vect__ngram_range : (1, 2) \n",
      "vect__norm : l2 \n",
      "vect__stop_words : None \n",
      "vect__use_idf : True \n"
     ]
    }
   ],
   "source": [
    "best_param = grid_search.best_estimator_.get_params()\n",
    "for i in sorted(parameters.keys()):\n",
    "    print('{} : {} '.format(i, best_param[i]))"
   ]
  },
  {
   "cell_type": "code",
   "execution_count": 13,
   "metadata": {},
   "outputs": [
    {
     "name": "stdout",
     "output_type": "stream",
     "text": [
      "Accuracy :  0.981335247667\n",
      "Precision_score :  0.93023255814\n",
      "Recall_score :  0.919540229885\n"
     ]
    }
   ],
   "source": [
    "y_pred = grid_search.predict(X_test)\n",
    "print('Accuracy : ',accuracy_score(y_test, y_pred))\n",
    "print('Precision_score : ',precision_score(y_test, y_pred))\n",
    "print('Recall_score : ',recall_score(y_test, y_pred))"
   ]
  }
 ],
 "metadata": {
  "kernelspec": {
   "display_name": "Python 3",
   "language": "python",
   "name": "python3"
  },
  "language_info": {
   "codemirror_mode": {
    "name": "ipython",
    "version": 3
   },
   "file_extension": ".py",
   "mimetype": "text/x-python",
   "name": "python",
   "nbconvert_exporter": "python",
   "pygments_lexer": "ipython3",
   "version": "3.6.3"
  }
 },
 "nbformat": 4,
 "nbformat_minor": 2
}
