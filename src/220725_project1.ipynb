{
 "cells": [
  {
   "cell_type": "markdown",
   "metadata": {},
   "source": [
    "# 무비렌즈 데이터 분석하기"
   ]
  },
  {
   "cell_type": "code",
   "execution_count": 1,
   "metadata": {},
   "outputs": [
    {
     "data": {
      "text/html": [
       "<div>\n",
       "<table border=\"1\" class=\"dataframe\">\n",
       "  <thead>\n",
       "    <tr style=\"text-align: right;\">\n",
       "      <th></th>\n",
       "      <th>user_id</th>\n",
       "      <th>age</th>\n",
       "      <th>sex</th>\n",
       "      <th>occupation</th>\n",
       "      <th>zip_code</th>\n",
       "    </tr>\n",
       "  </thead>\n",
       "  <tbody>\n",
       "    <tr>\n",
       "      <th>938</th>\n",
       "      <td>939</td>\n",
       "      <td>26</td>\n",
       "      <td>F</td>\n",
       "      <td>student</td>\n",
       "      <td>33319</td>\n",
       "    </tr>\n",
       "    <tr>\n",
       "      <th>939</th>\n",
       "      <td>940</td>\n",
       "      <td>32</td>\n",
       "      <td>M</td>\n",
       "      <td>administrator</td>\n",
       "      <td>02215</td>\n",
       "    </tr>\n",
       "    <tr>\n",
       "      <th>940</th>\n",
       "      <td>941</td>\n",
       "      <td>20</td>\n",
       "      <td>M</td>\n",
       "      <td>student</td>\n",
       "      <td>97229</td>\n",
       "    </tr>\n",
       "    <tr>\n",
       "      <th>941</th>\n",
       "      <td>942</td>\n",
       "      <td>48</td>\n",
       "      <td>F</td>\n",
       "      <td>librarian</td>\n",
       "      <td>78209</td>\n",
       "    </tr>\n",
       "    <tr>\n",
       "      <th>942</th>\n",
       "      <td>943</td>\n",
       "      <td>22</td>\n",
       "      <td>M</td>\n",
       "      <td>student</td>\n",
       "      <td>77841</td>\n",
       "    </tr>\n",
       "  </tbody>\n",
       "</table>\n",
       "</div>"
      ],
      "text/plain": [
       "     user_id  age sex     occupation zip_code\n",
       "938      939   26   F        student    33319\n",
       "939      940   32   M  administrator    02215\n",
       "940      941   20   M        student    97229\n",
       "941      942   48   F      librarian    78209\n",
       "942      943   22   M        student    77841"
      ]
     },
     "execution_count": 1,
     "metadata": {},
     "output_type": "execute_result"
    }
   ],
   "source": [
    "import pandas as pd\n",
    "\n",
    "u_cols = ['user_id', 'age', 'sex', 'occupation', 'zip_code']\n",
    "users = pd.read_csv('./data/ml-100k/u.user', sep = '|', names = u_cols)\n",
    "users.tail()"
   ]
  },
  {
   "cell_type": "markdown",
   "metadata": {},
   "source": [
    "같은 방법으로 평점 정보도 불러옵니다."
   ]
  },
  {
   "cell_type": "code",
   "execution_count": 8,
   "metadata": {},
   "outputs": [
    {
     "data": {
      "text/html": [
       "<div>\n",
       "<table border=\"1\" class=\"dataframe\">\n",
       "  <thead>\n",
       "    <tr style=\"text-align: right;\">\n",
       "      <th></th>\n",
       "      <th>user_id</th>\n",
       "      <th>movie_id</th>\n",
       "      <th>rating</th>\n",
       "      <th>unix_timestamp</th>\n",
       "      <th>date</th>\n",
       "    </tr>\n",
       "  </thead>\n",
       "  <tbody>\n",
       "    <tr>\n",
       "      <th>99995</th>\n",
       "      <td>880</td>\n",
       "      <td>476</td>\n",
       "      <td>3</td>\n",
       "      <td>880175444</td>\n",
       "      <td>1997-11-22 05:10:44</td>\n",
       "    </tr>\n",
       "    <tr>\n",
       "      <th>99996</th>\n",
       "      <td>716</td>\n",
       "      <td>204</td>\n",
       "      <td>5</td>\n",
       "      <td>879795543</td>\n",
       "      <td>1997-11-17 19:39:03</td>\n",
       "    </tr>\n",
       "    <tr>\n",
       "      <th>99997</th>\n",
       "      <td>276</td>\n",
       "      <td>1090</td>\n",
       "      <td>1</td>\n",
       "      <td>874795795</td>\n",
       "      <td>1997-09-20 22:49:55</td>\n",
       "    </tr>\n",
       "    <tr>\n",
       "      <th>99998</th>\n",
       "      <td>13</td>\n",
       "      <td>225</td>\n",
       "      <td>2</td>\n",
       "      <td>882399156</td>\n",
       "      <td>1997-12-17 22:52:36</td>\n",
       "    </tr>\n",
       "    <tr>\n",
       "      <th>99999</th>\n",
       "      <td>12</td>\n",
       "      <td>203</td>\n",
       "      <td>3</td>\n",
       "      <td>879959583</td>\n",
       "      <td>1997-11-19 17:13:03</td>\n",
       "    </tr>\n",
       "  </tbody>\n",
       "</table>\n",
       "</div>"
      ],
      "text/plain": [
       "       user_id  movie_id  rating  unix_timestamp                date\n",
       "99995      880       476       3       880175444 1997-11-22 05:10:44\n",
       "99996      716       204       5       879795543 1997-11-17 19:39:03\n",
       "99997      276      1090       1       874795795 1997-09-20 22:49:55\n",
       "99998       13       225       2       882399156 1997-12-17 22:52:36\n",
       "99999       12       203       3       879959583 1997-11-19 17:13:03"
      ]
     },
     "execution_count": 8,
     "metadata": {},
     "output_type": "execute_result"
    }
   ],
   "source": [
    "r_cols = ['user_id', 'movie_id', 'rating', 'unix_timestamp']\n",
    "ratings = pd.read_csv('./data/ml-100k/u.data', sep='\\t', names=r_cols)\n",
    "ratings['date'] = pd.to_datetime(ratings['unix_timestamp'],unit='s')\n",
    "ratings.tail()"
   ]
  },
  {
   "cell_type": "code",
   "execution_count": 7,
   "metadata": {},
   "outputs": [
    {
     "data": {
      "text/html": [
       "<div>\n",
       "<table border=\"1\" class=\"dataframe\">\n",
       "  <thead>\n",
       "    <tr style=\"text-align: right;\">\n",
       "      <th></th>\n",
       "      <th>movie_id</th>\n",
       "      <th>title</th>\n",
       "      <th>release_date</th>\n",
       "      <th>video_release_date</th>\n",
       "      <th>imdb_url</th>\n",
       "    </tr>\n",
       "  </thead>\n",
       "  <tbody>\n",
       "    <tr>\n",
       "      <th>1677</th>\n",
       "      <td>1678</td>\n",
       "      <td>Mat' i syn (1997)</td>\n",
       "      <td>06-Feb-1998</td>\n",
       "      <td>NaN</td>\n",
       "      <td>http://us.imdb.com/M/title-exact?Mat%27+i+syn+...</td>\n",
       "    </tr>\n",
       "    <tr>\n",
       "      <th>1678</th>\n",
       "      <td>1679</td>\n",
       "      <td>B. Monkey (1998)</td>\n",
       "      <td>06-Feb-1998</td>\n",
       "      <td>NaN</td>\n",
       "      <td>http://us.imdb.com/M/title-exact?B%2E+Monkey+(...</td>\n",
       "    </tr>\n",
       "    <tr>\n",
       "      <th>1679</th>\n",
       "      <td>1680</td>\n",
       "      <td>Sliding Doors (1998)</td>\n",
       "      <td>01-Jan-1998</td>\n",
       "      <td>NaN</td>\n",
       "      <td>http://us.imdb.com/Title?Sliding+Doors+(1998)</td>\n",
       "    </tr>\n",
       "    <tr>\n",
       "      <th>1680</th>\n",
       "      <td>1681</td>\n",
       "      <td>You So Crazy (1994)</td>\n",
       "      <td>01-Jan-1994</td>\n",
       "      <td>NaN</td>\n",
       "      <td>http://us.imdb.com/M/title-exact?You%20So%20Cr...</td>\n",
       "    </tr>\n",
       "    <tr>\n",
       "      <th>1681</th>\n",
       "      <td>1682</td>\n",
       "      <td>Scream of Stone (Schrei aus Stein) (1991)</td>\n",
       "      <td>08-Mar-1996</td>\n",
       "      <td>NaN</td>\n",
       "      <td>http://us.imdb.com/M/title-exact?Schrei%20aus%...</td>\n",
       "    </tr>\n",
       "  </tbody>\n",
       "</table>\n",
       "</div>"
      ],
      "text/plain": [
       "      movie_id                                      title release_date  \\\n",
       "1677      1678                          Mat' i syn (1997)  06-Feb-1998   \n",
       "1678      1679                           B. Monkey (1998)  06-Feb-1998   \n",
       "1679      1680                       Sliding Doors (1998)  01-Jan-1998   \n",
       "1680      1681                        You So Crazy (1994)  01-Jan-1994   \n",
       "1681      1682  Scream of Stone (Schrei aus Stein) (1991)  08-Mar-1996   \n",
       "\n",
       "      video_release_date                                           imdb_url  \n",
       "1677                 NaN  http://us.imdb.com/M/title-exact?Mat%27+i+syn+...  \n",
       "1678                 NaN  http://us.imdb.com/M/title-exact?B%2E+Monkey+(...  \n",
       "1679                 NaN      http://us.imdb.com/Title?Sliding+Doors+(1998)  \n",
       "1680                 NaN  http://us.imdb.com/M/title-exact?You%20So%20Cr...  \n",
       "1681                 NaN  http://us.imdb.com/M/title-exact?Schrei%20aus%...  "
      ]
     },
     "execution_count": 7,
     "metadata": {},
     "output_type": "execute_result"
    }
   ],
   "source": [
    "m_cols = ['movie_id', 'title', 'release_date', 'video_release_date', 'imdb_url']\n",
    "movies = pd.read_csv('./data/ml-100k/u.item', sep='|', names=m_cols, usecols=range(5), encoding = \"latin1\")\n",
    "movies.tail()"
   ]
  },
  {
   "cell_type": "markdown",
   "metadata": {},
   "source": [
    "이제 정보를 합쳐서 예측에 사용할 데이터를 만듭니다."
   ]
  },
  {
   "cell_type": "code",
   "execution_count": 11,
   "metadata": {},
   "outputs": [
    {
     "data": {
      "text/html": [
       "<div>\n",
       "<table border=\"1\" class=\"dataframe\">\n",
       "  <thead>\n",
       "    <tr style=\"text-align: right;\">\n",
       "      <th></th>\n",
       "      <th>movie_id</th>\n",
       "      <th>title</th>\n",
       "      <th>release_date</th>\n",
       "      <th>video_release_date</th>\n",
       "      <th>imdb_url</th>\n",
       "      <th>user_id</th>\n",
       "      <th>rating</th>\n",
       "      <th>unix_timestamp</th>\n",
       "      <th>date</th>\n",
       "      <th>age</th>\n",
       "      <th>sex</th>\n",
       "      <th>occupation</th>\n",
       "      <th>zip_code</th>\n",
       "    </tr>\n",
       "  </thead>\n",
       "  <tbody>\n",
       "    <tr>\n",
       "      <th>99995</th>\n",
       "      <td>748</td>\n",
       "      <td>Saint, The (1997)</td>\n",
       "      <td>14-Mar-1997</td>\n",
       "      <td>NaN</td>\n",
       "      <td>http://us.imdb.com/M/title-exact?Saint%2C%20Th...</td>\n",
       "      <td>729</td>\n",
       "      <td>4</td>\n",
       "      <td>893286638</td>\n",
       "      <td>1998-04-22 23:10:38</td>\n",
       "      <td>19</td>\n",
       "      <td>M</td>\n",
       "      <td>student</td>\n",
       "      <td>56567</td>\n",
       "    </tr>\n",
       "    <tr>\n",
       "      <th>99996</th>\n",
       "      <td>751</td>\n",
       "      <td>Tomorrow Never Dies (1997)</td>\n",
       "      <td>01-Jan-1997</td>\n",
       "      <td>NaN</td>\n",
       "      <td>http://us.imdb.com/M/title-exact?imdb-title-12...</td>\n",
       "      <td>729</td>\n",
       "      <td>3</td>\n",
       "      <td>893286338</td>\n",
       "      <td>1998-04-22 23:05:38</td>\n",
       "      <td>19</td>\n",
       "      <td>M</td>\n",
       "      <td>student</td>\n",
       "      <td>56567</td>\n",
       "    </tr>\n",
       "    <tr>\n",
       "      <th>99997</th>\n",
       "      <td>879</td>\n",
       "      <td>Peacemaker, The (1997)</td>\n",
       "      <td>01-Jan-1997</td>\n",
       "      <td>NaN</td>\n",
       "      <td>http://us.imdb.com/M/title-exact?Peacemaker%2C...</td>\n",
       "      <td>729</td>\n",
       "      <td>3</td>\n",
       "      <td>893286299</td>\n",
       "      <td>1998-04-22 23:04:59</td>\n",
       "      <td>19</td>\n",
       "      <td>M</td>\n",
       "      <td>student</td>\n",
       "      <td>56567</td>\n",
       "    </tr>\n",
       "    <tr>\n",
       "      <th>99998</th>\n",
       "      <td>894</td>\n",
       "      <td>Home Alone 3 (1997)</td>\n",
       "      <td>01-Jan-1997</td>\n",
       "      <td>NaN</td>\n",
       "      <td>http://us.imdb.com/M/title-exact?imdb-title-11...</td>\n",
       "      <td>729</td>\n",
       "      <td>1</td>\n",
       "      <td>893286511</td>\n",
       "      <td>1998-04-22 23:08:31</td>\n",
       "      <td>19</td>\n",
       "      <td>M</td>\n",
       "      <td>student</td>\n",
       "      <td>56567</td>\n",
       "    </tr>\n",
       "    <tr>\n",
       "      <th>99999</th>\n",
       "      <td>901</td>\n",
       "      <td>Mr. Magoo (1997)</td>\n",
       "      <td>25-Dec-1997</td>\n",
       "      <td>NaN</td>\n",
       "      <td>http://us.imdb.com/M/title-exact?imdb-title-11...</td>\n",
       "      <td>729</td>\n",
       "      <td>1</td>\n",
       "      <td>893286491</td>\n",
       "      <td>1998-04-22 23:08:11</td>\n",
       "      <td>19</td>\n",
       "      <td>M</td>\n",
       "      <td>student</td>\n",
       "      <td>56567</td>\n",
       "    </tr>\n",
       "  </tbody>\n",
       "</table>\n",
       "</div>"
      ],
      "text/plain": [
       "       movie_id                       title release_date  video_release_date  \\\n",
       "99995       748           Saint, The (1997)  14-Mar-1997                 NaN   \n",
       "99996       751  Tomorrow Never Dies (1997)  01-Jan-1997                 NaN   \n",
       "99997       879      Peacemaker, The (1997)  01-Jan-1997                 NaN   \n",
       "99998       894         Home Alone 3 (1997)  01-Jan-1997                 NaN   \n",
       "99999       901            Mr. Magoo (1997)  25-Dec-1997                 NaN   \n",
       "\n",
       "                                                imdb_url  user_id  rating  \\\n",
       "99995  http://us.imdb.com/M/title-exact?Saint%2C%20Th...      729       4   \n",
       "99996  http://us.imdb.com/M/title-exact?imdb-title-12...      729       3   \n",
       "99997  http://us.imdb.com/M/title-exact?Peacemaker%2C...      729       3   \n",
       "99998  http://us.imdb.com/M/title-exact?imdb-title-11...      729       1   \n",
       "99999  http://us.imdb.com/M/title-exact?imdb-title-11...      729       1   \n",
       "\n",
       "       unix_timestamp                date  age sex occupation zip_code  \n",
       "99995       893286638 1998-04-22 23:10:38   19   M    student    56567  \n",
       "99996       893286338 1998-04-22 23:05:38   19   M    student    56567  \n",
       "99997       893286299 1998-04-22 23:04:59   19   M    student    56567  \n",
       "99998       893286511 1998-04-22 23:08:31   19   M    student    56567  \n",
       "99999       893286491 1998-04-22 23:08:11   19   M    student    56567  "
      ]
     },
     "execution_count": 11,
     "metadata": {},
     "output_type": "execute_result"
    }
   ],
   "source": [
    "lens = pd.merge(pd.merge(movies, ratings), users)\n",
    "lens.tail()"
   ]
  },
  {
   "cell_type": "markdown",
   "metadata": {},
   "source": [
    "# 데이터 시각화\n",
    "## 사용자별 평가 횟수 살펴보기"
   ]
  },
  {
   "cell_type": "code",
   "execution_count": 14,
   "metadata": {},
   "outputs": [
    {
     "data": {
      "text/plain": [
       "<matplotlib.text.Text at 0x7fcd6c9bca90>"
      ]
     },
     "execution_count": 14,
     "metadata": {},
     "output_type": "execute_result"
    },
    {
     "data": {
      "image/png": "[encoded data removed]",
      "text/plain": [
       "<matplotlib.figure.Figure at 0x7fcd9c651f98>"
      ]
     },
     "metadata": {},
     "output_type": "display_data"
    }
   ],
   "source": [
    "import matplotlib.pyplot as plt\n",
    "%matplotlib inline\n",
    "# 유저별 평가 횟수의 히스토그램\n",
    "lens.groupby('user_id').size().sort_values(ascending=False).hist()\n",
    "\n",
    "plt.xlabel('rating size')\n",
    "plt.ylabel('count of rating')"
   ]
  },
  {
   "cell_type": "markdown",
   "metadata": {},
   "source": [
    "## 성별과 나이대별의 평가"
   ]
  },
  {
   "cell_type": "code",
   "execution_count": 21,
   "metadata": {},
   "outputs": [
    {
     "data": {
      "text/plain": [
       "<seaborn.axisgrid.FacetGrid at 0x7fcd155ef518>"
      ]
     },
     "execution_count": 21,
     "metadata": {},
     "output_type": "execute_result"
    },
    {
     "data": {
      "image/png": "[encoded data removed]",
      "text/plain": [
       "<matplotlib.figure.Figure at 0x7fcd1620ae10>"
      ]
     },
     "metadata": {},
     "output_type": "display_data"
    }
   ],
   "source": [
    "import seaborn as sns\n",
    "import numpy as np\n",
    "\n",
    "g = sns.FacetGrid(lens, row=\"sex\", col=\"rating\", margin_titles=True)\n",
    "bins = np.linspace(10,80, 8)\n",
    "g.map(plt.hist, \"age\", bins=bins)"
   ]
  },
  {
   "cell_type": "markdown",
   "metadata": {},
   "source": [
    "단순한 그림이지만 많은 정보를 포함하고 있습니다.\n",
    " \n",
    " - 남성이 더많은 평가를 했습니다.\n",
    " - 평점간의 나이대 분포는 유사해보여도 다른점을 보여주고 있습니다.\n",
    " \n",
    " # 추천 시스템 구현하기\n",
    " \n",
    " 인수분해 머신을 사용해 추천을 구현하겠습니다.\n",
    " **fastFM**을 사용합니다.\n",
    " \n",
    " ## fastFM에서 사용가능한 알고리즘\n",
    " - ALS\n",
    "     + 속도가 빠르다. SGD보다 하이퍼 파라미터 수가 적다\n",
    "     + 규제항이 꼭 필요하다\n",
    " - SGD\n",
    "     + 예측시간이 빠르다. 대규모 데이터를 빠르게 학습할 수 있다.\n",
    "     + 규제항이 꼭 필요하다. 하이퍼 파라미터 수가 많다.\n",
    " - MCMC\n",
    "     + 하이퍼파라미터 수가 적다. 자동 규제가 가능하다\n",
    "     + 학습이 오래 걸린다.\n",
    "   \n",
    "   \n",
    " fastFM는 입력용 데이터가\n",
    " `user_id`, `item_id`는 범주형임으로 아래와 같이 더미 변수로 변환해서 사용한다."
   ]
  },
  {
   "cell_type": "code",
   "execution_count": 22,
   "metadata": {},
   "outputs": [],
   "source": [
    "# Read in data\n",
    "def loadData(filename, path=\"./data/ml-100k/\"):\n",
    "    data = []\n",
    "    y = []\n",
    "    users=set()\n",
    "    items=set()\n",
    "    with open(path+filename) as f:\n",
    "        for line in f:\n",
    "            (user, movieid, rating, ts)=line.split('\\t')\n",
    "            data.append({ \"user_id\": str(user), \"movie_id\": str(movieid)})\n",
    "            y.append(float(rating))\n",
    "            users.add(user)\n",
    "            items.add(movieid)\n",
    "\n",
    "    return (data, np.array(y), users, items)\n",
    "\n",
    "(dev_data, y_dev, dev_users, dev_items) = loadData(\"ua.base\")\n",
    "(test_data, y_test, test_users, test_items) = loadData(\"ua.test\")"
   ]
  },
  {
   "cell_type": "code",
   "execution_count": 23,
   "metadata": {},
   "outputs": [],
   "source": [
    "from sklearn.model_selection import train_test_split\n",
    "from sklearn.feature_extraction import DictVectorizer\n",
    "v = DictVectorizer()\n",
    "X_dev = v.fit_transform(dev_data)\n",
    "X_test = v.transform(test_data)\n",
    "np.std(y_test)\n",
    "X_train, X_dev_test, y_train, y_dev_test = train_test_split(X_dev, y_dev, test_size=0.1, random_state=42)"
   ]
  },
  {
   "cell_type": "markdown",
   "metadata": {},
   "source": []
  },
  {
   "cell_type": "code",
   "execution_count": 24,
   "metadata": {},
   "outputs": [],
   "source": [
    "from sklearn.metrics import mean_squared_error\n",
    "from fastFM import mcmc\n",
    "\n",
    "n_iter = 300\n",
    "step_size = 1\n",
    "seed = 42\n",
    "rank = 4\n",
    "\n",
    "fm = mcmc.FMRegression(n_iter=0, rank=rank, random_state=seed)\n",
    "# Allocates and initalizes the model and hyper parameter.\n",
    "fm.fit_predict(X_train, y_train, X_dev_test)\n",
    "\n",
    "rmse_dev_test = []\n",
    "rmse_test = []\n",
    "hyper_param = np.zeros((n_iter -1, 3 + 2 * rank), dtype=np.float64)\n",
    "\n",
    "for nr, i in enumerate(range(1, n_iter)):\n",
    "    fm.random_state = i * seed\n",
    "    y_pred = fm.fit_predict(X_train, y_train, X_dev_test, n_more_iter=step_size)\n",
    "    rmse_test.append(np.sqrt(mean_squared_error(y_pred, y_dev_test)))\n",
    "    hyper_param[nr, :] = fm.hyper_param_\n",
    "\n",
    "values = np.arange(1, n_iter)\n",
    "x = values * step_size\n",
    "burn_in = 5\n",
    "x = x[burn_in:]"
   ]
  },
  {
   "cell_type": "code",
   "execution_count": 25,
   "metadata": {},
   "outputs": [
    {
     "name": "stdout",
     "output_type": "stream",
     "text": [
      "0.895940136924\n"
     ]
    },
    {
     "data": {
      "image/png": "[encoded data removed]",
      "text/plain": [
       "<matplotlib.figure.Figure at 0x7fcd10b4a630>"
      ]
     },
     "metadata": {},
     "output_type": "display_data"
    }
   ],
   "source": [
    "fig, axes = plt.subplots(nrows=2, ncols=2, figsize=(10, 6))\n",
    "\n",
    "axes[0, 0].plot(x, rmse_test[burn_in:], label='dev test rmse', color=\"r\")\n",
    "axes[0, 0].legend()\n",
    "axes[0, 1].plot(x, hyper_param[burn_in:,0], label='alpha', color=\"b\")\n",
    "axes[0, 1].legend()\n",
    "axes[1, 0].plot(x, hyper_param[burn_in:,1], label='lambda_w', color=\"g\")\n",
    "axes[1, 0].legend()\n",
    "axes[1, 1].plot(x, hyper_param[burn_in:,3], label='mu_w', color=\"g\")\n",
    "axes[1, 1].legend()\n",
    "\n",
    "print(np.min(rmse_test))"
   ]
  },
  {
   "cell_type": "markdown",
   "metadata": {},
   "source": [
    "반복이 100회가 넘어가면 모든 하이퍼파라미터가 수렴하는 것을 알 수 있습니다. \n",
    "\n",
    "rank의 값을 크게해 성능이 어떻게 변하는지 살펴봅니다."
   ]
  },
  {
   "cell_type": "code",
   "execution_count": 27,
   "metadata": {},
   "outputs": [
    {
     "name": "stdout",
     "output_type": "stream",
     "text": [
      "rank:4\trmse:0.903\n",
      "rank:8\trmse:0.901\n",
      "rank:16\trmse:0.896\n",
      "rank:32\trmse:0.893\n",
      "rank:64\trmse:0.892\n",
      "min rmse: 0.892\n"
     ]
    },
    {
     "data": {
      "image/png": "[encoded data removed]",
      "text/plain": [
       "<matplotlib.figure.Figure at 0x7fcd10b2b438>"
      ]
     },
     "metadata": {},
     "output_type": "display_data"
    }
   ],
   "source": [
    "n_iter = 100\n",
    "seed = 42\n",
    "rmse_test = []\n",
    "\n",
    "ranks = [4, 8, 16, 32, 64]\n",
    "\n",
    "\n",
    "for rank in ranks:\n",
    "    fm = mcmc.FMRegression(n_iter=n_iter, rank=rank, random_state=seed)\n",
    "    y_pred = fm.fit_predict(X_train, y_train, X_dev_test)\n",
    "    rmse = np.sqrt(mean_squared_error(y_pred, y_dev_test))\n",
    "    rmse_test.append(rmse)\n",
    "    print('rank:{}\\trmse:{:.3f}'.format(rank, rmse))\n",
    "\n",
    "plt.plot(ranks, rmse_test, label='dev test rmse', color=\"r\")\n",
    "plt.legend()\n",
    "\n",
    "print(\"min rmse: {:.3f}\".format(np.min(rmse_test)))"
   ]
  },
  {
   "cell_type": "markdown",
   "metadata": {},
   "source": [
    "rank가 32와 64는 평균제곱근오차의 감소세가 크지 않습니다. rank가 커질수록 학습시간이 늘어남으로 적절한 값은 32라고 생각할 수 있습니다.\n",
    "\n",
    "이제 테스트 데이터에 대한 성능을 측정해봅니다."
   ]
  },
  {
   "cell_type": "code",
   "execution_count": 28,
   "metadata": {},
   "outputs": [
    {
     "data": {
      "text/plain": [
       "0.91995931906878159"
      ]
     },
     "execution_count": 28,
     "metadata": {},
     "output_type": "execute_result"
    }
   ],
   "source": [
    "fm = mcmc.FMRegression(n_iter=300, rank=32, random_state=seed)\n",
    "fm.fit_predict(X_train, y_train, X_test)\n",
    "y_pred = fm.fit_predict(X_train, y_train, X_test)\n",
    "np.sqrt(mean_squared_error(y_pred, y_test))"
   ]
  },
  {
   "cell_type": "code",
   "execution_count": 33,
   "metadata": {},
   "outputs": [
    {
     "name": "stderr",
     "output_type": "stream",
     "text": [
      "/opt/conda/lib/python3.6/site-packages/sklearn/utils/validation.py:475: DataConversionWarning: Data with input dtype int64 was converted to float64 by StandardScaler.\n",
      "  warnings.warn(msg, DataConversionWarning)\n"
     ]
    },
    {
     "data": {
      "text/plain": [
       "(0.88, 0.94)"
      ]
     },
     "execution_count": 33,
     "metadata": {},
     "output_type": "execute_result"
    },
    {
     "data": {
      "image/png": "[encoded data removed]",
      "text/plain": [
       "<matplotlib.figure.Figure at 0x7fcd156aa278>"
      ]
     },
     "metadata": {},
     "output_type": "display_data"
    }
   ],
   "source": [
    "lens['user_id'] = lens['user_id'].astype(str)\n",
    "lens['movie_id'] = lens['movie_id'].astype(str)\n",
    "lens['year'] = lens['date'].apply(str).str.split('-').str.get(0)\n",
    "lens['release_year'] = lens['release_date'].apply(str).str.split('-').str.get(2)\n",
    "lens['year'] = lens['date'].apply(str).str.split('-').str.get(0)\n",
    "lens['release_year'] = lens['release_date'].apply(str).str.split('-').str.get(2)\n",
    "\n",
    "candidate_columns = [\n",
    "    ['user_id','movie_id', 'release_year', 'age', 'sex', 'year',  'rating'],\n",
    "    ['user_id','movie_id', 'age', 'sex', 'year',  'rating'],\n",
    "    ['user_id','movie_id', 'sex', 'year',  'rating'],\n",
    "    ['user_id','movie_id', 'age', 'sex', 'rating'],    \n",
    "    ['user_id','movie_id', 'rating'],    \n",
    "]\n",
    "\n",
    "rmse_test = []\n",
    "\n",
    "from sklearn.preprocessing import StandardScaler\n",
    "\n",
    "for column in candidate_columns:\n",
    "    filtered_lens = lens[column].dropna()\n",
    "    v = DictVectorizer()\n",
    "    X_more_feature = v.fit_transform(list(filtered_lens.drop('rating', axis=1).T.to_dict().values()))\n",
    "    y_more_feature = filtered_lens['rating'].tolist()\n",
    "\n",
    "    X_mf_train, X_mf_test, y_mf_train, y_mf_test = train_test_split(X_more_feature, y_more_feature, test_size=0.1, random_state=42)\n",
    "\n",
    "    scaler = StandardScaler()\n",
    "    y_mf_train_norm = scaler.fit_transform(np.array(y_mf_train).reshape(-1, 1)).ravel()\n",
    "\n",
    "    fm = mcmc.FMRegression(n_iter=n_iter, rank=rank, random_state=seed)\n",
    "    # Allocates and initalizes the model and hyper parameter.\n",
    "    fm.fit_predict(X_mf_train, y_mf_train_norm, X_mf_test)\n",
    "\n",
    "    y_pred = fm.fit_predict(X_mf_train, y_mf_train_norm, X_mf_test)\n",
    "    rmse_test.append(np.sqrt(mean_squared_error(scaler.inverse_transform(y_pred.reshape(-1, 1)), y_mf_test)))\n",
    "\n",
    "# print(rmse_test)\n",
    "\n",
    "ind = np.arange(len(rmse_test))\n",
    "bar = plt.bar(ind, height=rmse_test)\n",
    "plt.xticks(ind, ('A', 'B', 'C', 'D', 'E'))\n",
    "# plt.ylim((0.88, 0.94))"
   ]
  },
  {
   "cell_type": "markdown",
   "metadata": {},
   "source": [
    "조합 C가 성능이 좋음을 알 수 있다. 이렇듯 인수분해 머신은 다양한 특징 조합을 간단히 바꿔가며 시험해 볼수있다. 이렇게 사용자와 아이템 정보 외의 정보를 활용하는 추천을 상황인지 추천이라고 한다. \n",
    "\n"
   ]
  }
 ],
 "metadata": {
  "kernelspec": {
   "display_name": "Python 3",
   "language": "python",
   "name": "python3"
  },
  "language_info": {
   "codemirror_mode": {
    "name": "ipython",
    "version": 3
   },
   "file_extension": ".py",
   "mimetype": "text/x-python",
   "name": "python",
   "nbconvert_exporter": "python",
   "pygments_lexer": "ipython3",
   "version": "3.6.3"
  }
 },
 "nbformat": 4,
 "nbformat_minor": 2
}
