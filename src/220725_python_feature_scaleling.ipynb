{
 "cells": [
  {
   "cell_type": "markdown",
   "metadata": {},
   "source": [
    "# 스케일링\n",
    "\n",
    "보스턴 집값 데이터의 경우 회귀분석을 하면 조건수가 15,000 정도로 크게 나오는데 이는 각 독립 변수들이 0.1 단위부터 수백 단위까지 제각각의 크기를 가지고 있기 때문이다."
   ]
  },
  {
   "cell_type": "code",
   "execution_count": 15,
   "metadata": {},
   "outputs": [],
   "source": [
    "import numpy as np\n",
    "import pandas as pd\n",
    "import statsmodels.api as sm\n",
    "import matplotlib.pyplot as plt\n",
    "%matplotlib inline\n",
    "from sklearn.datasets import load_boston\n",
    "boston = load_boston()\n",
    "dfX = pd.DataFrame(boston.data, columns=boston.feature_names)\n",
    "dfy = pd.DataFrame(boston.target, columns=[\"MEDV\"])\n",
    "df = pd.concat([dfX, dfy], axis=1)"
   ]
  },
  {
   "cell_type": "code",
   "execution_count": 16,
   "metadata": {},
   "outputs": [
    {
     "name": "stdout",
     "output_type": "stream",
     "text": [
      "                            OLS Regression Results                            \n",
      "==============================================================================\n",
      "Dep. Variable:                   MEDV   R-squared:                       0.741\n",
      "Model:                            OLS   Adj. R-squared:                  0.734\n",
      "Method:                 Least Squares   F-statistic:                     108.1\n",
      "Date:                Tue, 11 Sep 2018   Prob (F-statistic):          6.95e-135\n",
      "Time:                        06:20:50   Log-Likelihood:                -1498.8\n",
      "No. Observations:                 506   AIC:                             3026.\n",
      "Df Residuals:                     492   BIC:                             3085.\n",
      "Df Model:                          13                                         \n",
      "Covariance Type:            nonrobust                                         \n",
      "==============================================================================\n",
      "                 coef    std err          t      P>|t|      [0.025      0.975]\n",
      "------------------------------------------------------------------------------\n",
      "Intercept     36.4911      5.104      7.149      0.000      26.462      46.520\n",
      "CRIM          -0.1072      0.033     -3.276      0.001      -0.171      -0.043\n",
      "ZN             0.0464      0.014      3.380      0.001       0.019       0.073\n",
      "INDUS          0.0209      0.061      0.339      0.735      -0.100       0.142\n",
      "NOX          -17.7958      3.821     -4.658      0.000     -25.302     -10.289\n",
      "RM             3.8048      0.418      9.102      0.000       2.983       4.626\n",
      "AGE            0.0008      0.013      0.057      0.955      -0.025       0.027\n",
      "DIS           -1.4758      0.199     -7.398      0.000      -1.868      -1.084\n",
      "RAD            0.3057      0.066      4.608      0.000       0.175       0.436\n",
      "TAX           -0.0123      0.004     -3.278      0.001      -0.020      -0.005\n",
      "PTRATIO       -0.9535      0.131     -7.287      0.000      -1.211      -0.696\n",
      "B              0.0094      0.003      3.500      0.001       0.004       0.015\n",
      "LSTAT         -0.5255      0.051    -10.366      0.000      -0.625      -0.426\n",
      "CHAS           2.6886      0.862      3.120      0.002       0.996       4.381\n",
      "==============================================================================\n",
      "Omnibus:                      178.029   Durbin-Watson:                   1.078\n",
      "Prob(Omnibus):                  0.000   Jarque-Bera (JB):              782.015\n",
      "Skew:                           1.521   Prob(JB):                    1.54e-170\n",
      "Kurtosis:                       8.276   Cond. No.                     1.51e+04\n",
      "==============================================================================\n",
      "\n",
      "Warnings:\n",
      "[1] Standard Errors assume that the covariance matrix of the errors is correctly specified.\n",
      "[2] The condition number is large, 1.51e+04. This might indicate that there are\n",
      "strong multicollinearity or other numerical problems.\n"
     ]
    }
   ],
   "source": [
    "model1 = sm.OLS.from_formula(\"MEDV ~ \"\n",
    "                             \"CRIM + ZN + INDUS + NOX + RM + AGE + \"\n",
    "                             \"DIS + RAD + TAX + PTRATIO + B + LSTAT + CHAS\", \n",
    "                             data=df)\n",
    "result1 = model1.fit()\n",
    "print(result1.summary())"
   ]
  },
  {
   "cell_type": "markdown",
   "metadata": {},
   "source": [
    "StatsModels에서는 모형지정 문자열에서 scale 명령을 사용하여 스케일링을 할 수 있다. 이 방식으로 스케일을 하면 스케일링에 사용된 평균과 표준편차를 저장하였다가 나중에 predict 명령을 사용할 때도 같은 스케일을 사용하기 때문에 편리하다. Scikit-Learn의 파이프라인과 같은 역할을 한다."
   ]
  },
  {
   "cell_type": "code",
   "execution_count": 17,
   "metadata": {},
   "outputs": [
    {
     "name": "stdout",
     "output_type": "stream",
     "text": [
      "                            OLS Regression Results                            \n",
      "==============================================================================\n",
      "Dep. Variable:                   MEDV   R-squared:                       0.741\n",
      "Model:                            OLS   Adj. R-squared:                  0.734\n",
      "Method:                 Least Squares   F-statistic:                     108.1\n",
      "Date:                Tue, 11 Sep 2018   Prob (F-statistic):          6.95e-135\n",
      "Time:                        06:20:50   Log-Likelihood:                -1498.8\n",
      "No. Observations:                 506   AIC:                             3026.\n",
      "Df Residuals:                     492   BIC:                             3085.\n",
      "Df Model:                          13                                         \n",
      "Covariance Type:            nonrobust                                         \n",
      "==================================================================================\n",
      "                     coef    std err          t      P>|t|      [0.025      0.975]\n",
      "----------------------------------------------------------------------------------\n",
      "Intercept         22.3468      0.219    101.936      0.000      21.916      22.778\n",
      "scale(CRIM)       -0.9204      0.281     -3.276      0.001      -1.472      -0.368\n",
      "scale(ZN)          1.0810      0.320      3.380      0.001       0.453       1.709\n",
      "scale(INDUS)       0.1430      0.421      0.339      0.735      -0.685       0.971\n",
      "scale(NOX)        -2.0601      0.442     -4.658      0.000      -2.929      -1.191\n",
      "scale(RM)          2.6706      0.293      9.102      0.000       2.094       3.247\n",
      "scale(AGE)         0.0211      0.371      0.057      0.955      -0.709       0.751\n",
      "scale(DIS)        -3.1044      0.420     -7.398      0.000      -3.929      -2.280\n",
      "scale(RAD)         2.6588      0.577      4.608      0.000       1.525       3.792\n",
      "scale(TAX)        -2.0759      0.633     -3.278      0.001      -3.320      -0.832\n",
      "scale(PTRATIO)    -2.0622      0.283     -7.287      0.000      -2.618      -1.506\n",
      "scale(B)           0.8566      0.245      3.500      0.001       0.376       1.338\n",
      "scale(LSTAT)      -3.7487      0.362    -10.366      0.000      -4.459      -3.038\n",
      "CHAS               2.6886      0.862      3.120      0.002       0.996       4.381\n",
      "==============================================================================\n",
      "Omnibus:                      178.029   Durbin-Watson:                   1.078\n",
      "Prob(Omnibus):                  0.000   Jarque-Bera (JB):              782.015\n",
      "Skew:                           1.521   Prob(JB):                    1.54e-170\n",
      "Kurtosis:                       8.276   Cond. No.                         10.6\n",
      "==============================================================================\n",
      "\n",
      "Warnings:\n",
      "[1] Standard Errors assume that the covariance matrix of the errors is correctly specified.\n"
     ]
    }
   ],
   "source": [
    "model2 = sm.OLS.from_formula(\"MEDV ~ \"\n",
    "                             \"scale(CRIM) + scale(ZN) + scale(INDUS) + scale(NOX) + scale(RM) + scale(AGE) + \"\n",
    "                             \"scale(DIS) + scale(RAD) + scale(TAX) + scale(PTRATIO) + scale(B) + scale(LSTAT) + CHAS\", \n",
    "                             data=df)\n",
    "result2 = model2.fit()\n",
    "print(result2.summary())"
   ]
  },
  {
   "cell_type": "markdown",
   "metadata": {},
   "source": [
    "# 변수 변환\n",
    "\n",
    "다음과 같은 경우에는 로그 함수 혹은 제곱근 함수 등을 사용하여 변환된 변수를 사용하면 회귀 성능이 향상될 수도 있다.\n",
    "\n",
    "- 독립 변수나 종속 변수가 심하게 한쪽으로 치우친 분포를 보이는 경우\n",
    "- 독립 변수와 종속 변수간의 관계가 곱셈 혹은 나눗셉으로 연결된 경우\n",
    "- 종속 변수와 예측치가 비선형 관계를 보이는 경우\n",
    "\n",
    "원래 선형회귀모형의 가정에는 독립 변수나 종속 변수가 반드시 대칭 분포를 보여야 한다는 가정은 없지만 정규 분포에 가까운 분포를 보일 수록 선형회귀모형의 성능이 좋아지는 경우가 많다.\n",
    "\n",
    "보스턴 집값 데이터에서는 가격, DIS, PTRATIO, LSTAT 등이 비대칭 분포를 이루거나 가격과 반비례 관계를 가지므로 이 변수들을 로그로 변환한 후에 선형회귀분석을 하면 성능을 향상시킬 수 있다."
   ]
  },
  {
   "cell_type": "code",
   "execution_count": 18,
   "metadata": {},
   "outputs": [
    {
     "name": "stdout",
     "output_type": "stream",
     "text": [
      "                            OLS Regression Results                            \n",
      "==============================================================================\n",
      "Dep. Variable:           np.log(MEDV)   R-squared:                       0.817\n",
      "Model:                            OLS   Adj. R-squared:                  0.811\n",
      "Method:                 Least Squares   F-statistic:                     145.4\n",
      "Date:                Tue, 11 Sep 2018   Prob (F-statistic):          1.97e-169\n",
      "Time:                        06:20:50   Log-Likelihood:                 164.24\n",
      "No. Observations:                 506   AIC:                            -296.5\n",
      "Df Residuals:                     490   BIC:                            -228.9\n",
      "Df Model:                          15                                         \n",
      "Covariance Type:            nonrobust                                         \n",
      "==========================================================================================\n",
      "                             coef    std err          t      P>|t|      [0.025      0.975]\n",
      "------------------------------------------------------------------------------------------\n",
      "Intercept                  3.0290      0.008    368.850      0.000       3.013       3.045\n",
      "scale(CRIM)               -0.2548      0.030     -8.409      0.000      -0.314      -0.195\n",
      "scale(I(CRIM ** 2))        0.1225      0.024      5.143      0.000       0.076       0.169\n",
      "scale(ZN)                 -0.0388      0.031     -1.247      0.213      -0.100       0.022\n",
      "scale(I(ZN ** 2))          0.0359      0.028      1.296      0.196      -0.019       0.090\n",
      "scale(INDUS)               0.0009      0.016      0.055      0.957      -0.031       0.032\n",
      "scale(NOX)                -0.1134      0.017     -6.518      0.000      -0.148      -0.079\n",
      "scale(RM)                  0.0372      0.012      3.204      0.001       0.014       0.060\n",
      "scale(AGE)                 0.0092      0.014      0.637      0.524      -0.019       0.038\n",
      "scale(np.log(DIS))        -0.1260      0.018     -6.848      0.000      -0.162      -0.090\n",
      "scale(RAD)                 0.1812      0.024      7.560      0.000       0.134       0.228\n",
      "scale(TAX)                -0.1107      0.024     -4.660      0.000      -0.157      -0.064\n",
      "scale(np.log(PTRATIO))    -0.0830      0.011     -7.607      0.000      -0.104      -0.062\n",
      "scale(B)                   0.0296      0.009      3.195      0.001       0.011       0.048\n",
      "scale(np.log(LSTAT))      -0.2243      0.014    -15.467      0.000      -0.253      -0.196\n",
      "CHAS                       0.0797      0.032      2.463      0.014       0.016       0.143\n",
      "==============================================================================\n",
      "Omnibus:                       38.120   Durbin-Watson:                   1.185\n",
      "Prob(Omnibus):                  0.000   Jarque-Bera (JB):              164.197\n",
      "Skew:                           0.029   Prob(JB):                     2.21e-36\n",
      "Kurtosis:                       5.790   Cond. No.                         13.5\n",
      "==============================================================================\n",
      "\n",
      "Warnings:\n",
      "[1] Standard Errors assume that the covariance matrix of the errors is correctly specified.\n"
     ]
    }
   ],
   "source": [
    "model3 = sm.OLS.from_formula(\"np.log(MEDV) ~ \"\n",
    "                             \"scale(CRIM) + scale(I(CRIM ** 2)) + \"\n",
    "                             \"scale(ZN) + scale(I(ZN ** 2)) + \"\n",
    "                             \"scale(INDUS) + \"\n",
    "                             \"scale(NOX) + scale(RM) + scale(AGE) + \"\n",
    "                             \"scale(np.log(DIS)) + scale(RAD) + scale(TAX) + \"\n",
    "                             \"scale(np.log(PTRATIO)) + scale(B) + scale(np.log(LSTAT)) + CHAS\", \n",
    "                             data=df)\n",
    "result3 = model3.fit()\n",
    "print(result3.summary())"
   ]
  },
  {
   "cell_type": "code",
   "execution_count": 19,
   "metadata": {},
   "outputs": [
    {
     "data": {
      "text/plain": [
       "array([  7,  54, 148, 152, 160, 214, 253, 267, 364, 365, 367, 368, 369,\n",
       "       371, 372, 374, 380, 385, 397, 398, 399, 400, 401, 405, 409, 410,\n",
       "       412, 413, 414, 415, 416, 418, 419, 426, 445, 489, 490, 492, 505,\n",
       "       161, 162, 163, 166, 186, 195, 204, 225, 257, 267, 283, 368, 369,\n",
       "       370, 371, 372])"
      ]
     },
     "execution_count": 19,
     "metadata": {},
     "output_type": "execute_result"
    }
   ],
   "source": [
    "# 아웃라이어 제거\n",
    "influence3 = result3.get_influence()\n",
    "cooks_d2, pvals = influence3.cooks_distance\n",
    "fox_cr = 4 / (len(df) - 2)\n",
    "idx_outlier = np.where(cooks_d2 > fox_cr)[0]\n",
    "# MEDV = 50 제거\n",
    "idx_outlier = np.hstack([idx_outlier, np.where(boston.target == 50)[0]])\n",
    "idx_outlier"
   ]
  },
  {
   "cell_type": "code",
   "execution_count": 24,
   "metadata": {},
   "outputs": [
    {
     "data": {
      "text/plain": [
       "<matplotlib.collections.PathCollection at 0x7fd6d77742e8>"
      ]
     },
     "execution_count": 24,
     "metadata": {},
     "output_type": "execute_result"
    },
    {
     "data": {
      "image/png": "[encoded data removed]",
      "text/plain": [
       "<matplotlib.figure.Figure at 0x7fd6d74baf98>"
      ]
     },
     "metadata": {},
     "output_type": "display_data"
    }
   ],
   "source": [
    "pred = result3.predict(df)\n",
    "# ax = plt.subplot()\n",
    "f = plt.figure(figsize=(10,10))\n",
    "plt.scatter(np.log(dfy), pred)\n",
    "plt.scatter(np.log(dfy.MEDV[idx_outlier]), pred[idx_outlier], s=300, c=\"r\", alpha=0.2)\n",
    "# plt.show()"
   ]
  },
  {
   "cell_type": "code",
   "execution_count": 25,
   "metadata": {},
   "outputs": [
    {
     "name": "stdout",
     "output_type": "stream",
     "text": [
      "                            OLS Regression Results                            \n",
      "==============================================================================\n",
      "Dep. Variable:           np.log(MEDV)   R-squared:                       0.872\n",
      "Model:                            OLS   Adj. R-squared:                  0.868\n",
      "Method:                 Least Squares   F-statistic:                     199.9\n",
      "Date:                Tue, 11 Sep 2018   Prob (F-statistic):          1.56e-185\n",
      "Time:                        06:23:18   Log-Likelihood:                 317.45\n",
      "No. Observations:                 456   AIC:                            -602.9\n",
      "Df Residuals:                     440   BIC:                            -536.9\n",
      "Df Model:                          15                                         \n",
      "Covariance Type:            nonrobust                                         \n",
      "==========================================================================================\n",
      "                             coef    std err          t      P>|t|      [0.025      0.975]\n",
      "------------------------------------------------------------------------------------------\n",
      "Intercept                  3.0383      0.006    512.183      0.000       3.027       3.050\n",
      "scale(CRIM)               -0.2115      0.027     -7.976      0.000      -0.264      -0.159\n",
      "scale(I(CRIM ** 2))        0.0796      0.018      4.331      0.000       0.043       0.116\n",
      "scale(ZN)                 -0.0464      0.022     -2.110      0.035      -0.090      -0.003\n",
      "scale(I(ZN ** 2))          0.0435      0.020      2.206      0.028       0.005       0.082\n",
      "scale(INDUS)               0.0036      0.011      0.323      0.747      -0.018       0.026\n",
      "scale(NOX)                -0.0648      0.013     -5.001      0.000      -0.090      -0.039\n",
      "scale(RM)                  0.0852      0.009      9.195      0.000       0.067       0.103\n",
      "scale(AGE)                -0.0271      0.011     -2.438      0.015      -0.049      -0.005\n",
      "scale(np.log(DIS))        -0.0968      0.013     -7.368      0.000      -0.123      -0.071\n",
      "scale(RAD)                 0.1564      0.019      8.106      0.000       0.118       0.194\n",
      "scale(TAX)                -0.0894      0.017     -5.153      0.000      -0.124      -0.055\n",
      "scale(np.log(PTRATIO))    -0.0681      0.008     -8.872      0.000      -0.083      -0.053\n",
      "scale(B)                   0.0446      0.007      6.699      0.000       0.031       0.058\n",
      "scale(np.log(LSTAT))      -0.1378      0.012    -11.074      0.000      -0.162      -0.113\n",
      "CHAS                       0.0659      0.026      2.580      0.010       0.016       0.116\n",
      "==============================================================================\n",
      "Omnibus:                       28.653   Durbin-Watson:                   1.309\n",
      "Prob(Omnibus):                  0.000   Jarque-Bera (JB):               43.266\n",
      "Skew:                           0.465   Prob(JB):                     4.03e-10\n",
      "Kurtosis:                       4.188   Cond. No.                         15.7\n",
      "==============================================================================\n",
      "\n",
      "Warnings:\n",
      "[1] Standard Errors assume that the covariance matrix of the errors is correctly specified.\n"
     ]
    }
   ],
   "source": [
    "idx = list(set(range(len(df))).difference(idx_outlier))\n",
    "df4 = df.iloc[idx, :].reset_index(drop=True)\n",
    "\n",
    "model4 = sm.OLS.from_formula(\"np.log(MEDV) ~ \"\n",
    "                             \"scale(CRIM) + scale(I(CRIM ** 2)) + \"\n",
    "                             \"scale(ZN) + scale(I(ZN ** 2)) + \"\n",
    "                             \"scale(INDUS) + \"\n",
    "                             \"scale(NOX) + scale(RM) + scale(AGE) + \"\n",
    "                             \"scale(np.log(DIS)) + scale(RAD) + scale(TAX) + \"\n",
    "                             \"scale(np.log(PTRATIO)) + scale(B) + scale(np.log(LSTAT)) + CHAS\", \n",
    "                             data=df4)\n",
    "result4 = model4.fit()\n",
    "print(result4.summary())"
   ]
  },
  {
   "cell_type": "code",
   "execution_count": null,
   "metadata": {},
   "outputs": [],
   "source": []
  }
 ],
 "metadata": {
  "kernelspec": {
   "display_name": "Python 3",
   "language": "python",
   "name": "python3"
  },
  "language_info": {
   "codemirror_mode": {
    "name": "ipython",
    "version": 3
   },
   "file_extension": ".py",
   "mimetype": "text/x-python",
   "name": "python",
   "nbconvert_exporter": "python",
   "pygments_lexer": "ipython3",
   "version": "3.6.3"
  }
 },
 "nbformat": 4,
 "nbformat_minor": 2
}
