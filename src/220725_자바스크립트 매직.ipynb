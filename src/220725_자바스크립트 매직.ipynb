{
 "cells": [
  {
   "cell_type": "markdown",
   "metadata": {},
   "source": [
    "## 자바스크립트 매직 \n",
    "주피터 노트북에서는 매직 커맨드를 통해 단순히 파이썬 코드를 실행시키는 것 이외에도 다양한 작업을 수행할 수 있도록 도와준다. 이러한 매직 커맨드들은 언어 커널에 정의되어 있으면 파이썬 커널에서는 이를 위해 `%%`를 앞에 붙여서 실행한다. 예를 들어 `%%html` 매직을 사용하면 html 코드를 직접 결과 블록에 삽입할 수 있다. `%%html`을 첫 줄에 작성하고, 아래부터는 html코드를 작성한다."
   ]
  },
  {
   "cell_type": "code",
   "execution_count": 1,
   "metadata": {},
   "outputs": [
    {
     "data": {
      "text/html": [
       "\n",
       "<style>\n",
       ".hello-world{\n",
       "    border: 1px solid black; \n",
       "    width: 300px; \n",
       "    height: 50px; \n",
       "    font-size: 2em; \n",
       "    padding: 0.3em;\n",
       "}\n",
       "</style>\n",
       "\n",
       "<div class='hello-world'>\n",
       "Hello ,html magic!\n",
       "</div>"
      ],
      "text/plain": [
       "<IPython.core.display.HTML object>"
      ]
     },
     "metadata": {},
     "output_type": "display_data"
    }
   ],
   "source": [
    "%%html\n",
    "\n",
    "<style>\n",
    ".hello-world{\n",
    "    border: 1px solid black; \n",
    "    width: 300px; \n",
    "    height: 50px; \n",
    "    font-size: 2em; \n",
    "    padding: 0.3em;\n",
    "}\n",
    "</style>\n",
    "\n",
    "<div class='hello-world'>\n",
    "Hello ,html magic!\n",
    "</div>"
   ]
  },
  {
   "cell_type": "markdown",
   "metadata": {},
   "source": [
    "위와 같이 html 코드를 바로 사용할 수 있음을 알 수 있다. 더욱 편리한 점은 주피터의 기본 에디터 CodeMirror는 다양한 언어를 지원하기 있어서, 주피터는 이를 통해 자동적으로 HTML 문법을 지원해준다.\n",
    "\n",
    "이와 마찬가지로 자바스크립트 코드를 실행할 수 있도록 `%%javascript` 매직도 지원하고 있다. 여기서는 먼저 현재 주피터 셀의 결과 요소를 얻어올 수 있도록 헬퍼를 작성해서 사용한다(이 헬퍼가 필요한 이유에 대해서는 뒤에서 자세히 설명한다).\n",
    "\n",
    "http://blog.nacyot.com/articles/2015-05-21-d3js-in-jupyter/"
   ]
  },
  {
   "cell_type": "code",
   "execution_count": null,
   "metadata": {},
   "outputs": [],
   "source": [
    "%%javascript\n",
    "\n",
    "function hanoi(n, a, b, c){\n",
    "    if (n <1) { return; }\n",
    "    hanoi(n-1, a, c, b);\n",
    "    console.log(n+' 번째 원반을 ' + a + ' -> ' + c);\n",
    "    hanoi\n",
    "}\n",
    "\n",
    "."
   ]
  },
  {
   "cell_type": "markdown",
   "metadata": {},
   "source": [
    "# 정규 표현식의 기본\n",
    "\n",
    "# 정규표현식(regular expression)\n",
    "문자열을 패턴을 표현하기 위한 도구입니다. 원래 유닉스의 스크립트 언어(grep, sed, awk) 처리에 사용되던 방법이지만 최근에는 다양한 언어에 내장되어 있습니다.\n",
    "\n",
    "## 정규표현식의 생성\n",
    "자바스크립트의 정규표현식은 다음과 같이 생성할 수 있습니다.\n",
    "```javascript\n",
    "var reg = new RegExp('abc');\n",
    "```\n",
    "\n",
    "## 기본적인 정규 표현식 패턴\n",
    "\n"
   ]
  }
 ],
 "metadata": {
  "kernelspec": {
   "display_name": "Python 3",
   "language": "python",
   "name": "python3"
  },
  "language_info": {
   "codemirror_mode": {
    "name": "ipython",
    "version": 3
   },
   "file_extension": ".py",
   "mimetype": "text/x-python",
   "name": "python",
   "nbconvert_exporter": "python",
   "pygments_lexer": "ipython3",
   "version": "3.6.3"
  }
 },
 "nbformat": 4,
 "nbformat_minor": 2
}
