{
 "cells": [
  {
   "cell_type": "markdown",
   "metadata": {},
   "source": [
    "# 0. 시작하기전에\n",
    "\n",
    "*파이썬으로 생물학적 데이터 다루기(원제:Managing Your Biological Data with Python)* 책을 공부하고 복습용도로 문제 풀이를 정리했습니다. 자세한 설명은 책을 읽어 주세요.\n",
    "\n",
    "> 책은 파이썬 2.7버전이지만 저는 버전 3를 사용합니다.\n",
    "\n",
    "\n",
    "## 1.1. 수용액안에 양성자(proton)의 농도가 0.003162M일때 pH값은 얼마인가?\n",
    "\n",
    "pH의 정의는 다음과 같으므로 쉽게 계산할 수 있습니다.\n",
    "$$ pH = −\\log_{10}(H^+) $$"
   ]
  },
  {
   "cell_type": "code",
   "execution_count": 2,
   "metadata": {},
   "outputs": [
    {
     "name": "stdout",
     "output_type": "stream",
     "text": [
      "2.50003813440381\n"
     ]
    }
   ],
   "source": [
    "import math\n",
    "\n",
    "H = 0.003162\n",
    "pH = -math.log10(H)\n",
    "print(pH)"
   ]
  },
  {
   "cell_type": "markdown",
   "metadata": {},
   "source": [
    "답: 2.50003813440381\n",
    "\n",
    "\n",
    "## 1.2. 최적의 조건에서 대장균 한마리는 20분 마다 이분법으로 늘어난다, 최적의 조건에서 1마리의 대장균은 6시간뒤에 몇마리로 늘어나 있는가?"
   ]
  },
  {
   "cell_type": "code",
   "execution_count": 3,
   "metadata": {},
   "outputs": [
    {
     "name": "stdout",
     "output_type": "stream",
     "text": [
      "262144.0\n"
     ]
    }
   ],
   "source": [
    "cell_division = 6*60/20\n",
    "number_of_ecoli = 2**cell_division\n",
    "print(number_of_ecoli)"
   ]
  },
  {
   "cell_type": "markdown",
   "metadata": {},
   "source": [
    "답: 262144마리\n",
    "\n",
    "## 2.1 Random DNA 시퀀스 만들기\n",
    "*for loop*과 *range*,*random* 함수를 사용해서 무작위 DNA시퀀스를 만들 수 있습니다. *range* 함수는 만들어지는 시퀀스의 길이는 결정하는데 사용할 것 입니다."
   ]
  },
  {
   "cell_type": "code",
   "execution_count": 11,
   "metadata": {},
   "outputs": [
    {
     "name": "stdout",
     "output_type": "stream",
     "text": [
      "G\n",
      "GT\n",
      "GTA\n",
      "GTAC\n",
      "GTACT\n",
      "GTACTC\n",
      "GTACTCT\n",
      "GTACTCTA\n",
      "GTACTCTAG\n",
      "GTACTCTAGG\n"
     ]
    }
   ],
   "source": [
    "import random\n",
    "# random모듈 임포트\n",
    "\n",
    "dna = \"AGCT\"\n",
    "sequence = \"\"\n",
    "for i in range(10):\n",
    "    # range(10)은 0~9까지 10개의 숫자로된 리스트 생성합니다.\n",
    "    # 숫자를 늘리면 for loop이 길어지고 시퀀스도 길어집니다.\n",
    "    index = random.randint(0, 3)\n",
    "    # random 함수가 0~3사이의 아무숫자를 index값으로 반환\n",
    "    sequence = sequence + dna[index]\n",
    "    # DNA 시퀀스 무작위로 하나 추가합니다.\n",
    "    print(sequence)\n"
   ]
  },
  {
   "cell_type": "markdown",
   "metadata": {},
   "source": [
    "\n",
    "## 2.2 인슐린 단백질에서 아미노산의 빈도 구하기"
   ]
  },
  {
   "cell_type": "code",
   "execution_count": 10,
   "metadata": {},
   "outputs": [
    {
     "name": "stdout",
     "output_type": "stream",
     "text": [
      "A 1\n",
      "C 6\n",
      "D 0\n",
      "E 4\n",
      "F 3\n",
      "G 4\n",
      "H 2\n",
      "I 2\n",
      "K 1\n",
      "L 6\n",
      "M 0\n",
      "N 3\n",
      "P 1\n",
      "Q 3\n",
      "R 1\n",
      "S 3\n",
      "T 3\n",
      "V 4\n",
      "W 0\n",
      "Y 4\n"
     ]
    }
   ],
   "source": [
    "# insulin [Homo sapiens] GI:386828\n",
    "# extracted 51 amino acids of A+B chain\n",
    "insulin = \"GIVEQCCTSICSLYQLENYCNFVNQHLCGSHLVEALYLVCGERGFFYTPKT\"\n",
    "for amino_acid in \"ACDEFGHIKLMNPQRSTVWY\":\n",
    "    number = insulin.count(amino_acid)\n",
    "    print(amino_acid, number)"
   ]
  },
  {
   "cell_type": "markdown",
   "metadata": {},
   "source": [
    "## GC-Content from a DNA Sequence\n",
    "\n",
    "다음 DNA서열에서 GC-content를 계산하는 스크립트를 작성하시오.\n",
    "\n",
    "    GGCAGATTCCCCCTAGACCCGCCCGCACCATGGTCAGGCATGCCCCTCCTCATCGCTGGGCACAGCCCAGAGGGT ATAAACAGTGCTGGAGGCTGGCGGGGCAGGCCAGCTGAGTCCTGAGCAGCAGCCCAGCGCAGCCACCGAGACACC ATGAGAGCCCTCACACTCCTCGCCCTATTGGCCCTGGCCGCACTTTGCATCGCTGGCCAGGCAGGTGAGTGCCCC CACCTCCCCTCAGGCCGCATTGCAGTGGGGGCTGAGAGGAGGAAGCACCATGGCCCACCTCTTCTCACCCCTTTG GCTGGCAGTCCCTTTGCAGTCTAACCACCTTGTTGCAGGCTCAATCCATTTGCCCCAGCTCTGCCCTTGCAGAGG GAGAGGAGGGAAGAGCAAGCTGCCCGAGACGCAGGGGAAGGAGGATGAGGGCCCTGGGGATGAGCTGGGGTGAAC CAGGCTCCCTTTCCTTTGCAGGTGCGAAGCCCAGCGGTGCAGAGTCCAGCAAAGGTGCAGGTATGAGGATGGACC TGATGGGTTCCTGGACCCTCCCCTCTCACCCTGGTCCCTCAGTCTCATTCCCCCACTCCTGCCACCTCCTGTCTG GCCATCAGGAAGGCCAGCCTGCTCCCCACCTGATCCTCCCAAACCCAGAGCCACCTGATGCCTGCCCCTCTGCTC CACAGCCTTTGTGTCCAAGCAGGAGGGCAGCGAGGTAGTGAAGAGACCCAGGCGCTACCTGTATCAATGGCTGGG GTGAGAGAAAAGGCAGAGCTGGGCCAAGGCCCTGCCTCTCCGGGATGGTCTGTGGGGGAGCTGCAGCAGGGAGTG GCCTCTCTGGGTTGTGGTGGGGGTACAGGCAGCCTGCCCTGGTGGGCACCCTGGAGCCCCATGTGTAGGGAGAGG AGGGATGGGCATTTTGCACGGGGGCTGATGCCACCACGTCGGGTGTCTCAGAGCCCCAGTCCCCTACCCGGATCC CCTGGAGCCCAGGAGGGAGGTGTGTGAGCTCAATCCGGACTGTGACGAGTTGGCTGACCACATCGGCTTTCAGGA GGCCTATCGGCGCTTCTACGGCCCGGTCTAGGGTGTCGCTCTGCTGGCCTGGCCGGCAACCCCAGTTCTGCTCCT CTCCAGGCACCCTTCTTTCCTCTTCCCCTTGCCCTTGCCCTGACCTCCCAGCCCTATGGATGTGGGGTCCCCATC ATCCCAGCTGCTCCCAAATAAACTCCAGAAG"
   ]
  },
  {
   "cell_type": "code",
   "execution_count": 14,
   "metadata": {},
   "outputs": [
    {
     "name": "stdout",
     "output_type": "stream",
     "text": [
      "GC-contents of DNA is 62.71 %\n"
     ]
    }
   ],
   "source": [
    "dna = '''GGCAGATTCCCCCTAGACCCGCCCGCACCATGGTCAGGCATGCCCCTCCTCATCGCTGGGCACAGCCCAGAGGGT ATAAACAGTGCTGGAGGCTGGCGGGGCAGGCCAGCTGAGTCCTGAGCAGCAGCCCAGCGCAGCCACCGAGACACC ATGAGAGCCCTCACACTCCTCGCCCTATTGGCCCTGGCCGCACTTTGCATCGCTGGCCAGGCAGGTGAGTGCCCC CACCTCCCCTCAGGCCGCATTGCAGTGGGGGCTGAGAGGAGGAAGCACCATGGCCCACCTCTTCTCACCCCTTTG GCTGGCAGTCCCTTTGCAGTCTAACCACCTTGTTGCAGGCTCAATCCATTTGCCCCAGCTCTGCCCTTGCAGAGG GAGAGGAGGGAAGAGCAAGCTGCCCGAGACGCAGGGGAAGGAGGATGAGGGCCCTGGGGATGAGCTGGGGTGAAC CAGGCTCCCTTTCCTTTGCAGGTGCGAAGCCCAGCGGTGCAGAGTCCAGCAAAGGTGCAGGTATGAGGATGGACC TGATGGGTTCCTGGACCCTCCCCTCTCACCCTGGTCCCTCAGTCTCATTCCCCCACTCCTGCCACCTCCTGTCTG GCCATCAGGAAGGCCAGCCTGCTCCCCACCTGATCCTCCCAAACCCAGAGCCACCTGATGCCTGCCCCTCTGCTC CACAGCCTTTGTGTCCAAGCAGGAGGGCAGCGAGGTAGTGAAGAGACCCAGGCGCTACCTGTATCAATGGCTGGG GTGAGAGAAAAGGCAGAGCTGGGCCAAGGCCCTGCCTCTCCGGGATGGTCTGTGGGGGAGCTGCAGCAGGGAGTG GCCTCTCTGGGTTGTGGTGGGGGTACAGGCAGCCTGCCCTGGTGGGCACCCTGGAGCCCCATGTGTAGGGAGAGG AGGGATGGGCATTTTGCACGGGGGCTGATGCCACCACGTCGGGTGTCTCAGAGCCCCAGTCCCCTACCCGGATCC CCTGGAGCCCAGGAGGGAGGTGTGTGAGCTCAATCCGGACTGTGACGAGTTGGCTGACCACATCGGCTTTCAGGA GGCCTATCGGCGCTTCTACGGCCCGGTCTAGGGTGTCGCTCTGCTGGCCTGGCCGGCAACCCCAGTTCTGCTCCT CTCCAGGCACCCTTCTTTCCTCTTCCCCTTGCCCTTGCCCTGACCTCCCAGCCCTATGGATGTGGGGTCCCCATC ATCCCAGCTGCTCCCAAATAAACTCCAGAAG'''\n",
    "dna_length = len(dna)\n",
    "gc_content = 0\n",
    "for i in dna:\n",
    "    if i.upper() == 'C' or i.upper() == 'G':\n",
    "        gc_content += 1\n",
    "\n",
    "print('GC-contents of DNA is {:.2f} %'.format(gc_content*100/dna_length))"
   ]
  },
  {
   "cell_type": "code",
   "execution_count": null,
   "metadata": {},
   "outputs": [],
   "source": []
  },
  {
   "cell_type": "code",
   "execution_count": null,
   "metadata": {},
   "outputs": [],
   "source": []
  }
 ],
 "metadata": {
  "kernelspec": {
   "display_name": "Python 3",
   "language": "python",
   "name": "python3"
  },
  "language_info": {
   "codemirror_mode": {
    "name": "ipython",
    "version": 3
   },
   "file_extension": ".py",
   "mimetype": "text/x-python",
   "name": "python",
   "nbconvert_exporter": "python",
   "pygments_lexer": "ipython3",
   "version": "3.6.4"
  }
 },
 "nbformat": 4,
 "nbformat_minor": 2
}
