{
 "cells": [
  {
   "cell_type": "markdown",
   "metadata": {},
   "source": [
    "# 파이썬 라이브러리 레시피\n",
    "\n",
    "python 3.x 대응\n",
    "\n",
    "*이케우치 다카히로, 파이썬 라이브러리 레시피, 프리렉, 2016*\n",
    "\n",
    "# 차례\n",
    "## 1. [텍스트 처리](text)\n",
    "## 2. [수치 계산](number)\n",
    "## 3. [날짜와 시간]()\n",
    "## 4. [자료형과 알고리즘]()\n",
    "## 5. [범용 OS 서비스]()\n",
    "## 6. [파일과 디렉토리]()\n",
    "## 7. [압축파일 다루기]()\n",
    "## 8. [특정 파일 다루기]()\n",
    "## 9. [인터넷의 데이터]()\n",
    "## 10. [테스트와 디버깅]()\n",
    "## 11. [암호 관련]()\n",
    "## 12. [병렬처리]()\n"
   ]
  },
  {
   "cell_type": "markdown",
   "metadata": {},
   "source": [
    "<div id = 'text'/>\n",
    "\n",
    "# 1. 텍스트 처리\n",
    "\n",
    "파이썬에서는 문자열을 편리하게 다루는 기능을 여럿 제공합니다.\n",
    "\n",
    "## 문자열 변환 방법\n",
    "\n",
    "메서드 이름 | 설명 \n",
    "---|---\n",
    "upper() | 문자열을 모두 대문자로 변환\n",
    "lower() | 문자열을 모두 소문자로 변환\n",
    "swapcase() | 대문자는 소문자로 소문자는 대문자로 변환\n",
    "replace(old, new) | old를 new로 찾아 바꾼다\n",
    "\n",
    "대소문자 구분이 있는 알파멧일 때만 유효하며 한국어등 기타 언어에는 변하지 않습니다."
   ]
  },
  {
   "cell_type": "code",
   "execution_count": 2,
   "metadata": {},
   "outputs": [
    {
     "name": "stdout",
     "output_type": "stream",
     "text": [
      "HELLO\n",
      "hello\n",
      "hELLO\n",
      "Aello\n"
     ]
    }
   ],
   "source": [
    "text = 'Hello'\n",
    "\n",
    "print(text.upper())\n",
    "print(text.lower())\n",
    "print(text.swapcase())\n",
    "print(text.replace('H','A'))"
   ]
  },
  {
   "cell_type": "markdown",
   "metadata": {},
   "source": [
    "## 서식화 방법\n",
    "지정한 형식의 문자열을 작성하기 위한 `format()`에 대해 알아 볼게요.\n"
   ]
  },
  {
   "cell_type": "code",
   "execution_count": 4,
   "metadata": {},
   "outputs": [
    {
     "name": "stdout",
     "output_type": "stream",
     "text": [
      "Beautiful is better than Ugly\n"
     ]
    }
   ],
   "source": [
    "print('{} is better than {}'.format('Beautiful','Ugly'))"
   ]
  },
  {
   "cell_type": "markdown",
   "metadata": {},
   "source": [
    "## 정규표현식 다루기\n",
    "\n",
    "정규표현을 처리하는 `re`에 대해 살펴보겠습니다. 정자표현식이란 문자열의 패턴을 정의해 해당 패턴에 맞는 문자열을 찾거나 치환하는 기능을 가지고 있습니다. 자세히 알고 싶다면 [공식 문서](https://docs.python.org/2/library/re.html)를 참고하세요.\n",
    "\n",
    "형식 | 설명 \n",
    "---|---\n",
    "re.search(pattern, string) | 지정된 문자열이 정규 표현에 일치하면 객체를 반환\n",
    "re.match(pattern, string) | 지정된 문자열의 맨 앞글자부터 일치하는지 확인\n",
    "re.compile(pattern) | 지정된 정규표현을 컴파일하여 객체로 반환한다\n",
    "re.findall(string) | 지정된 문자열 안에 정규 표현식과 일치한 문자열을 리스트로 반환"
   ]
  },
  {
   "cell_type": "code",
   "execution_count": 8,
   "metadata": {},
   "outputs": [
    {
     "name": "stdout",
     "output_type": "stream",
     "text": [
      "None\n",
      "<_sre.SRE_Match object; span=(1, 2), match='B'>\n"
     ]
    }
   ],
   "source": [
    "import re\n",
    "\n",
    "print(re.match('B','ABC'))\n",
    "print(re.search('B','ABC'))"
   ]
  },
  {
   "cell_type": "code",
   "execution_count": 9,
   "metadata": {},
   "outputs": [
    {
     "data": {
      "text/plain": [
       "['080', '6465', '4123']"
      ]
     },
     "execution_count": 9,
     "metadata": {},
     "output_type": "execute_result"
    }
   ],
   "source": [
    "regex = re.compile('\\d+') # 문자 한 개 이상으로 된 숫자의 정규표현식\n",
    "regex.findall('080-6465-4123')"
   ]
  },
  {
   "cell_type": "markdown",
   "metadata": {},
   "source": [
    "<div id = 'number' />\n",
    "\n",
    "# 2. 수치 계산\n",
    "\n",
    "합을 구하는 `sum()`, 최댓값을 구하는 `max()` 함수등을 먼저 살펴 보겠습니다.\n",
    "\n",
    "함수 이름 | 설명 \n",
    "---|---\n",
    "abs() | 절댓값을 구한다. \n",
    "max() | 주어진 값중에 최댓값을 반환한다.\n",
    "min() | 주어진 값중에 최솟값을 반환한다.\n",
    "sum() | 주저진 값의 총 합을 구한다\n",
    "pow(x,y) | x의 y제곱을 구한다"
   ]
  },
  {
   "cell_type": "code",
   "execution_count": 10,
   "metadata": {},
   "outputs": [
    {
     "name": "stdout",
     "output_type": "stream",
     "text": [
      "13\n",
      "6453\n",
      "-1\n",
      "6575\n",
      "4\n"
     ]
    }
   ],
   "source": [
    "print(abs(-13))\n",
    "print(max([-1,123,6453]))\n",
    "print(min([-1,123,6453]))\n",
    "print(sum([-1,123,6453]))\n",
    "print(pow(2,2))"
   ]
  },
  {
   "cell_type": "markdown",
   "metadata": {},
   "source": [
    "## math 모듈\n",
    "수치 처리와 계산에 사용되는 `math`모듈의 대표적인 기능은 다음과 같습니다.\n",
    "\n",
    "함수 이름 | 설명\n",
    "---|---\n",
    "math.log(x) | x의 자연로그를 구한다\n",
    "math.log10(x) | 밑을 10으로 하는 x의 로그를 구한다\n",
    "math.sqrt(x) | x의 거듭제곱(루트)을 구한다\n",
    "math.sin(x) | 라디안 x의 사인을 구한다\n",
    "math.cos(x) | 라디안 x의 코사인을 구한다\n",
    "math.tan(x) | 라디안 x의 탄젠트를 구한다\n",
    "math.pi | 원주율을 얻는다\n",
    "math.e | 자연로그의 밑을 얻는다\n"
   ]
  },
  {
   "cell_type": "code",
   "execution_count": 11,
   "metadata": {},
   "outputs": [
    {
     "name": "stdout",
     "output_type": "stream",
     "text": [
      "4.605170185988092\n",
      "2.0\n",
      "10.0\n",
      "-0.5063656411097588\n",
      "3.141592653589793\n",
      "2.718281828459045\n"
     ]
    }
   ],
   "source": [
    "import math\n",
    "\n",
    "print(math.log(100))\n",
    "print(math.log10(100))\n",
    "print(math.sqrt(100))\n",
    "print(math.sin(100))\n",
    "print(math.pi)\n",
    "print(math.e)"
   ]
  },
  {
   "cell_type": "markdown",
   "metadata": {},
   "source": [
    "### 통계 계산\n",
    "\n",
    "python 3.4부터 새로 추가된 `statistics` 기능을 가지고 평균값과 중간값을 구해 보겠습니다.\n",
    "\n",
    "함수이름 | 설명\n",
    "---|---\n",
    "statistics.mean(data) | 데이터의 평균값을 구한다\n",
    "statistics.median(data) | 데이터의 중앙값을 구한다\n",
    "statistics.mode(data) | 데이터의 최빈값을 구한다\n",
    "statistics.stdev(data) | 데이터의 표본편차를 구한다\n",
    "statistics.variance(data) | 데이터의 표본분산으을 구한다"
   ]
  },
  {
   "cell_type": "code",
   "execution_count": 14,
   "metadata": {},
   "outputs": [
    {
     "name": "stdout",
     "output_type": "stream",
     "text": [
      "5.4\n",
      "5.0\n",
      "5\n",
      "3.025814858109391\n",
      "9.155555555555555\n"
     ]
    }
   ],
   "source": [
    "import statistics\n",
    "\n",
    "data = [1,2,3,4,5,5,7,8,9,10]\n",
    "\n",
    "print(statistics.mean(data))\n",
    "print(statistics.median(data))\n",
    "print(statistics.mode(data))\n",
    "print(statistics.stdev(data))\n",
    "print(statistics.variance(data))"
   ]
  },
  {
   "cell_type": "markdown",
   "metadata": {},
   "source": [
    "<div id =\"time\" />\n",
    "# 3. 날짜와 시간 처리하기\n",
    "\n",
    "지금부터는 날짜와 시간을 다루는 기능을 제공하는 `datetime`에 대해서 알아 보겠습니다.\n"
   ]
  },
  {
   "cell_type": "code",
   "execution_count": 16,
   "metadata": {},
   "outputs": [
    {
     "data": {
      "text/plain": [
       "datetime.date(2018, 2, 4)"
      ]
     },
     "execution_count": 16,
     "metadata": {},
     "output_type": "execute_result"
    }
   ],
   "source": [
    "from datetime import date\n",
    "date.today()"
   ]
  },
  {
   "cell_type": "code",
   "execution_count": 21,
   "metadata": {},
   "outputs": [
    {
     "data": {
      "text/plain": [
       "time.struct_time(tm_year=2018, tm_mon=2, tm_mday=4, tm_hour=5, tm_min=0, tm_sec=25, tm_wday=6, tm_yday=35, tm_isdst=0)"
      ]
     },
     "execution_count": 21,
     "metadata": {},
     "output_type": "execute_result"
    }
   ],
   "source": [
    "import time\n",
    "time.gmtime()"
   ]
  },
  {
   "cell_type": "code",
   "execution_count": 22,
   "metadata": {},
   "outputs": [
    {
     "data": {
      "text/plain": [
       "1517720437.0213869"
      ]
     },
     "execution_count": 22,
     "metadata": {},
     "output_type": "execute_result"
    }
   ],
   "source": [
    "time.time()"
   ]
  },
  {
   "cell_type": "markdown",
   "metadata": {},
   "source": [
    "# 4. 자료형과 알고리즘\n",
    "\n",
    "`python`에는 내장형의 리스트나 사전,집합 등의 범용적인 자료구조가 있습니다. 목적에 맞는 자료구조와 알고리즘의 특징을 잘 이해해 두도록 합시다.\n",
    "\n",
    "# 파일 경로 조작하기\n",
    "`os.path`와 같은 파일 경로 조작을 객체지향 스타일로 제공하는 표준 라이브러리에 대해서 설명하겠습니다."
   ]
  },
  {
   "cell_type": "code",
   "execution_count": 23,
   "metadata": {},
   "outputs": [
    {
     "data": {
      "text/plain": [
       "'/home/jovyan/work'"
      ]
     },
     "execution_count": 23,
     "metadata": {},
     "output_type": "execute_result"
    }
   ],
   "source": [
    "# 파일 경로 저작하기\n",
    "import os.path\n",
    "os.path.abspath('.')"
   ]
  },
  {
   "cell_type": "code",
   "execution_count": 25,
   "metadata": {},
   "outputs": [
    {
     "data": {
      "text/plain": [
       "'home/jovyan/work'"
      ]
     },
     "execution_count": 25,
     "metadata": {},
     "output_type": "execute_result"
    }
   ],
   "source": [
    "os.path.join('home','jovyan','work')"
   ]
  },
  {
   "cell_type": "markdown",
   "metadata": {},
   "source": [
    "# 9. 인터넷상의 데이터 다루기\n",
    "`http`를 자유자재로 다루는 것은 기본입니다. `urllib.parse`모듈은 **python 2**에서는 `urlparse`라는 독립된 모듈이었으나, **python 3**부터는 `urllib.parse`가 되었습니다."
   ]
  },
  {
   "cell_type": "code",
   "execution_count": 26,
   "metadata": {},
   "outputs": [
    {
     "data": {
      "text/plain": [
       "ParseResult(scheme='https', netloc='www.google.co.kr', path='', params='', query='', fragment='')"
      ]
     },
     "execution_count": 26,
     "metadata": {},
     "output_type": "execute_result"
    }
   ],
   "source": [
    "from urllib import parse\n",
    "result = parse.urlparse('https://www.google.co.kr')\n",
    "result"
   ]
  },
  {
   "cell_type": "code",
   "execution_count": 27,
   "metadata": {},
   "outputs": [
    {
     "name": "stdout",
     "output_type": "stream",
     "text": [
      "https://www.google.co.kr\n",
      "https\n",
      "https\n",
      "www.google.co.kr\n"
     ]
    }
   ],
   "source": [
    "print(result.geturl())\n",
    "print(result.scheme)\n",
    "print(result[0])\n",
    "print(result.hostname)"
   ]
  }
 ],
 "metadata": {
  "kernelspec": {
   "display_name": "Python 3",
   "language": "python",
   "name": "python3"
  },
  "language_info": {
   "codemirror_mode": {
    "name": "ipython",
    "version": 3
   },
   "file_extension": ".py",
   "mimetype": "text/x-python",
   "name": "python",
   "nbconvert_exporter": "python",
   "pygments_lexer": "ipython3",
   "version": "3.6.3"
  }
 },
 "nbformat": 4,
 "nbformat_minor": 2
}
